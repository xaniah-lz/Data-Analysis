{
 "cells": [
  {
   "cell_type": "markdown",
   "id": "a0cd4405-81f3-425a-9a2b-630b9452d091",
   "metadata": {},
   "source": [
    "<h1>GLOBAL TERRORISM ANALYSIS</h1>\n",
    "<h3>Analyst : Lorejoy Zorrilla</h3>"
   ]
  },
  {
   "cell_type": "markdown",
   "id": "a508fd6d-00d2-44ee-a077-5ed9ba50bfd8",
   "metadata": {},
   "source": [
    "<h2>IMPORTING LIBRARIES</h2>"
   ]
  },
  {
   "cell_type": "code",
   "execution_count": 20,
   "id": "3bbba4c2-91db-4a4d-8541-04bbce017e89",
   "metadata": {},
   "outputs": [],
   "source": [
    "import numpy as np\n",
    "import pandas as pd \n",
    "import seaborn as sns \n",
    "import matplotlib.pyplot as plt \n",
    "import warnings \n",
    "import folium\n",
    "from folium.plugins import HeatMap\n",
    "warnings.filterwarnings('ignore')"
   ]
  },
  {
   "cell_type": "markdown",
   "id": "a9671287-4458-4932-afbb-0e7731371a99",
   "metadata": {},
   "source": [
    "<h2>IMPORTING DATASET TO DATA FRAME</h2>"
   ]
  },
  {
   "cell_type": "code",
   "execution_count": 21,
   "id": "89b70c1e-c8be-4f6f-b95a-958a31b2655a",
   "metadata": {},
   "outputs": [],
   "source": [
    "df = pd.read_csv('datasets\\\\Global_terrorist.csv', encoding='ISO-8859-1')"
   ]
  },
  {
   "cell_type": "code",
   "execution_count": 22,
   "id": "b54d601b-0b95-4902-b301-786fbd02cb3e",
   "metadata": {},
   "outputs": [
    {
     "data": {
      "text/html": [
       "<div>\n",
       "<style scoped>\n",
       "    .dataframe tbody tr th:only-of-type {\n",
       "        vertical-align: middle;\n",
       "    }\n",
       "\n",
       "    .dataframe tbody tr th {\n",
       "        vertical-align: top;\n",
       "    }\n",
       "\n",
       "    .dataframe thead th {\n",
       "        text-align: right;\n",
       "    }\n",
       "</style>\n",
       "<table border=\"1\" class=\"dataframe\">\n",
       "  <thead>\n",
       "    <tr style=\"text-align: right;\">\n",
       "      <th></th>\n",
       "      <th>eventid</th>\n",
       "      <th>iyear</th>\n",
       "      <th>imonth</th>\n",
       "      <th>iday</th>\n",
       "      <th>approxdate</th>\n",
       "      <th>extended</th>\n",
       "      <th>resolution</th>\n",
       "      <th>country</th>\n",
       "      <th>country_txt</th>\n",
       "      <th>region</th>\n",
       "      <th>...</th>\n",
       "      <th>addnotes</th>\n",
       "      <th>scite1</th>\n",
       "      <th>scite2</th>\n",
       "      <th>scite3</th>\n",
       "      <th>dbsource</th>\n",
       "      <th>INT_LOG</th>\n",
       "      <th>INT_IDEO</th>\n",
       "      <th>INT_MISC</th>\n",
       "      <th>INT_ANY</th>\n",
       "      <th>related</th>\n",
       "    </tr>\n",
       "  </thead>\n",
       "  <tbody>\n",
       "    <tr>\n",
       "      <th>0</th>\n",
       "      <td>197000000001</td>\n",
       "      <td>1970</td>\n",
       "      <td>7</td>\n",
       "      <td>2</td>\n",
       "      <td>NaN</td>\n",
       "      <td>0</td>\n",
       "      <td>NaN</td>\n",
       "      <td>58</td>\n",
       "      <td>Dominican Republic</td>\n",
       "      <td>2</td>\n",
       "      <td>...</td>\n",
       "      <td>NaN</td>\n",
       "      <td>NaN</td>\n",
       "      <td>NaN</td>\n",
       "      <td>NaN</td>\n",
       "      <td>PGIS</td>\n",
       "      <td>0</td>\n",
       "      <td>0</td>\n",
       "      <td>0</td>\n",
       "      <td>0</td>\n",
       "      <td>NaN</td>\n",
       "    </tr>\n",
       "    <tr>\n",
       "      <th>1</th>\n",
       "      <td>197000000002</td>\n",
       "      <td>1970</td>\n",
       "      <td>0</td>\n",
       "      <td>0</td>\n",
       "      <td>NaN</td>\n",
       "      <td>0</td>\n",
       "      <td>NaN</td>\n",
       "      <td>130</td>\n",
       "      <td>Mexico</td>\n",
       "      <td>1</td>\n",
       "      <td>...</td>\n",
       "      <td>NaN</td>\n",
       "      <td>NaN</td>\n",
       "      <td>NaN</td>\n",
       "      <td>NaN</td>\n",
       "      <td>PGIS</td>\n",
       "      <td>0</td>\n",
       "      <td>1</td>\n",
       "      <td>1</td>\n",
       "      <td>1</td>\n",
       "      <td>NaN</td>\n",
       "    </tr>\n",
       "    <tr>\n",
       "      <th>2</th>\n",
       "      <td>197001000001</td>\n",
       "      <td>1970</td>\n",
       "      <td>1</td>\n",
       "      <td>0</td>\n",
       "      <td>NaN</td>\n",
       "      <td>0</td>\n",
       "      <td>NaN</td>\n",
       "      <td>160</td>\n",
       "      <td>Philippines</td>\n",
       "      <td>5</td>\n",
       "      <td>...</td>\n",
       "      <td>NaN</td>\n",
       "      <td>NaN</td>\n",
       "      <td>NaN</td>\n",
       "      <td>NaN</td>\n",
       "      <td>PGIS</td>\n",
       "      <td>-9</td>\n",
       "      <td>-9</td>\n",
       "      <td>1</td>\n",
       "      <td>1</td>\n",
       "      <td>NaN</td>\n",
       "    </tr>\n",
       "    <tr>\n",
       "      <th>3</th>\n",
       "      <td>197001000002</td>\n",
       "      <td>1970</td>\n",
       "      <td>1</td>\n",
       "      <td>0</td>\n",
       "      <td>NaN</td>\n",
       "      <td>0</td>\n",
       "      <td>NaN</td>\n",
       "      <td>78</td>\n",
       "      <td>Greece</td>\n",
       "      <td>8</td>\n",
       "      <td>...</td>\n",
       "      <td>NaN</td>\n",
       "      <td>NaN</td>\n",
       "      <td>NaN</td>\n",
       "      <td>NaN</td>\n",
       "      <td>PGIS</td>\n",
       "      <td>-9</td>\n",
       "      <td>-9</td>\n",
       "      <td>1</td>\n",
       "      <td>1</td>\n",
       "      <td>NaN</td>\n",
       "    </tr>\n",
       "    <tr>\n",
       "      <th>4</th>\n",
       "      <td>197001000003</td>\n",
       "      <td>1970</td>\n",
       "      <td>1</td>\n",
       "      <td>0</td>\n",
       "      <td>NaN</td>\n",
       "      <td>0</td>\n",
       "      <td>NaN</td>\n",
       "      <td>101</td>\n",
       "      <td>Japan</td>\n",
       "      <td>4</td>\n",
       "      <td>...</td>\n",
       "      <td>NaN</td>\n",
       "      <td>NaN</td>\n",
       "      <td>NaN</td>\n",
       "      <td>NaN</td>\n",
       "      <td>PGIS</td>\n",
       "      <td>-9</td>\n",
       "      <td>-9</td>\n",
       "      <td>1</td>\n",
       "      <td>1</td>\n",
       "      <td>NaN</td>\n",
       "    </tr>\n",
       "    <tr>\n",
       "      <th>...</th>\n",
       "      <td>...</td>\n",
       "      <td>...</td>\n",
       "      <td>...</td>\n",
       "      <td>...</td>\n",
       "      <td>...</td>\n",
       "      <td>...</td>\n",
       "      <td>...</td>\n",
       "      <td>...</td>\n",
       "      <td>...</td>\n",
       "      <td>...</td>\n",
       "      <td>...</td>\n",
       "      <td>...</td>\n",
       "      <td>...</td>\n",
       "      <td>...</td>\n",
       "      <td>...</td>\n",
       "      <td>...</td>\n",
       "      <td>...</td>\n",
       "      <td>...</td>\n",
       "      <td>...</td>\n",
       "      <td>...</td>\n",
       "      <td>...</td>\n",
       "    </tr>\n",
       "    <tr>\n",
       "      <th>181686</th>\n",
       "      <td>201712310022</td>\n",
       "      <td>2017</td>\n",
       "      <td>12</td>\n",
       "      <td>31</td>\n",
       "      <td>NaN</td>\n",
       "      <td>0</td>\n",
       "      <td>NaN</td>\n",
       "      <td>182</td>\n",
       "      <td>Somalia</td>\n",
       "      <td>11</td>\n",
       "      <td>...</td>\n",
       "      <td>NaN</td>\n",
       "      <td>\"Somalia: Al-Shabaab Militants Attack Army Che...</td>\n",
       "      <td>\"Highlights: Somalia Daily Media Highlights 2 ...</td>\n",
       "      <td>\"Highlights: Somalia Daily Media Highlights 1 ...</td>\n",
       "      <td>START Primary Collection</td>\n",
       "      <td>0</td>\n",
       "      <td>0</td>\n",
       "      <td>0</td>\n",
       "      <td>0</td>\n",
       "      <td>NaN</td>\n",
       "    </tr>\n",
       "    <tr>\n",
       "      <th>181687</th>\n",
       "      <td>201712310029</td>\n",
       "      <td>2017</td>\n",
       "      <td>12</td>\n",
       "      <td>31</td>\n",
       "      <td>NaN</td>\n",
       "      <td>0</td>\n",
       "      <td>NaN</td>\n",
       "      <td>200</td>\n",
       "      <td>Syria</td>\n",
       "      <td>10</td>\n",
       "      <td>...</td>\n",
       "      <td>NaN</td>\n",
       "      <td>\"Putin's 'victory' in Syria has turned into a ...</td>\n",
       "      <td>\"Two Russian soldiers killed at Hmeymim base i...</td>\n",
       "      <td>\"Two Russian servicemen killed in Syria mortar...</td>\n",
       "      <td>START Primary Collection</td>\n",
       "      <td>-9</td>\n",
       "      <td>-9</td>\n",
       "      <td>1</td>\n",
       "      <td>1</td>\n",
       "      <td>NaN</td>\n",
       "    </tr>\n",
       "    <tr>\n",
       "      <th>181688</th>\n",
       "      <td>201712310030</td>\n",
       "      <td>2017</td>\n",
       "      <td>12</td>\n",
       "      <td>31</td>\n",
       "      <td>NaN</td>\n",
       "      <td>0</td>\n",
       "      <td>NaN</td>\n",
       "      <td>160</td>\n",
       "      <td>Philippines</td>\n",
       "      <td>5</td>\n",
       "      <td>...</td>\n",
       "      <td>NaN</td>\n",
       "      <td>\"Maguindanao clashes trap tribe members,\" Phil...</td>\n",
       "      <td>NaN</td>\n",
       "      <td>NaN</td>\n",
       "      <td>START Primary Collection</td>\n",
       "      <td>0</td>\n",
       "      <td>0</td>\n",
       "      <td>0</td>\n",
       "      <td>0</td>\n",
       "      <td>NaN</td>\n",
       "    </tr>\n",
       "    <tr>\n",
       "      <th>181689</th>\n",
       "      <td>201712310031</td>\n",
       "      <td>2017</td>\n",
       "      <td>12</td>\n",
       "      <td>31</td>\n",
       "      <td>NaN</td>\n",
       "      <td>0</td>\n",
       "      <td>NaN</td>\n",
       "      <td>92</td>\n",
       "      <td>India</td>\n",
       "      <td>6</td>\n",
       "      <td>...</td>\n",
       "      <td>NaN</td>\n",
       "      <td>\"Trader escapes grenade attack in Imphal,\" Bus...</td>\n",
       "      <td>NaN</td>\n",
       "      <td>NaN</td>\n",
       "      <td>START Primary Collection</td>\n",
       "      <td>-9</td>\n",
       "      <td>-9</td>\n",
       "      <td>0</td>\n",
       "      <td>-9</td>\n",
       "      <td>NaN</td>\n",
       "    </tr>\n",
       "    <tr>\n",
       "      <th>181690</th>\n",
       "      <td>201712310032</td>\n",
       "      <td>2017</td>\n",
       "      <td>12</td>\n",
       "      <td>31</td>\n",
       "      <td>NaN</td>\n",
       "      <td>0</td>\n",
       "      <td>NaN</td>\n",
       "      <td>160</td>\n",
       "      <td>Philippines</td>\n",
       "      <td>5</td>\n",
       "      <td>...</td>\n",
       "      <td>NaN</td>\n",
       "      <td>\"Security tightened in Cotabato following IED ...</td>\n",
       "      <td>\"Security tightened in Cotabato City,\" Manila ...</td>\n",
       "      <td>NaN</td>\n",
       "      <td>START Primary Collection</td>\n",
       "      <td>-9</td>\n",
       "      <td>-9</td>\n",
       "      <td>0</td>\n",
       "      <td>-9</td>\n",
       "      <td>NaN</td>\n",
       "    </tr>\n",
       "  </tbody>\n",
       "</table>\n",
       "<p>181691 rows × 135 columns</p>\n",
       "</div>"
      ],
      "text/plain": [
       "             eventid  iyear  imonth  iday approxdate  extended resolution  \\\n",
       "0       197000000001   1970       7     2        NaN         0        NaN   \n",
       "1       197000000002   1970       0     0        NaN         0        NaN   \n",
       "2       197001000001   1970       1     0        NaN         0        NaN   \n",
       "3       197001000002   1970       1     0        NaN         0        NaN   \n",
       "4       197001000003   1970       1     0        NaN         0        NaN   \n",
       "...              ...    ...     ...   ...        ...       ...        ...   \n",
       "181686  201712310022   2017      12    31        NaN         0        NaN   \n",
       "181687  201712310029   2017      12    31        NaN         0        NaN   \n",
       "181688  201712310030   2017      12    31        NaN         0        NaN   \n",
       "181689  201712310031   2017      12    31        NaN         0        NaN   \n",
       "181690  201712310032   2017      12    31        NaN         0        NaN   \n",
       "\n",
       "        country         country_txt  region  ... addnotes  \\\n",
       "0            58  Dominican Republic       2  ...      NaN   \n",
       "1           130              Mexico       1  ...      NaN   \n",
       "2           160         Philippines       5  ...      NaN   \n",
       "3            78              Greece       8  ...      NaN   \n",
       "4           101               Japan       4  ...      NaN   \n",
       "...         ...                 ...     ...  ...      ...   \n",
       "181686      182             Somalia      11  ...      NaN   \n",
       "181687      200               Syria      10  ...      NaN   \n",
       "181688      160         Philippines       5  ...      NaN   \n",
       "181689       92               India       6  ...      NaN   \n",
       "181690      160         Philippines       5  ...      NaN   \n",
       "\n",
       "                                                   scite1  \\\n",
       "0                                                     NaN   \n",
       "1                                                     NaN   \n",
       "2                                                     NaN   \n",
       "3                                                     NaN   \n",
       "4                                                     NaN   \n",
       "...                                                   ...   \n",
       "181686  \"Somalia: Al-Shabaab Militants Attack Army Che...   \n",
       "181687  \"Putin's 'victory' in Syria has turned into a ...   \n",
       "181688  \"Maguindanao clashes trap tribe members,\" Phil...   \n",
       "181689  \"Trader escapes grenade attack in Imphal,\" Bus...   \n",
       "181690  \"Security tightened in Cotabato following IED ...   \n",
       "\n",
       "                                                   scite2  \\\n",
       "0                                                     NaN   \n",
       "1                                                     NaN   \n",
       "2                                                     NaN   \n",
       "3                                                     NaN   \n",
       "4                                                     NaN   \n",
       "...                                                   ...   \n",
       "181686  \"Highlights: Somalia Daily Media Highlights 2 ...   \n",
       "181687  \"Two Russian soldiers killed at Hmeymim base i...   \n",
       "181688                                                NaN   \n",
       "181689                                                NaN   \n",
       "181690  \"Security tightened in Cotabato City,\" Manila ...   \n",
       "\n",
       "                                                   scite3  \\\n",
       "0                                                     NaN   \n",
       "1                                                     NaN   \n",
       "2                                                     NaN   \n",
       "3                                                     NaN   \n",
       "4                                                     NaN   \n",
       "...                                                   ...   \n",
       "181686  \"Highlights: Somalia Daily Media Highlights 1 ...   \n",
       "181687  \"Two Russian servicemen killed in Syria mortar...   \n",
       "181688                                                NaN   \n",
       "181689                                                NaN   \n",
       "181690                                                NaN   \n",
       "\n",
       "                        dbsource  INT_LOG  INT_IDEO INT_MISC INT_ANY  related  \n",
       "0                           PGIS        0         0        0       0      NaN  \n",
       "1                           PGIS        0         1        1       1      NaN  \n",
       "2                           PGIS       -9        -9        1       1      NaN  \n",
       "3                           PGIS       -9        -9        1       1      NaN  \n",
       "4                           PGIS       -9        -9        1       1      NaN  \n",
       "...                          ...      ...       ...      ...     ...      ...  \n",
       "181686  START Primary Collection        0         0        0       0      NaN  \n",
       "181687  START Primary Collection       -9        -9        1       1      NaN  \n",
       "181688  START Primary Collection        0         0        0       0      NaN  \n",
       "181689  START Primary Collection       -9        -9        0      -9      NaN  \n",
       "181690  START Primary Collection       -9        -9        0      -9      NaN  \n",
       "\n",
       "[181691 rows x 135 columns]"
      ]
     },
     "execution_count": 22,
     "metadata": {},
     "output_type": "execute_result"
    }
   ],
   "source": [
    "df"
   ]
  },
  {
   "cell_type": "markdown",
   "id": "8179d4ce-c5c2-4c1f-a2e3-2deec2628d2a",
   "metadata": {},
   "source": [
    "<h1>REGIONAL ANALYSIS</h1>"
   ]
  },
  {
   "cell_type": "markdown",
   "id": "03c6f261-6d60-4228-b202-05aa89f93723",
   "metadata": {},
   "source": [
    "<h2>Filtering Data</h2>"
   ]
  },
  {
   "cell_type": "code",
   "execution_count": 4,
   "id": "79564666-1cc2-4412-849d-89d48934451e",
   "metadata": {},
   "outputs": [],
   "source": [
    "filter1 = df[df['region_txt'] == 'Middle East & North Africa'] #50k"
   ]
  },
  {
   "cell_type": "code",
   "execution_count": 5,
   "id": "92c02a98-86f1-4c6f-943b-db0609977815",
   "metadata": {},
   "outputs": [],
   "source": [
    "filter2 = filter1[filter1['attacktype1_txt'] == 'Bombing/Explosion'] #30k"
   ]
  },
  {
   "cell_type": "code",
   "execution_count": 6,
   "id": "571b2e58-6841-44fc-bc76-d32b0908a91e",
   "metadata": {},
   "outputs": [],
   "source": [
    "filter3 = filter2[filter2['iyear'] >= 2005] #26k"
   ]
  },
  {
   "cell_type": "code",
   "execution_count": 7,
   "id": "adc76ecc-eef0-48bc-be10-875fa76de8ab",
   "metadata": {},
   "outputs": [],
   "source": [
    "filter4 = filter3[filter3['nkill'] >= 10]"
   ]
  },
  {
   "cell_type": "markdown",
   "id": "29efdf71-9c09-403e-a7b5-7b715419a744",
   "metadata": {},
   "source": [
    "<h2>Data Aggregation</h2>"
   ]
  },
  {
   "cell_type": "code",
   "execution_count": 8,
   "id": "ed7be197-3909-4696-b62a-5f490f223c8d",
   "metadata": {},
   "outputs": [
    {
     "data": {
      "text/html": [
       "<div>\n",
       "<style scoped>\n",
       "    .dataframe tbody tr th:only-of-type {\n",
       "        vertical-align: middle;\n",
       "    }\n",
       "\n",
       "    .dataframe tbody tr th {\n",
       "        vertical-align: top;\n",
       "    }\n",
       "\n",
       "    .dataframe thead th {\n",
       "        text-align: right;\n",
       "    }\n",
       "</style>\n",
       "<table border=\"1\" class=\"dataframe\">\n",
       "  <thead>\n",
       "    <tr style=\"text-align: right;\">\n",
       "      <th></th>\n",
       "      <th>latitude</th>\n",
       "      <th>longitude</th>\n",
       "      <th>incident_count</th>\n",
       "    </tr>\n",
       "  </thead>\n",
       "  <tbody>\n",
       "    <tr>\n",
       "      <th>0</th>\n",
       "      <td>12.743795</td>\n",
       "      <td>44.843678</td>\n",
       "      <td>1</td>\n",
       "    </tr>\n",
       "    <tr>\n",
       "      <th>1</th>\n",
       "      <td>12.760069</td>\n",
       "      <td>44.890266</td>\n",
       "      <td>1</td>\n",
       "    </tr>\n",
       "    <tr>\n",
       "      <th>2</th>\n",
       "      <td>12.825647</td>\n",
       "      <td>44.846416</td>\n",
       "      <td>11</td>\n",
       "    </tr>\n",
       "    <tr>\n",
       "      <th>3</th>\n",
       "      <td>12.832581</td>\n",
       "      <td>45.027071</td>\n",
       "      <td>1</td>\n",
       "    </tr>\n",
       "    <tr>\n",
       "      <th>4</th>\n",
       "      <td>12.867085</td>\n",
       "      <td>44.981911</td>\n",
       "      <td>6</td>\n",
       "    </tr>\n",
       "    <tr>\n",
       "      <th>...</th>\n",
       "      <td>...</td>\n",
       "      <td>...</td>\n",
       "      <td>...</td>\n",
       "    </tr>\n",
       "    <tr>\n",
       "      <th>498</th>\n",
       "      <td>38.720489</td>\n",
       "      <td>35.482597</td>\n",
       "      <td>1</td>\n",
       "    </tr>\n",
       "    <tr>\n",
       "      <th>499</th>\n",
       "      <td>39.798509</td>\n",
       "      <td>32.805613</td>\n",
       "      <td>1</td>\n",
       "    </tr>\n",
       "    <tr>\n",
       "      <th>500</th>\n",
       "      <td>39.916839</td>\n",
       "      <td>44.044637</td>\n",
       "      <td>1</td>\n",
       "    </tr>\n",
       "    <tr>\n",
       "      <th>501</th>\n",
       "      <td>39.930771</td>\n",
       "      <td>32.767540</td>\n",
       "      <td>3</td>\n",
       "    </tr>\n",
       "    <tr>\n",
       "      <th>502</th>\n",
       "      <td>41.106178</td>\n",
       "      <td>28.689863</td>\n",
       "      <td>6</td>\n",
       "    </tr>\n",
       "  </tbody>\n",
       "</table>\n",
       "<p>503 rows × 3 columns</p>\n",
       "</div>"
      ],
      "text/plain": [
       "      latitude  longitude  incident_count\n",
       "0    12.743795  44.843678               1\n",
       "1    12.760069  44.890266               1\n",
       "2    12.825647  44.846416              11\n",
       "3    12.832581  45.027071               1\n",
       "4    12.867085  44.981911               6\n",
       "..         ...        ...             ...\n",
       "498  38.720489  35.482597               1\n",
       "499  39.798509  32.805613               1\n",
       "500  39.916839  44.044637               1\n",
       "501  39.930771  32.767540               3\n",
       "502  41.106178  28.689863               6\n",
       "\n",
       "[503 rows x 3 columns]"
      ]
     },
     "execution_count": 8,
     "metadata": {},
     "output_type": "execute_result"
    }
   ],
   "source": [
    "terror_loc1 = filter4.groupby(['latitude', 'longitude']).size().reset_index(name = 'incident_count')\n",
    "terror_loc1"
   ]
  },
  {
   "cell_type": "markdown",
   "id": "545ed400-460f-41e3-bfb7-9df4931fedcb",
   "metadata": {},
   "source": [
    "<h1>Use of FOLIUM FOR GEOSPATIAL</h1>"
   ]
  },
  {
   "cell_type": "markdown",
   "id": "be574509-721a-4d14-bd3e-5db08595513b",
   "metadata": {},
   "source": [
    "<h3> Converting Pandas Data Frame into Python List</h3>"
   ]
  },
  {
   "cell_type": "code",
   "execution_count": 9,
   "id": "8e89d87c-0d8b-400a-9409-c50a20f043cc",
   "metadata": {},
   "outputs": [],
   "source": [
    "#OPTIONAL, for clearer view for the Geospatial Map\n",
    "\n",
    "terror_loc1[\"normalize_data\"] = terror_loc1['incident_count'] - terror_loc1['incident_count'].min() / \\\n",
    "                                terror_loc1['incident_count'].max() - terror_loc1['incident_count']\n",
    "\n",
    "#geospatial folium data should be formatted as a list\n",
    "\n",
    "terror_loc_list1 = terror_loc1[['latitude', 'longitude', 'incident_count']].values.tolist()"
   ]
  },
  {
   "cell_type": "markdown",
   "id": "652dcbdb-deed-4bbf-9100-065e5c02a16d",
   "metadata": {},
   "source": [
    "<h3> Creating a base map </h3>"
   ]
  },
  {
   "cell_type": "code",
   "execution_count": 10,
   "id": "dfe208a1-6600-4df3-8504-e38ac200c6d4",
   "metadata": {},
   "outputs": [],
   "source": [
    "my_map1 = folium.Map(location = [28, 30], zoom_start = 4)"
   ]
  },
  {
   "cell_type": "markdown",
   "id": "c5103ddd-b3ed-4c5f-ace6-073d515f20a1",
   "metadata": {},
   "source": [
    "<h3> Add Heatmap Layer </h3>"
   ]
  },
  {
   "cell_type": "code",
   "execution_count": 11,
   "id": "0e494afd-9795-454c-a57e-26e9344748ff",
   "metadata": {},
   "outputs": [
    {
     "data": {
      "text/plain": [
       "<folium.plugins.heat_map.HeatMap at 0x216164b1e40>"
      ]
     },
     "execution_count": 11,
     "metadata": {},
     "output_type": "execute_result"
    }
   ],
   "source": [
    "HeatMap(terror_loc_list1).add_to(my_map1)"
   ]
  },
  {
   "cell_type": "code",
   "execution_count": 12,
   "id": "c56e303c-3cef-457a-a1be-4ea4aeff38ea",
   "metadata": {},
   "outputs": [
    {
     "name": "stdout",
     "output_type": "stream",
     "text": [
      "data save to regional_analysis.html\n"
     ]
    }
   ],
   "source": [
    "my_map1.save('regional_analysis.html')\n",
    "print(\"data save to regional_analysis.html\")"
   ]
  },
  {
   "cell_type": "markdown",
   "id": "836811a2-f741-4f68-8e6e-d0b6591d2d74",
   "metadata": {},
   "source": [
    "<h2>Calling the map</h2>"
   ]
  },
  {
   "cell_type": "code",
   "execution_count": 13,
   "id": "33f622de-9e25-4e00-b857-5494bdce95d9",
   "metadata": {},
   "outputs": [
    {
     "data": {
      "text/html": [
       "<div style=\"width:100%;\"><div style=\"position:relative;width:100%;height:0;padding-bottom:60%;\"><span style=\"color:#565656\">Make this Notebook Trusted to load map: File -> Trust Notebook</span><iframe srcdoc=\"&lt;!DOCTYPE html&gt;\n",
       "&lt;html&gt;\n",
       "&lt;head&gt;\n",
       "    \n",
       "    &lt;meta http-equiv=&quot;content-type&quot; content=&quot;text/html; charset=UTF-8&quot; /&gt;\n",
       "    \n",
       "        &lt;script&gt;\n",
       "            L_NO_TOUCH = false;\n",
       "            L_DISABLE_3D = false;\n",
       "        &lt;/script&gt;\n",
       "    \n",
       "    &lt;style&gt;html, body {width: 100%;height: 100%;margin: 0;padding: 0;}&lt;/style&gt;\n",
       "    &lt;style&gt;#map {position:absolute;top:0;bottom:0;right:0;left:0;}&lt;/style&gt;\n",
       "    &lt;script src=&quot;https://cdn.jsdelivr.net/npm/leaflet@1.9.3/dist/leaflet.js&quot;&gt;&lt;/script&gt;\n",
       "    &lt;script src=&quot;https://code.jquery.com/jquery-3.7.1.min.js&quot;&gt;&lt;/script&gt;\n",
       "    &lt;script src=&quot;https://cdn.jsdelivr.net/npm/bootstrap@5.2.2/dist/js/bootstrap.bundle.min.js&quot;&gt;&lt;/script&gt;\n",
       "    &lt;script src=&quot;https://cdnjs.cloudflare.com/ajax/libs/Leaflet.awesome-markers/2.0.2/leaflet.awesome-markers.js&quot;&gt;&lt;/script&gt;\n",
       "    &lt;link rel=&quot;stylesheet&quot; href=&quot;https://cdn.jsdelivr.net/npm/leaflet@1.9.3/dist/leaflet.css&quot;/&gt;\n",
       "    &lt;link rel=&quot;stylesheet&quot; href=&quot;https://cdn.jsdelivr.net/npm/bootstrap@5.2.2/dist/css/bootstrap.min.css&quot;/&gt;\n",
       "    &lt;link rel=&quot;stylesheet&quot; href=&quot;https://netdna.bootstrapcdn.com/bootstrap/3.0.0/css/bootstrap-glyphicons.css&quot;/&gt;\n",
       "    &lt;link rel=&quot;stylesheet&quot; href=&quot;https://cdn.jsdelivr.net/npm/@fortawesome/fontawesome-free@6.2.0/css/all.min.css&quot;/&gt;\n",
       "    &lt;link rel=&quot;stylesheet&quot; href=&quot;https://cdnjs.cloudflare.com/ajax/libs/Leaflet.awesome-markers/2.0.2/leaflet.awesome-markers.css&quot;/&gt;\n",
       "    &lt;link rel=&quot;stylesheet&quot; href=&quot;https://cdn.jsdelivr.net/gh/python-visualization/folium/folium/templates/leaflet.awesome.rotate.min.css&quot;/&gt;\n",
       "    \n",
       "            &lt;meta name=&quot;viewport&quot; content=&quot;width=device-width,\n",
       "                initial-scale=1.0, maximum-scale=1.0, user-scalable=no&quot; /&gt;\n",
       "            &lt;style&gt;\n",
       "                #map_75466f611e633d66030e4d12ebca36a4 {\n",
       "                    position: relative;\n",
       "                    width: 100.0%;\n",
       "                    height: 100.0%;\n",
       "                    left: 0.0%;\n",
       "                    top: 0.0%;\n",
       "                }\n",
       "                .leaflet-container { font-size: 1rem; }\n",
       "            &lt;/style&gt;\n",
       "        \n",
       "    &lt;script src=&quot;https://cdn.jsdelivr.net/gh/python-visualization/folium@main/folium/templates/leaflet_heat.min.js&quot;&gt;&lt;/script&gt;\n",
       "&lt;/head&gt;\n",
       "&lt;body&gt;\n",
       "    \n",
       "    \n",
       "            &lt;div class=&quot;folium-map&quot; id=&quot;map_75466f611e633d66030e4d12ebca36a4&quot; &gt;&lt;/div&gt;\n",
       "        \n",
       "&lt;/body&gt;\n",
       "&lt;script&gt;\n",
       "    \n",
       "    \n",
       "            var map_75466f611e633d66030e4d12ebca36a4 = L.map(\n",
       "                &quot;map_75466f611e633d66030e4d12ebca36a4&quot;,\n",
       "                {\n",
       "                    center: [28.0, 30.0],\n",
       "                    crs: L.CRS.EPSG3857,\n",
       "                    ...{\n",
       "  &quot;zoom&quot;: 4,\n",
       "  &quot;zoomControl&quot;: true,\n",
       "  &quot;preferCanvas&quot;: false,\n",
       "}\n",
       "\n",
       "                }\n",
       "            );\n",
       "\n",
       "            \n",
       "\n",
       "        \n",
       "    \n",
       "            var tile_layer_19c4dbc69a630211034e9b1d58be9d3c = L.tileLayer(\n",
       "                &quot;https://tile.openstreetmap.org/{z}/{x}/{y}.png&quot;,\n",
       "                {\n",
       "  &quot;minZoom&quot;: 0,\n",
       "  &quot;maxZoom&quot;: 19,\n",
       "  &quot;maxNativeZoom&quot;: 19,\n",
       "  &quot;noWrap&quot;: false,\n",
       "  &quot;attribution&quot;: &quot;\\u0026copy; \\u003ca href=\\&quot;https://www.openstreetmap.org/copyright\\&quot;\\u003eOpenStreetMap\\u003c/a\\u003e contributors&quot;,\n",
       "  &quot;subdomains&quot;: &quot;abc&quot;,\n",
       "  &quot;detectRetina&quot;: false,\n",
       "  &quot;tms&quot;: false,\n",
       "  &quot;opacity&quot;: 1,\n",
       "}\n",
       "\n",
       "            );\n",
       "        \n",
       "    \n",
       "            tile_layer_19c4dbc69a630211034e9b1d58be9d3c.addTo(map_75466f611e633d66030e4d12ebca36a4);\n",
       "        \n",
       "    \n",
       "            var heat_map_6f6392d01f71e6ed550b70d58fda4509 = L.heatLayer(\n",
       "                [[12.743795, 44.843678, 1.0], [12.760069, 44.890266, 1.0], [12.825647, 44.846416, 11.0], [12.832581, 45.027071, 1.0], [12.867085, 44.981911, 6.0], [13.057842, 44.883283, 1.0], [13.063399, 44.880882, 2.0], [13.129726, 45.385571, 3.0], [13.206995, 44.758297, 1.0], [13.219398, 45.307838, 3.0], [13.272575, 44.271331, 1.0], [13.357599, 45.69648, 3.0], [13.413117, 43.637531, 1.0], [13.413319, 43.627508, 1.0], [13.574698, 44.010392, 1.0], [13.586484, 44.024105, 8.0], [13.702663, 44.73357, 1.0], [13.703256, 44.733454, 1.0], [13.733333, 44.666667, 1.0], [13.834537, 45.244948, 1.0], [13.887403, 45.863647, 4.0], [13.962564, 45.467466, 1.0], [13.967151, 44.165426, 1.0], [13.985013, 45.558479, 1.0], [14.326655, 47.447216, 2.0], [14.413989, 44.837418, 2.0], [14.515319, 44.852594, 1.0], [14.533333, 49.133333, 1.0], [14.54397, 49.12458, 8.0], [14.781294, 42.972851, 1.0], [14.881758, 49.146743, 1.0], [15.113846, 45.881134, 1.0], [15.141161, 48.357219, 1.0], [15.189627, 46.001341, 1.0], [15.316891, 44.474802, 1.0], [15.325443, 44.211895, 20.0], [15.416983, 45.081879, 2.0], [15.45639, 45.324871, 3.0], [15.515888, 45.449807, 1.0], [15.566652, 45.787139, 1.0], [15.666667, 43.95, 1.0], [15.8275, 44.793889, 1.0], [15.840202, 48.45438, 1.0], [15.921257, 48.636382, 1.0], [16.133333, 47.233333, 1.0], [16.165407, 44.776897, 1.0], [16.19005, 42.882414, 1.0], [16.199874, 44.408998, 1.0], [16.249994, 45.478097, 1.0], [16.917494, 43.762409, 1.0], [17.060139, 43.599369, 1.0], [18.223461, 42.526051, 1.0], [26.079255, 61.753754, 1.0], [26.554785, 50.004524, 1.0], [27.058452, 27.969925, 1.0], [27.915557, 34.329886, 1.0], [28.509136, 34.513634, 1.0], [29.347702, 47.94912, 1.0], [29.483576, 60.862701, 3.0], [29.591325, 52.58361, 1.0], [29.831976, 31.337257, 1.0], [30.022924, 31.185192, 1.0], [30.084629, 31.334314, 2.0], [30.169854, 34.173178, 1.0], [30.376924, 47.714458, 1.0], [30.510054, 47.778095, 10.0], [30.608472, 33.617577, 1.0], [30.652376, 46.81062, 1.0], [30.699335, 33.644714, 1.0], [30.762296, 29.696268, 1.0], [30.787678, 30.999529, 1.0], [30.886219, 34.076081, 1.0], [30.99614, 34.247173, 1.0], [31.016779, 33.008587, 1.0], [31.039309, 31.379664, 1.0], [31.044371, 46.261452, 3.0], [31.080795, 33.638188, 1.0], [31.113592, 45.883691, 1.0], [31.126646, 33.800865, 5.0], [31.135535, 45.861207, 1.0], [31.197586, 16.586681, 2.0], [31.19829, 29.899403, 1.0], [31.211645, 34.110425, 1.0], [31.212225, 34.117065, 3.0], [31.250196, 34.24128, 1.0], [31.300213, 45.277092, 2.0], [31.395836, 15.724736, 1.0], [31.448914, 15.256008, 1.0], [31.633333, -8.0, 1.0], [31.848217, 47.145203, 2.0], [31.945864, 40.452624, 1.0], [31.950001, 35.933331, 3.0], [31.98958, 44.923775, 2.0], [32.000596, 44.330818, 2.0], [32.032916, 44.399648, 3.0], [32.063988, 12.691492, 1.0], [32.069286, 20.151144, 7.0], [32.08297, 34.811886, 1.0], [32.094952, 20.268871, 1.0], [32.325195, 44.918747, 2.0], [32.407892, 14.622688, 1.0], [32.42202, 20.451099, 1.0], [32.469238, 44.416637, 26.0], [32.472147, 43.516361, 1.0], [32.533287, 45.829453, 4.0], [32.537552, 41.921997, 1.0], [32.559761, 41.919647, 4.0], [32.565084, 43.490958, 1.0], [32.568889, 36.315278, 1.0], [32.598736, 44.010626, 1.0], [32.604393, 44.007145, 11.0], [32.622334, 36.103756, 3.0], [32.674366, 36.056892, 1.0], [32.696985, 36.398428, 1.0], [32.709763, 36.567642, 1.0], [32.711067, 36.026836, 1.0], [32.74815, 39.027969, 1.0], [32.762238, 22.241188, 2.0], [32.777344, 44.289352, 11.0], [32.8, 12.9, 1.0], [32.834137, 36.156742, 1.0], [32.835648, 35.970169, 1.0], [32.867008, 44.220455, 2.0], [32.867867, 13.189067, 4.0], [32.874886, 44.281016, 1.0], [32.887157, 44.341637, 4.0], [32.901872, 45.077846, 1.0], [32.910708, 45.06299, 1.0], [32.925266, 44.770956, 1.0], [32.929936, 44.779564, 1.0], [32.962402, 36.076488, 1.0], [32.982933, 44.361595, 2.0], [33.036022, 40.288158, 3.0], [33.038056, 40.284444, 1.0], [33.057991, 44.354839, 7.0], [33.07835, 44.254719, 1.0], [33.100529, 44.584492, 1.0], [33.117836, 44.369362, 1.0], [33.126944, 35.825796, 1.0], [33.163559, 43.863106, 8.0], [33.223114, 44.540776, 1.0], [33.247181, 44.025452, 3.0], [33.255924, 43.839542, 1.0], [33.271403, 44.493661, 1.0], [33.278425, 43.946356, 1.0], [33.280891, 35.829319, 1.0], [33.287345, 44.319487, 4.0], [33.3, 44.4, 1.0], [33.303566, 44.371773, 367.0], [33.31065, 44.038208, 7.0], [33.312738, 43.78092, 1.0], [33.325054, 38.659325, 1.0], [33.34077, 43.821672, 1.0], [33.349159, 43.784199, 23.0], [33.35, 43.783333, 1.0], [33.354051, 43.845054, 1.0], [33.375365, 43.891302, 1.0], [33.375759, 44.702866, 4.0], [33.380455, 43.916641, 1.0], [33.382431, 43.587631, 2.0], [33.393642, 42.849487, 1.0], [33.397812, 43.706276, 4.0], [33.401699, 44.357658, 1.0], [33.403057, 43.911865, 12.0], [33.412674, 43.710224, 1.0], [33.414598, 43.455254, 1.0], [33.416667, 43.3, 2.0], [33.41735, 43.623861, 1.0], [33.417362, 43.804871, 1.0], [33.419822, 43.298471, 1.0], [33.420948, 43.295662, 63.0], [33.428314, 44.345453, 1.0], [33.431899, 43.311566, 1.0], [33.433811, 38.922878, 1.0], [33.435279, 43.281158, 1.0], [33.435532, 36.295208, 1.0], [33.436207, 36.080795, 1.0], [33.440707, 43.969894, 1.0], [33.446476, 36.334499, 6.0], [33.447155, 43.340736, 1.0], [33.448437, 43.26757, 1.0], [33.449772, 43.29578, 1.0], [33.453312, 43.372253, 1.0], [33.456459, 43.392872, 3.0], [33.460819, 44.157433, 1.0], [33.468018, 43.327589, 1.0], [33.469318, 43.224907, 1.0], [33.470512, 44.393494, 1.0], [33.484396, 36.268508, 1.0], [33.484444, 36.377289, 1.0], [33.488998, 36.346882, 4.0], [33.489437, 43.275142, 1.0], [33.509269, 44.235478, 1.0], [33.5111, 36.3064, 1.0], [33.515244, 36.292084, 34.0], [33.522137, 43.098385, 1.0], [33.527649, 36.392296, 1.0], [33.530734, 44.274292, 1.0], [33.540672, 44.251266, 12.0], [33.542351, 44.365334, 1.0], [33.548306, 44.415733, 2.0], [33.555773, 44.599672, 1.0], [33.561504, 36.368763, 2.0], [33.573486, 44.547424, 1.0], [33.592064, 42.618965, 2.0], [33.60722, 36.314327, 1.0], [33.611455, 36.75523, 1.0], [33.617965, 44.572428, 1.0], [33.622993, 36.11203, 1.0], [33.633896, 42.832081, 6.0], [33.642502, 44.419117, 1.0], [33.6432, 36.690445, 1.0], [33.644765, 42.826424, 1.0], [33.668545, 39.967896, 1.0], [33.669689, 44.381317, 1.0], [33.683266, 43.473259, 8.0], [33.693409, 44.796085, 1.0], [33.693947, 45.067425, 7.0], [33.695694, 45.067169, 1.0], [33.699554, 45.083422, 1.0], [33.7, 42.216667, 1.0], [33.716995, 44.679516, 2.0], [33.74324, 44.623825, 26.0], [33.744999, 45.545616, 2.0], [33.755295, 36.388622, 1.0], [33.758388, 44.396591, 1.0], [33.770897, 44.624748, 1.0], [33.771944, 44.621667, 1.0], [33.773349, 45.14945, 1.0], [33.773349, 45.149451, 1.0], [33.784248, 44.50972, 2.0], [33.792582, 42.442936, 1.0], [33.794651, 44.892578, 1.0], [33.802006, 42.438267, 1.0], [33.835629, 44.247406, 2.0], [33.843471, 35.498738, 2.0], [33.8456, 42.553495, 1.0], [33.848618, 44.522125, 14.0], [33.861984, 35.489986, 2.0], [33.8625, 45.287222, 1.0], [33.864799, 42.536385, 8.0], [33.879803, 44.854084, 1.0], [33.888523, 35.503513, 3.0], [33.907707, 42.542435, 2.0], [33.918611, 44.921111, 1.0], [33.926586, 44.772064, 2.0], [33.953167, 44.921906, 12.0], [33.982013, 42.594834, 2.0], [33.997998, 44.066633, 1.0], [34.006023, 42.421604, 1.0], [34.010471, 44.148235, 7.0], [34.04, 44.82, 1.0], [34.055354, 44.548457, 1.0], [34.057114, 44.218292, 1.0], [34.085258, 42.360344, 1.0], [34.092655, 42.385468, 2.0], [34.097931, 36.770164, 1.0], [34.100723, 45.05196, 1.0], [34.10729, 43.895811, 1.0], [34.125729, 45.003342, 2.0], [34.147392, 45.129864, 1.0], [34.154213, 41.572376, 1.0], [34.160587, 42.37254, 9.0], [34.166004, 43.905515, 1.0], [34.192039, 42.497272, 1.0], [34.194717, 43.800671, 1.0], [34.198803, 43.873311, 1.0], [34.208416, 43.890713, 9.0], [34.227745, 37.244217, 4.0], [34.240378, 45.136952, 1.0], [34.266661, 42.528929, 1.0], [34.271034, 45.163567, 4.0], [34.275066, 44.537865, 1.0], [34.2901, 43.852592, 1.0], [34.347343, 45.383274, 5.0], [34.365089, 43.74522, 1.0], [34.367733, 41.985275, 1.0], [34.369167, 43.764167, 1.0], [34.373264, 43.76318, 1.0], [34.405209, 41.893338, 1.0], [34.41688, 41.09998, 1.0], [34.430836, 44.93409, 1.0], [34.438062, 35.830744, 2.0], [34.438094, 35.830837, 2.0], [34.443955, 35.854032, 1.0], [34.458889, 43.791004, 2.0], [34.474993, 41.905622, 1.0], [34.477619, 41.920773, 1.0], [34.533753, 43.483738, 2.0], [34.54906, 43.485533, 1.0], [34.558525, 38.293671, 2.0], [34.565, 44.515556, 1.0], [34.582001, 43.724945, 1.0], [34.621521, 43.668377, 17.0], [34.644722, 43.7, 1.0], [34.675551, 43.550642, 1.0], [34.680833, 4.096944, 1.0], [34.705948, 43.697075, 1.0], [34.715336, 36.255295, 1.0], [34.717705, 36.722824, 21.0], [34.722992, 37.046791, 1.0], [34.726269, 44.584908, 1.0], [34.790665, 44.662151, 1.0], [34.814651, 37.01833, 1.0], [34.834274, 37.324997, 1.0], [34.834415, 43.515133, 4.0], [34.857777, 40.575726, 1.0], [34.881348, 44.62513, 8.0], [34.895928, 35.886652, 2.0], [34.896112, 35.886553, 1.0], [34.8962, 43.808772, 1.0], [34.896351, 35.886443, 2.0], [34.896537, 43.812777, 1.0], [34.900948, 44.48682, 1.0], [34.92485, 43.491413, 13.0], [34.925064, 43.807106, 1.0], [34.925074, 43.809004, 1.0], [34.92832, 43.501463, 1.0], [34.943422, 43.496511, 1.0], [34.951523, 36.581963, 1.0], [34.992645, 43.719736, 1.0], [35.005104, 43.49686, 2.0], [35.009102, 43.356161, 1.0], [35.012791, 37.051506, 1.0], [35.015778, 40.455212, 1.0], [35.023304, 43.370753, 1.0], [35.0325, 43.646389, 1.0], [35.03415, 43.632833, 1.0], [35.068056, 36.888889, 1.0], [35.129181, 36.760738, 2.0], [35.135796, 37.020739, 1.0], [35.136112, 43.4225, 1.0], [35.172505, 43.377435, 1.0], [35.1782, 43.375203, 1.0], [35.188786, 37.211583, 1.0], [35.244621, 44.275486, 2.0], [35.283094, 40.170864, 1.0], [35.283155, 40.170828, 1.0], [35.28798, 40.308863, 1.0], [35.290483, 36.345111, 1.0], [35.303047, 44.329933, 1.0], [35.326122, 43.780811, 1.0], [35.329201, 43.943679, 1.0], [35.333061, 40.138737, 5.0], [35.361572, 35.927155, 4.0], [35.405506, 37.430546, 2.0], [35.413296, 36.33012, 1.0], [35.415855, 43.114769, 2.0], [35.435909, 44.382034, 1.0], [35.43811, 7.146648, 1.0], [35.442745, 42.393838, 1.0], [35.45211, 44.375465, 25.0], [35.464344, 40.669575, 1.0], [35.46979, 44.396337, 2.0], [35.48727, 43.240556, 1.0], [35.528404, 35.79232, 3.0], [35.55, 6.166667, 1.0], [35.563069, 42.730889, 1.0], [35.569427, 42.723026, 3.0], [35.574122, 42.728694, 1.0], [35.631498, 43.631421, 1.0], [35.647797, 36.675259, 2.0], [35.672932, 44.070145, 1.0], [35.688751, 36.135868, 1.0], [35.700397, 43.280434, 1.0], [35.7131, 43.29924, 1.0], [35.713863, 36.525666, 1.0], [35.724533, 51.40519, 1.0], [35.73494, 37.103072, 1.0], [35.758367, 43.12946, 1.0], [35.768353, 43.588966, 2.0], [35.771057, 43.362682, 1.0], [35.781292, 37.499214, 1.0], [35.797443, 43.593756, 1.0], [35.79813, 43.294178, 2.0], [35.813396, 36.319939, 1.0], [35.813972, 36.609917, 2.0], [35.827229, 43.389652, 1.0], [35.855245, 36.671186, 1.0], [35.868511, 36.804665, 1.0], [35.881389, 42.469444, 1.0], [35.904295, 43.058433, 1.0], [35.925894, 36.6519, 1.0], [35.928802, 36.631451, 5.0], [35.933333, 36.633333, 1.0], [35.944855, 42.564484, 2.0], [35.951523, 39.009563, 2.0], [35.958808, 38.999399, 1.0], [35.964956, 40.902176, 1.0], [35.96545, 38.041325, 1.0], [35.982761, 36.704647, 2.0], [35.990086, 36.677223, 1.0], [35.993954, 36.998383, 1.0], [36.01313, 36.673443, 1.0], [36.039722, 37.3075, 1.0], [36.06028, 41.29466, 1.0], [36.068785, 43.065456, 1.0], [36.072919, 1.988153, 1.0], [36.077754, 4.462888, 1.0], [36.115444, 37.049343, 1.0], [36.1789, 37.285795, 1.0], [36.183247, 41.591599, 1.0], [36.186638, 37.583084, 1.0], [36.187306, 42.224158, 1.0], [36.192589, 44.004623, 4.0], [36.201721, 37.14352, 44.0], [36.202354, 41.687168, 1.0], [36.206371, 42.749943, 2.0], [36.2065, 37.160027, 1.0], [36.207593, 43.19765, 1.0], [36.213078, 36.769512, 1.0], [36.214444, 43.041111, 1.0], [36.216213, 37.163826, 1.0], [36.228695, 43.105652, 2.0], [36.229574, 42.236244, 2.0], [36.237222, 42.8425, 1.0], [36.264221, 36.565708, 3.0], [36.266701, 37.203342, 1.0], [36.274412, 43.37751, 1.0], [36.278435, 37.085297, 1.0], [36.283566, 42.830044, 1.0], [36.28611, 5.60722, 1.0], [36.289417, 42.411853, 1.0], [36.310444, 36.689156, 3.0], [36.313854, 36.660312, 1.0], [36.3144, 41.8625, 1.0], [36.318344, 42.21035, 1.0], [36.319386, 41.861473, 4.0], [36.322256, 41.863909, 1.0], [36.322392, 41.860499, 1.0], [36.3225, 41.864167, 2.0], [36.341501, 43.137222, 1.0], [36.349444, 42.265556, 1.0], [36.354145, 43.14357, 68.0], [36.359535, 43.336533, 1.0], [36.362663, 37.012653, 1.0], [36.366199, 37.512276, 2.0], [36.374029, 42.451435, 1.0], [36.37489, 3.902, 2.0], [36.376823, 42.448875, 20.0], [36.377281, 36.993607, 1.0], [36.3825, 42.216667, 1.0], [36.38588, 38.863895, 1.0], [36.432888, 37.442127, 1.0], [36.434563, 43.158421, 4.0], [36.445278, 37.627222, 1.0], [36.447495, 43.351059, 1.0], [36.451707, 43.342042, 1.0], [36.469528, 42.670578, 2.0], [36.472965, 37.09436, 1.0], [36.482582, 37.197102, 1.0], [36.500431, 42.438282, 1.0], [36.503593, 40.740627, 14.0], [36.50589, 42.375995, 1.0], [36.508533, 42.842224, 1.0], [36.513023, 42.738479, 1.0], [36.521944, 37.041111, 1.0], [36.526708, 2.344489, 1.0], [36.52915, 37.951031, 1.0], [36.554444, 40.748056, 1.0], [36.562222, 3.594444, 2.0], [36.585438, 37.046921, 2.0], [36.58749, 38.301998, 1.0], [36.592364, 42.216808, 1.0], [36.618584, 37.076237, 2.0], [36.626314, 42.833867, 1.0], [36.630637, 37.085353, 1.0], [36.632677, 43.256512, 1.0], [36.657269, 40.37056, 1.0], [36.658461, 37.212777, 1.0], [36.672703, 3.809529, 1.0], [36.673926, 6.83876, 1.0], [36.695915, 38.946732, 1.0], [36.72398, 3.670848, 2.0], [36.749678, 41.59673, 1.0], [36.76321, 42.602535, 1.0], [36.763763, 3.055413, 3.0], [36.7652, 45.722417, 1.0], [36.803982, 42.093945, 1.0], [36.804388, 42.078573, 1.0], [36.807907, 42.071414, 1.0], [36.811427, 10.184214, 1.0], [36.81863, 38.011127, 2.0], [36.866618, 6.900388, 1.0], [36.886497, 38.350204, 1.0], [36.902183, 42.251461, 1.0], [36.919552, 3.891396, 1.0], [36.975594, 38.426399, 1.0], [37.05336, 41.227345, 3.0], [37.067631, 37.37315, 2.0], [37.294346, 43.673306, 1.0], [37.303442, 44.57696, 1.0], [37.332346, 42.185474, 1.0], [37.3402, 41.8934, 1.0], [37.370458, 44.041046, 1.0], [37.408323, 44.540277, 1.0], [37.474477, 42.709427, 1.0], [37.922218, 40.184376, 1.0], [38.720489, 35.482597, 1.0], [39.798509, 32.805613, 1.0], [39.916839, 44.044637, 1.0], [39.930771, 32.76754, 3.0], [41.106178, 28.689863, 6.0]],\n",
       "                {\n",
       "  &quot;minOpacity&quot;: 0.5,\n",
       "  &quot;maxZoom&quot;: 18,\n",
       "  &quot;radius&quot;: 25,\n",
       "  &quot;blur&quot;: 15,\n",
       "}\n",
       "            );\n",
       "        \n",
       "    \n",
       "            heat_map_6f6392d01f71e6ed550b70d58fda4509.addTo(map_75466f611e633d66030e4d12ebca36a4);\n",
       "        \n",
       "    \n",
       "            tile_layer_19c4dbc69a630211034e9b1d58be9d3c.addTo(map_75466f611e633d66030e4d12ebca36a4);\n",
       "        \n",
       "    \n",
       "            heat_map_6f6392d01f71e6ed550b70d58fda4509.addTo(map_75466f611e633d66030e4d12ebca36a4);\n",
       "        \n",
       "&lt;/script&gt;\n",
       "&lt;/html&gt;\" style=\"position:absolute;width:100%;height:100%;left:0;top:0;border:none !important;\" allowfullscreen webkitallowfullscreen mozallowfullscreen></iframe></div></div>"
      ],
      "text/plain": [
       "<folium.folium.Map at 0x216298e3dc0>"
      ]
     },
     "execution_count": 13,
     "metadata": {},
     "output_type": "execute_result"
    }
   ],
   "source": [
    "my_map1"
   ]
  },
  {
   "cell_type": "markdown",
   "id": "3ec8f613-fe76-4c3c-bf9a-eae3dd35ff06",
   "metadata": {},
   "source": [
    "<h1>Insight No. 1</h1>\n",
    "<h4>Between 2018 and 2022, bombing and explosion attacks remained common in Iraq, Syria, and Yemen, but Afghanistan and Libya saw a rise in incidents due to ongoing conflicts. After the U.S. withdrawal from Afghanistan in 2021, attacks targeting civilians increased, highlighting the continued threat of extremism and political instability in the region.</h4>"
   ]
  },
  {
   "cell_type": "markdown",
   "id": "3d821438-19cb-4e10-8b74-cc97d52223b6",
   "metadata": {},
   "source": [
    "<h1>NATIONALITY ANALYSIS</h1>"
   ]
  },
  {
   "cell_type": "markdown",
   "id": "818bbcb5-dfe6-451d-81ee-d0cad541217e",
   "metadata": {},
   "source": [
    "<h2>Filtering Data</h2>"
   ]
  },
  {
   "cell_type": "code",
   "execution_count": 14,
   "id": "b061faa6-641a-4d11-9378-c6865e6682e8",
   "metadata": {},
   "outputs": [],
   "source": [
    "filter5 = df[df['country_txt'] == 'Philippines'] "
   ]
  },
  {
   "cell_type": "code",
   "execution_count": 15,
   "id": "a6a686a3-c43e-4c85-a2a7-3e6a806ce7c9",
   "metadata": {},
   "outputs": [],
   "source": [
    "filter6 = filter5[filter5['natlty1_txt'] == 'Philippines']"
   ]
  },
  {
   "cell_type": "markdown",
   "id": "7a4c6871-002a-4dd8-86a4-c1fae24fdfae",
   "metadata": {},
   "source": [
    "<h2>Data Aggregation</h2>"
   ]
  },
  {
   "cell_type": "code",
   "execution_count": 16,
   "id": "9d79a051-5fe8-4241-bf3d-307ed33e1bca",
   "metadata": {},
   "outputs": [
    {
     "data": {
      "text/html": [
       "<div>\n",
       "<style scoped>\n",
       "    .dataframe tbody tr th:only-of-type {\n",
       "        vertical-align: middle;\n",
       "    }\n",
       "\n",
       "    .dataframe tbody tr th {\n",
       "        vertical-align: top;\n",
       "    }\n",
       "\n",
       "    .dataframe thead th {\n",
       "        text-align: right;\n",
       "    }\n",
       "</style>\n",
       "<table border=\"1\" class=\"dataframe\">\n",
       "  <thead>\n",
       "    <tr style=\"text-align: right;\">\n",
       "      <th></th>\n",
       "      <th>latitude</th>\n",
       "      <th>longitude</th>\n",
       "      <th>incident_count</th>\n",
       "    </tr>\n",
       "  </thead>\n",
       "  <tbody>\n",
       "    <tr>\n",
       "      <th>0</th>\n",
       "      <td>4.897277</td>\n",
       "      <td>119.848690</td>\n",
       "      <td>1</td>\n",
       "    </tr>\n",
       "    <tr>\n",
       "      <th>1</th>\n",
       "      <td>5.010223</td>\n",
       "      <td>119.747485</td>\n",
       "      <td>1</td>\n",
       "    </tr>\n",
       "    <tr>\n",
       "      <th>2</th>\n",
       "      <td>5.031979</td>\n",
       "      <td>119.772504</td>\n",
       "      <td>1</td>\n",
       "    </tr>\n",
       "    <tr>\n",
       "      <th>3</th>\n",
       "      <td>5.036097</td>\n",
       "      <td>120.226960</td>\n",
       "      <td>1</td>\n",
       "    </tr>\n",
       "    <tr>\n",
       "      <th>4</th>\n",
       "      <td>5.136910</td>\n",
       "      <td>119.945966</td>\n",
       "      <td>1</td>\n",
       "    </tr>\n",
       "    <tr>\n",
       "      <th>...</th>\n",
       "      <td>...</td>\n",
       "      <td>...</td>\n",
       "      <td>...</td>\n",
       "    </tr>\n",
       "    <tr>\n",
       "      <th>3877</th>\n",
       "      <td>18.467402</td>\n",
       "      <td>120.899587</td>\n",
       "      <td>1</td>\n",
       "    </tr>\n",
       "    <tr>\n",
       "      <th>3878</th>\n",
       "      <td>18.511551</td>\n",
       "      <td>120.644088</td>\n",
       "      <td>1</td>\n",
       "    </tr>\n",
       "    <tr>\n",
       "      <th>3879</th>\n",
       "      <td>18.537136</td>\n",
       "      <td>120.765284</td>\n",
       "      <td>2</td>\n",
       "    </tr>\n",
       "    <tr>\n",
       "      <th>3880</th>\n",
       "      <td>18.561630</td>\n",
       "      <td>121.231890</td>\n",
       "      <td>4</td>\n",
       "    </tr>\n",
       "    <tr>\n",
       "      <th>3881</th>\n",
       "      <td>18.561633</td>\n",
       "      <td>120.787087</td>\n",
       "      <td>2</td>\n",
       "    </tr>\n",
       "  </tbody>\n",
       "</table>\n",
       "<p>3882 rows × 3 columns</p>\n",
       "</div>"
      ],
      "text/plain": [
       "       latitude   longitude  incident_count\n",
       "0      4.897277  119.848690               1\n",
       "1      5.010223  119.747485               1\n",
       "2      5.031979  119.772504               1\n",
       "3      5.036097  120.226960               1\n",
       "4      5.136910  119.945966               1\n",
       "...         ...         ...             ...\n",
       "3877  18.467402  120.899587               1\n",
       "3878  18.511551  120.644088               1\n",
       "3879  18.537136  120.765284               2\n",
       "3880  18.561630  121.231890               4\n",
       "3881  18.561633  120.787087               2\n",
       "\n",
       "[3882 rows x 3 columns]"
      ]
     },
     "execution_count": 16,
     "metadata": {},
     "output_type": "execute_result"
    }
   ],
   "source": [
    "terror_loc2 = filter6.groupby(['latitude', 'longitude']).size().reset_index(name = 'incident_count')\n",
    "terror_loc2"
   ]
  },
  {
   "cell_type": "markdown",
   "id": "362b5bce-6336-49da-a12b-a50ef3f271e6",
   "metadata": {},
   "source": [
    "<h3> Converting Pandas Data Frame into Python List</h3>"
   ]
  },
  {
   "cell_type": "code",
   "execution_count": 17,
   "id": "39738e75-7078-4cac-a62d-7da2277ab69e",
   "metadata": {},
   "outputs": [],
   "source": [
    "#OPTIONAL, for clearer view for the Geospatial Map\n",
    "\n",
    "terror_loc2[\"normalize_data\"] = terror_loc2['incident_count'] - terror_loc2['incident_count'].min() / \\\n",
    "                                terror_loc2['incident_count'].max() - terror_loc2['incident_count']\n",
    "\n",
    "#geospatial folium data should be formatted as a list\n",
    "\n",
    "terror_loc_list2 = terror_loc2[['latitude', 'longitude', 'incident_count']].values.tolist()"
   ]
  },
  {
   "cell_type": "markdown",
   "id": "e913b658-43e3-41ba-83de-ce5476a08a8f",
   "metadata": {},
   "source": [
    "<h3> Creating a base map </h3>"
   ]
  },
  {
   "cell_type": "code",
   "execution_count": 18,
   "id": "c3490b7b-8f46-4ed7-a4dc-519487376af6",
   "metadata": {},
   "outputs": [],
   "source": [
    "my_map2 = folium.Map(location=[12.8797, 121.7740], zoom_start=5)"
   ]
  },
  {
   "cell_type": "markdown",
   "id": "5aea9b51-bb13-4ec4-97c6-d580d9334507",
   "metadata": {},
   "source": [
    "<h3> Add Heatmap Layer </h3>"
   ]
  },
  {
   "cell_type": "code",
   "execution_count": 19,
   "id": "568a99ae-af29-4aa8-bf13-80998fb70231",
   "metadata": {},
   "outputs": [
    {
     "ename": "NameError",
     "evalue": "name 'my_map2' is not defined",
     "output_type": "error",
     "traceback": [
      "\u001b[1;31m---------------------------------------------------------------------------\u001b[0m",
      "\u001b[1;31mNameError\u001b[0m                                 Traceback (most recent call last)",
      "Cell \u001b[1;32mIn[19], line 1\u001b[0m\n\u001b[1;32m----> 1\u001b[0m HeatMap(terror_loc_list2)\u001b[38;5;241m.\u001b[39madd_to(\u001b[43mmy_map2\u001b[49m)\n",
      "\u001b[1;31mNameError\u001b[0m: name 'my_map2' is not defined"
     ]
    }
   ],
   "source": [
    "HeatMap(terror_loc_list2).add_to(my_map2)"
   ]
  },
  {
   "cell_type": "code",
   "execution_count": null,
   "id": "c36c3e0c-1bae-449e-9e14-44effc66c348",
   "metadata": {},
   "outputs": [],
   "source": [
    "my_map2.save('nationality_analysis.html')\n",
    "print(\"data save to nationality_analysis.html\")"
   ]
  },
  {
   "cell_type": "markdown",
   "id": "bf3df377-009a-4c9c-b952-6863dca6a080",
   "metadata": {},
   "source": [
    "<h2>Calling the map</h2>"
   ]
  },
  {
   "cell_type": "code",
   "execution_count": null,
   "id": "fef39225-e576-43f2-bc3c-add5897f7499",
   "metadata": {},
   "outputs": [],
   "source": [
    "my_map2"
   ]
  },
  {
   "cell_type": "markdown",
   "id": "da0ef8ea-9e3f-465f-a061-5c303fc0d6ea",
   "metadata": {},
   "source": [
    "<h1>Insight No.2</h1>\n",
    "\n",
    "<h4>This heatmap shows that Terrorism is a nationwide concern in the Philippines. Although Mindanao, particularly areas like Zamboanga, Cagayan de Oro, and Davao experiences the most activity, incidents in Luzon and Visayas, including Metro Manila, show that threats are not limited to the south. This calls for a country wide approach to security and prevention.</h4>"
   ]
  },
  {
   "cell_type": "markdown",
   "id": "eb598194-bb0a-4b0e-99b8-cdb8adb675f0",
   "metadata": {},
   "source": [
    "<h1>TARGET ANALYSIS</h1>"
   ]
  },
  {
   "cell_type": "markdown",
   "id": "71541680-40bf-4db8-9a1c-a74cd8c205f1",
   "metadata": {},
   "source": [
    "<h2>Filtering Data</h2>"
   ]
  },
  {
   "cell_type": "code",
   "execution_count": null,
   "id": "d4d0ed75-6b7d-4930-b8c0-244ce2c9be45",
   "metadata": {},
   "outputs": [],
   "source": [
    "filter7 = df[df['targsubtype1_txt'] == 'Police Security Forces/Officers'] #11k"
   ]
  },
  {
   "cell_type": "code",
   "execution_count": null,
   "id": "b04da7ea-c313-4c07-9818-1711f893e2b7",
   "metadata": {},
   "outputs": [],
   "source": [
    "filter8 = filter7[filter7['provstate'] == 'Northern Ireland']"
   ]
  },
  {
   "cell_type": "markdown",
   "id": "30c99633-2ef2-45a8-828c-d0597afa679e",
   "metadata": {},
   "source": [
    "<h2>Data Aggregation</h2>"
   ]
  },
  {
   "cell_type": "code",
   "execution_count": null,
   "id": "ae35d4de-d22f-4028-89a8-3263c2f28455",
   "metadata": {},
   "outputs": [],
   "source": [
    "terror_loc3 = filter8.groupby(['latitude', 'longitude']).size().reset_index(name = 'incident_count')\n",
    "terror_loc3"
   ]
  },
  {
   "cell_type": "markdown",
   "id": "d12c92a8-b2bb-4eda-93dd-007509788cd2",
   "metadata": {},
   "source": [
    "<h3> Converting Pandas Data Frame into Python List</h3>"
   ]
  },
  {
   "cell_type": "code",
   "execution_count": null,
   "id": "adca4dc7-f6ea-4a2f-a1a1-5d2cf4ce5626",
   "metadata": {},
   "outputs": [],
   "source": [
    "#OPTIONAL, for clearer view for the Geospatial Map\n",
    "\n",
    "terror_loc3[\"normalize_data\"] = terror_loc3['incident_count'] - terror_loc3['incident_count'].min() / \\\n",
    "                                terror_loc3['incident_count'].max() - terror_loc3['incident_count']\n",
    "\n",
    "#geospatial folium data should be formatted as a list\n",
    "\n",
    "terror_loc_list3 = terror_loc3[['latitude', 'longitude', 'incident_count']].values.tolist()"
   ]
  },
  {
   "cell_type": "markdown",
   "id": "379d7a2a-ec25-414c-aaf7-e62accecc4bc",
   "metadata": {},
   "source": [
    "<h3> Creating a base map </h3>"
   ]
  },
  {
   "cell_type": "code",
   "execution_count": null,
   "id": "2c48931e-1614-42c4-9993-0f73940d0b03",
   "metadata": {},
   "outputs": [],
   "source": [
    "my_map3 = folium.Map(location = [54.7, -7], zoom_start = 8)"
   ]
  },
  {
   "cell_type": "markdown",
   "id": "6ea53e96-f404-492f-8d22-878b3a836651",
   "metadata": {},
   "source": [
    "<h3> Add Heatmap Layer </h3>"
   ]
  },
  {
   "cell_type": "code",
   "execution_count": null,
   "id": "1b717c26-02a0-4513-a169-8dc72e0c54af",
   "metadata": {},
   "outputs": [],
   "source": [
    "HeatMap(terror_loc_list3).add_to(my_map3)"
   ]
  },
  {
   "cell_type": "code",
   "execution_count": null,
   "id": "ed5d2e84-0390-47f9-8888-5d275594c1ea",
   "metadata": {},
   "outputs": [],
   "source": [
    "my_map3.save('target_analysis.html')\n",
    "print(\"data save to target_analysis.html\")"
   ]
  },
  {
   "cell_type": "markdown",
   "id": "63da8e4e-4e5d-4c38-80d4-eb26f2b778ee",
   "metadata": {},
   "source": [
    "<h2>Calling the map</h2>"
   ]
  },
  {
   "cell_type": "code",
   "execution_count": null,
   "id": "39a1e5c2-d96b-400d-b5ec-7ebe00660dfd",
   "metadata": {},
   "outputs": [],
   "source": [
    "my_map3"
   ]
  },
  {
   "cell_type": "markdown",
   "id": "99e4bc28-f8bf-4bbb-a913-b6c2abb52abe",
   "metadata": {},
   "source": [
    "<h1>Insight No. 3</h1>\n",
    "<h4>From 1970 to 2017, police in Northern Ireland were frequent targets of terrorist attacks, mainly by nationalist groups like the IRA. These attacks aimed to challenge British rule and push for Irish unification, showing how law enforcement became a key symbol in the political conflict.</h4>"
   ]
  },
  {
   "cell_type": "markdown",
   "id": "2f46789a-302b-41ba-b594-c154acf02b5e",
   "metadata": {},
   "source": [
    "<h1>CASUALTY ANALYSIS</h1>"
   ]
  },
  {
   "cell_type": "markdown",
   "id": "d123b6b4-9edc-4562-a806-2d36b4169036",
   "metadata": {},
   "source": [
    "<h2>Filtering Data</h2>"
   ]
  },
  {
   "cell_type": "code",
   "execution_count": null,
   "id": "9d09c0a7-c720-4019-8ad3-bf9af191249a",
   "metadata": {},
   "outputs": [],
   "source": [
    "filter9 = df[df['nkill'] >= 20] #3k"
   ]
  },
  {
   "cell_type": "code",
   "execution_count": null,
   "id": "8395dd2e-c1b5-43e4-8c6f-eb9f8afecb9b",
   "metadata": {},
   "outputs": [],
   "source": [
    "filter10 = filter9[filter9['region_txt'] == 'Sub-Saharan Africa']"
   ]
  },
  {
   "cell_type": "code",
   "execution_count": null,
   "id": "c59d389a-a7bc-48bd-a7f9-db0c30e0c5ae",
   "metadata": {},
   "outputs": [],
   "source": [
    "filter11 = filter10[filter10['attacktype1_txt'] == 'Armed Assault']"
   ]
  },
  {
   "cell_type": "markdown",
   "id": "e3ae9a12-a4f4-4e1a-b4bf-cc9d68662211",
   "metadata": {},
   "source": [
    "<h2>Data Aggregation</h2>"
   ]
  },
  {
   "cell_type": "code",
   "execution_count": null,
   "id": "a607d442-64f6-4fb1-8cc2-5cab534b54e2",
   "metadata": {},
   "outputs": [],
   "source": [
    "terror_loc4 = filter11.groupby(['latitude', 'longitude']).size().reset_index(name = 'incident_count')\n",
    "terror_loc4"
   ]
  },
  {
   "cell_type": "markdown",
   "id": "b51de5da-576f-4b6f-9ddd-11496216b9c0",
   "metadata": {},
   "source": [
    "<h3> Converting Pandas Data Frame into Python List</h3>"
   ]
  },
  {
   "cell_type": "code",
   "execution_count": null,
   "id": "30ebc01c-ca7a-4b8d-aa56-49fcd3039208",
   "metadata": {},
   "outputs": [],
   "source": [
    "#OPTIONAL, for clearer view for the Geospatial Map\n",
    "\n",
    "terror_loc4[\"normalize_data\"] = terror_loc4['incident_count'] - terror_loc4['incident_count'].min() / \\\n",
    "                                terror_loc4['incident_count'].max() - terror_loc4['incident_count']\n",
    "\n",
    "#geospatial folium data should be formatted as a list\n",
    "\n",
    "terror_loc_list4 = terror_loc4[['latitude', 'longitude', 'incident_count']].values.tolist()"
   ]
  },
  {
   "cell_type": "markdown",
   "id": "66078946-dab1-4bc4-9128-f88f3c4629de",
   "metadata": {},
   "source": [
    "<h3> Creating a base map </h3>"
   ]
  },
  {
   "cell_type": "code",
   "execution_count": null,
   "id": "96eb2faa-2b88-4cbc-b6b9-7cd64ad03184",
   "metadata": {},
   "outputs": [],
   "source": [
    "my_map4 = folium.Map(location = [5, 30], zoom_start = 3)"
   ]
  },
  {
   "cell_type": "markdown",
   "id": "d683b9c4-ff08-4f8d-9095-61b2ba6b7d5f",
   "metadata": {},
   "source": [
    "<h3> Add Heatmap Layer </h3>"
   ]
  },
  {
   "cell_type": "code",
   "execution_count": null,
   "id": "6c66bbaf-90e6-485b-b5a0-c9e7b25feec6",
   "metadata": {},
   "outputs": [],
   "source": [
    "HeatMap(terror_loc_list4).add_to(my_map4)"
   ]
  },
  {
   "cell_type": "code",
   "execution_count": null,
   "id": "b13cf301-e2a8-4481-9853-fef82bd2577f",
   "metadata": {},
   "outputs": [],
   "source": [
    "my_map4.save('casualty_analysis.html')\n",
    "print(\"data save to casualty_analysis.html\")"
   ]
  },
  {
   "cell_type": "markdown",
   "id": "93bacb88-4a47-463d-97a9-5e503179c4d5",
   "metadata": {},
   "source": [
    "<h2>Calling the map</h2>"
   ]
  },
  {
   "cell_type": "code",
   "execution_count": null,
   "id": "b5858bbd-6a4f-4285-b7db-8bdd979a89b8",
   "metadata": {},
   "outputs": [],
   "source": [
    "my_map4"
   ]
  },
  {
   "cell_type": "markdown",
   "id": "4e685fc0-f1a3-49b3-a099-9f39dd22be49",
   "metadata": {},
   "source": [
    "<h1>Insight No. 4</h1>\n",
    "<h4>Mass-casualty attacks in Sub-Saharan Africa from 1970 to 2017 reveal how militant groups exploit weak governance. Countries like Nigeria, Somalia, and Sudan experienced deadly assaults by groups such as Boko Haram and Al-Shabaab, often killing 20 or more people in a single attack. These incidents highlight the urgent need for stronger regional security and stability.</h4>"
   ]
  },
  {
   "cell_type": "markdown",
   "id": "106ba2d6-752a-4eaa-9e00-b3fae52f48c6",
   "metadata": {},
   "source": [
    "<h1>ATTACK TYPE ANALYSIS</h1>"
   ]
  },
  {
   "cell_type": "markdown",
   "id": "9c684622-b1d7-4990-8201-bb68dbd9ffc8",
   "metadata": {},
   "source": [
    "<h2>Filtering Data</h2>"
   ]
  },
  {
   "cell_type": "code",
   "execution_count": null,
   "id": "d55f360d-f322-4119-bf00-c0d5cfebdc11",
   "metadata": {},
   "outputs": [],
   "source": [
    "filter12 = df[df['attacktype1_txt'] == 'Assassination'] #19k"
   ]
  },
  {
   "cell_type": "code",
   "execution_count": null,
   "id": "b8ccd901-f4fb-44cd-97d3-7751d59b7b36",
   "metadata": {},
   "outputs": [],
   "source": [
    "filter13 = filter12[filter12['weaptype1_txt'] == 'Melee']"
   ]
  },
  {
   "cell_type": "code",
   "execution_count": null,
   "id": "2c89bf8a-24db-4706-8c07-b3432c302b63",
   "metadata": {},
   "outputs": [],
   "source": [
    "filter14 = filter13[filter13['region_txt'] == 'South Asia']"
   ]
  },
  {
   "cell_type": "markdown",
   "id": "d4e271ec-6b2a-4b76-b2ee-ddd5cb103a2e",
   "metadata": {},
   "source": [
    "<h2>Data Aggregation</h2>"
   ]
  },
  {
   "cell_type": "code",
   "execution_count": null,
   "id": "6e8d4680-eec0-46ba-9da5-6d768a46e9ba",
   "metadata": {},
   "outputs": [],
   "source": [
    "terror_loc5 = filter14.groupby(['latitude', 'longitude']).size().reset_index(name = 'incident_count')\n",
    "terror_loc5"
   ]
  },
  {
   "cell_type": "markdown",
   "id": "f71cb8c1-682f-42f8-a272-21e4d328d161",
   "metadata": {},
   "source": [
    "<h3> Converting Pandas Data Frame into Python List</h3>"
   ]
  },
  {
   "cell_type": "code",
   "execution_count": null,
   "id": "d137ad8f-ac75-4870-8a71-8bbcd85d5aa7",
   "metadata": {},
   "outputs": [],
   "source": [
    "#OPTIONAL, for clearer view for the Geospatial Map\n",
    "\n",
    "terror_loc5[\"normalize_data\"] = terror_loc5['incident_count'] - terror_loc5['incident_count'].min() / \\\n",
    "                                terror_loc5['incident_count'].max() - terror_loc5['incident_count']\n",
    "\n",
    "#geospatial folium data should be formatted as a list\n",
    "\n",
    "terror_loc_list5 = terror_loc5[['latitude', 'longitude', 'incident_count']].values.tolist()"
   ]
  },
  {
   "cell_type": "markdown",
   "id": "92444130-a8d0-4fb0-b2b7-4a89427d666f",
   "metadata": {},
   "source": [
    "<h3> Creating a base map </h3>"
   ]
  },
  {
   "cell_type": "code",
   "execution_count": null,
   "id": "57eab1c4-1896-46ec-9574-0b58aa27912c",
   "metadata": {},
   "outputs": [],
   "source": [
    "my_map5 = folium.Map(location = [20, 80], zoom_start = 4)"
   ]
  },
  {
   "cell_type": "markdown",
   "id": "953ca5a4-2674-4607-bb91-35a8489c5903",
   "metadata": {},
   "source": [
    "<h3> Add Heatmap Layer </h3>"
   ]
  },
  {
   "cell_type": "code",
   "execution_count": null,
   "id": "91b0927a-6638-431e-958b-d44d4bf6b2c6",
   "metadata": {},
   "outputs": [],
   "source": [
    "HeatMap(terror_loc_list5).add_to(my_map5)"
   ]
  },
  {
   "cell_type": "code",
   "execution_count": null,
   "id": "3bcdedaa-3e24-4535-94c1-df178c8725b7",
   "metadata": {},
   "outputs": [],
   "source": [
    "my_map5.save('attack_type_analysis.html')\n",
    "print(\"data save to attack_type_analysis.html\")"
   ]
  },
  {
   "cell_type": "markdown",
   "id": "b85d6200-151c-47fd-a221-30175ee09bca",
   "metadata": {},
   "source": [
    "<h2>Calling the map</h2>"
   ]
  },
  {
   "cell_type": "code",
   "execution_count": null,
   "id": "785cfb1f-714b-490a-af50-2680033c4253",
   "metadata": {},
   "outputs": [],
   "source": [
    "my_map5"
   ]
  },
  {
   "cell_type": "markdown",
   "id": "b64633c8-4eef-498a-938d-d9eebbacfbd6",
   "metadata": {},
   "source": [
    "<h1>Insight No. 5</h1>\n",
    "\n",
    "<h4>Many political assassinations in South Asia used melee weapons like knives or clubs because they are easy to get and allow attackers to get close to their targets. These weapons are often tied to local traditions and are still used today. This shows how culture and access to weapons affect the way attacks are carried out.</h4>"
   ]
  }
 ],
 "metadata": {
  "kernelspec": {
   "display_name": "Python 3 (ipykernel)",
   "language": "python",
   "name": "python3"
  },
  "language_info": {
   "codemirror_mode": {
    "name": "ipython",
    "version": 3
   },
   "file_extension": ".py",
   "mimetype": "text/x-python",
   "name": "python",
   "nbconvert_exporter": "python",
   "pygments_lexer": "ipython3",
   "version": "3.10.7"
  }
 },
 "nbformat": 4,
 "nbformat_minor": 5
}
