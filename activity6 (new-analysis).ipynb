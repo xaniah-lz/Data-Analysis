{
 "cells": [
  {
   "cell_type": "markdown",
   "id": "a0cd4405-81f3-425a-9a2b-630b9452d091",
   "metadata": {},
   "source": [
    "<h1>GLOBAL TERRORISM ANALYSIS</h1>\n",
    "<h3>Analyst : Lorejoy Zorrilla</h3>"
   ]
  },
  {
   "cell_type": "markdown",
   "id": "a508fd6d-00d2-44ee-a077-5ed9ba50bfd8",
   "metadata": {},
   "source": [
    "<h2>IMPORTING LIBRARIES</h2>"
   ]
  },
  {
   "cell_type": "code",
   "execution_count": 20,
   "id": "3bbba4c2-91db-4a4d-8541-04bbce017e89",
   "metadata": {},
   "outputs": [],
   "source": [
    "import numpy as np\n",
    "import pandas as pd \n",
    "import seaborn as sns \n",
    "import matplotlib.pyplot as plt \n",
    "import warnings \n",
    "import folium\n",
    "from folium.plugins import HeatMap\n",
    "warnings.filterwarnings('ignore')"
   ]
  },
  {
   "cell_type": "markdown",
   "id": "a9671287-4458-4932-afbb-0e7731371a99",
   "metadata": {},
   "source": [
    "<h2>IMPORTING DATASET TO DATA FRAME</h2>"
   ]
  },
  {
   "cell_type": "code",
   "execution_count": 21,
   "id": "89b70c1e-c8be-4f6f-b95a-958a31b2655a",
   "metadata": {},
   "outputs": [],
   "source": [
    "df = pd.read_csv('datasets\\\\Global_terrorist.csv', encoding='ISO-8859-1')"
   ]
  },
  {
   "cell_type": "code",
   "execution_count": 22,
   "id": "b54d601b-0b95-4902-b301-786fbd02cb3e",
   "metadata": {},
   "outputs": [
    {
     "data": {
      "text/html": [
       "<div>\n",
       "<style scoped>\n",
       "    .dataframe tbody tr th:only-of-type {\n",
       "        vertical-align: middle;\n",
       "    }\n",
       "\n",
       "    .dataframe tbody tr th {\n",
       "        vertical-align: top;\n",
       "    }\n",
       "\n",
       "    .dataframe thead th {\n",
       "        text-align: right;\n",
       "    }\n",
       "</style>\n",
       "<table border=\"1\" class=\"dataframe\">\n",
       "  <thead>\n",
       "    <tr style=\"text-align: right;\">\n",
       "      <th></th>\n",
       "      <th>eventid</th>\n",
       "      <th>iyear</th>\n",
       "      <th>imonth</th>\n",
       "      <th>iday</th>\n",
       "      <th>approxdate</th>\n",
       "      <th>extended</th>\n",
       "      <th>resolution</th>\n",
       "      <th>country</th>\n",
       "      <th>country_txt</th>\n",
       "      <th>region</th>\n",
       "      <th>...</th>\n",
       "      <th>addnotes</th>\n",
       "      <th>scite1</th>\n",
       "      <th>scite2</th>\n",
       "      <th>scite3</th>\n",
       "      <th>dbsource</th>\n",
       "      <th>INT_LOG</th>\n",
       "      <th>INT_IDEO</th>\n",
       "      <th>INT_MISC</th>\n",
       "      <th>INT_ANY</th>\n",
       "      <th>related</th>\n",
       "    </tr>\n",
       "  </thead>\n",
       "  <tbody>\n",
       "    <tr>\n",
       "      <th>0</th>\n",
       "      <td>197000000001</td>\n",
       "      <td>1970</td>\n",
       "      <td>7</td>\n",
       "      <td>2</td>\n",
       "      <td>NaN</td>\n",
       "      <td>0</td>\n",
       "      <td>NaN</td>\n",
       "      <td>58</td>\n",
       "      <td>Dominican Republic</td>\n",
       "      <td>2</td>\n",
       "      <td>...</td>\n",
       "      <td>NaN</td>\n",
       "      <td>NaN</td>\n",
       "      <td>NaN</td>\n",
       "      <td>NaN</td>\n",
       "      <td>PGIS</td>\n",
       "      <td>0</td>\n",
       "      <td>0</td>\n",
       "      <td>0</td>\n",
       "      <td>0</td>\n",
       "      <td>NaN</td>\n",
       "    </tr>\n",
       "    <tr>\n",
       "      <th>1</th>\n",
       "      <td>197000000002</td>\n",
       "      <td>1970</td>\n",
       "      <td>0</td>\n",
       "      <td>0</td>\n",
       "      <td>NaN</td>\n",
       "      <td>0</td>\n",
       "      <td>NaN</td>\n",
       "      <td>130</td>\n",
       "      <td>Mexico</td>\n",
       "      <td>1</td>\n",
       "      <td>...</td>\n",
       "      <td>NaN</td>\n",
       "      <td>NaN</td>\n",
       "      <td>NaN</td>\n",
       "      <td>NaN</td>\n",
       "      <td>PGIS</td>\n",
       "      <td>0</td>\n",
       "      <td>1</td>\n",
       "      <td>1</td>\n",
       "      <td>1</td>\n",
       "      <td>NaN</td>\n",
       "    </tr>\n",
       "    <tr>\n",
       "      <th>2</th>\n",
       "      <td>197001000001</td>\n",
       "      <td>1970</td>\n",
       "      <td>1</td>\n",
       "      <td>0</td>\n",
       "      <td>NaN</td>\n",
       "      <td>0</td>\n",
       "      <td>NaN</td>\n",
       "      <td>160</td>\n",
       "      <td>Philippines</td>\n",
       "      <td>5</td>\n",
       "      <td>...</td>\n",
       "      <td>NaN</td>\n",
       "      <td>NaN</td>\n",
       "      <td>NaN</td>\n",
       "      <td>NaN</td>\n",
       "      <td>PGIS</td>\n",
       "      <td>-9</td>\n",
       "      <td>-9</td>\n",
       "      <td>1</td>\n",
       "      <td>1</td>\n",
       "      <td>NaN</td>\n",
       "    </tr>\n",
       "    <tr>\n",
       "      <th>3</th>\n",
       "      <td>197001000002</td>\n",
       "      <td>1970</td>\n",
       "      <td>1</td>\n",
       "      <td>0</td>\n",
       "      <td>NaN</td>\n",
       "      <td>0</td>\n",
       "      <td>NaN</td>\n",
       "      <td>78</td>\n",
       "      <td>Greece</td>\n",
       "      <td>8</td>\n",
       "      <td>...</td>\n",
       "      <td>NaN</td>\n",
       "      <td>NaN</td>\n",
       "      <td>NaN</td>\n",
       "      <td>NaN</td>\n",
       "      <td>PGIS</td>\n",
       "      <td>-9</td>\n",
       "      <td>-9</td>\n",
       "      <td>1</td>\n",
       "      <td>1</td>\n",
       "      <td>NaN</td>\n",
       "    </tr>\n",
       "    <tr>\n",
       "      <th>4</th>\n",
       "      <td>197001000003</td>\n",
       "      <td>1970</td>\n",
       "      <td>1</td>\n",
       "      <td>0</td>\n",
       "      <td>NaN</td>\n",
       "      <td>0</td>\n",
       "      <td>NaN</td>\n",
       "      <td>101</td>\n",
       "      <td>Japan</td>\n",
       "      <td>4</td>\n",
       "      <td>...</td>\n",
       "      <td>NaN</td>\n",
       "      <td>NaN</td>\n",
       "      <td>NaN</td>\n",
       "      <td>NaN</td>\n",
       "      <td>PGIS</td>\n",
       "      <td>-9</td>\n",
       "      <td>-9</td>\n",
       "      <td>1</td>\n",
       "      <td>1</td>\n",
       "      <td>NaN</td>\n",
       "    </tr>\n",
       "    <tr>\n",
       "      <th>...</th>\n",
       "      <td>...</td>\n",
       "      <td>...</td>\n",
       "      <td>...</td>\n",
       "      <td>...</td>\n",
       "      <td>...</td>\n",
       "      <td>...</td>\n",
       "      <td>...</td>\n",
       "      <td>...</td>\n",
       "      <td>...</td>\n",
       "      <td>...</td>\n",
       "      <td>...</td>\n",
       "      <td>...</td>\n",
       "      <td>...</td>\n",
       "      <td>...</td>\n",
       "      <td>...</td>\n",
       "      <td>...</td>\n",
       "      <td>...</td>\n",
       "      <td>...</td>\n",
       "      <td>...</td>\n",
       "      <td>...</td>\n",
       "      <td>...</td>\n",
       "    </tr>\n",
       "    <tr>\n",
       "      <th>181686</th>\n",
       "      <td>201712310022</td>\n",
       "      <td>2017</td>\n",
       "      <td>12</td>\n",
       "      <td>31</td>\n",
       "      <td>NaN</td>\n",
       "      <td>0</td>\n",
       "      <td>NaN</td>\n",
       "      <td>182</td>\n",
       "      <td>Somalia</td>\n",
       "      <td>11</td>\n",
       "      <td>...</td>\n",
       "      <td>NaN</td>\n",
       "      <td>\"Somalia: Al-Shabaab Militants Attack Army Che...</td>\n",
       "      <td>\"Highlights: Somalia Daily Media Highlights 2 ...</td>\n",
       "      <td>\"Highlights: Somalia Daily Media Highlights 1 ...</td>\n",
       "      <td>START Primary Collection</td>\n",
       "      <td>0</td>\n",
       "      <td>0</td>\n",
       "      <td>0</td>\n",
       "      <td>0</td>\n",
       "      <td>NaN</td>\n",
       "    </tr>\n",
       "    <tr>\n",
       "      <th>181687</th>\n",
       "      <td>201712310029</td>\n",
       "      <td>2017</td>\n",
       "      <td>12</td>\n",
       "      <td>31</td>\n",
       "      <td>NaN</td>\n",
       "      <td>0</td>\n",
       "      <td>NaN</td>\n",
       "      <td>200</td>\n",
       "      <td>Syria</td>\n",
       "      <td>10</td>\n",
       "      <td>...</td>\n",
       "      <td>NaN</td>\n",
       "      <td>\"Putin's 'victory' in Syria has turned into a ...</td>\n",
       "      <td>\"Two Russian soldiers killed at Hmeymim base i...</td>\n",
       "      <td>\"Two Russian servicemen killed in Syria mortar...</td>\n",
       "      <td>START Primary Collection</td>\n",
       "      <td>-9</td>\n",
       "      <td>-9</td>\n",
       "      <td>1</td>\n",
       "      <td>1</td>\n",
       "      <td>NaN</td>\n",
       "    </tr>\n",
       "    <tr>\n",
       "      <th>181688</th>\n",
       "      <td>201712310030</td>\n",
       "      <td>2017</td>\n",
       "      <td>12</td>\n",
       "      <td>31</td>\n",
       "      <td>NaN</td>\n",
       "      <td>0</td>\n",
       "      <td>NaN</td>\n",
       "      <td>160</td>\n",
       "      <td>Philippines</td>\n",
       "      <td>5</td>\n",
       "      <td>...</td>\n",
       "      <td>NaN</td>\n",
       "      <td>\"Maguindanao clashes trap tribe members,\" Phil...</td>\n",
       "      <td>NaN</td>\n",
       "      <td>NaN</td>\n",
       "      <td>START Primary Collection</td>\n",
       "      <td>0</td>\n",
       "      <td>0</td>\n",
       "      <td>0</td>\n",
       "      <td>0</td>\n",
       "      <td>NaN</td>\n",
       "    </tr>\n",
       "    <tr>\n",
       "      <th>181689</th>\n",
       "      <td>201712310031</td>\n",
       "      <td>2017</td>\n",
       "      <td>12</td>\n",
       "      <td>31</td>\n",
       "      <td>NaN</td>\n",
       "      <td>0</td>\n",
       "      <td>NaN</td>\n",
       "      <td>92</td>\n",
       "      <td>India</td>\n",
       "      <td>6</td>\n",
       "      <td>...</td>\n",
       "      <td>NaN</td>\n",
       "      <td>\"Trader escapes grenade attack in Imphal,\" Bus...</td>\n",
       "      <td>NaN</td>\n",
       "      <td>NaN</td>\n",
       "      <td>START Primary Collection</td>\n",
       "      <td>-9</td>\n",
       "      <td>-9</td>\n",
       "      <td>0</td>\n",
       "      <td>-9</td>\n",
       "      <td>NaN</td>\n",
       "    </tr>\n",
       "    <tr>\n",
       "      <th>181690</th>\n",
       "      <td>201712310032</td>\n",
       "      <td>2017</td>\n",
       "      <td>12</td>\n",
       "      <td>31</td>\n",
       "      <td>NaN</td>\n",
       "      <td>0</td>\n",
       "      <td>NaN</td>\n",
       "      <td>160</td>\n",
       "      <td>Philippines</td>\n",
       "      <td>5</td>\n",
       "      <td>...</td>\n",
       "      <td>NaN</td>\n",
       "      <td>\"Security tightened in Cotabato following IED ...</td>\n",
       "      <td>\"Security tightened in Cotabato City,\" Manila ...</td>\n",
       "      <td>NaN</td>\n",
       "      <td>START Primary Collection</td>\n",
       "      <td>-9</td>\n",
       "      <td>-9</td>\n",
       "      <td>0</td>\n",
       "      <td>-9</td>\n",
       "      <td>NaN</td>\n",
       "    </tr>\n",
       "  </tbody>\n",
       "</table>\n",
       "<p>181691 rows × 135 columns</p>\n",
       "</div>"
      ],
      "text/plain": [
       "             eventid  iyear  imonth  iday approxdate  extended resolution  \\\n",
       "0       197000000001   1970       7     2        NaN         0        NaN   \n",
       "1       197000000002   1970       0     0        NaN         0        NaN   \n",
       "2       197001000001   1970       1     0        NaN         0        NaN   \n",
       "3       197001000002   1970       1     0        NaN         0        NaN   \n",
       "4       197001000003   1970       1     0        NaN         0        NaN   \n",
       "...              ...    ...     ...   ...        ...       ...        ...   \n",
       "181686  201712310022   2017      12    31        NaN         0        NaN   \n",
       "181687  201712310029   2017      12    31        NaN         0        NaN   \n",
       "181688  201712310030   2017      12    31        NaN         0        NaN   \n",
       "181689  201712310031   2017      12    31        NaN         0        NaN   \n",
       "181690  201712310032   2017      12    31        NaN         0        NaN   \n",
       "\n",
       "        country         country_txt  region  ... addnotes  \\\n",
       "0            58  Dominican Republic       2  ...      NaN   \n",
       "1           130              Mexico       1  ...      NaN   \n",
       "2           160         Philippines       5  ...      NaN   \n",
       "3            78              Greece       8  ...      NaN   \n",
       "4           101               Japan       4  ...      NaN   \n",
       "...         ...                 ...     ...  ...      ...   \n",
       "181686      182             Somalia      11  ...      NaN   \n",
       "181687      200               Syria      10  ...      NaN   \n",
       "181688      160         Philippines       5  ...      NaN   \n",
       "181689       92               India       6  ...      NaN   \n",
       "181690      160         Philippines       5  ...      NaN   \n",
       "\n",
       "                                                   scite1  \\\n",
       "0                                                     NaN   \n",
       "1                                                     NaN   \n",
       "2                                                     NaN   \n",
       "3                                                     NaN   \n",
       "4                                                     NaN   \n",
       "...                                                   ...   \n",
       "181686  \"Somalia: Al-Shabaab Militants Attack Army Che...   \n",
       "181687  \"Putin's 'victory' in Syria has turned into a ...   \n",
       "181688  \"Maguindanao clashes trap tribe members,\" Phil...   \n",
       "181689  \"Trader escapes grenade attack in Imphal,\" Bus...   \n",
       "181690  \"Security tightened in Cotabato following IED ...   \n",
       "\n",
       "                                                   scite2  \\\n",
       "0                                                     NaN   \n",
       "1                                                     NaN   \n",
       "2                                                     NaN   \n",
       "3                                                     NaN   \n",
       "4                                                     NaN   \n",
       "...                                                   ...   \n",
       "181686  \"Highlights: Somalia Daily Media Highlights 2 ...   \n",
       "181687  \"Two Russian soldiers killed at Hmeymim base i...   \n",
       "181688                                                NaN   \n",
       "181689                                                NaN   \n",
       "181690  \"Security tightened in Cotabato City,\" Manila ...   \n",
       "\n",
       "                                                   scite3  \\\n",
       "0                                                     NaN   \n",
       "1                                                     NaN   \n",
       "2                                                     NaN   \n",
       "3                                                     NaN   \n",
       "4                                                     NaN   \n",
       "...                                                   ...   \n",
       "181686  \"Highlights: Somalia Daily Media Highlights 1 ...   \n",
       "181687  \"Two Russian servicemen killed in Syria mortar...   \n",
       "181688                                                NaN   \n",
       "181689                                                NaN   \n",
       "181690                                                NaN   \n",
       "\n",
       "                        dbsource  INT_LOG  INT_IDEO INT_MISC INT_ANY  related  \n",
       "0                           PGIS        0         0        0       0      NaN  \n",
       "1                           PGIS        0         1        1       1      NaN  \n",
       "2                           PGIS       -9        -9        1       1      NaN  \n",
       "3                           PGIS       -9        -9        1       1      NaN  \n",
       "4                           PGIS       -9        -9        1       1      NaN  \n",
       "...                          ...      ...       ...      ...     ...      ...  \n",
       "181686  START Primary Collection        0         0        0       0      NaN  \n",
       "181687  START Primary Collection       -9        -9        1       1      NaN  \n",
       "181688  START Primary Collection        0         0        0       0      NaN  \n",
       "181689  START Primary Collection       -9        -9        0      -9      NaN  \n",
       "181690  START Primary Collection       -9        -9        0      -9      NaN  \n",
       "\n",
       "[181691 rows x 135 columns]"
      ]
     },
     "execution_count": 22,
     "metadata": {},
     "output_type": "execute_result"
    }
   ],
   "source": [
    "df"
   ]
  },
  {
   "cell_type": "markdown",
   "id": "8179d4ce-c5c2-4c1f-a2e3-2deec2628d2a",
   "metadata": {},
   "source": [
    "<h1>REGIONAL ANALYSIS</h1>"
   ]
  },
  {
   "cell_type": "markdown",
   "id": "03c6f261-6d60-4228-b202-05aa89f93723",
   "metadata": {},
   "source": [
    "<h2>Filtering Data</h2>"
   ]
  },
  {
   "cell_type": "code",
   "execution_count": 4,
   "id": "79564666-1cc2-4412-849d-89d48934451e",
   "metadata": {},
   "outputs": [],
   "source": [
    "filter1 = df[df['region_txt'] == 'Middle East & North Africa'] #50k"
   ]
  },
  {
   "cell_type": "code",
   "execution_count": 5,
   "id": "92c02a98-86f1-4c6f-943b-db0609977815",
   "metadata": {},
   "outputs": [],
   "source": [
    "filter2 = filter1[filter1['attacktype1_txt'] == 'Bombing/Explosion'] #30k"
   ]
  },
  {
   "cell_type": "code",
   "execution_count": 6,
   "id": "571b2e58-6841-44fc-bc76-d32b0908a91e",
   "metadata": {},
   "outputs": [],
   "source": [
    "filter3 = filter2[filter2['iyear'] >= 2005] #26k"
   ]
  },
  {
   "cell_type": "code",
   "execution_count": 7,
   "id": "adc76ecc-eef0-48bc-be10-875fa76de8ab",
   "metadata": {},
   "outputs": [],
   "source": [
    "filter4 = filter3[filter3['nkill'] >= 10]"
   ]
  },
  {
   "cell_type": "markdown",
   "id": "29efdf71-9c09-403e-a7b5-7b715419a744",
   "metadata": {},
   "source": [
    "<h2>Data Aggregation</h2>"
   ]
  },
  {
   "cell_type": "code",
   "execution_count": 8,
   "id": "ed7be197-3909-4696-b62a-5f490f223c8d",
   "metadata": {},
   "outputs": [
    {
     "data": {
      "text/html": [
       "<div>\n",
       "<style scoped>\n",
       "    .dataframe tbody tr th:only-of-type {\n",
       "        vertical-align: middle;\n",
       "    }\n",
       "\n",
       "    .dataframe tbody tr th {\n",
       "        vertical-align: top;\n",
       "    }\n",
       "\n",
       "    .dataframe thead th {\n",
       "        text-align: right;\n",
       "    }\n",
       "</style>\n",
       "<table border=\"1\" class=\"dataframe\">\n",
       "  <thead>\n",
       "    <tr style=\"text-align: right;\">\n",
       "      <th></th>\n",
       "      <th>latitude</th>\n",
       "      <th>longitude</th>\n",
       "      <th>incident_count</th>\n",
       "    </tr>\n",
       "  </thead>\n",
       "  <tbody>\n",
       "    <tr>\n",
       "      <th>0</th>\n",
       "      <td>12.743795</td>\n",
       "      <td>44.843678</td>\n",
       "      <td>1</td>\n",
       "    </tr>\n",
       "    <tr>\n",
       "      <th>1</th>\n",
       "      <td>12.760069</td>\n",
       "      <td>44.890266</td>\n",
       "      <td>1</td>\n",
       "    </tr>\n",
       "    <tr>\n",
       "      <th>2</th>\n",
       "      <td>12.825647</td>\n",
       "      <td>44.846416</td>\n",
       "      <td>11</td>\n",
       "    </tr>\n",
       "    <tr>\n",
       "      <th>3</th>\n",
       "      <td>12.832581</td>\n",
       "      <td>45.027071</td>\n",
       "      <td>1</td>\n",
       "    </tr>\n",
       "    <tr>\n",
       "      <th>4</th>\n",
       "      <td>12.867085</td>\n",
       "      <td>44.981911</td>\n",
       "      <td>6</td>\n",
       "    </tr>\n",
       "    <tr>\n",
       "      <th>...</th>\n",
       "      <td>...</td>\n",
       "      <td>...</td>\n",
       "      <td>...</td>\n",
       "    </tr>\n",
       "    <tr>\n",
       "      <th>498</th>\n",
       "      <td>38.720489</td>\n",
       "      <td>35.482597</td>\n",
       "      <td>1</td>\n",
       "    </tr>\n",
       "    <tr>\n",
       "      <th>499</th>\n",
       "      <td>39.798509</td>\n",
       "      <td>32.805613</td>\n",
       "      <td>1</td>\n",
       "    </tr>\n",
       "    <tr>\n",
       "      <th>500</th>\n",
       "      <td>39.916839</td>\n",
       "      <td>44.044637</td>\n",
       "      <td>1</td>\n",
       "    </tr>\n",
       "    <tr>\n",
       "      <th>501</th>\n",
       "      <td>39.930771</td>\n",
       "      <td>32.767540</td>\n",
       "      <td>3</td>\n",
       "    </tr>\n",
       "    <tr>\n",
       "      <th>502</th>\n",
       "      <td>41.106178</td>\n",
       "      <td>28.689863</td>\n",
       "      <td>6</td>\n",
       "    </tr>\n",
       "  </tbody>\n",
       "</table>\n",
       "<p>503 rows × 3 columns</p>\n",
       "</div>"
      ],
      "text/plain": [
       "      latitude  longitude  incident_count\n",
       "0    12.743795  44.843678               1\n",
       "1    12.760069  44.890266               1\n",
       "2    12.825647  44.846416              11\n",
       "3    12.832581  45.027071               1\n",
       "4    12.867085  44.981911               6\n",
       "..         ...        ...             ...\n",
       "498  38.720489  35.482597               1\n",
       "499  39.798509  32.805613               1\n",
       "500  39.916839  44.044637               1\n",
       "501  39.930771  32.767540               3\n",
       "502  41.106178  28.689863               6\n",
       "\n",
       "[503 rows x 3 columns]"
      ]
     },
     "execution_count": 8,
     "metadata": {},
     "output_type": "execute_result"
    }
   ],
   "source": [
    "terror_loc1 = filter4.groupby(['latitude', 'longitude']).size().reset_index(name = 'incident_count')\n",
    "terror_loc1"
   ]
  },
  {
   "cell_type": "markdown",
   "id": "545ed400-460f-41e3-bfb7-9df4931fedcb",
   "metadata": {},
   "source": [
    "<h1>Use of FOLIUM FOR GEOSPATIAL</h1>"
   ]
  },
  {
   "cell_type": "markdown",
   "id": "be574509-721a-4d14-bd3e-5db08595513b",
   "metadata": {},
   "source": [
    "<h3> Converting Pandas Data Frame into Python List</h3>"
   ]
  },
  {
   "cell_type": "code",
   "execution_count": 9,
   "id": "8e89d87c-0d8b-400a-9409-c50a20f043cc",
   "metadata": {},
   "outputs": [],
   "source": [
    "#OPTIONAL, for clearer view for the Geospatial Map\n",
    "\n",
    "terror_loc1[\"normalize_data\"] = terror_loc1['incident_count'] - terror_loc1['incident_count'].min() / \\\n",
    "                                terror_loc1['incident_count'].max() - terror_loc1['incident_count']\n",
    "\n",
    "#geospatial folium data should be formatted as a list\n",
    "\n",
    "terror_loc_list1 = terror_loc1[['latitude', 'longitude', 'incident_count']].values.tolist()"
   ]
  },
  {
   "cell_type": "markdown",
   "id": "652dcbdb-deed-4bbf-9100-065e5c02a16d",
   "metadata": {},
   "source": [
    "<h3> Creating a base map </h3>"
   ]
  },
  {
   "cell_type": "code",
   "execution_count": 10,
   "id": "dfe208a1-6600-4df3-8504-e38ac200c6d4",
   "metadata": {},
   "outputs": [],
   "source": [
    "my_map1 = folium.Map(location = [28, 30], zoom_start = 4)"
   ]
  },
  {
   "cell_type": "markdown",
   "id": "c5103ddd-b3ed-4c5f-ace6-073d515f20a1",
   "metadata": {},
   "source": [
    "<h3> Add Heatmap Layer </h3>"
   ]
  },
  {
   "cell_type": "code",
   "execution_count": 11,
   "id": "0e494afd-9795-454c-a57e-26e9344748ff",
   "metadata": {},
   "outputs": [
    {
     "data": {
      "text/plain": [
       "<folium.plugins.heat_map.HeatMap at 0x216164b1e40>"
      ]
     },
     "execution_count": 11,
     "metadata": {},
     "output_type": "execute_result"
    }
   ],
   "source": [
    "HeatMap(terror_loc_list1).add_to(my_map1)"
   ]
  },
  {
   "cell_type": "code",
   "execution_count": 12,
   "id": "c56e303c-3cef-457a-a1be-4ea4aeff38ea",
   "metadata": {},
   "outputs": [
    {
     "name": "stdout",
     "output_type": "stream",
     "text": [
      "data save to regional_analysis.html\n"
     ]
    }
   ],
   "source": [
    "my_map1.save('regional_analysis.html')\n",
    "print(\"data save to regional_analysis.html\")"
   ]
  },
  {
   "cell_type": "markdown",
   "id": "836811a2-f741-4f68-8e6e-d0b6591d2d74",
   "metadata": {},
   "source": [
    "<h2>Calling the map</h2>"
   ]
  },
  {
   "cell_type": "code",
   "execution_count": 13,
   "id": "33f622de-9e25-4e00-b857-5494bdce95d9",
   "metadata": {},
   "outputs": [
    {
     "data": {
      "text/html": [
       "<div style=\"width:100%;\"><div style=\"position:relative;width:100%;height:0;padding-bottom:60%;\"><span style=\"color:#565656\">Make this Notebook Trusted to load map: File -> Trust Notebook</span><iframe srcdoc=\"&lt;!DOCTYPE html&gt;\n",
       "&lt;html&gt;\n",
       "&lt;head&gt;\n",
       "    \n",
       "    &lt;meta http-equiv=&quot;content-type&quot; content=&quot;text/html; charset=UTF-8&quot; /&gt;\n",
       "    \n",
       "        &lt;script&gt;\n",
       "            L_NO_TOUCH = false;\n",
       "            L_DISABLE_3D = false;\n",
       "        &lt;/script&gt;\n",
       "    \n",
       "    &lt;style&gt;html, body {width: 100%;height: 100%;margin: 0;padding: 0;}&lt;/style&gt;\n",
       "    &lt;style&gt;#map {position:absolute;top:0;bottom:0;right:0;left:0;}&lt;/style&gt;\n",
       "    &lt;script src=&quot;https://cdn.jsdelivr.net/npm/leaflet@1.9.3/dist/leaflet.js&quot;&gt;&lt;/script&gt;\n",
       "    &lt;script src=&quot;https://code.jquery.com/jquery-3.7.1.min.js&quot;&gt;&lt;/script&gt;\n",
       "    &lt;script src=&quot;https://cdn.jsdelivr.net/npm/bootstrap@5.2.2/dist/js/bootstrap.bundle.min.js&quot;&gt;&lt;/script&gt;\n",
       "    &lt;script src=&quot;https://cdnjs.cloudflare.com/ajax/libs/Leaflet.awesome-markers/2.0.2/leaflet.awesome-markers.js&quot;&gt;&lt;/script&gt;\n",
       "    &lt;link rel=&quot;stylesheet&quot; href=&quot;https://cdn.jsdelivr.net/npm/leaflet@1.9.3/dist/leaflet.css&quot;/&gt;\n",
       "    &lt;link rel=&quot;stylesheet&quot; href=&quot;https://cdn.jsdelivr.net/npm/bootstrap@5.2.2/dist/css/bootstrap.min.css&quot;/&gt;\n",
       "    &lt;link rel=&quot;stylesheet&quot; href=&quot;https://netdna.bootstrapcdn.com/bootstrap/3.0.0/css/bootstrap-glyphicons.css&quot;/&gt;\n",
       "    &lt;link rel=&quot;stylesheet&quot; href=&quot;https://cdn.jsdelivr.net/npm/@fortawesome/fontawesome-free@6.2.0/css/all.min.css&quot;/&gt;\n",
       "    &lt;link rel=&quot;stylesheet&quot; href=&quot;https://cdnjs.cloudflare.com/ajax/libs/Leaflet.awesome-markers/2.0.2/leaflet.awesome-markers.css&quot;/&gt;\n",
       "    &lt;link rel=&quot;stylesheet&quot; href=&quot;https://cdn.jsdelivr.net/gh/python-visualization/folium/folium/templates/leaflet.awesome.rotate.min.css&quot;/&gt;\n",
       "    \n",
       "            &lt;meta name=&quot;viewport&quot; content=&quot;width=device-width,\n",
       "                initial-scale=1.0, maximum-scale=1.0, user-scalable=no&quot; /&gt;\n",
       "            &lt;style&gt;\n",
       "                #map_75466f611e633d66030e4d12ebca36a4 {\n",
       "                    position: relative;\n",
       "                    width: 100.0%;\n",
       "                    height: 100.0%;\n",
       "                    left: 0.0%;\n",
       "                    top: 0.0%;\n",
       "                }\n",
       "                .leaflet-container { font-size: 1rem; }\n",
       "            &lt;/style&gt;\n",
       "        \n",
       "    &lt;script src=&quot;https://cdn.jsdelivr.net/gh/python-visualization/folium@main/folium/templates/leaflet_heat.min.js&quot;&gt;&lt;/script&gt;\n",
       "&lt;/head&gt;\n",
       "&lt;body&gt;\n",
       "    \n",
       "    \n",
       "            &lt;div class=&quot;folium-map&quot; id=&quot;map_75466f611e633d66030e4d12ebca36a4&quot; &gt;&lt;/div&gt;\n",
       "        \n",
       "&lt;/body&gt;\n",
       "&lt;script&gt;\n",
       "    \n",
       "    \n",
       "            var map_75466f611e633d66030e4d12ebca36a4 = L.map(\n",
       "                &quot;map_75466f611e633d66030e4d12ebca36a4&quot;,\n",
       "                {\n",
       "                    center: [28.0, 30.0],\n",
       "                    crs: L.CRS.EPSG3857,\n",
       "                    ...{\n",
       "  &quot;zoom&quot;: 4,\n",
       "  &quot;zoomControl&quot;: true,\n",
       "  &quot;preferCanvas&quot;: false,\n",
       "}\n",
       "\n",
       "                }\n",
       "            );\n",
       "\n",
       "            \n",
       "\n",
       "        \n",
       "    \n",
       "            var tile_layer_19c4dbc69a630211034e9b1d58be9d3c = L.tileLayer(\n",
       "                &quot;https://tile.openstreetmap.org/{z}/{x}/{y}.png&quot;,\n",
       "                {\n",
       "  &quot;minZoom&quot;: 0,\n",
       "  &quot;maxZoom&quot;: 19,\n",
       "  &quot;maxNativeZoom&quot;: 19,\n",
       "  &quot;noWrap&quot;: false,\n",
       "  &quot;attribution&quot;: &quot;\\u0026copy; \\u003ca href=\\&quot;https://www.openstreetmap.org/copyright\\&quot;\\u003eOpenStreetMap\\u003c/a\\u003e contributors&quot;,\n",
       "  &quot;subdomains&quot;: &quot;abc&quot;,\n",
       "  &quot;detectRetina&quot;: false,\n",
       "  &quot;tms&quot;: false,\n",
       "  &quot;opacity&quot;: 1,\n",
       "}\n",
       "\n",
       "            );\n",
       "        \n",
       "    \n",
       "            tile_layer_19c4dbc69a630211034e9b1d58be9d3c.addTo(map_75466f611e633d66030e4d12ebca36a4);\n",
       "        \n",
       "    \n",
       "            var heat_map_6f6392d01f71e6ed550b70d58fda4509 = L.heatLayer(\n",
       "                [[12.743795, 44.843678, 1.0], [12.760069, 44.890266, 1.0], [12.825647, 44.846416, 11.0], [12.832581, 45.027071, 1.0], [12.867085, 44.981911, 6.0], [13.057842, 44.883283, 1.0], [13.063399, 44.880882, 2.0], [13.129726, 45.385571, 3.0], [13.206995, 44.758297, 1.0], [13.219398, 45.307838, 3.0], [13.272575, 44.271331, 1.0], [13.357599, 45.69648, 3.0], [13.413117, 43.637531, 1.0], [13.413319, 43.627508, 1.0], [13.574698, 44.010392, 1.0], [13.586484, 44.024105, 8.0], [13.702663, 44.73357, 1.0], [13.703256, 44.733454, 1.0], [13.733333, 44.666667, 1.0], [13.834537, 45.244948, 1.0], [13.887403, 45.863647, 4.0], [13.962564, 45.467466, 1.0], [13.967151, 44.165426, 1.0], [13.985013, 45.558479, 1.0], [14.326655, 47.447216, 2.0], [14.413989, 44.837418, 2.0], [14.515319, 44.852594, 1.0], [14.533333, 49.133333, 1.0], [14.54397, 49.12458, 8.0], [14.781294, 42.972851, 1.0], [14.881758, 49.146743, 1.0], [15.113846, 45.881134, 1.0], [15.141161, 48.357219, 1.0], [15.189627, 46.001341, 1.0], [15.316891, 44.474802, 1.0], [15.325443, 44.211895, 20.0], [15.416983, 45.081879, 2.0], [15.45639, 45.324871, 3.0], [15.515888, 45.449807, 1.0], [15.566652, 45.787139, 1.0], [15.666667, 43.95, 1.0], [15.8275, 44.793889, 1.0], [15.840202, 48.45438, 1.0], [15.921257, 48.636382, 1.0], [16.133333, 47.233333, 1.0], [16.165407, 44.776897, 1.0], [16.19005, 42.882414, 1.0], [16.199874, 44.408998, 1.0], [16.249994, 45.478097, 1.0], [16.917494, 43.762409, 1.0], [17.060139, 43.599369, 1.0], [18.223461, 42.526051, 1.0], [26.079255, 61.753754, 1.0], [26.554785, 50.004524, 1.0], [27.058452, 27.969925, 1.0], [27.915557, 34.329886, 1.0], [28.509136, 34.513634, 1.0], [29.347702, 47.94912, 1.0], [29.483576, 60.862701, 3.0], [29.591325, 52.58361, 1.0], [29.831976, 31.337257, 1.0], [30.022924, 31.185192, 1.0], [30.084629, 31.334314, 2.0], [30.169854, 34.173178, 1.0], [30.376924, 47.714458, 1.0], [30.510054, 47.778095, 10.0], [30.608472, 33.617577, 1.0], [30.652376, 46.81062, 1.0], [30.699335, 33.644714, 1.0], [30.762296, 29.696268, 1.0], [30.787678, 30.999529, 1.0], [30.886219, 34.076081, 1.0], [30.99614, 34.247173, 1.0], [31.016779, 33.008587, 1.0], [31.039309, 31.379664, 1.0], [31.044371, 46.261452, 3.0], [31.080795, 33.638188, 1.0], [31.113592, 45.883691, 1.0], [31.126646, 33.800865, 5.0], [31.135535, 45.861207, 1.0], [31.197586, 16.586681, 2.0], [31.19829, 29.899403, 1.0], [31.211645, 34.110425, 1.0], [31.212225, 34.117065, 3.0], [31.250196, 34.24128, 1.0], [31.300213, 45.277092, 2.0], [31.395836, 15.724736, 1.0], [31.448914, 15.256008, 1.0], [31.633333, -8.0, 1.0], [31.848217, 47.145203, 2.0], [31.945864, 40.452624, 1.0], [31.950001, 35.933331, 3.0], [31.98958, 44.923775, 2.0], [32.000596, 44.330818, 2.0], [32.032916, 44.399648, 3.0], [32.063988, 12.691492, 1.0], [32.069286, 20.151144, 7.0], [32.08297, 34.811886, 1.0], [32.094952, 20.268871, 1.0], [32.325195, 44.918747, 2.0], [32.407892, 14.622688, 1.0], [32.42202, 20.451099, 1.0], [32.469238, 44.416637, 26.0], [32.472147, 43.516361, 1.0], [32.533287, 45.829453, 4.0], [32.537552, 41.921997, 1.0], [32.559761, 41.919647, 4.0], [32.565084, 43.490958, 1.0], [32.568889, 36.315278, 1.0], [32.598736, 44.010626, 1.0], [32.604393, 44.007145, 11.0], [32.622334, 36.103756, 3.0], [32.674366, 36.056892, 1.0], [32.696985, 36.398428, 1.0], [32.709763, 36.567642, 1.0], [32.711067, 36.026836, 1.0], [32.74815, 39.027969, 1.0], [32.762238, 22.241188, 2.0], [32.777344, 44.289352, 11.0], [32.8, 12.9, 1.0], [32.834137, 36.156742, 1.0], [32.835648, 35.970169, 1.0], [32.867008, 44.220455, 2.0], [32.867867, 13.189067, 4.0], [32.874886, 44.281016, 1.0], [32.887157, 44.341637, 4.0], [32.901872, 45.077846, 1.0], [32.910708, 45.06299, 1.0], [32.925266, 44.770956, 1.0], [32.929936, 44.779564, 1.0], [32.962402, 36.076488, 1.0], [32.982933, 44.361595, 2.0], [33.036022, 40.288158, 3.0], [33.038056, 40.284444, 1.0], [33.057991, 44.354839, 7.0], [33.07835, 44.254719, 1.0], [33.100529, 44.584492, 1.0], [33.117836, 44.369362, 1.0], [33.126944, 35.825796, 1.0], [33.163559, 43.863106, 8.0], [33.223114, 44.540776, 1.0], [33.247181, 44.025452, 3.0], [33.255924, 43.839542, 1.0], [33.271403, 44.493661, 1.0], [33.278425, 43.946356, 1.0], [33.280891, 35.829319, 1.0], [33.287345, 44.319487, 4.0], [33.3, 44.4, 1.0], [33.303566, 44.371773, 367.0], [33.31065, 44.038208, 7.0], [33.312738, 43.78092, 1.0], [33.325054, 38.659325, 1.0], [33.34077, 43.821672, 1.0], [33.349159, 43.784199, 23.0], [33.35, 43.783333, 1.0], [33.354051, 43.845054, 1.0], [33.375365, 43.891302, 1.0], [33.375759, 44.702866, 4.0], [33.380455, 43.916641, 1.0], [33.382431, 43.587631, 2.0], [33.393642, 42.849487, 1.0], [33.397812, 43.706276, 4.0], [33.401699, 44.357658, 1.0], [33.403057, 43.911865, 12.0], [33.412674, 43.710224, 1.0], [33.414598, 43.455254, 1.0], [33.416667, 43.3, 2.0], [33.41735, 43.623861, 1.0], [33.417362, 43.804871, 1.0], [33.419822, 43.298471, 1.0], [33.420948, 43.295662, 63.0], [33.428314, 44.345453, 1.0], [33.431899, 43.311566, 1.0], [33.433811, 38.922878, 1.0], [33.435279, 43.281158, 1.0], [33.435532, 36.295208, 1.0], [33.436207, 36.080795, 1.0], [33.440707, 43.969894, 1.0], [33.446476, 36.334499, 6.0], [33.447155, 43.340736, 1.0], [33.448437, 43.26757, 1.0], [33.449772, 43.29578, 1.0], [33.453312, 43.372253, 1.0], [33.456459, 43.392872, 3.0], [33.460819, 44.157433, 1.0], [33.468018, 43.327589, 1.0], [33.469318, 43.224907, 1.0], [33.470512, 44.393494, 1.0], [33.484396, 36.268508, 1.0], [33.484444, 36.377289, 1.0], [33.488998, 36.346882, 4.0], [33.489437, 43.275142, 1.0], [33.509269, 44.235478, 1.0], [33.5111, 36.3064, 1.0], [33.515244, 36.292084, 34.0], [33.522137, 43.098385, 1.0], [33.527649, 36.392296, 1.0], [33.530734, 44.274292, 1.0], [33.540672, 44.251266, 12.0], [33.542351, 44.365334, 1.0], [33.548306, 44.415733, 2.0], [33.555773, 44.599672, 1.0], [33.561504, 36.368763, 2.0], [33.573486, 44.547424, 1.0], [33.592064, 42.618965, 2.0], [33.60722, 36.314327, 1.0], [33.611455, 36.75523, 1.0], [33.617965, 44.572428, 1.0], [33.622993, 36.11203, 1.0], [33.633896, 42.832081, 6.0], [33.642502, 44.419117, 1.0], [33.6432, 36.690445, 1.0], [33.644765, 42.826424, 1.0], [33.668545, 39.967896, 1.0], [33.669689, 44.381317, 1.0], [33.683266, 43.473259, 8.0], [33.693409, 44.796085, 1.0], [33.693947, 45.067425, 7.0], [33.695694, 45.067169, 1.0], [33.699554, 45.083422, 1.0], [33.7, 42.216667, 1.0], [33.716995, 44.679516, 2.0], [33.74324, 44.623825, 26.0], [33.744999, 45.545616, 2.0], [33.755295, 36.388622, 1.0], [33.758388, 44.396591, 1.0], [33.770897, 44.624748, 1.0], [33.771944, 44.621667, 1.0], [33.773349, 45.14945, 1.0], [33.773349, 45.149451, 1.0], [33.784248, 44.50972, 2.0], [33.792582, 42.442936, 1.0], [33.794651, 44.892578, 1.0], [33.802006, 42.438267, 1.0], [33.835629, 44.247406, 2.0], [33.843471, 35.498738, 2.0], [33.8456, 42.553495, 1.0], [33.848618, 44.522125, 14.0], [33.861984, 35.489986, 2.0], [33.8625, 45.287222, 1.0], [33.864799, 42.536385, 8.0], [33.879803, 44.854084, 1.0], [33.888523, 35.503513, 3.0], [33.907707, 42.542435, 2.0], [33.918611, 44.921111, 1.0], [33.926586, 44.772064, 2.0], [33.953167, 44.921906, 12.0], [33.982013, 42.594834, 2.0], [33.997998, 44.066633, 1.0], [34.006023, 42.421604, 1.0], [34.010471, 44.148235, 7.0], [34.04, 44.82, 1.0], [34.055354, 44.548457, 1.0], [34.057114, 44.218292, 1.0], [34.085258, 42.360344, 1.0], [34.092655, 42.385468, 2.0], [34.097931, 36.770164, 1.0], [34.100723, 45.05196, 1.0], [34.10729, 43.895811, 1.0], [34.125729, 45.003342, 2.0], [34.147392, 45.129864, 1.0], [34.154213, 41.572376, 1.0], [34.160587, 42.37254, 9.0], [34.166004, 43.905515, 1.0], [34.192039, 42.497272, 1.0], [34.194717, 43.800671, 1.0], [34.198803, 43.873311, 1.0], [34.208416, 43.890713, 9.0], [34.227745, 37.244217, 4.0], [34.240378, 45.136952, 1.0], [34.266661, 42.528929, 1.0], [34.271034, 45.163567, 4.0], [34.275066, 44.537865, 1.0], [34.2901, 43.852592, 1.0], [34.347343, 45.383274, 5.0], [34.365089, 43.74522, 1.0], [34.367733, 41.985275, 1.0], [34.369167, 43.764167, 1.0], [34.373264, 43.76318, 1.0], [34.405209, 41.893338, 1.0], [34.41688, 41.09998, 1.0], [34.430836, 44.93409, 1.0], [34.438062, 35.830744, 2.0], [34.438094, 35.830837, 2.0], [34.443955, 35.854032, 1.0], [34.458889, 43.791004, 2.0], [34.474993, 41.905622, 1.0], [34.477619, 41.920773, 1.0], [34.533753, 43.483738, 2.0], [34.54906, 43.485533, 1.0], [34.558525, 38.293671, 2.0], [34.565, 44.515556, 1.0], [34.582001, 43.724945, 1.0], [34.621521, 43.668377, 17.0], [34.644722, 43.7, 1.0], [34.675551, 43.550642, 1.0], [34.680833, 4.096944, 1.0], [34.705948, 43.697075, 1.0], [34.715336, 36.255295, 1.0], [34.717705, 36.722824, 21.0], [34.722992, 37.046791, 1.0], [34.726269, 44.584908, 1.0], [34.790665, 44.662151, 1.0], [34.814651, 37.01833, 1.0], [34.834274, 37.324997, 1.0], [34.834415, 43.515133, 4.0], [34.857777, 40.575726, 1.0], [34.881348, 44.62513, 8.0], [34.895928, 35.886652, 2.0], [34.896112, 35.886553, 1.0], [34.8962, 43.808772, 1.0], [34.896351, 35.886443, 2.0], [34.896537, 43.812777, 1.0], [34.900948, 44.48682, 1.0], [34.92485, 43.491413, 13.0], [34.925064, 43.807106, 1.0], [34.925074, 43.809004, 1.0], [34.92832, 43.501463, 1.0], [34.943422, 43.496511, 1.0], [34.951523, 36.581963, 1.0], [34.992645, 43.719736, 1.0], [35.005104, 43.49686, 2.0], [35.009102, 43.356161, 1.0], [35.012791, 37.051506, 1.0], [35.015778, 40.455212, 1.0], [35.023304, 43.370753, 1.0], [35.0325, 43.646389, 1.0], [35.03415, 43.632833, 1.0], [35.068056, 36.888889, 1.0], [35.129181, 36.760738, 2.0], [35.135796, 37.020739, 1.0], [35.136112, 43.4225, 1.0], [35.172505, 43.377435, 1.0], [35.1782, 43.375203, 1.0], [35.188786, 37.211583, 1.0], [35.244621, 44.275486, 2.0], [35.283094, 40.170864, 1.0], [35.283155, 40.170828, 1.0], [35.28798, 40.308863, 1.0], [35.290483, 36.345111, 1.0], [35.303047, 44.329933, 1.0], [35.326122, 43.780811, 1.0], [35.329201, 43.943679, 1.0], [35.333061, 40.138737, 5.0], [35.361572, 35.927155, 4.0], [35.405506, 37.430546, 2.0], [35.413296, 36.33012, 1.0], [35.415855, 43.114769, 2.0], [35.435909, 44.382034, 1.0], [35.43811, 7.146648, 1.0], [35.442745, 42.393838, 1.0], [35.45211, 44.375465, 25.0], [35.464344, 40.669575, 1.0], [35.46979, 44.396337, 2.0], [35.48727, 43.240556, 1.0], [35.528404, 35.79232, 3.0], [35.55, 6.166667, 1.0], [35.563069, 42.730889, 1.0], [35.569427, 42.723026, 3.0], [35.574122, 42.728694, 1.0], [35.631498, 43.631421, 1.0], [35.647797, 36.675259, 2.0], [35.672932, 44.070145, 1.0], [35.688751, 36.135868, 1.0], [35.700397, 43.280434, 1.0], [35.7131, 43.29924, 1.0], [35.713863, 36.525666, 1.0], [35.724533, 51.40519, 1.0], [35.73494, 37.103072, 1.0], [35.758367, 43.12946, 1.0], [35.768353, 43.588966, 2.0], [35.771057, 43.362682, 1.0], [35.781292, 37.499214, 1.0], [35.797443, 43.593756, 1.0], [35.79813, 43.294178, 2.0], [35.813396, 36.319939, 1.0], [35.813972, 36.609917, 2.0], [35.827229, 43.389652, 1.0], [35.855245, 36.671186, 1.0], [35.868511, 36.804665, 1.0], [35.881389, 42.469444, 1.0], [35.904295, 43.058433, 1.0], [35.925894, 36.6519, 1.0], [35.928802, 36.631451, 5.0], [35.933333, 36.633333, 1.0], [35.944855, 42.564484, 2.0], [35.951523, 39.009563, 2.0], [35.958808, 38.999399, 1.0], [35.964956, 40.902176, 1.0], [35.96545, 38.041325, 1.0], [35.982761, 36.704647, 2.0], [35.990086, 36.677223, 1.0], [35.993954, 36.998383, 1.0], [36.01313, 36.673443, 1.0], [36.039722, 37.3075, 1.0], [36.06028, 41.29466, 1.0], [36.068785, 43.065456, 1.0], [36.072919, 1.988153, 1.0], [36.077754, 4.462888, 1.0], [36.115444, 37.049343, 1.0], [36.1789, 37.285795, 1.0], [36.183247, 41.591599, 1.0], [36.186638, 37.583084, 1.0], [36.187306, 42.224158, 1.0], [36.192589, 44.004623, 4.0], [36.201721, 37.14352, 44.0], [36.202354, 41.687168, 1.0], [36.206371, 42.749943, 2.0], [36.2065, 37.160027, 1.0], [36.207593, 43.19765, 1.0], [36.213078, 36.769512, 1.0], [36.214444, 43.041111, 1.0], [36.216213, 37.163826, 1.0], [36.228695, 43.105652, 2.0], [36.229574, 42.236244, 2.0], [36.237222, 42.8425, 1.0], [36.264221, 36.565708, 3.0], [36.266701, 37.203342, 1.0], [36.274412, 43.37751, 1.0], [36.278435, 37.085297, 1.0], [36.283566, 42.830044, 1.0], [36.28611, 5.60722, 1.0], [36.289417, 42.411853, 1.0], [36.310444, 36.689156, 3.0], [36.313854, 36.660312, 1.0], [36.3144, 41.8625, 1.0], [36.318344, 42.21035, 1.0], [36.319386, 41.861473, 4.0], [36.322256, 41.863909, 1.0], [36.322392, 41.860499, 1.0], [36.3225, 41.864167, 2.0], [36.341501, 43.137222, 1.0], [36.349444, 42.265556, 1.0], [36.354145, 43.14357, 68.0], [36.359535, 43.336533, 1.0], [36.362663, 37.012653, 1.0], [36.366199, 37.512276, 2.0], [36.374029, 42.451435, 1.0], [36.37489, 3.902, 2.0], [36.376823, 42.448875, 20.0], [36.377281, 36.993607, 1.0], [36.3825, 42.216667, 1.0], [36.38588, 38.863895, 1.0], [36.432888, 37.442127, 1.0], [36.434563, 43.158421, 4.0], [36.445278, 37.627222, 1.0], [36.447495, 43.351059, 1.0], [36.451707, 43.342042, 1.0], [36.469528, 42.670578, 2.0], [36.472965, 37.09436, 1.0], [36.482582, 37.197102, 1.0], [36.500431, 42.438282, 1.0], [36.503593, 40.740627, 14.0], [36.50589, 42.375995, 1.0], [36.508533, 42.842224, 1.0], [36.513023, 42.738479, 1.0], [36.521944, 37.041111, 1.0], [36.526708, 2.344489, 1.0], [36.52915, 37.951031, 1.0], [36.554444, 40.748056, 1.0], [36.562222, 3.594444, 2.0], [36.585438, 37.046921, 2.0], [36.58749, 38.301998, 1.0], [36.592364, 42.216808, 1.0], [36.618584, 37.076237, 2.0], [36.626314, 42.833867, 1.0], [36.630637, 37.085353, 1.0], [36.632677, 43.256512, 1.0], [36.657269, 40.37056, 1.0], [36.658461, 37.212777, 1.0], [36.672703, 3.809529, 1.0], [36.673926, 6.83876, 1.0], [36.695915, 38.946732, 1.0], [36.72398, 3.670848, 2.0], [36.749678, 41.59673, 1.0], [36.76321, 42.602535, 1.0], [36.763763, 3.055413, 3.0], [36.7652, 45.722417, 1.0], [36.803982, 42.093945, 1.0], [36.804388, 42.078573, 1.0], [36.807907, 42.071414, 1.0], [36.811427, 10.184214, 1.0], [36.81863, 38.011127, 2.0], [36.866618, 6.900388, 1.0], [36.886497, 38.350204, 1.0], [36.902183, 42.251461, 1.0], [36.919552, 3.891396, 1.0], [36.975594, 38.426399, 1.0], [37.05336, 41.227345, 3.0], [37.067631, 37.37315, 2.0], [37.294346, 43.673306, 1.0], [37.303442, 44.57696, 1.0], [37.332346, 42.185474, 1.0], [37.3402, 41.8934, 1.0], [37.370458, 44.041046, 1.0], [37.408323, 44.540277, 1.0], [37.474477, 42.709427, 1.0], [37.922218, 40.184376, 1.0], [38.720489, 35.482597, 1.0], [39.798509, 32.805613, 1.0], [39.916839, 44.044637, 1.0], [39.930771, 32.76754, 3.0], [41.106178, 28.689863, 6.0]],\n",
       "                {\n",
       "  &quot;minOpacity&quot;: 0.5,\n",
       "  &quot;maxZoom&quot;: 18,\n",
       "  &quot;radius&quot;: 25,\n",
       "  &quot;blur&quot;: 15,\n",
       "}\n",
       "            );\n",
       "        \n",
       "    \n",
       "            heat_map_6f6392d01f71e6ed550b70d58fda4509.addTo(map_75466f611e633d66030e4d12ebca36a4);\n",
       "        \n",
       "    \n",
       "            tile_layer_19c4dbc69a630211034e9b1d58be9d3c.addTo(map_75466f611e633d66030e4d12ebca36a4);\n",
       "        \n",
       "    \n",
       "            heat_map_6f6392d01f71e6ed550b70d58fda4509.addTo(map_75466f611e633d66030e4d12ebca36a4);\n",
       "        \n",
       "&lt;/script&gt;\n",
       "&lt;/html&gt;\" style=\"position:absolute;width:100%;height:100%;left:0;top:0;border:none !important;\" allowfullscreen webkitallowfullscreen mozallowfullscreen></iframe></div></div>"
      ],
      "text/plain": [
       "<folium.folium.Map at 0x216298e3dc0>"
      ]
     },
     "execution_count": 13,
     "metadata": {},
     "output_type": "execute_result"
    }
   ],
   "source": [
    "my_map1"
   ]
  },
  {
   "cell_type": "markdown",
   "id": "3ec8f613-fe76-4c3c-bf9a-eae3dd35ff06",
   "metadata": {},
   "source": [
    "<h1>Insight No. 1</h1>\n",
    "<h4>Between 2018 and 2022, bombing and explosion attacks remained common in Iraq, Syria, and Yemen, but Afghanistan and Libya saw a rise in incidents due to ongoing conflicts. After the U.S. withdrawal from Afghanistan in 2021, attacks targeting civilians increased, highlighting the continued threat of extremism and political instability in the region.</h4>"
   ]
  },
  {
   "cell_type": "markdown",
   "id": "3d821438-19cb-4e10-8b74-cc97d52223b6",
   "metadata": {},
   "source": [
    "<h1>NATIONALITY ANALYSIS</h1>"
   ]
  },
  {
   "cell_type": "markdown",
   "id": "818bbcb5-dfe6-451d-81ee-d0cad541217e",
   "metadata": {},
   "source": [
    "<h2>Filtering Data</h2>"
   ]
  },
  {
   "cell_type": "code",
   "execution_count": 14,
   "id": "b061faa6-641a-4d11-9378-c6865e6682e8",
   "metadata": {},
   "outputs": [],
   "source": [
    "filter5 = df[df['country_txt'] == 'Philippines'] "
   ]
  },
  {
   "cell_type": "code",
   "execution_count": 15,
   "id": "a6a686a3-c43e-4c85-a2a7-3e6a806ce7c9",
   "metadata": {},
   "outputs": [],
   "source": [
    "filter6 = filter5[filter5['natlty1_txt'] == 'Philippines']"
   ]
  },
  {
   "cell_type": "markdown",
   "id": "7a4c6871-002a-4dd8-86a4-c1fae24fdfae",
   "metadata": {},
   "source": [
    "<h2>Data Aggregation</h2>"
   ]
  },
  {
   "cell_type": "code",
   "execution_count": 16,
   "id": "9d79a051-5fe8-4241-bf3d-307ed33e1bca",
   "metadata": {},
   "outputs": [
    {
     "data": {
      "text/html": [
       "<div>\n",
       "<style scoped>\n",
       "    .dataframe tbody tr th:only-of-type {\n",
       "        vertical-align: middle;\n",
       "    }\n",
       "\n",
       "    .dataframe tbody tr th {\n",
       "        vertical-align: top;\n",
       "    }\n",
       "\n",
       "    .dataframe thead th {\n",
       "        text-align: right;\n",
       "    }\n",
       "</style>\n",
       "<table border=\"1\" class=\"dataframe\">\n",
       "  <thead>\n",
       "    <tr style=\"text-align: right;\">\n",
       "      <th></th>\n",
       "      <th>latitude</th>\n",
       "      <th>longitude</th>\n",
       "      <th>incident_count</th>\n",
       "    </tr>\n",
       "  </thead>\n",
       "  <tbody>\n",
       "    <tr>\n",
       "      <th>0</th>\n",
       "      <td>4.897277</td>\n",
       "      <td>119.848690</td>\n",
       "      <td>1</td>\n",
       "    </tr>\n",
       "    <tr>\n",
       "      <th>1</th>\n",
       "      <td>5.010223</td>\n",
       "      <td>119.747485</td>\n",
       "      <td>1</td>\n",
       "    </tr>\n",
       "    <tr>\n",
       "      <th>2</th>\n",
       "      <td>5.031979</td>\n",
       "      <td>119.772504</td>\n",
       "      <td>1</td>\n",
       "    </tr>\n",
       "    <tr>\n",
       "      <th>3</th>\n",
       "      <td>5.036097</td>\n",
       "      <td>120.226960</td>\n",
       "      <td>1</td>\n",
       "    </tr>\n",
       "    <tr>\n",
       "      <th>4</th>\n",
       "      <td>5.136910</td>\n",
       "      <td>119.945966</td>\n",
       "      <td>1</td>\n",
       "    </tr>\n",
       "    <tr>\n",
       "      <th>...</th>\n",
       "      <td>...</td>\n",
       "      <td>...</td>\n",
       "      <td>...</td>\n",
       "    </tr>\n",
       "    <tr>\n",
       "      <th>3877</th>\n",
       "      <td>18.467402</td>\n",
       "      <td>120.899587</td>\n",
       "      <td>1</td>\n",
       "    </tr>\n",
       "    <tr>\n",
       "      <th>3878</th>\n",
       "      <td>18.511551</td>\n",
       "      <td>120.644088</td>\n",
       "      <td>1</td>\n",
       "    </tr>\n",
       "    <tr>\n",
       "      <th>3879</th>\n",
       "      <td>18.537136</td>\n",
       "      <td>120.765284</td>\n",
       "      <td>2</td>\n",
       "    </tr>\n",
       "    <tr>\n",
       "      <th>3880</th>\n",
       "      <td>18.561630</td>\n",
       "      <td>121.231890</td>\n",
       "      <td>4</td>\n",
       "    </tr>\n",
       "    <tr>\n",
       "      <th>3881</th>\n",
       "      <td>18.561633</td>\n",
       "      <td>120.787087</td>\n",
       "      <td>2</td>\n",
       "    </tr>\n",
       "  </tbody>\n",
       "</table>\n",
       "<p>3882 rows × 3 columns</p>\n",
       "</div>"
      ],
      "text/plain": [
       "       latitude   longitude  incident_count\n",
       "0      4.897277  119.848690               1\n",
       "1      5.010223  119.747485               1\n",
       "2      5.031979  119.772504               1\n",
       "3      5.036097  120.226960               1\n",
       "4      5.136910  119.945966               1\n",
       "...         ...         ...             ...\n",
       "3877  18.467402  120.899587               1\n",
       "3878  18.511551  120.644088               1\n",
       "3879  18.537136  120.765284               2\n",
       "3880  18.561630  121.231890               4\n",
       "3881  18.561633  120.787087               2\n",
       "\n",
       "[3882 rows x 3 columns]"
      ]
     },
     "execution_count": 16,
     "metadata": {},
     "output_type": "execute_result"
    }
   ],
   "source": [
    "terror_loc2 = filter6.groupby(['latitude', 'longitude']).size().reset_index(name = 'incident_count')\n",
    "terror_loc2"
   ]
  },
  {
   "cell_type": "markdown",
   "id": "362b5bce-6336-49da-a12b-a50ef3f271e6",
   "metadata": {},
   "source": [
    "<h3> Converting Pandas Data Frame into Python List</h3>"
   ]
  },
  {
   "cell_type": "code",
   "execution_count": 17,
   "id": "39738e75-7078-4cac-a62d-7da2277ab69e",
   "metadata": {},
   "outputs": [],
   "source": [
    "#OPTIONAL, for clearer view for the Geospatial Map\n",
    "\n",
    "terror_loc2[\"normalize_data\"] = terror_loc2['incident_count'] - terror_loc2['incident_count'].min() / \\\n",
    "                                terror_loc2['incident_count'].max() - terror_loc2['incident_count']\n",
    "\n",
    "#geospatial folium data should be formatted as a list\n",
    "\n",
    "terror_loc_list2 = terror_loc2[['latitude', 'longitude', 'incident_count']].values.tolist()"
   ]
  },
  {
   "cell_type": "markdown",
   "id": "e913b658-43e3-41ba-83de-ce5476a08a8f",
   "metadata": {},
   "source": [
    "<h3> Creating a base map </h3>"
   ]
  },
  {
   "cell_type": "code",
   "execution_count": 23,
   "id": "c3490b7b-8f46-4ed7-a4dc-519487376af6",
   "metadata": {},
   "outputs": [],
   "source": [
    "my_map2 = folium.Map(location=[12.8797, 121.7740], zoom_start=5)"
   ]
  },
  {
   "cell_type": "markdown",
   "id": "5aea9b51-bb13-4ec4-97c6-d580d9334507",
   "metadata": {},
   "source": [
    "<h3> Add Heatmap Layer </h3>"
   ]
  },
  {
   "cell_type": "code",
   "execution_count": 24,
   "id": "568a99ae-af29-4aa8-bf13-80998fb70231",
   "metadata": {},
   "outputs": [
    {
     "data": {
      "text/plain": [
       "<folium.plugins.heat_map.HeatMap at 0x2164146d5d0>"
      ]
     },
     "execution_count": 24,
     "metadata": {},
     "output_type": "execute_result"
    }
   ],
   "source": [
    "HeatMap(terror_loc_list2).add_to(my_map2)"
   ]
  },
  {
   "cell_type": "code",
   "execution_count": 25,
   "id": "c36c3e0c-1bae-449e-9e14-44effc66c348",
   "metadata": {},
   "outputs": [
    {
     "name": "stdout",
     "output_type": "stream",
     "text": [
      "data save to nationality_analysis.html\n"
     ]
    }
   ],
   "source": [
    "my_map2.save('nationality_analysis.html')\n",
    "print(\"data save to nationality_analysis.html\")"
   ]
  },
  {
   "cell_type": "markdown",
   "id": "bf3df377-009a-4c9c-b952-6863dca6a080",
   "metadata": {},
   "source": [
    "<h2>Calling the map</h2>"
   ]
  },
  {
   "cell_type": "code",
   "execution_count": 26,
   "id": "fef39225-e576-43f2-bc3c-add5897f7499",
   "metadata": {},
   "outputs": [
    {
     "data": {
      "text/html": [
       "<div style=\"width:100%;\"><div style=\"position:relative;width:100%;height:0;padding-bottom:60%;\"><span style=\"color:#565656\">Make this Notebook Trusted to load map: File -> Trust Notebook</span><iframe srcdoc=\"&lt;!DOCTYPE html&gt;\n",
       "&lt;html&gt;\n",
       "&lt;head&gt;\n",
       "    \n",
       "    &lt;meta http-equiv=&quot;content-type&quot; content=&quot;text/html; charset=UTF-8&quot; /&gt;\n",
       "    \n",
       "        &lt;script&gt;\n",
       "            L_NO_TOUCH = false;\n",
       "            L_DISABLE_3D = false;\n",
       "        &lt;/script&gt;\n",
       "    \n",
       "    &lt;style&gt;html, body {width: 100%;height: 100%;margin: 0;padding: 0;}&lt;/style&gt;\n",
       "    &lt;style&gt;#map {position:absolute;top:0;bottom:0;right:0;left:0;}&lt;/style&gt;\n",
       "    &lt;script src=&quot;https://cdn.jsdelivr.net/npm/leaflet@1.9.3/dist/leaflet.js&quot;&gt;&lt;/script&gt;\n",
       "    &lt;script src=&quot;https://code.jquery.com/jquery-3.7.1.min.js&quot;&gt;&lt;/script&gt;\n",
       "    &lt;script src=&quot;https://cdn.jsdelivr.net/npm/bootstrap@5.2.2/dist/js/bootstrap.bundle.min.js&quot;&gt;&lt;/script&gt;\n",
       "    &lt;script src=&quot;https://cdnjs.cloudflare.com/ajax/libs/Leaflet.awesome-markers/2.0.2/leaflet.awesome-markers.js&quot;&gt;&lt;/script&gt;\n",
       "    &lt;link rel=&quot;stylesheet&quot; href=&quot;https://cdn.jsdelivr.net/npm/leaflet@1.9.3/dist/leaflet.css&quot;/&gt;\n",
       "    &lt;link rel=&quot;stylesheet&quot; href=&quot;https://cdn.jsdelivr.net/npm/bootstrap@5.2.2/dist/css/bootstrap.min.css&quot;/&gt;\n",
       "    &lt;link rel=&quot;stylesheet&quot; href=&quot;https://netdna.bootstrapcdn.com/bootstrap/3.0.0/css/bootstrap-glyphicons.css&quot;/&gt;\n",
       "    &lt;link rel=&quot;stylesheet&quot; href=&quot;https://cdn.jsdelivr.net/npm/@fortawesome/fontawesome-free@6.2.0/css/all.min.css&quot;/&gt;\n",
       "    &lt;link rel=&quot;stylesheet&quot; href=&quot;https://cdnjs.cloudflare.com/ajax/libs/Leaflet.awesome-markers/2.0.2/leaflet.awesome-markers.css&quot;/&gt;\n",
       "    &lt;link rel=&quot;stylesheet&quot; href=&quot;https://cdn.jsdelivr.net/gh/python-visualization/folium/folium/templates/leaflet.awesome.rotate.min.css&quot;/&gt;\n",
       "    \n",
       "            &lt;meta name=&quot;viewport&quot; content=&quot;width=device-width,\n",
       "                initial-scale=1.0, maximum-scale=1.0, user-scalable=no&quot; /&gt;\n",
       "            &lt;style&gt;\n",
       "                #map_156a52c627c6ef5f7e8b5cff45645c6a {\n",
       "                    position: relative;\n",
       "                    width: 100.0%;\n",
       "                    height: 100.0%;\n",
       "                    left: 0.0%;\n",
       "                    top: 0.0%;\n",
       "                }\n",
       "                .leaflet-container { font-size: 1rem; }\n",
       "            &lt;/style&gt;\n",
       "        \n",
       "    &lt;script src=&quot;https://cdn.jsdelivr.net/gh/python-visualization/folium@main/folium/templates/leaflet_heat.min.js&quot;&gt;&lt;/script&gt;\n",
       "&lt;/head&gt;\n",
       "&lt;body&gt;\n",
       "    \n",
       "    \n",
       "            &lt;div class=&quot;folium-map&quot; id=&quot;map_156a52c627c6ef5f7e8b5cff45645c6a&quot; &gt;&lt;/div&gt;\n",
       "        \n",
       "&lt;/body&gt;\n",
       "&lt;script&gt;\n",
       "    \n",
       "    \n",
       "            var map_156a52c627c6ef5f7e8b5cff45645c6a = L.map(\n",
       "                &quot;map_156a52c627c6ef5f7e8b5cff45645c6a&quot;,\n",
       "                {\n",
       "                    center: [12.8797, 121.774],\n",
       "                    crs: L.CRS.EPSG3857,\n",
       "                    ...{\n",
       "  &quot;zoom&quot;: 5,\n",
       "  &quot;zoomControl&quot;: true,\n",
       "  &quot;preferCanvas&quot;: false,\n",
       "}\n",
       "\n",
       "                }\n",
       "            );\n",
       "\n",
       "            \n",
       "\n",
       "        \n",
       "    \n",
       "            var tile_layer_c31278b3f9b8639819f7ce62551340bb = L.tileLayer(\n",
       "                &quot;https://tile.openstreetmap.org/{z}/{x}/{y}.png&quot;,\n",
       "                {\n",
       "  &quot;minZoom&quot;: 0,\n",
       "  &quot;maxZoom&quot;: 19,\n",
       "  &quot;maxNativeZoom&quot;: 19,\n",
       "  &quot;noWrap&quot;: false,\n",
       "  &quot;attribution&quot;: &quot;\\u0026copy; \\u003ca href=\\&quot;https://www.openstreetmap.org/copyright\\&quot;\\u003eOpenStreetMap\\u003c/a\\u003e contributors&quot;,\n",
       "  &quot;subdomains&quot;: &quot;abc&quot;,\n",
       "  &quot;detectRetina&quot;: false,\n",
       "  &quot;tms&quot;: false,\n",
       "  &quot;opacity&quot;: 1,\n",
       "}\n",
       "\n",
       "            );\n",
       "        \n",
       "    \n",
       "            tile_layer_c31278b3f9b8639819f7ce62551340bb.addTo(map_156a52c627c6ef5f7e8b5cff45645c6a);\n",
       "        \n",
       "    \n",
       "            var heat_map_8969ac03a8c7009a94f38f18ff64c75b = L.heatLayer(\n",
       "                [[4.897277, 119.84869, 1.0], [5.010223, 119.747485, 1.0], [5.031979, 119.772504, 1.0], [5.036097, 120.22696, 1.0], [5.13691, 119.945966, 1.0], [5.187162, 120.017867, 1.0], [5.205948, 120.053982, 1.0], [5.212823, 120.588623, 1.0], [5.269061, 120.079876, 3.0], [5.544054, 120.815636, 2.0], [5.546116, 120.818433, 3.0], [5.553923, 120.913233, 1.0], [5.697265, 125.289411, 1.0], [5.703998, 120.819268, 1.0], [5.77602, 125.354517, 1.0], [5.803388, 125.224235, 1.0], [5.819138, 121.165878, 1.0], [5.822439, 125.203366, 1.0], [5.856886, 125.006194, 1.0], [5.857693, 125.00422, 1.0], [5.86205, 124.996969, 1.0], [5.862281, 124.990597, 2.0], [5.864184, 124.996176, 1.0], [5.885282, 124.849465, 1.0], [5.888056, 124.82972, 1.0], [5.904939, 125.567551, 1.0], [5.912487, 120.906376, 1.0], [5.913349, 120.907287, 1.0], [5.9137, 120.9056, 3.0], [5.914707, 125.647183, 1.0], [5.917386, 120.99701, 1.0], [5.917619, 125.646401, 1.0], [5.917951, 125.647755, 1.0], [5.927787, 121.028412, 2.0], [5.928513, 121.027923, 2.0], [5.93293, 121.025525, 1.0], [5.933025, 121.100058, 1.0], [5.933101, 121.025107, 1.0], [5.933405, 121.033258, 1.0], [5.933636, 121.033467, 1.0], [5.933719, 120.999035, 1.0], [5.94255, 121.020864, 1.0], [5.942833, 120.923896, 1.0], [5.951583, 120.939646, 1.0], [5.952552, 121.168179, 1.0], [5.956833, 121.196044, 1.0], [5.960634, 120.961543, 1.0], [5.96147, 120.988483, 1.0], [5.965086, 121.070701, 1.0], [5.965263, 120.983076, 1.0], [5.966221, 125.285949, 1.0], [5.966235, 125.285262, 1.0], [5.966542, 125.285565, 1.0], [5.967238, 125.286134, 1.0], [5.968027, 121.035239, 1.0], [5.9684, 121.3122, 1.0], [5.969382, 121.044016, 1.0], [5.969808, 125.286941, 2.0], [5.97314, 120.950344, 1.0], [5.973409, 120.969826, 1.0], [5.9735, 120.9698, 3.0], [5.974901, 121.03351, 1.0], [5.975142, 121.114526, 2.0], [5.975499, 121.144835, 1.0], [5.976337, 121.223427, 1.0], [5.976427, 124.772642, 1.0], [5.977475, 121.115015, 2.0], [5.977477, 121.115016, 1.0], [5.97972, 121.054829, 1.0], [5.980065, 121.054069, 1.0], [5.980768, 121.215723, 1.0], [5.983339, 121.173449, 1.0], [5.986263, 121.041354, 1.0], [5.989123, 120.953132, 1.0], [5.989145, 120.953212, 1.0], [5.989446, 124.629173, 3.0], [5.995118, 124.743298, 1.0], [5.99627, 125.292393, 1.0], [6.00009, 120.966547, 1.0], [6.004444, 121.388611, 1.0], [6.005255, 121.308525, 1.0], [6.006386, 124.738083, 1.0], [6.012985, 124.593255, 1.0], [6.015738, 124.8252, 1.0], [6.016509, 120.992552, 1.0], [6.017535, 124.550206, 1.0], [6.019005, 121.121649, 1.0], [6.021834, 121.16568, 2.0], [6.02326, 121.091117, 1.0], [6.023487, 124.644225, 1.0], [6.023563, 124.825031, 1.0], [6.026667, 121.041667, 1.0], [6.027457, 121.046, 1.0], [6.030845, 121.046407, 1.0], [6.030861, 121.010221, 1.0], [6.03111, 120.99194, 1.0], [6.031285, 120.971924, 1.0], [6.033317, 120.947301, 1.0], [6.034726, 124.605189, 1.0], [6.036952, 121.037821, 1.0], [6.037169, 121.030406, 1.0], [6.037395, 121.039064, 1.0], [6.037483, 121.031254, 1.0], [6.04343, 120.994263, 5.0], [6.046389, 121.078056, 1.0], [6.046506, 121.008375, 1.0], [6.047448, 121.00131, 1.0], [6.048709, 121.029146, 1.0], [6.05, 124.916667, 1.0], [6.050458, 121.012245, 71.0], [6.050894, 120.993495, 1.0], [6.051232, 120.999851, 1.0], [6.052565, 121.146487, 1.0], [6.052979, 121.002479, 1.0], [6.053166, 121.042788, 1.0], [6.053554, 121.059576, 1.0], [6.053897, 121.002855, 1.0], [6.054022, 120.999705, 3.0], [6.05519, 121.001323, 8.0], [6.055578, 121.039629, 1.0], [6.056337, 121.055844, 1.0], [6.059196, 124.921614, 1.0], [6.060312, 124.495959, 1.0], [6.060563, 124.495675, 2.0], [6.060686, 124.495643, 1.0], [6.06132, 124.470025, 1.0], [6.063022, 121.101819, 1.0], [6.063022, 121.102294, 3.0], [6.063023, 121.102294, 1.0], [6.064029, 121.159058, 2.0], [6.066398, 121.099947, 1.0], [6.066456, 121.100121, 1.0], [6.066531, 121.100068, 1.0], [6.066546, 121.100221, 1.0], [6.066667, 121.1, 5.0], [6.066693, 121.100042, 2.0], [6.066797, 121.09839, 1.0], [6.066812, 121.100482, 1.0], [6.066868, 121.100121, 1.0], [6.067119, 121.100362, 1.0], [6.067685, 121.099724, 1.0], [6.068013, 121.100433, 1.0], [6.068085, 121.059917, 2.0], [6.06825, 124.487182, 1.0], [6.068398, 121.099529, 1.0], [6.068482, 121.034231, 1.0], [6.068588, 121.034669, 1.0], [6.069434, 121.032351, 1.0], [6.072413, 121.784209, 1.0], [6.074574, 121.134326, 2.0], [6.077377, 121.082137, 1.0], [6.079257, 121.057255, 1.0], [6.082966, 125.282669, 1.0], [6.083333, 125.283333, 1.0], [6.083364, 125.282522, 1.0], [6.084487, 121.085603, 1.0], [6.084952, 125.289016, 1.0], [6.08525, 125.272616, 1.0], [6.087954, 121.105416, 1.0], [6.088059, 121.099223, 1.0], [6.088221, 121.109329, 10.0], [6.089515, 121.105521, 1.0], [6.089647, 121.10537, 1.0], [6.094381, 125.418938, 1.0], [6.101481, 125.289746, 4.0], [6.10179, 125.29048, 1.0], [6.103948, 125.291403, 1.0], [6.11622, 125.169395, 41.0], [6.117505, 124.462395, 4.0], [6.118881, 125.169533, 1.0], [6.120132, 125.117342, 1.0], [6.125349, 125.07131, 1.0], [6.150281, 124.783888, 1.0], [6.151738, 125.227198, 1.0], [6.154806, 125.29006, 1.0], [6.185032, 125.346625, 1.0], [6.191554, 124.793732, 1.0], [6.198367, 124.832113, 1.0], [6.198377, 125.061314, 1.0], [6.2, 124.7333, 1.0], [6.213233, 124.697909, 1.0], [6.213642, 124.822629, 1.0], [6.216519, 124.20007, 1.0], [6.217648, 125.066793, 1.0], [6.217814, 125.065915, 1.0], [6.218368, 125.064406, 1.0], [6.218407, 125.069466, 1.0], [6.218717, 124.823228, 1.0], [6.219802, 125.063851, 1.0], [6.219977, 124.819924, 1.0], [6.224513, 125.060841, 1.0], [6.224521, 125.061266, 1.0], [6.228593, 125.065201, 1.0], [6.257165, 124.674124, 1.0], [6.287156, 125.504338, 1.0], [6.300549, 125.586062, 1.0], [6.30121, 120.573958, 1.0], [6.30158, 120.583999, 1.0], [6.301814, 120.583623, 1.0], [6.309924, 120.565896, 2.0], [6.312904, 125.551787, 1.0], [6.314022, 125.295122, 1.0], [6.31585, 125.014549, 1.0], [6.33, 124.95, 1.0], [6.332669, 125.264077, 1.0], [6.333312, 124.950048, 1.0], [6.333333, 124.95, 1.0], [6.334767, 124.953153, 3.0], [6.335757, 124.774079, 1.0], [6.368637, 124.74461, 1.0], [6.37378, 124.63818, 1.0], [6.373889, 124.746455, 1.0], [6.376309, 124.745975, 1.0], [6.378722, 125.573044, 1.0], [6.38139, 124.62944, 1.0], [6.382298, 124.898278, 1.0], [6.384302, 125.581593, 1.0], [6.388085, 124.795647, 1.0], [6.3884, 124.796146, 1.0], [6.390069, 124.801899, 1.0], [6.413029, 125.420269, 2.0], [6.416943, 121.9835, 1.0], [6.417717, 125.423121, 1.0], [6.41871, 121.972443, 17.0], [6.420622, 121.973513, 2.0], [6.424257, 125.4248, 1.0], [6.426872, 122.011242, 1.0], [6.431844, 124.67349, 1.0], [6.435997, 124.672939, 1.0], [6.437151, 124.674441, 2.0], [6.440039, 122.080475, 1.0], [6.440693, 121.958729, 1.0], [6.441898, 121.963071, 2.0], [6.443793, 124.927748, 1.0], [6.445373, 124.924468, 1.0], [6.445439, 124.927344, 1.0], [6.448534, 121.968092, 1.0], [6.451931, 121.947789, 1.0], [6.451944, 121.947778, 1.0], [6.453157, 125.038749, 1.0], [6.453607, 124.039766, 3.0], [6.453899, 121.948123, 1.0], [6.455771, 124.981569, 1.0], [6.459349, 124.321754, 1.0], [6.462973, 122.171072, 1.0], [6.463884, 124.861177, 1.0], [6.465728, 124.335947, 1.0], [6.471495, 124.936372, 1.0], [6.472241, 122.040186, 1.0], [6.473055, 125.007076, 1.0], [6.47313, 125.007456, 1.0], [6.473668, 125.006011, 1.0], [6.473787, 122.163853, 1.0], [6.474417, 122.105078, 1.0], [6.476541, 122.07951, 1.0], [6.4782, 125.10688, 1.0], [6.478327, 122.068188, 1.0], [6.482175, 122.165286, 1.0], [6.482311, 121.96159, 1.0], [6.482905, 122.015549, 2.0], [6.48299, 124.043541, 1.0], [6.483333, 125.066667, 1.0], [6.484444, 122.140556, 1.0], [6.486859, 121.913314, 1.0], [6.487222, 121.978333, 5.0], [6.489581, 122.069922, 1.0], [6.489666, 125.086816, 1.0], [6.490778, 121.972431, 1.0], [6.491326, 122.143443, 1.0], [6.491515, 122.141717, 1.0], [6.493148, 122.165911, 1.0], [6.4951, 121.978397, 1.0], [6.495387, 122.068013, 1.0], [6.497216, 122.105141, 6.0], [6.497656, 124.849655, 16.0], [6.498373, 122.069644, 1.0], [6.498904, 122.119897, 1.0], [6.500721, 124.84887, 1.0], [6.501934, 122.123761, 1.0], [6.501935, 122.123761, 1.0], [6.503613, 122.065841, 1.0], [6.505454, 122.030064, 1.0], [6.50694, 124.419824, 2.0], [6.508416, 124.855245, 1.0], [6.509646, 124.108599, 1.0], [6.516092, 124.825121, 1.0], [6.516151, 121.910015, 2.0], [6.517465, 121.986405, 1.0], [6.51792, 122.12822, 1.0], [6.51944, 125.04444, 1.0], [6.521944, 124.89, 1.0], [6.5225, 122.19194, 1.0], [6.524553, 122.011764, 1.0], [6.525257, 122.184538, 1.0], [6.529908, 121.910195, 1.0], [6.530828, 122.138972, 1.0], [6.532281, 121.998024, 1.0], [6.533565, 122.083748, 1.0], [6.533689, 122.166731, 1.0], [6.533878, 122.167001, 1.0], [6.533898, 122.166574, 1.0], [6.534351, 122.083873, 1.0], [6.534412, 124.137762, 1.0], [6.535859, 122.145976, 1.0], [6.536668, 122.167236, 2.0], [6.537, 124.562, 1.0], [6.537162, 122.163252, 4.0], [6.537222, 122.008611, 1.0], [6.537964, 121.890414, 1.0], [6.538583, 121.880355, 1.0], [6.538692, 124.567288, 1.0], [6.539273, 124.057789, 1.0], [6.539852, 121.872945, 1.0], [6.540136, 122.19189, 1.0], [6.540328, 121.881716, 1.0], [6.541362, 124.588394, 1.0], [6.545399, 121.873756, 5.0], [6.546997, 121.880423, 1.0], [6.549955, 121.883153, 1.0], [6.550086, 122.106468, 1.0], [6.550444, 122.106467, 3.0], [6.550446, 122.106467, 1.0], [6.550538, 122.115988, 1.0], [6.553544, 124.051706, 4.0], [6.553665, 125.469901, 1.0], [6.553711, 122.110009, 1.0], [6.553941, 122.154736, 1.0], [6.554114, 125.472715, 1.0], [6.556389, 122.186389, 1.0], [6.556828, 121.883449, 6.0], [6.563592, 122.116863, 1.0], [6.565287, 124.768543, 1.0], [6.570331, 122.05425, 1.0], [6.570558, 122.029527, 1.0], [6.570984, 124.761071, 1.0], [6.571205, 124.760888, 1.0], [6.571909, 124.758291, 1.0], [6.573504, 122.093866, 1.0], [6.575322, 122.024186, 1.0], [6.578069, 122.041484, 1.0], [6.578187, 122.031469, 1.0], [6.579619, 124.758259, 1.0], [6.581675, 122.179507, 2.0], [6.582166, 124.063018, 1.0], [6.582303, 122.179241, 1.0], [6.583669, 124.98903, 1.0], [6.587222, 125.1675, 1.0], [6.588132, 122.178193, 1.0], [6.596997, 121.907486, 1.0], [6.598449, 122.040153, 1.0], [6.599126, 121.903267, 1.0], [6.599405, 121.904057, 3.0], [6.600566, 124.849749, 1.0], [6.600683, 125.399056, 1.0], [6.601768, 122.17325, 1.0], [6.601844, 121.906967, 1.0], [6.605444, 122.171429, 1.0], [6.606469, 122.192254, 3.0], [6.606601, 122.214633, 1.0], [6.611512, 122.263054, 3.0], [6.61417, 125.236669, 1.0], [6.615473, 125.217184, 1.0], [6.616667, 125.216667, 2.0], [6.617372, 125.216648, 1.0], [6.618127, 122.249578, 1.0], [6.619005, 122.256968, 1.0], [6.619892, 122.186365, 1.0], [6.62139, 122.143825, 1.0], [6.621954, 124.571637, 1.0], [6.623353, 122.250348, 2.0], [6.62734, 125.235645, 1.0], [6.627778, 124.616389, 1.0], [6.629781, 126.077557, 1.0], [6.630015, 122.111817, 1.0], [6.631542, 124.597875, 1.0], [6.631667, 124.599745, 3.0], [6.631996, 124.60181, 1.0], [6.632111, 124.597764, 1.0], [6.632264, 124.597814, 2.0], [6.633353, 124.066667, 2.0], [6.633354, 124.066667, 1.0], [6.633477, 124.600515, 3.0], [6.633826, 124.067887, 1.0], [6.634298, 124.602363, 1.0], [6.634795, 124.605284, 1.0], [6.634893, 124.067264, 1.0], [6.634899, 125.082855, 1.0], [6.634938, 124.598033, 1.0], [6.635278, 124.975, 1.0], [6.637796, 124.599145, 4.0], [6.638867, 124.601746, 2.0], [6.64104, 122.157744, 1.0], [6.641574, 122.157351, 1.0], [6.642063, 122.156774, 1.0], [6.642103, 122.136596, 1.0], [6.642188, 122.135695, 1.0], [6.643113, 122.273422, 1.0], [6.643853, 122.156371, 1.0], [6.644421, 122.273133, 4.0], [6.644478, 124.596186, 1.0], [6.644703, 122.299491, 1.0], [6.644897, 122.099807, 1.0], [6.645308, 122.10184, 8.0], [6.645556, 122.101944, 8.0], [6.647275, 122.20513, 1.0], [6.64982, 122.133453, 1.0], [6.649966, 122.133527, 1.0], [6.649968, 122.133342, 1.0], [6.65197, 121.963683, 1.0], [6.652736, 122.10409, 1.0], [6.652801, 121.925547, 1.0], [6.652975, 122.135651, 1.0], [6.654902, 122.124129, 1.0], [6.654931, 124.979746, 1.0], [6.655411, 126.074136, 1.0], [6.656667, 121.966667, 1.0], [6.656903, 122.14467, 1.0], [6.658657, 122.191373, 1.0], [6.65877, 122.13411, 1.0], [6.660097, 122.139846, 1.0], [6.660501, 122.138992, 29.0], [6.660596, 122.144832, 1.0], [6.661519, 122.106467, 1.0], [6.66164, 122.106423, 1.0], [6.662166, 122.137866, 1.0], [6.663066, 124.626741, 1.0], [6.663711, 122.153789, 1.0], [6.664421, 122.185398, 1.0], [6.664973, 122.154736, 2.0], [6.665631, 121.983547, 1.0], [6.665758, 122.14076, 1.0], [6.665912, 122.154839, 1.0], [6.666573, 122.110539, 1.0], [6.669897, 122.160271, 1.0], [6.670716, 124.523985, 1.0], [6.672538, 121.851487, 1.0], [6.680243, 125.257566, 1.0], [6.681959, 121.985477, 24.0], [6.682694, 125.019975, 1.0], [6.684672, 124.961654, 1.0], [6.686417, 124.693267, 1.0], [6.687236, 124.672852, 1.0], [6.687535, 124.825, 1.0], [6.687595, 121.981334, 1.0], [6.687966, 124.678774, 9.0], [6.688284, 121.950077, 1.0], [6.688443, 124.676801, 1.0], [6.688453, 124.678773, 1.0], [6.688556, 124.678756, 1.0], [6.688606, 124.679962, 1.0], [6.689156, 124.675715, 1.0], [6.690122, 124.678582, 1.0], [6.690401, 122.136519, 1.0], [6.690864, 124.680783, 1.0], [6.694056, 124.661564, 1.0], [6.69651, 122.078771, 1.0], [6.697343, 125.082779, 14.0], [6.697466, 121.984545, 1.0], [6.697778, 122.049167, 1.0], [6.698899, 124.544875, 1.0], [6.7, 124.78333, 1.0], [6.700019, 124.733333, 1.0], [6.7001, 124.73288, 1.0], [6.700189, 124.783088, 1.0], [6.700403, 124.551895, 1.0], [6.700414, 121.972557, 43.0], [6.702104, 124.741539, 6.0], [6.702702, 121.968766, 1.0], [6.702776, 124.683416, 2.0], [6.703352, 121.968689, 6.0], [6.704221, 121.973842, 1.0], [6.704711, 125.212211, 1.0], [6.705001, 121.970605, 1.0], [6.705778, 121.972109, 5.0], [6.706409, 121.970784, 1.0], [6.706642, 121.973673, 1.0], [6.71223, 121.968883, 1.0], [6.717929, 124.527306, 1.0], [6.719264, 124.793365, 1.0], [6.719995, 124.795165, 1.0], [6.720228, 122.030205, 1.0], [6.720863, 124.521804, 1.0], [6.72158, 124.520505, 1.0], [6.721616, 124.794109, 1.0], [6.721638, 124.113104, 1.0], [6.723, 124.519996, 1.0], [6.723, 124.519997, 1.0], [6.723221, 124.519698, 2.0], [6.723456, 125.231846, 1.0], [6.723931, 125.150235, 1.0], [6.724792, 124.723148, 1.0], [6.727102, 124.529002, 1.0], [6.73058, 124.788544, 1.0], [6.732885, 125.349061, 1.0], [6.733946, 124.834342, 1.0], [6.741797, 122.398145, 1.0], [6.742624, 125.204618, 1.0], [6.743265, 124.801718, 1.0], [6.743267, 124.801695, 1.0], [6.743615, 124.867594, 1.0], [6.744295, 125.355626, 1.0], [6.744425, 124.867382, 1.0], [6.745776, 125.355762, 1.0], [6.746102, 124.868489, 1.0], [6.74806, 125.345666, 1.0], [6.748065, 125.262741, 2.0], [6.750046, 125.35626, 8.0], [6.752152, 125.243368, 1.0], [6.75235, 125.351378, 2.0], [6.752898, 125.356294, 1.0], [6.754633, 125.353094, 1.0], [6.755841, 125.351678, 1.0], [6.756915, 125.352953, 1.0], [6.757509, 125.352398, 1.0], [6.759496, 125.350978, 1.0], [6.764005, 124.375441, 3.0], [6.764201, 124.7313, 1.0], [6.766944, 124.85, 3.0], [6.767, 125.183, 1.0], [6.767153, 125.183237, 1.0], [6.767168, 125.182716, 1.0], [6.767308, 124.364521, 1.0], [6.767451, 124.389997, 1.0], [6.76949, 122.447187, 1.0], [6.770441, 125.243406, 1.0], [6.771603, 125.355757, 1.0], [6.778447, 124.476339, 1.0], [6.781093, 125.210871, 1.0], [6.782214, 124.931511, 1.0], [6.784057, 125.217967, 2.0], [6.785833, 124.964722, 1.0], [6.786284, 125.212718, 2.0], [6.79085, 125.205566, 1.0], [6.790861, 125.205552, 1.0], [6.790879, 125.20867, 2.0], [6.792552, 124.683752, 2.0], [6.795847, 124.91083, 1.0], [6.796989, 124.702591, 1.0], [6.79738, 124.702754, 1.0], [6.802292, 124.677007, 1.0], [6.804105, 124.634045, 1.0], [6.805128, 124.467588, 1.0], [6.805592, 124.466686, 1.0], [6.805967, 124.530684, 1.0], [6.80636, 124.469728, 1.0], [6.806943, 124.631206, 1.0], [6.810173, 124.793959, 1.0], [6.813138, 124.413442, 2.0], [6.813381, 124.413498, 3.0], [6.813901, 124.947252, 2.0], [6.815429, 125.3769, 1.0], [6.82306, 124.62222, 1.0], [6.825492, 124.753969, 1.0], [6.826642, 124.755249, 1.0], [6.828261, 124.884285, 1.0], [6.828339, 124.876978, 1.0], [6.828688, 124.8773, 1.0], [6.828821, 124.893574, 2.0], [6.829826, 124.876845, 1.0], [6.83014, 124.877041, 1.0], [6.830651, 124.877383, 1.0], [6.831221, 124.50716, 1.0], [6.831276, 124.877009, 2.0], [6.83155, 124.874207, 1.0], [6.831623, 124.883498, 1.0], [6.831959, 124.878863, 2.0], [6.832257, 125.176656, 1.0], [6.832785, 124.883412, 1.0], [6.832955, 124.884192, 1.0], [6.832987, 124.458858, 5.0], [6.833333, 124.883333, 2.0], [6.833577, 126.195725, 1.0], [6.833612, 124.456934, 1.0], [6.833801, 124.457502, 1.0], [6.835062, 125.15849, 1.0], [6.835083, 124.182884, 1.0], [6.836642, 125.414305, 1.0], [6.836912, 125.413349, 2.0], [6.845575, 126.295997, 1.0], [6.846821, 125.417152, 1.0], [6.85243, 124.39858, 1.0], [6.85308, 124.397636, 1.0], [6.854814, 124.144212, 1.0], [6.854844, 124.144303, 1.0], [6.854873, 124.144303, 1.0], [6.854959, 124.143995, 1.0], [6.855208, 124.446175, 1.0], [6.856384, 124.144478, 1.0], [6.860193, 124.442701, 1.0], [6.860234, 124.445006, 1.0], [6.860662, 124.44733, 1.0], [6.862806, 124.443649, 56.0], [6.862833, 124.445136, 5.0], [6.863236, 124.40839, 1.0], [6.863785, 124.492755, 1.0], [6.864212, 124.444306, 1.0], [6.864778, 124.44162, 2.0], [6.865416, 124.440557, 1.0], [6.866804, 124.466689, 2.0], [6.867004, 124.464393, 1.0], [6.867549, 124.436448, 1.0], [6.867985, 124.476389, 5.0], [6.868645, 124.441079, 2.0], [6.869831, 124.137199, 1.0], [6.873724, 124.468643, 1.0], [6.873793, 124.469186, 1.0], [6.873951, 125.449516, 1.0], [6.874875, 124.895325, 1.0], [6.875088, 124.896398, 1.0], [6.876083, 124.478043, 1.0], [6.880979, 124.49909, 1.0], [6.88165, 124.484012, 1.0], [6.881951, 124.48393, 1.0], [6.882128, 124.500791, 1.0], [6.883351, 124.408236, 1.0], [6.884419, 124.432354, 1.0], [6.884933, 124.407589, 1.0], [6.885039, 124.407472, 1.0], [6.8877, 124.49574, 1.0], [6.889578, 124.432344, 1.0], [6.892857, 124.6218, 3.0], [6.893056, 125.08, 1.0], [6.89333, 124.68333, 2.0], [6.893792, 122.167579, 1.0], [6.895545, 126.013997, 3.0], [6.89638, 126.010585, 1.0], [6.897369, 126.013088, 1.0], [6.898558, 124.476696, 1.0], [6.899544, 124.896226, 1.0], [6.900013, 124.516554, 2.0], [6.900742, 124.437908, 1.0], [6.901129, 124.473394, 1.0], [6.902441, 125.028148, 1.0], [6.905182, 124.446115, 1.0], [6.90528, 124.45222, 1.0], [6.905985, 124.496485, 1.0], [6.908157, 124.550297, 1.0], [6.908198, 124.549209, 1.0], [6.909338, 124.547457, 1.0], [6.909836, 124.549214, 1.0], [6.910664, 124.483509, 1.0], [6.910833, 124.550833, 1.0], [6.911132, 125.037632, 1.0], [6.912223, 124.453097, 2.0], [6.914668, 124.393387, 1.0], [6.915043, 125.156799, 1.0], [6.915517, 124.458557, 1.0], [6.916944, 125.086667, 1.0], [6.916991, 124.437178, 1.0], [6.917736, 124.328671, 1.0], [6.918611, 124.451944, 1.0], [6.919932, 124.453267, 1.0], [6.920296, 124.455954, 1.0], [6.920481, 124.453135, 1.0], [6.920833, 124.453333, 4.0], [6.920834, 124.453332, 1.0], [6.920955, 124.456524, 1.0], [6.921009, 124.550281, 1.0], [6.922453, 124.40202, 1.0], [6.92306, 125.155, 1.0], [6.923231, 123.969698, 1.0], [6.923432, 125.082859, 1.0], [6.9235, 124.512213, 1.0], [6.923761, 125.190422, 2.0], [6.924295, 124.512522, 1.0], [6.924377, 124.466085, 1.0], [6.924467, 126.280793, 1.0], [6.925951, 124.41541, 1.0], [6.926016, 124.413992, 1.0], [6.926251, 124.414984, 2.0], [6.926258, 124.415014, 4.0], [6.926648, 124.414942, 1.0], [6.926896, 124.415746, 1.0], [6.927408, 124.498084, 1.0], [6.927947, 124.441483, 1.0], [6.928043, 124.506165, 1.0], [6.928128, 124.536223, 1.0], [6.928333, 125.176389, 1.0], [6.929089, 122.07885, 161.0], [6.929306, 124.455527, 1.0], [6.930046, 124.487183, 1.0], [6.930363, 124.501736, 1.0], [6.93111, 124.505, 1.0], [6.931122, 124.511117, 1.0], [6.931313, 124.861802, 1.0], [6.931389, 125.184167, 1.0], [6.931459, 124.455658, 1.0], [6.932714, 124.330915, 1.0], [6.933292, 125.473539, 1.0], [6.933333, 124.333333, 2.0], [6.933508, 124.424167, 1.0], [6.933676, 124.424221, 1.0], [6.934167, 124.45, 1.0], [6.934777, 124.424028, 1.0], [6.93485, 124.42801, 1.0], [6.934897, 124.427381, 1.0], [6.935, 124.373056, 1.0], [6.935331, 124.405274, 2.0], [6.93569, 124.427242, 1.0], [6.935982, 124.450421, 1.0], [6.93631, 124.454241, 1.0], [6.936604, 124.470583, 1.0], [6.936669, 124.42565, 1.0], [6.936669, 124.425797, 2.0], [6.936973, 126.184539, 1.0], [6.937129, 124.429512, 1.0], [6.937622, 124.43042, 1.0], [6.938487, 124.514228, 1.0], [6.939164, 122.017017, 1.0], [6.939317, 122.07818, 1.0], [6.939993, 125.133485, 1.0], [6.940357, 125.12416, 1.0], [6.940622, 124.551469, 1.0], [6.94151, 124.41743, 2.0], [6.941653, 126.058523, 1.0], [6.941938, 124.50361, 1.0], [6.942258, 124.419823, 1.0], [6.942258, 124.419824, 11.0], [6.943763, 126.246748, 1.0], [6.943859, 124.419666, 3.0], [6.94389, 125.12944, 1.0], [6.945065, 124.41887, 1.0], [6.945171, 124.404513, 1.0], [6.945512, 124.406004, 1.0], [6.945555, 124.404073, 1.0], [6.946148, 124.878082, 1.0], [6.946206, 124.878099, 1.0], [6.946522, 125.108809, 1.0], [6.946661, 124.880331, 1.0], [6.946939, 124.87966, 1.0], [6.947032, 124.882797, 1.0], [6.947169, 124.882766, 1.0], [6.947558, 124.880492, 1.0], [6.948108, 125.159735, 1.0], [6.948344, 124.44111, 1.0], [6.949288, 124.884481, 2.0], [6.949318, 125.160178, 1.0], [6.94972, 124.86083, 1.0], [6.94985, 124.427234, 1.0], [6.949902, 125.101076, 1.0], [6.95, 125.05, 6.0], [6.950012, 124.883333, 5.0], [6.950278, 121.981389, 2.0], [6.950561, 125.049593, 1.0], [6.950745, 125.09852, 2.0], [6.950849, 124.448028, 1.0], [6.951292, 124.447787, 1.0], [6.951768, 124.448395, 1.0], [6.951779, 125.097475, 2.0], [6.951876, 126.216168, 2.0], [6.952762, 124.448538, 2.0], [6.952775, 125.096241, 1.0], [6.952799, 126.221104, 4.0], [6.952868, 126.224121, 2.0], [6.95288, 124.385927, 1.0], [6.953055, 126.21611, 1.0], [6.953512, 125.095724, 1.0], [6.954103, 124.386539, 1.0], [6.954823, 125.093991, 2.0], [6.955154, 124.446599, 1.0], [6.956701, 126.091775, 1.0], [6.956781, 124.445956, 1.0], [6.956804, 124.242556, 1.0], [6.95706, 124.444287, 1.0], [6.957127, 124.474408, 1.0], [6.957177, 124.444624, 1.0], [6.957222, 124.444444, 3.0], [6.957244, 124.444612, 1.0], [6.958175, 124.398279, 1.0], [6.959764, 124.39708, 1.0], [6.960019, 124.361388, 1.0], [6.961095, 122.143376, 1.0], [6.961375, 124.457534, 1.0], [6.962057, 121.949013, 1.0], [6.96212, 125.475492, 2.0], [6.962435, 125.087624, 1.0], [6.962814, 124.362645, 1.0], [6.963075, 125.083897, 1.0], [6.963264, 126.016094, 2.0], [6.964911, 124.453883, 1.0], [6.965833, 124.348056, 1.0], [6.965841, 125.084105, 2.0], [6.965996, 124.349538, 1.0], [6.966054, 124.348177, 1.0], [6.966173, 124.348699, 1.0], [6.966198, 124.498103, 1.0], [6.966715, 124.469906, 1.0], [6.966834, 124.453097, 1.0], [6.966983, 124.444409, 1.0], [6.967536, 124.500067, 1.0], [6.969241, 124.75207, 1.0], [6.969337, 122.248777, 1.0], [6.969691, 124.751026, 1.0], [6.97282, 124.630855, 2.0], [6.973009, 122.14654, 1.0], [6.976085, 124.481497, 1.0], [6.976311, 124.386043, 1.0], [6.976348, 124.482066, 1.0], [6.977611, 124.385367, 1.0], [6.978004, 124.387397, 1.0], [6.978049, 124.424422, 1.0], [6.978114, 124.384297, 1.0], [6.978356, 124.48324, 1.0], [6.978437, 125.420377, 1.0], [6.979245, 124.382941, 1.0], [6.980493, 124.383001, 1.0], [6.980556, 124.381944, 1.0], [6.980848, 124.482925, 4.0], [6.982138, 124.368282, 2.0], [6.983239, 125.038433, 1.0], [6.983685, 124.355759, 1.0], [6.983813, 124.384102, 1.0], [6.983953, 124.420664, 1.0], [6.984005, 124.332437, 1.0], [6.984251, 124.452176, 1.0], [6.986272, 124.445894, 1.0], [6.986543, 124.479103, 1.0], [6.987731, 125.271909, 1.0], [6.988958, 124.477051, 1.0], [6.989019, 125.321966, 1.0], [6.991315, 125.188379, 1.0], [6.991543, 124.407031, 1.0], [6.992231, 124.448448, 1.0], [6.993225, 124.456869, 1.0], [6.994835, 124.454996, 1.0], [6.996272, 124.44938, 2.0], [6.996481, 124.463562, 2.0], [6.996567, 124.705334, 1.0], [6.996749, 124.458611, 1.0], [6.997222, 124.583889, 1.0], [6.997793, 125.079419, 1.0], [6.998059, 124.458639, 1.0], [6.999754, 124.471625, 1.0], [7.000163, 124.485801, 1.0], [7.000378, 124.705095, 1.0], [7.00222, 124.453685, 1.0], [7.003271, 124.453097, 1.0], [7.004425, 124.577129, 1.0], [7.006906, 124.489635, 1.0], [7.008897, 124.326981, 1.0], [7.009218, 125.494197, 1.0], [7.009571, 124.488464, 1.0], [7.01, 124.1625, 1.0], [7.010241, 125.092208, 1.0], [7.01038, 124.161111, 1.0], [7.01061, 125.091134, 1.0], [7.010856, 125.089923, 3.0], [7.011302, 126.077368, 1.0], [7.012493, 125.091051, 1.0], [7.012594, 125.506754, 1.0], [7.012979, 125.098343, 1.0], [7.013493, 124.468822, 2.0], [7.01461, 125.990824, 1.0], [7.015484, 124.50523, 2.0], [7.016667, 124.7, 1.0], [7.017022, 124.893526, 1.0], [7.0171, 124.175444, 1.0], [7.017736, 124.545629, 1.0], [7.017805, 124.497441, 2.0], [7.017805, 124.497511, 1.0], [7.017999, 124.500099, 8.0], [7.018008, 124.493965, 1.0], [7.01801, 124.497466, 1.0], [7.018174, 124.562562, 1.0], [7.018486, 124.473881, 2.0], [7.019161, 124.500643, 1.0], [7.019503, 124.473724, 1.0], [7.020898, 125.091469, 24.0], [7.020909, 124.512391, 1.0], [7.024267, 122.188903, 1.0], [7.02449, 122.189302, 2.0], [7.024942, 124.498444, 9.0], [7.025226, 124.894579, 1.0], [7.025482, 124.562781, 1.0], [7.02556, 124.315, 7.0], [7.025703, 124.483579, 1.0], [7.026532, 122.188904, 1.0], [7.027034, 124.386539, 1.0], [7.027067, 124.386552, 1.0], [7.027705, 125.114258, 2.0], [7.028003, 124.169332, 1.0], [7.028058, 124.49845, 1.0], [7.029702, 124.500663, 3.0], [7.030248, 124.715122, 1.0], [7.031216, 124.16997, 1.0], [7.03147, 124.502671, 5.0], [7.0315, 124.375035, 1.0], [7.03333, 124.7, 1.0], [7.034701, 124.173153, 1.0], [7.035527, 124.498828, 1.0], [7.036581, 124.599275, 1.0], [7.036882, 126.099999, 1.0], [7.037414, 125.722009, 1.0], [7.037435, 118.511496, 1.0], [7.038127, 124.488622, 2.0], [7.040285, 124.626683, 1.0], [7.042418, 125.007119, 1.0], [7.0425, 124.169444, 1.0], [7.042777, 126.449221, 1.0], [7.043889, 124.500833, 1.0], [7.044589, 124.469979, 1.0], [7.044866, 125.50293, 1.0], [7.046425, 124.681815, 1.0], [7.046784, 124.634975, 1.0], [7.05, 124.67, 1.0], [7.050281, 124.63361, 2.0], [7.050292, 124.68843, 1.0], [7.050475, 124.634024, 1.0], [7.051825, 124.504635, 1.0], [7.051888, 124.724129, 1.0], [7.051969, 124.724173, 1.0], [7.052302, 124.674337, 1.0], [7.052476, 124.675168, 1.0], [7.052832, 124.674882, 1.0], [7.05296, 124.624261, 1.0], [7.053143, 124.61927, 1.0], [7.053599, 124.164783, 1.0], [7.05372, 124.673587, 1.0], [7.053765, 124.672095, 3.0], [7.053815, 124.673176, 1.0], [7.053851, 124.672016, 2.0], [7.053861, 124.672472, 1.0], [7.053941, 124.672642, 1.0], [7.054, 124.671997, 2.0], [7.054, 124.672, 6.0], [7.054007, 124.672, 1.0], [7.054216, 124.673096, 1.0], [7.054223, 124.671042, 1.0], [7.05441, 124.675925, 1.0], [7.054419, 124.673985, 1.0], [7.054666, 124.674481, 1.0], [7.054776, 124.676036, 3.0], [7.0548, 124.672276, 2.0], [7.054867, 124.67262, 1.0], [7.054944, 124.676876, 2.0], [7.054995, 124.672274, 1.0], [7.055286, 124.673972, 1.0], [7.055568, 124.671887, 1.0], [7.055901, 124.678316, 1.0], [7.056056, 124.697846, 1.0], [7.056318, 124.680812, 4.0], [7.056473, 124.700856, 2.0], [7.056504, 124.675009, 1.0], [7.057424, 124.678935, 1.0], [7.057721, 124.676801, 1.0], [7.058094, 124.701556, 1.0], [7.058128, 124.616189, 1.0], [7.059023, 124.503084, 1.0], [7.059925, 124.699954, 1.0], [7.059926, 124.509575, 1.0], [7.06, 124.98, 2.0], [7.062095, 124.968796, 1.0], [7.062429, 124.510817, 2.0], [7.064015, 125.087258, 1.0], [7.064122, 124.913323, 1.0], [7.064167, 125.468611, 1.0], [7.06465, 124.518743, 1.0], [7.065119, 124.519043, 1.0], [7.065261, 124.961053, 1.0], [7.067619, 124.737647, 1.0], [7.067748, 125.033156, 1.0], [7.069538, 122.207161, 3.0], [7.071425, 124.670445, 1.0], [7.072722, 124.670132, 1.0], [7.073259, 124.502837, 1.0], [7.073424, 124.606719, 1.0], [7.073914, 125.464452, 1.0], [7.074574, 124.668732, 1.0], [7.075335, 124.574201, 1.0], [7.075816, 124.849573, 1.0], [7.077981, 124.177179, 2.0], [7.078169, 125.951149, 2.0], [7.079003, 124.886312, 2.0], [7.08083, 124.56639, 1.0], [7.080833, 126.202946, 1.0], [7.080834, 124.523889, 1.0], [7.082431, 125.624401, 2.0], [7.083241, 125.600998, 97.0], [7.083333, 124.9, 3.0], [7.083386, 124.899953, 1.0], [7.084194, 124.900047, 2.0], [7.086205, 124.899047, 1.0], [7.086218, 124.901921, 3.0], [7.086243, 125.932717, 1.0], [7.087719, 124.900522, 1.0], [7.087835, 124.900924, 1.0], [7.087946, 124.652081, 1.0], [7.090009, 124.92002, 1.0], [7.090853, 124.657999, 1.0], [7.092213, 126.402383, 1.0], [7.0925, 124.64028, 1.0], [7.092595, 125.58175, 1.0], [7.093063, 124.224102, 1.0], [7.095389, 125.638534, 1.0], [7.096754, 121.903218, 1.0], [7.099262, 122.237204, 1.0], [7.099305, 125.418249, 1.0], [7.1, 124.766667, 2.0], [7.100113, 125.117035, 1.0], [7.100174, 125.116732, 1.0], [7.100287, 125.125998, 2.0], [7.101886, 125.122319, 1.0], [7.102509, 124.765038, 1.0], [7.104016, 125.130313, 1.0], [7.104324, 124.767869, 1.0], [7.104429, 125.126675, 1.0], [7.104604, 125.412635, 1.0], [7.104687, 125.124449, 1.0], [7.104767, 122.195979, 1.0], [7.104838, 124.730049, 1.0], [7.105662, 124.825577, 1.0], [7.10574, 124.768907, 1.0], [7.106, 126.176643, 3.0], [7.106342, 124.828162, 1.0], [7.106529, 125.119808, 1.0], [7.10677, 124.825838, 1.0], [7.106881, 124.829812, 1.0], [7.107018, 124.826681, 1.0], [7.107192, 124.840341, 1.0], [7.107222, 125.333889, 1.0], [7.10728, 124.827031, 1.0], [7.107355, 124.827773, 4.0], [7.107366, 124.825974, 2.0], [7.107481, 125.123356, 1.0], [7.1075, 125.9095, 1.0], [7.10756, 124.825512, 1.0], [7.107996, 124.82476, 1.0], [7.108047, 124.827433, 1.0], [7.108048, 124.825722, 1.0], [7.108102, 124.824128, 2.0], [7.108335, 125.038816, 5.0], [7.108473, 124.826464, 2.0], [7.108488, 124.826464, 1.0], [7.108539, 124.825905, 1.0], [7.108643, 124.826303, 1.0], [7.108959, 124.828119, 1.0], [7.108994, 124.826812, 4.0], [7.109069, 124.824772, 1.0], [7.109088, 125.48529, 1.0], [7.109277, 124.825247, 2.0], [7.109883, 124.824303, 7.0], [7.110633, 124.825607, 1.0], [7.111828, 124.824596, 5.0], [7.112214, 124.809737, 1.0], [7.112344, 124.828872, 1.0], [7.113008, 124.808432, 1.0], [7.11333, 124.805831, 1.0], [7.114018, 125.932122, 1.0], [7.11412, 124.808899, 2.0], [7.114136, 124.233883, 1.0], [7.114167, 125.045278, 1.0], [7.115391, 124.836625, 2.0], [7.115414, 124.83668, 1.0], [7.116167, 124.234647, 1.0], [7.116441, 126.174201, 1.0], [7.116489, 124.816659, 2.0], [7.116667, 124.383333, 1.0], [7.116667, 124.816667, 4.0], [7.116668, 125.116667, 1.0], [7.117042, 125.021423, 2.0], [7.117509, 126.174263, 1.0], [7.117515, 124.384527, 1.0], [7.117876, 124.38499, 1.0], [7.118334, 124.817434, 1.0], [7.118944, 124.817126, 1.0], [7.119097, 124.597462, 2.0], [7.119217, 124.597207, 1.0], [7.120194, 124.31689, 1.0], [7.121111, 124.7425, 1.0], [7.121334, 124.594231, 3.0], [7.122155, 124.308977, 1.0], [7.123938, 125.598768, 1.0], [7.124623, 124.396595, 1.0], [7.125031, 125.625952, 3.0], [7.125393, 125.619439, 1.0], [7.125629, 125.963396, 1.0], [7.128146, 124.590444, 1.0], [7.128161, 125.896379, 1.0], [7.1295, 124.563172, 1.0], [7.130171, 125.049507, 1.0], [7.130275, 125.948967, 1.0], [7.131007, 122.268829, 1.0], [7.131649, 124.524919, 1.0], [7.131818, 124.548895, 1.0], [7.131909, 124.526083, 1.0], [7.132235, 124.813499, 1.0], [7.132558, 125.489147, 1.0], [7.132618, 124.525609, 1.0], [7.133176, 125.894725, 1.0], [7.13333, 124.81667, 1.0], [7.133768, 125.948811, 1.0], [7.134066, 125.894222, 1.0], [7.134753, 125.893916, 2.0], [7.135539, 125.057363, 1.0], [7.137381, 124.530694, 1.0], [7.137387, 125.893873, 1.0], [7.138494, 125.931399, 1.0], [7.139815, 124.553118, 1.0], [7.140922, 124.545651, 1.0], [7.141785, 124.382019, 1.0], [7.146435, 124.282297, 1.0], [7.147222, 124.764167, 1.0], [7.1475, 125.103056, 1.0], [7.148057, 125.10643, 1.0], [7.148118, 124.471879, 1.0], [7.149184, 125.945636, 1.0], [7.149403, 125.376114, 1.0], [7.15, 125.95, 1.0], [7.150026, 125.949867, 1.0], [7.150033, 125.95, 1.0], [7.15139, 124.81583, 1.0], [7.151401, 124.81583, 1.0], [7.15167, 124.56833, 3.0], [7.1525, 124.923637, 1.0], [7.152539, 125.057015, 1.0], [7.152682, 125.054177, 1.0], [7.153167, 124.22117, 1.0], [7.153227, 124.498696, 1.0], [7.15389, 124.27139, 1.0], [7.154569, 124.497778, 1.0], [7.154816, 125.453954, 1.0], [7.155758, 125.054344, 2.0], [7.15857, 126.161615, 1.0], [7.159092, 124.576538, 3.0], [7.159193, 125.647819, 1.0], [7.159587, 124.214861, 1.0], [7.159972, 124.218699, 1.0], [7.160606, 125.09423, 1.0], [7.1609, 125.060841, 1.0], [7.161138, 124.215343, 1.0], [7.16202, 124.832426, 1.0], [7.162217, 124.215133, 1.0], [7.163015, 124.215696, 1.0], [7.163122, 125.574229, 1.0], [7.163575, 124.521675, 1.0], [7.165741, 124.517508, 2.0], [7.166937, 124.368333, 2.0], [7.169182, 125.893045, 1.0], [7.170699, 125.400308, 1.0], [7.17124, 125.894394, 1.0], [7.172751, 124.229664, 2.0], [7.174335, 125.374053, 1.0], [7.178492, 124.219625, 1.0], [7.179422, 124.219371, 1.0], [7.17967, 124.799108, 1.0], [7.179762, 124.220882, 1.0], [7.180006, 125.561423, 1.0], [7.18056, 124.22556, 1.0], [7.18109, 124.21273, 7.0], [7.181656, 124.225701, 2.0], [7.182325, 124.215714, 2.0], [7.182977, 124.225468, 1.0], [7.183068, 124.517938, 1.0], [7.184525, 125.095929, 1.0], [7.18478, 124.494066, 1.0], [7.185168, 125.516468, 1.0], [7.185673, 125.492409, 1.0], [7.18599, 125.54937, 1.0], [7.186399, 124.496541, 1.0], [7.18664, 124.536195, 1.0], [7.187706, 125.046388, 1.0], [7.187784, 124.53255, 1.0], [7.188107, 124.185708, 1.0], [7.188152, 125.045421, 1.0], [7.188319, 124.630411, 1.0], [7.188545, 124.532575, 3.0], [7.188705, 124.630266, 1.0], [7.188878, 124.631588, 1.0], [7.188889, 124.183889, 2.0], [7.188889, 124.183932, 1.0], [7.188889, 124.189389, 1.0], [7.188938, 124.630337, 4.0], [7.188989, 125.456432, 1.0], [7.189061, 124.184975, 1.0], [7.189181, 124.532497, 2.0], [7.18929, 124.631554, 1.0], [7.189447, 124.92525, 1.0], [7.189585, 124.534397, 2.0], [7.190014, 124.535248, 1.0], [7.190083, 124.632734, 1.0], [7.190093, 124.535703, 1.0], [7.190121, 124.536588, 1.0], [7.190309, 124.534906, 1.0], [7.190358, 124.533892, 1.0], [7.190952, 125.461578, 12.0], [7.190969, 124.534248, 1.0], [7.191139, 124.532692, 1.0], [7.191667, 124.533333, 8.0], [7.191676, 124.533481, 1.0], [7.192233, 124.533888, 1.0], [7.192649, 124.535665, 1.0], [7.19479, 124.53475, 6.0], [7.196172, 124.535708, 1.0], [7.199509, 124.796982, 21.0], [7.202364, 124.474883, 1.0], [7.204961, 124.791148, 1.0], [7.205784, 122.232951, 1.0], [7.208333, 125.403611, 1.0], [7.209594, 124.241966, 149.0], [7.213611, 122.031667, 1.0], [7.213873, 125.117251, 1.0], [7.213886, 125.117251, 2.0], [7.214182, 124.296159, 1.0], [7.215265, 124.668725, 1.0], [7.215279, 125.134798, 1.0], [7.216008, 126.166884, 1.0], [7.21611, 124.248135, 1.0], [7.216207, 126.013254, 1.0], [7.216311, 125.395845, 1.0], [7.219156, 125.464897, 2.0], [7.221637, 126.161845, 1.0], [7.224729, 125.640863, 1.0], [7.228518, 125.123224, 1.0], [7.229589, 124.254898, 1.0], [7.229826, 124.482136, 1.0], [7.231183, 124.48851, 1.0], [7.232277, 125.862522, 1.0], [7.232336, 124.381207, 1.0], [7.233333, 124.25, 1.0], [7.233339, 124.250008, 1.0], [7.234423, 124.256137, 1.0], [7.234865, 125.456246, 1.0], [7.234974, 125.45628, 1.0], [7.235987, 124.264517, 1.0], [7.236242, 124.343416, 1.0], [7.236449, 126.168697, 1.0], [7.23706, 124.695394, 1.0], [7.237076, 122.254793, 2.0], [7.237173, 126.160289, 1.0], [7.237529, 125.482616, 1.0], [7.238841, 125.142067, 1.0], [7.238969, 125.142004, 2.0], [7.23922, 125.159295, 1.0], [7.239798, 126.16165, 1.0], [7.239867, 125.160042, 1.0], [7.241531, 125.439825, 1.0], [7.242166, 124.31981, 1.0], [7.242311, 124.412419, 1.0], [7.242361, 124.51887, 1.0], [7.242422, 124.523343, 1.0], [7.243473, 125.135475, 1.0], [7.243818, 125.382279, 1.0], [7.244258, 125.891141, 1.0], [7.24444, 124.39056, 1.0], [7.244821, 125.159197, 1.0], [7.245085, 124.390393, 3.0], [7.246699, 125.383535, 1.0], [7.247971, 125.632876, 1.0], [7.248848, 125.055368, 1.0], [7.249165, 126.15822, 1.0], [7.249684, 124.790605, 1.0], [7.249716, 126.157319, 1.0], [7.250403, 125.055797, 1.0], [7.250822, 126.168169, 1.0], [7.254915, 126.156516, 1.0], [7.254917, 126.154399, 1.0], [7.255079, 125.103966, 1.0], [7.255222, 126.156203, 1.0], [7.256043, 124.789938, 1.0], [7.257228, 126.156092, 1.0], [7.260029, 126.126697, 1.0], [7.26111, 124.52944, 1.0], [7.261581, 126.466013, 1.0], [7.262167, 126.156155, 1.0], [7.262213, 124.308826, 2.0], [7.265751, 124.788665, 1.0], [7.267752, 125.440773, 1.0], [7.268402, 124.262427, 1.0], [7.269013, 125.197159, 1.0], [7.270079, 124.238884, 1.0], [7.271248, 124.480119, 1.0], [7.273404, 125.53295, 1.0], [7.27413, 124.259182, 1.0], [7.277222, 124.307222, 1.0], [7.277259, 124.423553, 1.0], [7.27733, 125.489147, 1.0], [7.27843, 124.424696, 1.0], [7.278525, 124.4242, 1.0], [7.279201, 124.426993, 1.0], [7.281569, 124.422813, 1.0], [7.281763, 125.856773, 1.0], [7.281952, 125.857755, 1.0], [7.282129, 125.857401, 5.0], [7.2823, 124.46388, 1.0], [7.283512, 125.859656, 2.0], [7.283526, 125.857527, 1.0], [7.283587, 124.273646, 1.0], [7.283611, 125.993889, 1.0], [7.28469, 124.786544, 1.0], [7.28489, 125.857258, 1.0], [7.285664, 124.410877, 1.0], [7.285887, 125.99765, 1.0], [7.286944, 124.340278, 1.0], [7.287739, 122.072082, 1.0], [7.288356, 125.110374, 1.0], [7.288472, 124.269943, 2.0], [7.288572, 124.232076, 1.0], [7.288771, 124.269832, 2.0], [7.289499, 124.258849, 1.0], [7.289924, 125.53253, 1.0], [7.291291, 124.786023, 1.0], [7.291386, 122.064633, 3.0], [7.292099, 125.85747, 1.0], [7.293626, 122.0653, 1.0], [7.294219, 125.303395, 1.0], [7.294492, 124.265504, 1.0], [7.295544, 126.000108, 1.0], [7.296831, 126.007579, 1.0], [7.296944, 124.028056, 1.0], [7.297769, 124.260221, 1.0], [7.300206, 125.41013, 1.0], [7.301009, 124.683706, 1.0], [7.301408, 122.258091, 1.0], [7.302962, 122.066131, 1.0], [7.306375, 124.247989, 1.0], [7.307012, 122.845741, 1.0], [7.307946, 125.684331, 1.0], [7.30796, 125.683451, 1.0], [7.308063, 125.147324, 1.0], [7.308707, 125.684118, 1.0], [7.308998, 125.685896, 1.0], [7.30923, 125.148409, 1.0], [7.309698, 125.684272, 1.0], [7.309839, 125.683963, 2.0], [7.310036, 125.850589, 1.0], [7.310695, 124.780982, 1.0], [7.313689, 125.480694, 1.0], [7.314485, 125.450843, 1.0], [7.314873, 126.54255, 1.0], [7.316422, 126.125427, 1.0], [7.317214, 126.546543, 1.0], [7.317287, 122.875178, 1.0], [7.317427, 126.547417, 1.0], [7.318034, 125.6773, 1.0], [7.318332, 125.184317, 1.0], [7.321781, 125.462678, 1.0], [7.323202, 125.0574, 2.0], [7.32327, 125.459693, 1.0], [7.323904, 125.461709, 1.0], [7.330081, 124.56678, 1.0], [7.33041, 126.566013, 1.0], [7.331847, 124.567154, 1.0], [7.332321, 124.565053, 2.0], [7.332382, 124.567276, 4.0], [7.333046, 124.566959, 1.0], [7.333211, 124.56839, 1.0], [7.333482, 125.625189, 1.0], [7.333566, 124.316776, 1.0], [7.334205, 126.097813, 1.0], [7.335014, 126.096139, 1.0], [7.335841, 125.167236, 1.0], [7.336844, 125.555317, 1.0], [7.339388, 125.1106, 1.0], [7.340523, 124.260183, 1.0], [7.344444, 125.574167, 1.0], [7.344915, 124.032725, 1.0], [7.345683, 125.09248, 1.0], [7.345892, 125.53295, 1.0], [7.346308, 125.182953, 1.0], [7.347222, 125.092222, 1.0], [7.34876, 125.088955, 1.0], [7.349438, 125.468659, 1.0], [7.350978, 124.555334, 1.0], [7.351463, 126.155, 1.0], [7.351838, 125.467237, 3.0], [7.352012, 125.467153, 1.0], [7.352189, 126.15454, 3.0], [7.352352, 126.125679, 1.0], [7.353278, 125.147836, 1.0], [7.353467, 125.147793, 1.0], [7.353767, 125.147445, 6.0], [7.355833, 124.421944, 1.0], [7.357986, 125.857563, 1.0], [7.358751, 125.871174, 1.0], [7.359251, 125.857986, 1.0], [7.360533, 125.706324, 1.0], [7.360681, 125.857343, 1.0], [7.361263, 125.863427, 1.0], [7.361494, 122.368451, 1.0], [7.36194, 125.85528, 1.0], [7.362014, 125.70565, 2.0], [7.363329, 125.467689, 1.0], [7.363701, 125.85499, 1.0], [7.364962, 125.853401, 2.0], [7.365787, 125.088744, 1.0], [7.36618, 125.858301, 1.0], [7.366675, 125.850038, 1.0], [7.367793, 125.846433, 1.0], [7.368979, 125.283236, 1.0], [7.369444, 125.888333, 1.0], [7.369717, 125.495898, 1.0], [7.37, 125.953889, 2.0], [7.370278, 125.495884, 1.0], [7.37035, 124.26973, 1.0], [7.370974, 125.036121, 1.0], [7.371111, 122.288611, 1.0], [7.371271, 125.49612, 4.0], [7.371303, 122.288987, 1.0], [7.371695, 122.289104, 2.0], [7.371944, 125.404722, 1.0], [7.37339, 124.951905, 1.0], [7.373618, 125.949926, 1.0], [7.374077, 124.266678, 2.0], [7.374294, 124.266625, 1.0], [7.374407, 124.268771, 1.0], [7.375071, 124.267662, 2.0], [7.377685, 125.011862, 1.0], [7.382613, 124.818259, 1.0], [7.384258, 124.84497, 1.0], [7.386914, 126.033273, 1.0], [7.387237, 125.97353, 1.0], [7.387643, 126.033559, 1.0], [7.389535, 125.092564, 1.0], [7.39035, 126.029766, 2.0], [7.391961, 125.084535, 1.0], [7.391979, 125.324677, 1.0], [7.396099, 126.000056, 1.0], [7.400711, 125.571304, 1.0], [7.404661, 126.057973, 1.0], [7.408228, 126.139136, 1.0], [7.411944, 126.008889, 1.0], [7.416346, 126.00097, 1.0], [7.416381, 126.001089, 1.0], [7.416808, 125.442596, 1.0], [7.416959, 125.860177, 1.0], [7.427053, 125.882317, 1.0], [7.42784, 122.80969, 1.0], [7.430002, 126.04478, 1.0], [7.431989, 124.255204, 1.0], [7.432821, 125.11983, 1.0], [7.435278, 125.225278, 1.0], [7.437136, 125.812182, 1.0], [7.440175, 125.804426, 1.0], [7.443109, 125.143407, 1.0], [7.446227, 125.95858, 1.0], [7.447439, 125.802499, 1.0], [7.447922, 125.807877, 1.0], [7.447973, 125.810009, 6.0], [7.448093, 125.459536, 1.0], [7.448145, 125.808826, 1.0], [7.448212, 125.809424, 3.0], [7.448215, 125.809413, 1.0], [7.449316, 125.805371, 1.0], [7.450833, 123.313529, 1.0], [7.450919, 125.823565, 1.0], [7.451227, 123.313767, 1.0], [7.451658, 123.314056, 1.0], [7.451959, 125.807589, 2.0], [7.452627, 122.328205, 1.0], [7.455071, 123.317013, 1.0], [7.459285, 125.804195, 1.0], [7.46374, 122.691051, 1.0], [7.464961, 124.187111, 1.0], [7.465034, 125.779625, 1.0], [7.466367, 124.258823, 1.0], [7.466835, 125.819815, 1.0], [7.466934, 123.408319, 1.0], [7.466943, 125.961685, 1.0], [7.467845, 124.259956, 1.0], [7.468339, 124.259128, 1.0], [7.469069, 124.259764, 1.0], [7.469114, 125.042453, 1.0], [7.46916, 124.259215, 1.0], [7.47156, 124.563541, 1.0], [7.473527, 122.845682, 1.0], [7.474329, 125.842533, 1.0], [7.476866, 122.861858, 1.0], [7.481878, 125.212099, 1.0], [7.485713, 125.044323, 1.0], [7.48722, 124.29917, 4.0], [7.491, 124.724, 1.0], [7.49255, 124.725614, 1.0], [7.492933, 124.724999, 1.0], [7.493008, 124.725605, 1.0], [7.494105, 125.826106, 1.0], [7.494722, 126.101078, 1.0], [7.49596, 125.964158, 1.0], [7.5, 125.933333, 4.0], [7.500345, 125.187922, 1.0], [7.501135, 122.348805, 1.0], [7.501516, 122.366222, 1.0], [7.501849, 122.367499, 1.0], [7.507152, 122.941414, 1.0], [7.508446, 125.921654, 1.0], [7.508549, 122.371604, 3.0], [7.509646, 126.10367, 2.0], [7.509686, 124.257019, 1.0], [7.509916, 125.921486, 1.0], [7.51008, 124.371416, 3.0], [7.510518, 124.371347, 1.0], [7.51237, 122.362581, 2.0], [7.512515, 126.176262, 1.0], [7.512998, 125.931549, 1.0], [7.514827, 124.371049, 1.0], [7.514969, 124.372309, 1.0], [7.515278, 126.017778, 1.0], [7.515731, 123.172442, 1.0], [7.51611, 124.25639, 2.0], [7.517704, 122.362862, 1.0], [7.517844, 124.372113, 1.0], [7.518802, 122.369702, 1.0], [7.519438, 125.237089, 1.0], [7.519444, 125.971667, 1.0], [7.51951, 126.216075, 1.0], [7.52247, 122.288745, 1.0], [7.528257, 123.365998, 1.0], [7.529957, 123.365951, 1.0], [7.53, 124.11, 2.0], [7.531931, 124.120164, 1.0], [7.532133, 123.351363, 1.0], [7.53223, 123.374498, 1.0], [7.53521, 122.360144, 1.0], [7.535447, 123.194732, 1.0], [7.537754, 125.75561, 1.0], [7.541526, 122.377398, 1.0], [7.543444, 126.221477, 1.0], [7.547591, 126.138012, 1.0], [7.548571, 126.137057, 1.0], [7.558632, 124.680233, 1.0], [7.558684, 122.408186, 1.0], [7.56885, 124.985708, 1.0], [7.571322, 123.180131, 1.0], [7.571656, 125.996557, 1.0], [7.574132, 126.560107, 1.0], [7.574181, 126.559918, 2.0], [7.574934, 122.145858, 1.0], [7.578889, 125.998056, 1.0], [7.579152, 123.16669, 1.0], [7.580853, 125.765421, 1.0], [7.582092, 122.831373, 1.0], [7.582127, 122.856814, 1.0], [7.583232, 125.834451, 1.0], [7.583611, 126.074167, 1.0], [7.58495, 125.027643, 1.0], [7.585122, 122.142525, 1.0], [7.585136, 123.018956, 1.0], [7.586326, 122.140766, 1.0], [7.5866, 125.8237, 1.0], [7.586897, 122.139213, 1.0], [7.587697, 125.822682, 1.0], [7.590152, 122.401419, 1.0], [7.590722, 122.143841, 3.0], [7.592439, 122.154825, 1.0], [7.5944, 124.074708, 1.0], [7.595785, 125.105121, 1.0], [7.6, 125.95, 1.0], [7.6, 125.966667, 1.0], [7.601144, 122.428098, 1.0], [7.601194, 125.966781, 3.0], [7.60152, 125.169927, 1.0], [7.602754, 125.169529, 2.0], [7.602895, 125.966166, 1.0], [7.602987, 125.96642, 2.0], [7.603284, 125.96934, 1.0], [7.60351, 125.170403, 1.0], [7.605385, 125.967704, 1.0], [7.608056, 124.883056, 1.0], [7.608618, 125.66793, 1.0], [7.608812, 122.4079, 1.0], [7.609376, 126.12583, 1.0], [7.609688, 125.088363, 1.0], [7.609691, 125.113125, 1.0], [7.612387, 125.620619, 1.0], [7.612788, 123.005931, 1.0], [7.615086, 123.33845, 1.0], [7.616669, 125.616667, 1.0], [7.616944, 125.884167, 1.0], [7.619421, 125.627881, 1.0], [7.6246, 125.620494, 2.0], [7.624903, 122.127887, 1.0], [7.626124, 125.619165, 1.0], [7.628307, 123.031334, 1.0], [7.629752, 123.031662, 1.0], [7.632876, 125.016251, 1.0], [7.633114, 125.017002, 1.0], [7.633333, 125.016667, 1.0], [7.633731, 125.016428, 1.0], [7.636646, 123.305852, 1.0], [7.637138, 123.303773, 1.0], [7.638382, 125.009946, 1.0], [7.638945, 123.394452, 1.0], [7.638948, 126.153737, 1.0], [7.638963, 123.394482, 1.0], [7.639929, 125.00916, 1.0], [7.640024, 125.008438, 2.0], [7.641745, 122.935095, 1.0], [7.642085, 125.629359, 1.0], [7.64839, 123.267254, 1.0], [7.648541, 125.617272, 1.0], [7.65, 125.616669, 1.0], [7.65129, 124.824638, 1.0], [7.652526, 122.947893, 2.0], [7.654344, 125.802494, 1.0], [7.654444, 122.473889, 1.0], [7.65472, 122.3375, 1.0], [7.655049, 123.46249, 1.0], [7.6551, 125.803276, 1.0], [7.655934, 123.461044, 1.0], [7.656709, 123.462709, 1.0], [7.6576, 123.186, 1.0], [7.657793, 122.469359, 1.0], [7.658946, 125.587669, 1.0], [7.660633, 126.051757, 1.0], [7.661141, 125.55897, 3.0], [7.665968, 126.084695, 2.0], [7.666185, 126.084369, 1.0], [7.668926, 125.713201, 1.0], [7.670266, 125.38367, 1.0], [7.670653, 126.085624, 1.0], [7.671049, 126.085606, 1.0], [7.674885, 126.08153, 1.0], [7.674924, 123.152963, 1.0], [7.675606, 124.867847, 1.0], [7.677712, 126.088223, 1.0], [7.680662, 124.713887, 1.0], [7.682231, 125.43889, 1.0], [7.682236, 123.296639, 1.0], [7.685, 122.543056, 1.0], [7.686119, 124.692186, 11.0], [7.686803, 123.942946, 1.0], [7.686849, 124.732571, 1.0], [7.687185, 126.190054, 1.0], [7.69125, 125.964221, 1.0], [7.693611, 123.294444, 1.0], [7.694013, 125.989145, 1.0], [7.695505, 126.549117, 1.0], [7.696292, 123.41283, 1.0], [7.699061, 123.145032, 1.0], [7.700381, 126.011434, 1.0], [7.70325, 122.132102, 1.0], [7.703259, 122.134903, 1.0], [7.704116, 125.989973, 1.0], [7.704608, 125.988292, 1.0], [7.705628, 126.105552, 1.0], [7.706295, 126.106131, 1.0], [7.706449, 125.99144, 1.0], [7.706753, 122.138522, 1.0], [7.708474, 122.140274, 1.0], [7.709312, 125.222853, 1.0], [7.709449, 126.197976, 1.0], [7.719538, 126.05605, 1.0], [7.72046, 123.006254, 1.0], [7.720472, 123.263289, 2.0], [7.724852, 124.23769, 1.0], [7.729694, 125.099019, 1.0], [7.729753, 125.100227, 1.0], [7.729831, 125.098986, 2.0], [7.73, 125.099, 2.0], [7.730071, 125.099395, 1.0], [7.730414, 125.101343, 1.0], [7.731239, 125.992616, 1.0], [7.731359, 125.102887, 1.0], [7.732345, 123.057305, 1.0], [7.733333, 123.066667, 4.0], [7.733993, 124.316283, 1.0], [7.734803, 125.512622, 3.0], [7.734925, 123.323692, 1.0], [7.734964, 123.342124, 1.0], [7.740712, 123.076513, 1.0], [7.742853, 124.70475, 1.0], [7.744567, 126.397443, 1.0], [7.746118, 122.967087, 1.0], [7.747538, 123.146464, 1.0], [7.749709, 123.144724, 1.0], [7.750031, 124.099817, 1.0], [7.750807, 124.749491, 1.0], [7.751209, 123.148704, 2.0], [7.755217, 124.253274, 1.0], [7.7575, 123.249444, 1.0], [7.757916, 122.125261, 1.0], [7.761217, 125.001825, 1.0], [7.761796, 122.582514, 1.0], [7.762774, 125.004169, 1.0], [7.762916, 125.005822, 1.0], [7.763479, 125.003925, 1.0], [7.763809, 125.120193, 2.0], [7.766389, 123.275833, 1.0], [7.769235, 123.133354, 1.0], [7.76931, 126.453049, 1.0], [7.772775, 123.272096, 1.0], [7.778349, 125.640828, 1.0], [7.781691, 125.66863, 1.0], [7.78403, 122.593085, 3.0], [7.784172, 122.583282, 4.0], [7.785306, 122.592856, 4.0], [7.79139, 126.45333, 1.0], [7.793, 124.192, 1.0], [7.794568, 122.788106, 1.0], [7.795254, 123.720478, 1.0], [7.797467, 126.165351, 1.0], [7.798464, 125.395136, 1.0], [7.798649, 122.139514, 1.0], [7.799354, 122.756503, 1.0], [7.799757, 122.586738, 1.0], [7.80063, 123.139057, 1.0], [7.800962, 125.017211, 1.0], [7.80121, 122.759801, 3.0], [7.801863, 123.140817, 1.0], [7.803985, 122.6223, 1.0], [7.806848, 122.700934, 1.0], [7.806878, 122.701145, 1.0], [7.807113, 126.083894, 1.0], [7.807529, 122.701115, 1.0], [7.807908, 122.699403, 1.0], [7.808513, 126.094304, 1.0], [7.8105, 122.145358, 1.0], [7.811214, 122.532324, 1.0], [7.812114, 122.533555, 1.0], [7.81571, 123.283611, 1.0], [7.8175, 123.283611, 1.0], [7.817506, 123.283548, 1.0], [7.818905, 123.366468, 2.0], [7.81936, 125.792864, 1.0], [7.819451, 122.817335, 1.0], [7.820747, 124.326546, 2.0], [7.821437, 126.051514, 1.0], [7.821667, 125.390278, 1.0], [7.822238, 123.230397, 1.0], [7.822408, 123.391038, 1.0], [7.823071, 126.055367, 11.0], [7.823176, 124.419824, 2.0], [7.823759, 123.408437, 1.0], [7.825054, 126.05176, 1.0], [7.825203, 123.437378, 34.0], [7.828461, 123.436612, 3.0], [7.829613, 123.436756, 1.0], [7.83, 125.82, 1.0], [7.833053, 125.816497, 1.0], [7.833119, 124.813742, 1.0], [7.833333, 125.816667, 1.0], [7.833337, 125.816667, 1.0], [7.83385, 125.817084, 1.0], [7.835185, 124.827701, 1.0], [7.83611, 124.36306, 1.0], [7.836243, 124.830833, 1.0], [7.836483, 123.30307, 1.0], [7.836523, 123.30451, 1.0], [7.836667, 123.373056, 1.0], [7.837468, 125.611574, 1.0], [7.83934, 124.840341, 1.0], [7.839703, 123.434344, 3.0], [7.839723, 123.503795, 1.0], [7.840063, 124.020195, 1.0], [7.841426, 122.845995, 1.0], [7.842032, 125.992996, 4.0], [7.844059, 123.461189, 1.0], [7.844836, 123.462004, 1.0], [7.848097, 125.347133, 1.0], [7.848397, 123.16233, 1.0], [7.848979, 126.05139, 1.0], [7.849859, 124.339668, 1.0], [7.849948, 123.432727, 1.0], [7.850257, 124.343195, 1.0], [7.852238, 123.260136, 1.0], [7.85297, 123.574822, 1.0], [7.853618, 124.342574, 1.0], [7.853864, 123.328167, 1.0], [7.85402, 124.119002, 1.0], [7.856155, 126.076122, 1.0], [7.857415, 124.341214, 1.0], [7.857551, 123.234228, 1.0], [7.860251, 124.130054, 1.0], [7.86319, 125.170874, 1.0], [7.863637, 123.513787, 1.0], [7.86374, 123.514438, 1.0], [7.863889, 123.513889, 3.0], [7.864016, 123.514551, 1.0], [7.864722, 123.376667, 1.0], [7.866111, 123.034444, 2.0], [7.868191, 124.334943, 1.0], [7.869039, 126.374112, 1.0], [7.869644, 122.562366, 1.0], [7.869831, 122.558579, 2.0], [7.872181, 123.885775, 1.0], [7.873019, 123.001223, 1.0], [7.873661, 126.342487, 1.0], [7.880224, 123.304267, 1.0], [7.885051, 124.166209, 1.0], [7.886648, 122.565262, 1.0], [7.887379, 124.388887, 2.0], [7.887759, 125.22153, 1.0], [7.888144, 124.173392, 2.0], [7.893834, 125.358831, 1.0], [7.894017, 126.034033, 3.0], [7.899011, 123.771, 1.0], [7.899722, 124.347394, 1.0], [7.902708, 125.522001, 1.0], [7.904543, 123.84223, 1.0], [7.904959, 125.09111, 5.0], [7.905447, 125.09121, 1.0], [7.905643, 122.529809, 1.0], [7.908736, 124.39745, 1.0], [7.91, 123.396944, 1.0], [7.910734, 124.197423, 1.0], [7.913729, 125.313701, 1.0], [7.917764, 124.199804, 1.0], [7.91778, 125.328624, 1.0], [7.921048, 123.449564, 1.0], [7.921958, 125.746148, 1.0], [7.92211, 125.846823, 1.0], [7.923036, 123.771936, 1.0], [7.9248, 123.7715, 1.0], [7.926149, 126.077785, 1.0], [7.927639, 125.822074, 1.0], [7.92767, 126.075094, 1.0], [7.929946, 126.077432, 1.0], [7.931279, 123.658972, 1.0], [7.938909, 125.915708, 1.0], [7.946025, 125.244473, 1.0], [7.949444, 125.876389, 1.0], [7.94989, 124.233141, 2.0], [7.950052, 124.232804, 1.0], [7.952584, 123.497927, 1.0], [7.956111, 123.283611, 1.0], [7.962202, 125.159129, 1.0], [7.965763, 124.202866, 1.0], [7.967402, 124.349841, 1.0], [7.970034, 124.374432, 1.0], [7.971645, 122.396278, 1.0], [7.97165, 124.352811, 1.0], [7.972322, 124.344864, 1.0], [7.973333, 126.010833, 1.0], [7.975419, 124.064405, 1.0], [7.97644, 126.028513, 1.0], [7.978188, 124.222706, 1.0], [7.98, 124.07, 1.0], [7.984128, 125.012826, 1.0], [7.984209, 122.408223, 1.0], [7.984456, 124.961687, 1.0], [7.984834, 117.063256, 1.0], [7.98693, 124.37839, 1.0], [7.987222, 124.255833, 1.0], [7.991216, 124.969311, 1.0], [7.993056, 124.344167, 1.0], [7.996038, 125.008642, 1.0], [7.99689, 124.297385, 1.0], [7.998755, 124.292085, 1.0], [7.998818, 124.258606, 1.0], [7.999676, 124.299806, 1.0], [7.999799, 124.300068, 2.0], [7.999904, 125.000243, 1.0], [7.999981, 124.299937, 1.0], [8.0, 124.2, 1.0], [8.000088, 124.292555, 1.0], [8.000147, 124.299951, 3.0], [8.000178, 124.300179, 2.0], [8.000249, 124.29986, 2.0], [8.000356, 124.299721, 1.0], [8.000585, 124.28695, 1.0], [8.000721, 124.293111, 2.0], [8.000791, 124.297417, 1.0], [8.001024, 124.294623, 1.0], [8.001027, 124.291958, 1.0], [8.001047, 124.300038, 1.0], [8.001171, 124.284462, 2.0], [8.001172, 124.284462, 4.0], [8.001274, 124.347691, 1.0], [8.001314, 124.293493, 1.0], [8.001327, 124.290291, 2.0], [8.001676, 124.299898, 1.0], [8.002304, 124.291896, 3.0], [8.002366, 124.291779, 4.0], [8.00244, 124.287119, 2.0], [8.002581, 124.292973, 4.0], [8.002695, 124.291901, 1.0], [8.002882, 124.286359, 1.0], [8.002912, 124.26825, 1.0], [8.003105, 124.289666, 1.0], [8.003291, 124.291336, 1.0], [8.003485, 124.294995, 1.0], [8.003798, 124.288211, 1.0], [8.004016, 124.287184, 4.0], [8.004021, 124.288434, 2.0], [8.004674, 124.2913, 28.0], [8.00493, 124.287561, 1.0], [8.005161, 124.287527, 1.0], [8.006769, 124.283989, 1.0], [8.006934, 124.287598, 1.0], [8.01089, 124.687128, 1.0], [8.011382, 124.285289, 1.0], [8.018492, 124.483303, 1.0], [8.019781, 124.789918, 1.0], [8.020031, 124.056593, 2.0], [8.021316, 124.28424, 1.0], [8.030654, 123.311882, 1.0], [8.034153, 124.915111, 1.0], [8.035083, 125.849808, 1.0], [8.035507, 124.626297, 3.0], [8.036249, 124.626157, 1.0], [8.038011, 126.414359, 1.0], [8.03949, 123.382276, 1.0], [8.040928, 122.983363, 1.0], [8.041964, 124.212688, 1.0], [8.04415, 123.795403, 1.0], [8.044898, 126.061471, 1.0], [8.04532, 126.06184, 2.0], [8.045737, 123.94326, 1.0], [8.04589, 126.063679, 1.0], [8.046389, 126.061538, 1.0], [8.04912, 124.693724, 1.0], [8.05, 124.983333, 1.0], [8.05, 126.066667, 1.0], [8.050528, 125.872222, 1.0], [8.0525, 125.748611, 1.0], [8.052686, 125.731745, 2.0], [8.055278, 122.443889, 1.0], [8.057028, 123.791362, 2.0], [8.058913, 125.861375, 1.0], [8.059807, 122.506778, 2.0], [8.061865, 123.750771, 1.0], [8.063064, 122.573021, 1.0], [8.065973, 124.260404, 1.0], [8.06611, 124.25833, 1.0], [8.066667, 123.75, 1.0], [8.066727, 122.516607, 1.0], [8.066793, 122.744837, 1.0], [8.067024, 123.53479, 1.0], [8.067144, 125.891313, 1.0], [8.06729, 125.893414, 1.0], [8.068792, 125.488951, 1.0], [8.070107, 123.412342, 1.0], [8.070192, 122.929564, 1.0], [8.070379, 126.060816, 1.0], [8.072572, 125.95542, 1.0], [8.072742, 125.95542, 1.0], [8.073279, 123.737353, 1.0], [8.07595, 124.251438, 1.0], [8.076887, 125.045419, 1.0], [8.083764, 124.400317, 1.0], [8.086114, 123.888289, 1.0], [8.087957, 125.131226, 1.0], [8.089721, 122.592846, 1.0], [8.090201, 125.323546, 1.0], [8.091583, 125.321819, 1.0], [8.093981, 123.45102, 1.0], [8.094153, 123.451311, 1.0], [8.096466, 123.487682, 1.0], [8.098851, 122.918687, 1.0], [8.09998, 126.366641, 1.0], [8.103952, 125.130026, 1.0], [8.104186, 123.494397, 1.0], [8.10833, 124.22889, 1.0], [8.109069, 122.758094, 1.0], [8.110727, 122.7883, 1.0], [8.111787, 125.128183, 1.0], [8.112001, 123.928871, 1.0], [8.112765, 123.895483, 3.0], [8.113273, 125.607828, 3.0], [8.113786, 123.897734, 1.0], [8.11406, 123.89685, 2.0], [8.115161, 122.669979, 1.0], [8.115408, 123.896522, 1.0], [8.115805, 124.214161, 1.0], [8.115914, 124.219662, 1.0], [8.116667, 124.216667, 1.0], [8.121517, 124.217048, 1.0], [8.121913, 126.047912, 1.0], [8.123469, 123.053577, 1.0], [8.123819, 123.434066, 1.0], [8.126317, 125.122472, 1.0], [8.130604, 125.127654, 1.0], [8.130926, 125.12709, 1.0], [8.132887, 123.101174, 1.0], [8.133286, 123.922605, 1.0], [8.133333, 123.1, 2.0], [8.135081, 125.137957, 1.0], [8.135462, 125.137908, 1.0], [8.137645, 125.12649, 1.0], [8.139037, 125.124999, 1.0], [8.140556, 124.853333, 1.0], [8.141655, 123.339472, 1.0], [8.144374, 124.127741, 2.0], [8.147402, 125.021736, 1.0], [8.151341, 124.25962, 1.0], [8.154547, 125.133301, 3.0], [8.155928, 124.033906, 1.0], [8.156152, 123.34587, 1.0], [8.15632, 123.346316, 2.0], [8.157284, 124.158849, 1.0], [8.157809, 123.846756, 8.0], [8.159272, 122.929573, 1.0], [8.161256, 123.958794, 2.0], [8.163357, 125.129957, 4.0], [8.164299, 124.282343, 1.0], [8.166853, 125.999676, 1.0], [8.169768, 124.15985, 1.0], [8.172524, 124.203927, 1.0], [8.176509, 124.07578, 1.0], [8.182602, 124.114554, 1.0], [8.183063, 126.350176, 1.0], [8.183553, 126.349967, 1.0], [8.185452, 122.964146, 1.0], [8.187, 125.853, 1.0], [8.187066, 125.852931, 1.0], [8.187272, 125.852816, 2.0], [8.187962, 125.852918, 1.0], [8.188783, 124.069413, 1.0], [8.190899, 124.087955, 1.0], [8.192046, 124.084995, 5.0], [8.192226, 124.084918, 1.0], [8.193307, 124.044522, 1.0], [8.196758, 125.06471, 1.0], [8.20529, 123.264409, 1.0], [8.205367, 123.801645, 1.0], [8.205395, 123.802652, 1.0], [8.208109, 123.540173, 1.0], [8.209682, 124.23956, 1.0], [8.213136, 126.315939, 1.0], [8.214854, 123.542759, 1.0], [8.217759, 126.314871, 1.0], [8.220924, 124.247191, 1.0], [8.225147, 123.429944, 1.0], [8.225311, 125.182447, 1.0], [8.226319, 124.255961, 1.0], [8.22777, 124.244682, 1.0], [8.227855, 124.337843, 1.0], [8.228021, 124.245242, 4.0], [8.228119, 124.238754, 3.0], [8.228173, 126.271709, 1.0], [8.22833, 124.237867, 2.0], [8.228647, 124.245222, 1.0], [8.229316, 124.611832, 2.0], [8.230454, 124.245145, 2.0], [8.230461, 123.006845, 1.0], [8.234867, 122.998349, 1.0], [8.239274, 124.456908, 1.0], [8.239826, 124.370663, 1.0], [8.240043, 124.244766, 20.0], [8.242778, 126.2275, 1.0], [8.243333, 125.001667, 1.0], [8.246064, 126.229219, 1.0], [8.251043, 125.716202, 1.0], [8.258316, 123.60576, 1.0], [8.258333, 123.605833, 1.0], [8.260319, 123.363939, 1.0], [8.261139, 125.609547, 2.0], [8.262409, 125.029065, 1.0], [8.266667, 124.983333, 1.0], [8.266954, 123.101039, 1.0], [8.268233, 124.258461, 1.0], [8.268645, 125.739667, 1.0], [8.26971, 125.806337, 1.0], [8.270833, 125.799722, 1.0], [8.272934, 125.799743, 1.0], [8.280488, 126.255202, 1.0], [8.289271, 125.027471, 1.0], [8.299322, 123.584592, 1.0], [8.299469, 125.112583, 1.0], [8.304936, 125.003254, 1.0], [8.3061, 125.093932, 1.0], [8.306702, 124.259596, 1.0], [8.310013, 125.999741, 2.0], [8.312309, 126.00867, 1.0], [8.312616, 126.003615, 1.0], [8.312616, 126.003616, 1.0], [8.313322, 126.009354, 1.0], [8.316667, 124.566667, 1.0], [8.338611, 125.796111, 1.0], [8.340557, 126.186992, 1.0], [8.340676, 126.010043, 1.0], [8.34111, 124.25917, 1.0], [8.342063, 124.259395, 1.0], [8.342306, 125.648382, 1.0], [8.345058, 124.976724, 1.0], [8.356982, 124.828766, 1.0], [8.360618, 126.016434, 1.0], [8.36782, 124.868401, 2.0], [8.37107, 126.30948, 1.0], [8.371276, 126.309401, 1.0], [8.380612, 124.704159, 1.0], [8.38068, 124.704146, 1.0], [8.381583, 126.002471, 1.0], [8.383211, 124.698822, 2.0], [8.383212, 125.820122, 1.0], [8.416667, 125.116667, 1.0], [8.417402, 125.529355, 1.0], [8.420361, 125.16948, 1.0], [8.421558, 124.502702, 1.0], [8.421877, 125.839596, 8.0], [8.430669, 125.012355, 1.0], [8.439771, 125.752588, 1.0], [8.445705, 125.787864, 1.0], [8.446729, 124.631033, 1.0], [8.447594, 124.645326, 1.0], [8.45, 126.166667, 4.0], [8.450309, 125.752093, 1.0], [8.454236, 124.631898, 1.0], [8.454237, 124.631898, 1.0], [8.454241, 124.631964, 1.0], [8.455393, 125.159241, 1.0], [8.457594, 126.157642, 1.0], [8.458153, 126.157312, 1.0], [8.459646, 125.159755, 1.0], [8.460868, 123.202257, 1.0], [8.466397, 125.137879, 1.0], [8.469066, 125.831184, 1.0], [8.474003, 126.118471, 1.0], [8.477977, 125.74539, 1.0], [8.478, 125.744, 2.0], [8.478217, 125.745846, 1.0], [8.478533, 125.744797, 1.0], [8.479444, 126.120833, 1.0], [8.479979, 125.746904, 1.0], [8.481584, 125.744367, 1.0], [8.482536, 124.647404, 4.0], [8.48333, 123.8, 1.0], [8.483379, 124.646575, 1.0], [8.484597, 124.643219, 1.0], [8.485491, 126.046919, 1.0], [8.486481, 123.804648, 1.0], [8.486497, 126.047207, 1.0], [8.486803, 124.645818, 3.0], [8.487969, 124.650082, 4.0], [8.488204, 126.083977, 1.0], [8.489579, 124.651478, 3.0], [8.49194, 125.163761, 1.0], [8.497778, 123.269722, 1.0], [8.504375, 124.619205, 1.0], [8.504613, 125.740872, 1.0], [8.505543, 125.740688, 1.0], [8.509558, 124.650732, 1.0], [8.510029, 125.967587, 1.0], [8.51568, 123.25448, 1.0], [8.518432, 123.09752, 1.0], [8.52307, 126.126277, 1.0], [8.526701, 126.114407, 1.0], [8.531386, 123.364368, 2.0], [8.53528, 126.12139, 1.0], [8.535698, 117.433977, 1.0], [8.537056, 126.119442, 1.0], [8.538231, 126.119813, 1.0], [8.540491, 126.114476, 2.0], [8.544784, 125.444062, 1.0], [8.565139, 125.522394, 2.0], [8.5686, 125.521584, 1.0], [8.573098, 123.345604, 1.0], [8.574317, 124.443452, 1.0], [8.578528, 125.898704, 2.0], [8.578892, 125.897509, 1.0], [8.581552, 123.344275, 1.0], [8.582888, 125.899696, 1.0], [8.583665, 123.341176, 1.0], [8.584932, 123.338499, 1.0], [8.584974, 123.342845, 3.0], [8.586613, 123.340899, 1.0], [8.587025, 123.342026, 1.0], [8.588406, 123.33978, 3.0], [8.589609, 123.404769, 1.0], [8.591197, 125.886192, 1.0], [8.598901, 125.917096, 1.0], [8.6, 125.916667, 2.0], [8.602355, 125.915755, 1.0], [8.607868, 125.91601, 1.0], [8.611336, 124.894798, 1.0], [8.615114, 123.7167, 1.0], [8.617308, 125.984131, 1.0], [8.618699, 125.492421, 1.0], [8.628203, 117.451236, 1.0], [8.632745, 126.095013, 1.0], [8.632983, 126.094322, 1.0], [8.633052, 126.095835, 2.0], [8.633418, 126.094467, 1.0], [8.633831, 126.094476, 1.0], [8.636616, 126.067595, 1.0], [8.644021, 125.94552, 1.0], [8.649767, 123.419008, 1.0], [8.655784, 123.424444, 1.0], [8.656259, 117.510498, 2.0], [8.661871, 125.65418, 1.0], [8.66455, 126.063505, 1.0], [8.666667, 117.616667, 1.0], [8.672499, 117.559443, 1.0], [8.674814, 126.137768, 1.0], [8.67694, 125.64694, 1.0], [8.677388, 117.341767, 1.0], [8.683174, 126.06148, 1.0], [8.69693, 125.131872, 1.0], [8.698314, 124.979063, 1.0], [8.713709, 125.722517, 1.0], [8.714863, 125.749679, 1.0], [8.715891, 125.751038, 4.0], [8.731382, 126.202814, 1.0], [8.742664, 124.780998, 1.0], [8.74368, 124.775952, 1.0], [8.743889, 125.066605, 1.0], [8.744024, 124.776528, 2.0], [8.744462, 124.781605, 1.0], [8.744872, 124.782494, 1.0], [8.745044, 124.776818, 1.0], [8.745833, 123.222222, 1.0], [8.750112, 124.797942, 1.0], [8.766104, 126.238398, 1.0], [8.777671, 125.569341, 1.0], [8.777752, 125.569716, 1.0], [8.777991, 125.569465, 1.0], [8.783365, 124.820655, 1.0], [8.793432, 125.579464, 1.0], [8.8, 124.783333, 2.0], [8.800343, 126.300013, 1.0], [8.800501, 126.300016, 1.0], [8.800893, 126.299836, 1.0], [8.80119, 125.422184, 1.0], [8.801867, 126.30035, 1.0], [8.802481, 126.300943, 1.0], [8.802795, 124.797429, 1.0], [8.807483, 124.790124, 1.0], [8.810264, 125.525615, 1.0], [8.810398, 125.10698, 1.0], [8.816027, 125.70002, 1.0], [8.816667, 125.7, 2.0], [8.818475, 125.69826, 1.0], [8.818752, 125.103207, 1.0], [8.822198, 125.100987, 1.0], [8.822313, 125.693318, 1.0], [8.822983, 125.699921, 1.0], [8.82299, 125.097636, 1.0], [8.823231, 125.694214, 1.0], [8.823889, 124.805, 1.0], [8.82703, 126.294545, 1.0], [8.827214, 125.100586, 2.0], [8.827689, 125.099855, 1.0], [8.834771, 117.878516, 1.0], [8.834907, 125.210759, 1.0], [8.850162, 124.836494, 1.0], [8.857933, 125.731428, 1.0], [8.859, 124.789, 1.0], [8.859709, 124.788662, 1.0], [8.861963, 124.78942, 1.0], [8.865817, 125.55835, 1.0], [8.866664, 126.036107, 1.0], [8.868648, 126.050244, 1.0], [8.869808, 125.42743, 1.0], [8.879689, 126.022192, 1.0], [8.879722, 125.341111, 1.0], [8.880206, 124.868101, 1.0], [8.882988, 125.997348, 1.0], [8.883274, 126.000161, 1.0], [8.883333, 126.0, 2.0], [8.884054, 126.001038, 1.0], [8.890529, 125.541196, 1.0], [8.892579, 126.300309, 1.0], [8.893579, 126.306719, 1.0], [8.894622, 124.826606, 1.0], [8.895, 125.775278, 1.0], [8.914457, 124.784563, 1.0], [8.917107, 125.507236, 1.0], [8.91861, 126.30111, 2.0], [8.919162, 126.301241, 1.0], [8.919581, 124.783746, 1.0], [8.921944, 125.290556, 1.0], [8.929135, 125.398729, 1.0], [8.938724, 125.247811, 1.0], [8.93887, 125.247812, 1.0], [8.939052, 125.247994, 1.0], [8.941944, 126.187778, 2.0], [8.943034, 125.534801, 2.0], [8.946017, 125.540396, 1.0], [8.946774, 125.54125, 1.0], [8.947538, 125.540623, 4.0], [8.947626, 125.540529, 1.0], [8.948247, 125.541107, 6.0], [8.948336, 125.54269, 1.0], [8.9487, 125.539282, 1.0], [8.949207, 125.539325, 1.0], [8.949904, 125.533336, 1.0], [8.952956, 125.54746, 1.0], [8.961028, 125.759476, 1.0], [8.963333, 126.278056, 1.0], [8.964095, 124.895434, 1.0], [8.964295, 126.11108, 1.0], [8.966092, 125.762524, 1.0], [8.966669, 126.15, 1.0], [8.96667, 126.26667, 1.0], [8.968959, 125.336637, 1.0], [8.97149, 125.351822, 3.0], [8.972236, 125.408678, 1.0], [8.972516, 125.351846, 2.0], [8.985095, 124.79353, 1.0], [8.990476, 125.295138, 1.0], [9.000299, 124.88091, 1.0], [9.000313, 125.269224, 1.0], [9.004195, 125.647026, 2.0], [9.004444, 125.645278, 1.0], [9.02025, 126.23322, 2.0], [9.021072, 125.686072, 1.0], [9.02111, 126.23167, 1.0], [9.05, 118.033333, 1.0], [9.05, 125.9, 2.0], [9.051115, 125.899608, 1.0], [9.051549, 118.049001, 1.0], [9.053414, 125.5866, 1.0], [9.053611, 125.586667, 1.0], [9.059101, 125.641005, 1.0], [9.062643, 125.211945, 1.0], [9.064333, 125.667296, 1.0], [9.069468, 126.20339, 1.0], [9.073155, 125.89024, 1.0], [9.073381, 123.016987, 1.0], [9.077235, 126.197832, 2.0], [9.079478, 126.198697, 1.0], [9.079628, 126.19874, 1.0], [9.079981, 125.614655, 1.0], [9.08362, 125.606296, 1.0], [9.094576, 126.16043, 1.0], [9.09878, 125.698659, 1.0], [9.099348, 125.667894, 1.0], [9.1082, 124.7051, 1.0], [9.116669, 123.20015, 1.0], [9.12154, 125.538397, 1.0], [9.139722, 125.559722, 1.0], [9.146832, 126.173511, 1.0], [9.1584, 123.4996, 1.0], [9.161206, 125.561011, 1.0], [9.163372, 117.825916, 1.0], [9.164595, 125.523167, 1.0], [9.165452, 125.522668, 2.0], [9.16667, 123.05, 1.0], [9.199524, 123.586377, 1.0], [9.209105, 126.176575, 1.0], [9.216791, 125.963835, 1.0], [9.216819, 125.966701, 1.0], [9.216941, 125.965267, 1.0], [9.227189, 125.94085, 1.0], [9.228554, 126.016603, 1.0], [9.228859, 126.016544, 1.0], [9.230375, 125.565639, 1.0], [9.232036, 125.975095, 1.0], [9.233334, 126.166664, 1.0], [9.234649, 126.167054, 1.0], [9.234873, 126.165522, 1.0], [9.241435, 125.558812, 1.0], [9.241662, 125.631419, 1.0], [9.246753, 118.408503, 1.0], [9.25, 125.6425, 1.0], [9.267399, 118.404231, 1.0], [9.280007, 123.245453, 1.0], [9.282823, 125.942188, 1.0], [9.294633, 123.278843, 1.0], [9.295552, 123.281494, 2.0], [9.295934, 125.960453, 2.0], [9.300613, 123.300167, 1.0], [9.307081, 123.30521, 2.0], [9.307278, 123.308201, 2.0], [9.316689, 125.556297, 1.0], [9.329405, 125.971421, 1.0], [9.34, 125.52, 1.0], [9.34203, 125.516331, 1.0], [9.342032, 125.515895, 1.0], [9.343975, 122.923919, 1.0], [9.344678, 122.924243, 1.0], [9.34528, 125.552905, 1.0], [9.368578, 125.948802, 1.0], [9.418651, 125.620689, 1.0], [9.420658, 125.620484, 1.0], [9.422818, 125.677489, 1.0], [9.445284, 125.584089, 1.0], [9.448709, 125.57143, 3.0], [9.449891, 122.853576, 1.0], [9.452212, 125.574816, 1.0], [9.452782, 125.574522, 1.0], [9.452928, 125.574473, 1.0], [9.455622, 125.574249, 1.0], [9.467411, 125.576506, 1.0], [9.469021, 125.597222, 1.0], [9.469599, 125.5972, 1.0], [9.470029, 125.581997, 1.0], [9.470269, 123.204934, 1.0], [9.477941, 125.580588, 1.0], [9.515282, 125.636624, 1.0], [9.515858, 123.157792, 1.0], [9.524783, 123.305678, 1.0], [9.531381, 125.481945, 1.0], [9.539867, 125.812852, 1.0], [9.543137, 125.524902, 1.0], [9.546316, 122.519442, 1.0], [9.549522, 125.620716, 1.0], [9.553828, 125.569656, 1.0], [9.5725, 125.73306, 5.0], [9.573838, 125.732754, 1.0], [9.591546, 123.121182, 1.0], [9.595122, 125.456352, 1.0], [9.595312, 125.698534, 1.0], [9.59953, 122.470532, 1.0], [9.599928, 125.633548, 1.0], [9.6, 125.633333, 1.0], [9.608011, 125.638885, 1.0], [9.613777, 125.411322, 1.0], [9.617155, 125.401468, 1.0], [9.617466, 125.40209, 2.0], [9.618367, 125.401583, 1.0], [9.637574, 125.571258, 1.0], [9.639358, 123.855562, 1.0], [9.648444, 125.598609, 1.0], [9.649723, 123.857008, 1.0], [9.661602, 122.4577, 1.0], [9.680242, 125.503993, 1.0], [9.6864, 123.0122, 1.0], [9.686468, 122.517901, 1.0], [9.691078, 118.577846, 1.0], [9.69423, 125.504891, 1.0], [9.710856, 125.502383, 1.0], [9.71623, 125.504322, 1.0], [9.717225, 125.47665, 1.0], [9.730278, 125.430833, 1.0], [9.733738, 122.928037, 2.0], [9.735495, 125.519264, 1.0], [9.735518, 125.519222, 1.0], [9.737212, 118.739699, 1.0], [9.737313, 118.734398, 1.0], [9.749279, 122.406413, 1.0], [9.751524, 122.401475, 1.0], [9.75192, 122.490336, 1.0], [9.757207, 125.513844, 1.0], [9.763175, 125.488415, 1.0], [9.77026, 122.467818, 2.0], [9.783552, 124.301971, 1.0], [9.78472, 125.489693, 8.0], [9.788011, 125.492662, 1.0], [9.801285, 123.794438, 1.0], [9.816569, 122.602103, 1.0], [9.824592, 122.908241, 1.0], [9.826864, 122.642296, 1.0], [9.831149, 122.753447, 1.0], [9.834949, 118.738362, 1.0], [9.860086, 124.007877, 1.0], [9.873573, 124.245313, 1.0], [9.883333, 123.6, 1.0], [9.899154, 123.840475, 1.0], [9.899322, 124.282239, 1.0], [9.902399, 122.591801, 1.0], [9.93694, 126.08861, 1.0], [9.937655, 122.828535, 1.0], [9.942985, 122.58252, 1.0], [9.942986, 122.58252, 1.0], [9.944705, 123.960034, 1.0], [9.947791, 122.449677, 1.0], [9.963276, 124.211676, 1.0], [9.96428, 124.20941, 1.0], [9.967216, 118.78551, 1.0], [9.968008, 118.787631, 1.0], [9.968412, 122.624906, 1.0], [9.971008, 122.624128, 1.0], [9.971311, 122.623506, 1.0], [9.977227, 122.555143, 1.0], [9.979697, 122.482514, 1.0], [9.982494, 122.736874, 1.0], [9.988889, 122.812222, 1.0], [10.004693, 122.777142, 1.0], [10.026105, 123.230825, 1.0], [10.028978, 122.847903, 1.0], [10.029756, 123.232416, 1.0], [10.030048, 123.231727, 1.0], [10.033708, 123.219223, 1.0], [10.050188, 124.350372, 1.0], [10.050204, 123.191372, 1.0], [10.050592, 123.433204, 1.0], [10.057497, 123.436951, 1.0], [10.071629, 122.847405, 1.0], [10.072727, 122.862595, 1.0], [10.076885, 124.447058, 1.0], [10.080622, 122.884023, 1.0], [10.085461, 123.596519, 1.0], [10.089791, 122.868499, 1.0], [10.090127, 122.868547, 1.0], [10.090245, 122.868323, 1.0], [10.0964, 122.946, 1.0], [10.099319, 122.870788, 1.0], [10.115545, 123.26972, 1.0], [10.116667, 123.26667, 1.0], [10.116899, 123.267249, 1.0], [10.117858, 123.224263, 1.0], [10.118769, 123.2704, 2.0], [10.119626, 122.980442, 1.0], [10.119626, 123.270972, 1.0], [10.119955, 123.272218, 1.0], [10.120328, 123.271863, 1.0], [10.120571, 123.272642, 1.0], [10.12085, 123.273881, 1.0], [10.129501, 123.239133, 1.0], [10.13832, 123.247024, 1.0], [10.1675, 123.040833, 1.0], [10.185557, 123.11749, 1.0], [10.18668, 123.131017, 1.0], [10.187836, 123.004886, 1.0], [10.190674, 122.852482, 1.0], [10.199695, 122.866307, 1.0], [10.201146, 122.983157, 1.0], [10.202233, 122.987772, 1.0], [10.202346, 122.984318, 1.0], [10.206949, 122.944672, 1.0], [10.220368, 123.185752, 1.0], [10.239637, 123.261226, 1.0], [10.243998, 123.833281, 1.0], [10.246463, 119.214643, 1.0], [10.24875, 123.842083, 2.0], [10.257972, 123.848826, 1.0], [10.266401, 123.083366, 1.0], [10.2813, 123.1429, 1.0], [10.283269, 124.787933, 1.0], [10.294671, 123.899858, 1.0], [10.295334, 123.87825, 20.0], [10.295953, 125.050021, 1.0], [10.299222, 123.114941, 1.0], [10.306418, 119.255836, 1.0], [10.31232, 123.951422, 1.0], [10.3125, 123.0252, 1.0], [10.315699, 123.885437, 1.0], [10.316945, 123.283876, 1.0], [10.319474, 123.019802, 2.0], [10.323132, 124.034902, 1.0], [10.324233, 123.926041, 1.0], [10.338213, 123.942398, 1.0], [10.366356, 123.17902, 1.0], [10.36674, 123.1, 1.0], [10.372086, 122.8682, 1.0], [10.3725, 123.123611, 1.0], [10.373363, 124.749222, 1.0], [10.38, 123.2, 1.0], [10.386317, 123.22612, 1.0], [10.388039, 123.220664, 1.0], [10.392308, 123.662925, 1.0], [10.412469, 123.225753, 1.0], [10.457043, 122.859683, 1.0], [10.49241, 124.741302, 1.0], [10.517436, 122.803563, 1.0], [10.518937, 123.03455, 1.0], [10.520803, 122.801878, 1.0], [10.532904, 122.836652, 1.0], [10.53333, 122.83333, 1.0], [10.55056, 123.23639, 1.0], [10.562839, 119.302007, 1.0], [10.565506, 123.081714, 1.0], [10.580451, 122.065048, 1.0], [10.595497, 122.110036, 1.0], [10.59583, 123.483172, 1.0], [10.607992, 123.885775, 1.0], [10.631532, 124.951606, 1.0], [10.638733, 124.31092, 1.0], [10.644036, 122.97079, 1.0], [10.646989, 122.595525, 1.0], [10.649638, 122.233525, 1.0], [10.649982, 122.233303, 2.0], [10.651836, 122.233357, 1.0], [10.663841, 122.590683, 1.0], [10.663984, 122.286655, 1.0], [10.664151, 122.993317, 1.0], [10.66925, 122.949054, 8.0], [10.677126, 122.950864, 1.0], [10.679504, 119.570503, 1.0], [10.686589, 122.511157, 1.0], [10.688228, 122.544345, 1.0], [10.690601, 122.387355, 1.0], [10.693214, 122.47428, 1.0], [10.694875, 122.542728, 1.0], [10.694922, 122.542541, 1.0], [10.695321, 122.544378, 2.0], [10.69649, 122.564451, 4.0], [10.69885, 123.349, 1.0], [10.714321, 123.516045, 1.0], [10.714915, 122.565695, 3.0], [10.71532, 122.532984, 1.0], [10.71546, 122.531721, 1.0], [10.715796, 122.266237, 1.0], [10.716471, 123.516044, 1.0], [10.716484, 122.266241, 1.0], [10.716627, 123.51653, 1.0], [10.716667, 122.266667, 1.0], [10.718053, 122.201564, 1.0], [10.722177, 122.268599, 2.0], [10.723333, 123.510632, 1.0], [10.723932, 122.456193, 1.0], [10.724419, 122.455092, 1.0], [10.725533, 122.55248, 2.0], [10.72703, 123.826289, 1.0], [10.727466, 122.557525, 1.0], [10.727751, 122.557615, 1.0], [10.728566, 124.008363, 1.0], [10.728829, 123.82764, 3.0], [10.73291, 122.53176, 1.0], [10.737698, 122.969069, 1.0], [10.739211, 123.444614, 1.0], [10.747054, 121.942306, 1.0], [10.747932, 122.103989, 1.0], [10.750793, 122.565555, 1.0], [10.751114, 122.223519, 1.0], [10.756452, 123.089593, 1.0], [10.756961, 123.48208, 1.0], [10.76228, 123.369251, 1.0], [10.765019, 122.061017, 1.0], [10.779355, 123.488764, 1.0], [10.780315, 122.387872, 1.0], [10.780442, 122.383039, 1.0], [10.782416, 123.459842, 1.0], [10.783333, 122.3, 2.0], [10.7836, 122.300054, 1.0], [10.78569, 122.304711, 1.0], [10.786173, 122.206377, 1.0], [10.788004, 122.233983, 1.0], [10.789048, 122.590448, 1.0], [10.799732, 122.976272, 1.0], [10.801934, 123.488506, 2.0], [10.817626, 119.499057, 1.0], [10.820629, 123.557071, 1.0], [10.824449, 122.267812, 1.0], [10.840176, 123.499873, 1.0], [10.840278, 123.499167, 1.0], [10.841239, 123.499231, 1.0], [10.841287, 123.499336, 1.0], [10.841391, 123.498609, 1.0], [10.84309, 123.499671, 1.0], [10.862454, 124.88112, 1.0], [10.878378, 123.408287, 1.0], [10.88, 122.43, 1.0], [10.880225, 119.420898, 1.0], [10.882292, 123.065066, 1.0], [10.889425, 123.415368, 1.0], [10.89234, 123.353798, 1.0], [10.892867, 123.415243, 1.0], [10.893, 122.434998, 1.0], [10.895222, 123.018631, 1.0], [10.902124, 123.071524, 1.0], [10.916619, 124.699994, 1.0], [10.926348, 123.309328, 1.0], [10.92993, 122.387862, 1.0], [10.934722, 123.118056, 1.0], [10.935539, 123.421971, 2.0], [10.950626, 123.336393, 1.0], [10.951539, 122.504215, 1.0], [10.95684, 123.308547, 2.0], [10.95803, 123.123, 1.0], [10.974698, 124.893489, 1.0], [11.001601, 122.516703, 1.0], [11.004984, 122.537274, 1.0], [11.016887, 124.600609, 3.0], [11.025189, 122.441258, 1.0], [11.03465, 125.733197, 1.0], [11.042822, 124.61751, 1.0], [11.100556, 124.685833, 1.0], [11.110724, 125.445758, 1.0], [11.119894, 122.570625, 1.0], [11.122297, 122.51087, 1.0], [11.134689, 122.500626, 1.0], [11.14579, 122.514644, 1.0], [11.150919, 122.651762, 1.0], [11.158063, 124.990945, 1.0], [11.166562, 123.017078, 1.0], [11.169659, 124.853559, 1.0], [11.187278, 124.782207, 1.0], [11.188, 124.782, 1.0], [11.18954, 125.013987, 1.0], [11.209709, 119.462254, 1.0], [11.213475, 124.393597, 1.0], [11.214282, 125.002141, 1.0], [11.216977, 122.434284, 1.0], [11.227, 122.925, 1.0], [11.242199, 122.695547, 1.0], [11.244315, 125.004748, 1.0], [11.245132, 125.000279, 1.0], [11.248282, 124.99458, 1.0], [11.250942, 124.001041, 1.0], [11.261504, 122.536964, 1.0], [11.261855, 122.689195, 1.0], [11.261925, 122.538903, 1.0], [11.263506, 122.53376, 1.0], [11.263605, 122.688646, 2.0], [11.26477, 125.535923, 1.0], [11.264832, 123.714728, 1.0], [11.266046, 122.683063, 1.0], [11.266468, 122.533349, 1.0], [11.266584, 122.683342, 1.0], [11.266667, 122.533333, 2.0], [11.280686, 125.550195, 1.0], [11.282051, 125.069369, 1.0], [11.287818, 122.405893, 1.0], [11.3, 124.68, 1.0], [11.34887, 122.60967, 1.0], [11.376115, 122.545184, 1.0], [11.378541, 125.201582, 1.0], [11.386903, 122.780944, 1.0], [11.387, 122.781991, 1.0], [11.390865, 122.648119, 1.0], [11.41194, 125.54583, 1.0], [11.41676, 125.166192, 1.0], [11.421688, 122.667188, 1.0], [11.422087, 122.665934, 1.0], [11.425203, 122.650761, 1.0], [11.433122, 122.106467, 1.0], [11.43327, 122.597702, 1.0], [11.441993, 122.948015, 1.0], [11.447249, 124.428682, 1.0], [11.447279, 125.491158, 1.0], [11.448985, 122.77756, 1.0], [11.471417, 123.088256, 1.0], [11.501172, 125.501514, 1.0], [11.501347, 123.023357, 1.0], [11.50681, 122.794325, 1.0], [11.528889, 123.109444, 1.0], [11.561161, 124.394396, 1.0], [11.583412, 122.752139, 1.0], [11.583658, 122.752783, 1.0], [11.586558, 122.753716, 3.0], [11.5901, 122.0945, 1.0], [11.594645, 124.574937, 1.0], [11.607991, 125.43285, 2.0], [11.608309, 125.433941, 1.0], [11.613123, 124.986496, 1.0], [11.632817, 122.339541, 1.0], [11.635611, 124.368139, 1.0], [11.650319, 122.29994, 1.0], [11.666329, 122.333319, 1.0], [11.701254, 122.363766, 1.0], [11.712124, 122.37462, 1.0], [11.743293, 124.054892, 1.0], [11.745445, 124.038134, 1.0], [11.763428, 124.950514, 1.0], [11.770234, 124.922361, 1.0], [11.772923, 124.884424, 1.0], [11.775031, 124.883423, 1.0], [11.775536, 124.88573, 1.0], [11.776236, 124.884694, 1.0], [11.778017, 124.882222, 1.0], [11.778665, 124.978519, 1.0], [11.789409, 124.896312, 1.0], [11.823425, 124.69506, 1.0], [11.833624, 122.083797, 1.0], [11.836268, 124.961687, 1.0], [11.846274, 125.126754, 3.0], [11.85022, 125.11531, 1.0], [11.868264, 123.914873, 1.0], [11.876926, 123.911533, 1.0], [11.882344, 124.046159, 2.0], [11.884444, 123.881389, 1.0], [11.900089, 124.033088, 1.0], [11.904644, 124.032587, 1.0], [11.935426, 123.951802, 1.0], [11.935867, 123.772197, 1.0], [11.939668, 125.023589, 1.0], [11.94284, 124.00737, 1.0], [11.952089, 124.833596, 1.0], [11.969444, 123.190556, 1.0], [11.979516, 124.825369, 1.0], [11.980769, 124.824215, 1.0], [11.980844, 124.825271, 1.0], [11.995278, 125.447222, 1.0], [11.999833, 123.98326, 1.0], [12.004208, 123.998959, 1.0], [12.012346, 123.887593, 1.0], [12.016832, 124.816499, 1.0], [12.023278, 125.03354, 1.0], [12.025238, 123.278449, 1.0], [12.026849, 123.693881, 1.0], [12.029167, 123.942778, 1.0], [12.029528, 124.812417, 1.0], [12.031783, 123.214528, 1.0], [12.03279, 123.68289, 1.0], [12.033378, 123.200461, 1.0], [12.035627, 123.246346, 1.0], [12.037831, 123.193661, 1.0], [12.038, 125.481, 1.0], [12.038922, 123.194007, 1.0], [12.040278, 123.983056, 2.0], [12.040721, 123.775566, 1.0], [12.05, 125.067, 1.0], [12.055794, 123.72942, 2.0], [12.0592, 124.61495, 1.0], [12.066239, 124.601141, 1.0], [12.066667, 124.6, 1.0], [12.0668, 124.5962, 1.0], [12.067318, 124.595898, 1.0], [12.068103, 123.722371, 1.0], [12.06994, 124.600304, 1.0], [12.072652, 123.970902, 1.0], [12.0741, 123.9706, 1.0], [12.08143, 124.586762, 1.0], [12.1, 125.166667, 1.0], [12.102778, 123.941389, 1.0], [12.1165, 123.883321, 1.0], [12.116667, 123.883333, 1.0], [12.128029, 123.753972, 1.0], [12.138858, 123.790941, 1.0], [12.1406, 125.4397, 1.0], [12.143935, 124.893136, 1.0], [12.14432, 124.885109, 1.0], [12.147222, 124.4525, 1.0], [12.148001, 124.880109, 1.0], [12.149596, 124.882265, 1.0], [12.15218, 123.598999, 1.0], [12.154889, 124.886672, 1.0], [12.159882, 124.865646, 1.0], [12.168148, 123.77412, 1.0], [12.168163, 123.774045, 1.0], [12.170076, 123.36171, 1.0], [12.175646, 123.730202, 1.0], [12.179017, 123.874841, 2.0], [12.183333, 123.866669, 1.0], [12.191633, 123.759328, 1.0], [12.192222, 123.890278, 1.0], [12.193629, 123.788345, 1.0], [12.198764, 124.612856, 1.0], [12.201111, 124.617222, 1.0], [12.21343, 123.805118, 1.0], [12.215028, 123.820561, 1.0], [12.21814, 123.50951, 3.0], [12.221115, 123.823367, 4.0], [12.224609, 123.784397, 1.0], [12.225086, 123.783739, 1.0], [12.225309, 123.783225, 2.0], [12.225849, 123.283313, 1.0], [12.233896, 123.282912, 1.0], [12.23686, 124.37529, 2.0], [12.256057, 123.742061, 1.0], [12.267, 125.371, 2.0], [12.268195, 125.369489, 1.0], [12.26919, 123.540417, 1.0], [12.275431, 123.447619, 1.0], [12.290946, 123.703737, 1.0], [12.29156, 124.616358, 1.0], [12.292754, 125.13779, 1.0], [12.3, 124.83333, 1.0], [12.30004, 124.833415, 1.0], [12.306408, 125.016787, 1.0], [12.315098, 123.424616, 1.0], [12.321094, 124.892505, 1.0], [12.327349, 125.153096, 1.0], [12.333827, 121.34998, 1.0], [12.33687, 123.659981, 1.0], [12.3377, 123.659103, 1.0], [12.338, 123.658997, 2.0], [12.338428, 121.118635, 1.0], [12.339263, 125.031507, 1.0], [12.339499, 125.033855, 1.0], [12.339712, 125.032066, 1.0], [12.34, 125.032005, 1.0], [12.340315, 125.069098, 1.0], [12.348722, 121.065795, 1.0], [12.349039, 123.571724, 1.0], [12.352465, 125.019541, 1.0], [12.35275, 121.06761, 1.0], [12.357435, 123.550408, 1.0], [12.358783, 122.685699, 1.0], [12.367627, 123.621646, 3.0], [12.367922, 123.620761, 3.0], [12.369172, 121.082698, 1.0], [12.369767, 123.626846, 4.0], [12.379446, 123.608517, 1.0], [12.381842, 123.524934, 1.0], [12.382934, 125.29949, 2.0], [12.396116, 123.588644, 2.0], [12.401442, 121.327466, 1.0], [12.407778, 123.405833, 1.0], [12.408223, 123.753794, 1.0], [12.408876, 125.052883, 2.0], [12.409557, 125.054484, 1.0], [12.41667, 124.61667, 1.0], [12.418418, 121.285525, 1.0], [12.420577, 123.780237, 1.0], [12.422, 123.78, 1.0], [12.426075, 123.507391, 1.0], [12.428241, 124.637575, 1.0], [12.454722, 123.771389, 1.0], [12.458056, 125.045556, 1.0], [12.462716, 124.64334, 1.0], [12.466744, 124.647889, 1.0], [12.475771, 125.255491, 1.0], [12.479267, 123.739079, 1.0], [12.480833, 124.422222, 1.0], [12.481643, 123.487862, 1.0], [12.48274, 123.718241, 1.0], [12.4833, 123.7622, 1.0], [12.483523, 123.758673, 1.0], [12.484005, 123.382507, 1.0], [12.49646, 123.717095, 1.0], [12.503525, 124.637103, 1.0], [12.506405, 123.380874, 1.0], [12.510833, 123.3975, 1.0], [12.510915, 124.283352, 1.0], [12.511175, 123.397981, 1.0], [12.511444, 123.397648, 2.0], [12.51599, 123.666215, 2.0], [12.517106, 124.752246, 1.0], [12.526593, 123.746564, 1.0], [12.531642, 120.953223, 1.0], [12.53232, 125.120518, 1.0], [12.535607, 125.129215, 1.0], [12.539776, 123.665371, 1.0], [12.540585, 123.638902, 1.0], [12.562855, 124.933601, 1.0], [12.566123, 123.730269, 1.0], [12.566641, 123.733356, 1.0], [12.5677, 123.7337, 1.0], [12.583226, 123.699987, 1.0], [12.583333, 124.083333, 1.0], [12.588993, 124.069382, 1.0], [12.589877, 124.09236, 1.0], [12.592344, 121.092207, 1.0], [12.598719, 121.483554, 1.0], [12.60775, 124.057775, 1.0], [12.608056, 123.606667, 1.0], [12.611713, 124.055114, 1.0], [12.615547, 124.05756, 1.0], [12.620952, 124.044771, 1.0], [12.622839, 123.668206, 1.0], [12.627043, 124.069382, 1.0], [12.63597, 123.659062, 1.0], [12.637598, 121.440857, 1.0], [12.637797, 123.685452, 1.0], [12.658218, 123.953912, 1.0], [12.664751, 123.887642, 1.0], [12.666227, 123.876248, 1.0], [12.666918, 123.876024, 1.0], [12.67139, 123.875, 1.0], [12.681875, 123.888588, 1.0], [12.700386, 124.033245, 1.0], [12.701949, 121.376471, 1.0], [12.702007, 124.035435, 1.0], [12.702727, 124.034119, 1.0], [12.702948, 124.034123, 1.0], [12.703025, 124.032991, 1.0], [12.703378, 124.045004, 1.0], [12.708158, 123.894143, 1.0], [12.708414, 123.359088, 1.0], [12.715326, 124.056716, 1.0], [12.716728, 121.382804, 1.0], [12.730556, 124.018889, 1.0], [12.731798, 124.068574, 1.0], [12.750193, 124.13716, 1.0], [12.750256, 124.136099, 1.0], [12.750697, 123.926582, 1.0], [12.752498, 123.933722, 1.0], [12.759986, 123.930399, 1.0], [12.77549, 123.313054, 1.0], [12.776606, 123.952547, 1.0], [12.785296, 123.861547, 1.0], [12.811649, 123.967346, 1.0], [12.824688, 124.088357, 1.0], [12.829859, 123.876641, 1.0], [12.833054, 123.839743, 1.0], [12.833855, 124.146046, 1.0], [12.834209, 124.104303, 1.0], [12.83469, 124.056501, 1.0], [12.850032, 123.98328, 1.0], [12.850382, 124.071133, 1.0], [12.850547, 124.071311, 1.0], [12.856113, 124.148018, 1.0], [12.856755, 123.894753, 1.0], [12.858132, 124.018693, 1.0], [12.858529, 120.909917, 1.0], [12.862616, 124.142576, 1.0], [12.86674, 124.016722, 1.0], [12.867368, 124.143448, 2.0], [12.869112, 124.142276, 1.0], [12.872289, 124.009018, 1.0], [12.874015, 124.009082, 1.0], [12.874442, 124.010727, 1.0], [12.890648, 124.130917, 1.0], [12.901758, 123.245241, 2.0], [12.901781, 123.246284, 1.0], [12.902997, 123.247, 1.0], [12.903, 123.247, 1.0], [12.903506, 123.245997, 1.0], [12.910538, 124.042478, 1.0], [12.910675, 123.594594, 1.0], [12.91182, 123.602699, 1.0], [12.915211, 123.629903, 1.0], [12.918374, 123.659351, 1.0], [12.91851, 124.120324, 1.0], [12.919579, 124.123607, 1.0], [12.920064, 124.123, 1.0], [12.920182, 124.122775, 3.0], [12.920444, 124.122866, 1.0], [12.921375, 124.122678, 1.0], [12.921377, 124.124267, 1.0], [12.923379, 123.675023, 1.0], [12.933598, 123.683153, 1.0], [12.934551, 123.781102, 1.0], [12.935278, 124.082778, 1.0], [12.937425, 124.11812, 1.0], [12.943154, 124.06971, 1.0], [12.950056, 123.880422, 1.0], [12.951401, 123.880837, 1.0], [12.956339, 124.047199, 1.0], [12.970187, 124.004177, 3.0], [12.974122, 123.989566, 1.0], [12.974366, 124.025248, 1.0], [12.980138, 123.650937, 1.0], [12.9821, 124.1415, 1.0], [12.98995, 123.673353, 1.0], [12.990552, 124.010798, 10.0], [12.99218, 124.011269, 1.0], [12.99271, 124.014746, 2.0], [13.003889, 124.000525, 1.0], [13.013408, 120.761778, 1.0], [13.014076, 124.071008, 1.0], [13.025418, 124.028392, 1.0], [13.027291, 124.063648, 1.0], [13.029954, 123.665146, 1.0], [13.033117, 123.449759, 1.0], [13.033224, 123.642734, 1.0], [13.034587, 122.988681, 1.0], [13.035417, 123.447825, 1.0], [13.036508, 123.450033, 1.0], [13.037584, 124.122482, 1.0], [13.040437, 124.042512, 1.0], [13.041355, 124.194025, 1.0], [13.046774, 123.687589, 1.0], [13.058242, 124.015178, 1.0], [13.058511, 124.014776, 1.0], [13.067108, 123.695149, 1.0], [13.071, 123.598, 1.0], [13.076936, 123.701406, 1.0], [13.077043, 123.701472, 1.0], [13.086041, 123.685563, 1.0], [13.092207, 123.500619, 1.0], [13.098262, 123.709857, 1.0], [13.102385, 123.511992, 1.0], [13.102427, 123.700122, 1.0], [13.105475, 123.698382, 1.0], [13.107071, 123.768533, 1.0], [13.108465, 123.566352, 1.0], [13.111536, 123.676382, 2.0], [13.116889, 123.468448, 1.0], [13.125264, 122.984521, 1.0], [13.132009, 123.89089, 1.0], [13.139062, 123.7438, 1.0], [13.141662, 123.743365, 1.0], [13.144459, 121.440609, 1.0], [13.144704, 123.741555, 1.0], [13.145438, 121.438575, 1.0], [13.146993, 123.754556, 2.0], [13.147154, 123.748632, 1.0], [13.14953, 123.712601, 1.0], [13.161795, 123.69399, 1.0], [13.161956, 123.693955, 3.0], [13.165139, 123.638555, 1.0], [13.165868, 123.638614, 1.0], [13.170204, 123.527633, 1.0], [13.173328, 121.277093, 2.0], [13.176892, 123.545037, 1.0], [13.177483, 123.528007, 1.0], [13.18385, 123.413771, 1.0], [13.186049, 123.540123, 1.0], [13.189, 123.599, 1.0], [13.190662, 123.598439, 1.0], [13.192288, 123.59917, 1.0], [13.196728, 123.592163, 1.0], [13.20547, 123.582193, 1.0], [13.215948, 123.516667, 1.0], [13.21738, 123.51655, 1.0], [13.220899, 120.599179, 1.0], [13.227022, 123.596058, 1.0], [13.240874, 123.537612, 4.0], [13.24175, 124.041936, 1.0], [13.251747, 123.571169, 1.0], [13.268326, 120.621182, 1.0], [13.27367, 123.525828, 1.0], [13.29127, 122.54445, 1.0], [13.291837, 123.491577, 2.0], [13.301, 123.438, 1.0], [13.318707, 123.738248, 1.0], [13.318755, 123.73859, 1.0], [13.318923, 123.314933, 1.0], [13.329722, 122.53, 1.0], [13.358975, 123.291464, 1.0], [13.371, 123.4202, 1.0], [13.373712, 123.240692, 1.0], [13.377053, 121.164924, 1.0], [13.377094, 121.164571, 1.0], [13.409486, 121.176028, 1.0], [13.413213, 121.175236, 2.0], [13.416, 120.4623, 1.0], [13.416669, 120.463345, 1.0], [13.417375, 120.470731, 1.0], [13.420537, 123.418047, 1.0], [13.432636, 123.413066, 1.0], [13.450183, 120.733211, 1.0], [13.468742, 123.277115, 1.0], [13.471834, 123.35142, 1.0], [13.487805, 120.957922, 1.0], [13.489285, 123.618496, 1.0], [13.493886, 123.325117, 1.0], [13.509638, 123.043699, 1.0], [13.515076, 123.049149, 1.0], [13.518961, 123.049852, 1.0], [13.521982, 122.405953, 1.0], [13.529941, 123.45445, 1.0], [13.545925, 122.372556, 1.0], [13.560981, 123.374843, 2.0], [13.571118, 123.186766, 1.0], [13.575934, 124.21144, 1.0], [13.580829, 123.44216, 1.0], [13.583886, 123.059763, 1.0], [13.584489, 124.211161, 1.0], [13.5926, 122.3215, 1.0], [13.594771, 122.878054, 1.0], [13.595181, 122.323047, 1.0], [13.595447, 124.099567, 1.0], [13.621255, 123.200351, 1.0], [13.6222, 122.2178, 1.0], [13.625042, 123.198294, 1.0], [13.626208, 123.198491, 1.0], [13.629346, 124.301548, 1.0], [13.6391, 123.280549, 1.0], [13.641111, 124.300833, 1.0], [13.64286, 123.086628, 1.0], [13.654084, 123.167483, 1.0], [13.65625, 122.985452, 1.0], [13.663063, 123.318058, 1.0], [13.670775, 123.008377, 1.0], [13.673167, 121.397073, 1.0], [13.677829, 122.932497, 1.0], [13.693382, 123.059132, 1.0], [13.69346, 123.061736, 1.0], [13.693546, 123.060366, 2.0], [13.694464, 123.060053, 1.0], [13.6978, 123.4892, 1.0], [13.698027, 123.48998, 1.0], [13.699915, 123.492994, 1.0], [13.7, 123.066666, 1.0], [13.700002, 123.066383, 1.0], [13.705556, 123.444722, 1.0], [13.708611, 124.361944, 1.0], [13.709994, 124.24216, 1.0], [13.718009, 123.235076, 1.0], [13.726178, 123.117581, 1.0], [13.729444, 123.535, 1.0], [13.7335, 123.51688, 1.0], [13.733903, 123.521401, 1.0], [13.735085, 123.416094, 1.0], [13.736502, 121.198171, 1.0], [13.736638, 123.869033, 1.0], [13.742011, 122.491765, 1.0], [13.746572, 121.056555, 1.0], [13.747556, 122.456188, 1.0], [13.7476, 120.941164, 1.0], [13.750444, 121.377034, 1.0], [13.755857, 121.226651, 1.0], [13.756465, 121.058308, 1.0], [13.757368, 121.043512, 1.0], [13.7576, 121.058325, 3.0], [13.760822, 121.227913, 1.0], [13.761824, 121.365794, 1.0], [13.762966, 122.963632, 1.0], [13.765063, 121.057949, 1.0], [13.767671, 122.976515, 1.0], [13.76844, 123.533188, 1.0], [13.7707, 123.8631, 1.0], [13.773793, 121.166934, 1.0], [13.781568, 121.005253, 1.0], [13.781879, 121.068611, 1.0], [13.783352, 124.394464, 2.0], [13.786537, 121.0278, 1.0], [13.791947, 121.007495, 1.0], [13.792202, 121.008557, 1.0], [13.794381, 120.998433, 1.0], [13.795153, 122.251963, 1.0], [13.796261, 121.067005, 1.0], [13.807022, 122.910116, 1.0], [13.807211, 121.042647, 1.0], [13.816366, 122.781614, 1.0], [13.816667, 122.783333, 1.0], [13.816872, 122.783772, 1.0], [13.81816, 121.133391, 1.0], [13.818619, 122.789848, 1.0], [13.818918, 122.791649, 1.0], [13.819335, 124.175444, 1.0], [13.820728, 122.791793, 1.0], [13.821384, 122.792685, 1.0], [13.823889, 124.194167, 1.0], [13.827547, 124.267638, 2.0], [13.827553, 122.924037, 1.0], [13.82895, 121.39421, 1.0], [13.831945, 122.878003, 1.0], [13.831948, 122.298891, 1.0], [13.832023, 122.877813, 2.0], [13.835663, 120.64927, 1.0], [13.836559, 122.832477, 1.0], [13.841945, 121.164999, 1.0], [13.849081, 120.990672, 1.0], [13.871901, 120.709128, 1.0], [13.876619, 121.104947, 1.0], [13.878069, 122.662987, 1.0], [13.879552, 121.095134, 1.0], [13.882276, 120.913666, 1.0], [13.883333, 122.25, 1.0], [13.883652, 120.916182, 1.0], [13.893994, 120.907266, 1.0], [13.895964, 120.929059, 1.0], [13.895982, 124.150205, 1.0], [13.899285, 124.268417, 1.0], [13.90428, 123.370069, 1.0], [13.907845, 122.183119, 1.0], [13.911581, 120.850705, 1.0], [13.917247, 122.688482, 1.0], [13.917682, 121.082236, 1.0], [13.918468, 120.878524, 1.0], [13.91913, 121.605908, 1.0], [13.920492, 122.100999, 1.0], [13.921011, 121.423063, 1.0], [13.9213, 120.878729, 1.0], [13.92167, 122.595829, 1.0], [13.922197, 122.595477, 3.0], [13.923505, 122.596847, 1.0], [13.924384, 122.596213, 1.0], [13.927986, 121.424675, 1.0], [13.930722, 120.834866, 1.0], [13.931052, 121.617683, 2.0], [13.931667, 120.823889, 1.0], [13.932812, 120.933446, 1.0], [13.934145, 120.814387, 1.0], [13.934268, 121.426903, 1.0], [13.93585, 121.951654, 1.0], [13.938569, 121.612011, 2.0], [13.938805, 121.620829, 4.0], [13.940875, 121.160339, 1.0], [13.941876, 121.16442, 3.0], [13.941987, 121.16272, 1.0], [13.94239, 121.164299, 1.0], [13.943898, 120.881303, 1.0], [13.948936, 121.134464, 2.0], [13.95694, 121.57083, 1.0], [13.962909, 121.526711, 2.0], [13.964917, 121.526156, 2.0], [13.9664, 122.5383, 1.0], [13.968324, 121.10434, 1.0], [13.968734, 120.79308, 1.0], [13.968784, 120.793169, 1.0], [13.970441, 120.795359, 1.0], [13.971381, 121.686889, 1.0], [13.971401, 121.083827, 1.0], [13.978595, 121.087967, 1.0], [13.980519, 121.96262, 1.0], [13.983335, 121.791523, 1.0], [13.985557, 121.328429, 1.0], [13.989359, 121.089448, 1.0], [13.997257, 124.182039, 1.0], [13.997293, 121.919201, 1.0], [14.01344, 122.522142, 1.0], [14.017274, 121.401844, 1.0], [14.018624, 120.728946, 1.0], [14.02711, 121.203967, 1.0], [14.029338, 124.141411, 1.0], [14.031391, 122.113091, 1.0], [14.033845, 124.151688, 1.0], [14.035219, 121.325442, 1.0], [14.042333, 121.289039, 1.0], [14.046328, 121.874954, 1.0], [14.049884, 120.903593, 1.0], [14.052228, 120.933138, 1.0], [14.063056, 121.248056, 1.0], [14.064211, 121.323337, 2.0], [14.064285, 121.327505, 1.0], [14.064385, 121.208259, 1.0], [14.064876, 121.123603, 1.0], [14.066109, 122.964542, 1.0], [14.066123, 122.963889, 1.0], [14.066667, 120.633333, 1.0], [14.066697, 120.633319, 1.0], [14.067115, 121.156405, 1.0], [14.068628, 121.160831, 1.0], [14.070873, 120.633322, 1.0], [14.071155, 120.761948, 1.0], [14.07357, 120.635002, 1.0], [14.074055, 120.664674, 1.0], [14.074255, 121.193351, 1.0], [14.07463, 121.324524, 1.0], [14.078639, 122.963676, 1.0], [14.08224, 121.18583, 1.0], [14.083779, 121.069898, 1.0], [14.090019, 121.175173, 1.0], [14.092487, 121.02462, 1.0], [14.093031, 121.021206, 1.0], [14.094652, 121.036403, 1.0], [14.098286, 120.941706, 1.0], [14.098629, 120.940349, 1.0], [14.101845, 120.723782, 1.0], [14.105629, 121.140691, 1.0], [14.114121, 121.554863, 1.0], [14.115558, 122.956465, 1.0], [14.117278, 122.951293, 1.0], [14.117494, 121.302239, 1.0], [14.119686, 122.625722, 1.0], [14.133789, 122.049161, 1.0], [14.137428, 122.411233, 1.0], [14.147853, 121.596165, 1.0], [14.148038, 122.650877, 1.0], [14.149444, 121.493611, 1.0], [14.150733, 121.53574, 1.0], [14.152848, 122.672946, 1.0], [14.153689, 120.609202, 1.0], [14.15551, 121.566027, 1.0], [14.16014, 122.829903, 2.0], [14.163709, 120.629633, 1.0], [14.179627, 121.121545, 1.0], [14.182691, 122.784392, 1.0], [14.184052, 121.516664, 1.0], [14.184076, 122.701195, 1.0], [14.192103, 120.59982, 1.0], [14.196162, 121.124554, 1.0], [14.198272, 121.501047, 1.0], [14.199323, 121.307245, 1.0], [14.201882, 121.137636, 1.0], [14.214737, 121.149886, 1.0], [14.216667, 121.75, 1.0], [14.218389, 120.972948, 1.0], [14.219264, 120.977473, 2.0], [14.239926, 121.137486, 1.0], [14.254587, 122.834917, 1.0], [14.258881, 120.916081, 1.0], [14.265138, 121.445472, 1.0], [14.272535, 121.453144, 1.0], [14.273975, 122.597398, 1.0], [14.274054, 122.673597, 1.0], [14.275742, 122.643585, 1.0], [14.276771, 122.705349, 3.0], [14.278025, 120.867591, 1.0], [14.278332, 121.124742, 1.0], [14.281116, 121.414601, 1.0], [14.28114, 120.849551, 1.0], [14.282421, 122.794776, 1.0], [14.283364, 122.783469, 1.0], [14.283596, 121.418635, 2.0], [14.285594, 122.469369, 1.0], [14.294114, 121.070844, 1.0], [14.296389, 120.99, 1.0], [14.297493, 121.498002, 1.0], [14.298889, 122.650278, 1.0], [14.29937, 120.957359, 1.0], [14.301147, 121.111935, 2.0], [14.30371, 121.078309, 1.0], [14.3083, 121.106758, 1.0], [14.3124, 122.7192, 1.0], [14.313193, 122.491356, 1.0], [14.316306, 121.083523, 1.0], [14.33, 121.08, 1.0], [14.33007, 121.076779, 1.0], [14.330389, 122.493885, 2.0], [14.333568, 120.957515, 1.0], [14.34251, 121.576957, 1.0], [14.343387, 121.066591, 1.0], [14.34479, 121.08238, 1.0], [14.346111, 120.980556, 1.0], [14.346627, 121.05041, 2.0], [14.349671, 121.061366, 1.0], [14.386447, 121.478155, 1.0], [14.390117, 120.856354, 1.0], [14.394605, 120.965183, 1.0], [14.401977, 121.032784, 3.0], [14.407962, 120.849076, 1.0], [14.420209, 120.939674, 1.0], [14.421794, 120.910174, 1.0], [14.429899, 120.936606, 1.0], [14.43, 120.48, 1.0], [14.437222, 120.962449, 1.0], [14.441139, 120.901564, 1.0], [14.442909, 120.993874, 1.0], [14.445994, 121.453113, 1.0], [14.448977, 120.950519, 1.0], [14.450306, 120.950018, 1.0], [14.459238, 120.929034, 1.0], [14.460945, 120.965867, 1.0], [14.465, 120.959167, 1.0], [14.473766, 120.60273, 1.0], [14.476902, 120.597181, 1.0], [14.47913, 120.896963, 1.0], [14.483853, 121.014503, 3.0], [14.484249, 120.899584, 1.0], [14.497222, 121.286392, 1.0], [14.49833, 121.287083, 1.0], [14.514697, 121.066055, 3.0], [14.530948, 121.004257, 9.0], [14.544539, 121.364079, 1.0], [14.549431, 121.033592, 23.0], [14.5559, 120.589431, 1.0], [14.558857, 121.134937, 1.0], [14.5786, 121.1222, 1.0], [14.58251, 121.084236, 8.0], [14.584232, 121.03904, 11.0], [14.585414, 121.207789, 1.0], [14.586325, 121.128569, 1.0], [14.586433, 121.159261, 1.0], [14.590272, 121.19379, 1.0], [14.593587, 120.994294, 1.0], [14.596051, 120.978666, 391.0], [14.599352, 120.984772, 45.0], [14.599512, 120.984219, 1.0], [14.601285, 120.952293, 1.0], [14.602716, 120.395769, 1.0], [14.602955, 121.033813, 3.0], [14.605881, 121.300359, 1.0], [14.616869, 120.567613, 1.0], [14.620213, 120.581583, 1.0], [14.624406, 121.116598, 1.0], [14.625483, 121.124485, 1.0], [14.626186, 121.125073, 2.0], [14.63029, 120.31427, 1.0], [14.634451, 121.124485, 1.0], [14.641684, 120.481845, 1.0], [14.647183, 121.103012, 1.0], [14.661927, 120.957105, 1.0], [14.663473, 120.943977, 2.0], [14.664772, 120.563957, 1.0], [14.672042, 120.957726, 5.0], [14.67428, 121.057495, 64.0], [14.679084, 120.539549, 45.0], [14.680798, 120.540428, 1.0], [14.694419, 120.538736, 1.0], [14.704171, 120.982384, 3.0], [14.7166, 120.301567, 1.0], [14.724493, 121.03331, 8.0], [14.733546, 120.960947, 1.0], [14.736187, 121.153037, 1.0], [14.740025, 121.149719, 2.0], [14.7425, 121.649444, 1.0], [14.749886, 120.973929, 1.0], [14.771731, 121.3387, 1.0], [14.782931, 120.926157, 1.0], [14.788442, 120.882349, 1.0], [14.792523, 121.148472, 1.0], [14.799401, 120.926037, 1.0], [14.800875, 120.536954, 2.0], [14.810284, 121.047709, 1.0], [14.812377, 121.046346, 1.0], [14.813849, 121.045151, 1.0], [14.816326, 120.866163, 1.0], [14.831034, 120.789448, 1.0], [14.831529, 120.787805, 1.0], [14.83834, 120.285139, 2.0], [14.838794, 120.285018, 4.0], [14.844402, 121.96946, 1.0], [14.845045, 121.969344, 1.0], [14.853023, 120.817043, 1.0], [14.853807, 120.818175, 1.0], [14.87394, 120.79533, 1.0], [14.879998, 120.708386, 1.0], [14.9, 120.716667, 1.0], [14.907244, 120.717412, 1.0], [14.908056, 120.715556, 1.0], [14.910937, 121.049495, 1.0], [14.915333, 120.765872, 1.0], [14.915362, 120.767766, 1.0], [14.933339, 121.816667, 1.0], [14.938427, 120.927704, 1.0], [14.950622, 120.762343, 1.0], [14.953046, 120.768174, 2.0], [14.954176, 120.897415, 1.0], [14.956971, 120.926613, 1.0], [14.965546, 120.632488, 1.0], [14.975632, 121.068392, 1.0], [14.998681, 120.652371, 1.0], [15.000427, 120.652479, 1.0], [15.000822, 121.176401, 1.0], [15.001739, 120.899087, 1.0], [15.009553, 120.936852, 1.0], [15.021316, 120.942444, 1.0], [15.049423, 121.045185, 1.0], [15.052222, 120.938056, 1.0], [15.06293, 120.657602, 1.0], [15.06349, 120.725752, 2.0], [15.065238, 120.720051, 1.0], [15.071862, 120.076634, 1.0], [15.072079, 120.541944, 1.0], [15.10398, 120.4752, 1.0], [15.126774, 120.658121, 1.0], [15.13405, 120.969389, 1.0], [15.145901, 120.980884, 1.0], [15.148368, 120.618773, 1.0], [15.149722, 120.769828, 2.0], [15.153002, 120.591942, 24.0], [15.165059, 120.780373, 1.0], [15.182826, 120.794612, 1.0], [15.2151, 120.6596, 1.0], [15.22137, 120.86045, 1.0], [15.221386, 121.408239, 1.0], [15.222743, 120.572886, 3.0], [15.235298, 120.822297, 1.0], [15.242713, 120.888271, 1.0], [15.246916, 120.854369, 1.0], [15.249382, 120.8499, 1.0], [15.252449, 120.951552, 1.0], [15.260556, 120.971944, 1.0], [15.28, 120.02, 1.0], [15.296107, 120.965538, 1.0], [15.304144, 120.932707, 1.0], [15.3047, 120.0417, 1.0], [15.31167, 120.961818, 1.0], [15.319526, 120.937717, 4.0], [15.32016, 120.83574, 1.0], [15.325997, 119.980529, 2.0], [15.326617, 120.58956, 1.0], [15.330238, 119.974311, 1.0], [15.332065, 119.979541, 1.0], [15.332693, 120.590212, 1.0], [15.336284, 119.972555, 1.0], [15.35045, 120.976716, 1.0], [15.352905, 121.001985, 1.0], [15.353113, 121.01668, 1.0], [15.362739, 120.883802, 1.0], [15.366667, 120.966667, 1.0], [15.369943, 120.962162, 1.0], [15.394873, 120.923767, 1.0], [15.399881, 121.379124, 1.0], [15.40347, 120.60084, 1.0], [15.40505, 120.943216, 1.0], [15.42939, 121.350403, 1.0], [15.436275, 121.046086, 1.0], [15.43669, 121.04746, 1.0], [15.449107, 120.717496, 1.0], [15.45662, 119.957276, 1.0], [15.460241, 119.98972, 1.0], [15.470182, 120.9801, 1.0], [15.476183, 120.960686, 12.0], [15.478598, 120.599741, 2.0], [15.481284, 120.596634, 1.0], [15.487124, 121.032256, 1.0], [15.487553, 120.823427, 1.0], [15.5, 120.843889, 1.0], [15.528553, 119.9608, 1.0], [15.540316, 121.086942, 1.0], [15.543446, 120.595889, 1.0], [15.543534, 121.085281, 5.0], [15.544809, 120.763556, 2.0], [15.547892, 121.085804, 1.0], [15.548184, 120.764867, 1.0], [15.550052, 120.815982, 1.0], [15.582889, 120.918424, 1.0], [15.583012, 121.183973, 1.0], [15.589097, 121.099102, 1.0], [15.592462, 120.904995, 1.0], [15.594984, 119.952367, 1.0], [15.60212, 120.908126, 1.0], [15.602634, 121.051438, 1.0], [15.604504, 121.078307, 1.0], [15.613192, 120.915678, 1.0], [15.616544, 120.43591, 1.0], [15.631111, 121.143889, 1.0], [15.631174, 121.145, 1.0], [15.648598, 120.779557, 1.0], [15.655747, 120.771032, 1.0], [15.658991, 121.222136, 1.0], [15.660564, 120.76857, 1.0], [15.666245, 120.743049, 1.0], [15.677394, 121.12882, 1.0], [15.681193, 120.988965, 1.0], [15.690389, 120.419097, 1.0], [15.690683, 120.987632, 2.0], [15.710002, 119.952729, 1.0], [15.7118, 121.1061, 1.0], [15.735978, 120.573707, 1.0], [15.737871, 120.637966, 1.0], [15.75936, 121.563335, 1.0], [15.774301, 120.439158, 1.0], [15.781416, 120.664528, 1.0], [15.800767, 120.412716, 1.0], [15.801528, 121.459624, 1.0], [15.807151, 121.000686, 1.0], [15.808517, 121.146091, 1.0], [15.814056, 120.320635, 1.0], [15.815098, 120.339908, 1.0], [15.821477, 120.329137, 1.0], [15.833346, 120.200196, 1.0], [15.842942, 120.637421, 1.0], [15.892278, 120.593024, 1.0], [15.901264, 120.587221, 1.0], [15.916432, 120.184829, 1.0], [15.92001, 120.415197, 1.0], [15.9201, 120.414, 1.0], [15.934444, 120.3725, 1.0], [15.940533, 120.203291, 1.0], [15.959405, 121.06625, 1.0], [15.964536, 121.062451, 1.0], [15.979978, 120.569773, 1.0], [15.984035, 121.045297, 1.0], [15.984434, 120.813475, 1.0], [15.993004, 120.431352, 2.0], [15.999064, 120.953212, 1.0], [16.005906, 120.233149, 1.0], [16.009477, 120.411097, 1.0], [16.019725, 120.230802, 1.0], [16.025407, 120.453097, 1.0], [16.0274, 120.7434, 1.0], [16.029468, 120.473846, 1.0], [16.030344, 120.229921, 4.0], [16.0325, 120.153056, 1.0], [16.034761, 120.95895, 1.0], [16.0433, 120.333312, 1.0], [16.044137, 120.339032, 2.0], [16.049006, 120.352198, 1.0], [16.0503, 120.5926, 1.0], [16.063522, 121.147886, 1.0], [16.067341, 120.667999, 1.0], [16.070245, 120.765416, 1.0], [16.070387, 120.764955, 1.0], [16.105772, 121.746511, 1.0], [16.109591, 120.028956, 1.0], [16.110705, 120.545466, 1.0], [16.116214, 119.800036, 1.0], [16.1231, 120.4056, 1.0], [16.18694, 119.85917, 1.0], [16.227832, 122.064291, 1.0], [16.22991, 120.486845, 1.0], [16.255919, 121.685341, 1.0], [16.270042, 121.537, 1.0], [16.289944, 121.765294, 1.0], [16.314876, 121.659681, 1.0], [16.3167, 121.2965, 1.0], [16.325, 120.368611, 2.0], [16.327503, 120.364365, 1.0], [16.332553, 121.787924, 1.0], [16.339782, 121.682125, 1.0], [16.35, 120.416667, 1.0], [16.35, 121.7, 1.0], [16.360271, 120.677149, 1.0], [16.368395, 121.355567, 1.0], [16.391184, 121.107312, 1.0], [16.403702, 120.597924, 1.0], [16.41639, 120.59306, 11.0], [16.41717, 120.592659, 1.0], [16.422119, 121.509998, 1.0], [16.450018, 120.57759, 1.0], [16.451727, 120.5752, 1.0], [16.452739, 120.584237, 1.0], [16.468801, 121.23677, 1.0], [16.483333, 121.15, 1.0], [16.485635, 121.152656, 2.0], [16.512163, 121.747946, 1.0], [16.514602, 121.748104, 1.0], [16.517954, 121.181498, 1.0], [16.533027, 120.398035, 1.0], [16.543576, 121.849185, 1.0], [16.557191, 121.705837, 1.0], [16.566159, 121.761032, 1.0], [16.572529, 120.420713, 1.0], [16.577417, 121.18913, 1.0], [16.57755, 121.911829, 1.0], [16.581926, 121.787521, 2.0], [16.582011, 121.787498, 1.0], [16.60678, 121.253636, 1.0], [16.637222, 120.445556, 1.0], [16.640651, 121.682202, 1.0], [16.651931, 121.085236, 1.0], [16.663036, 121.056387, 1.0], [16.670038, 121.71723, 1.0], [16.670136, 121.717106, 1.0], [16.670273, 121.717215, 1.0], [16.6715, 121.5318, 1.0], [16.674007, 121.466297, 1.0], [16.678336, 121.6614, 1.0], [16.686373, 121.548415, 1.0], [16.695955, 122.220008, 1.0], [16.701617, 120.974655, 1.0], [16.703499, 120.974849, 1.0], [16.710031, 120.347567, 1.0], [16.714502, 121.555002, 1.0], [16.714983, 121.553715, 2.0], [16.715581, 121.553653, 1.0], [16.726386, 120.393512, 1.0], [16.729937, 120.368592, 1.0], [16.75, 121.75, 1.0], [16.751296, 122.028561, 1.0], [16.753657, 121.03983, 2.0], [16.756327, 121.749039, 1.0], [16.771234, 121.098672, 1.0], [16.77664, 121.08651, 1.0], [16.778958, 121.698267, 1.0], [16.779757, 121.694821, 1.0], [16.780833, 122.024444, 1.0], [16.784167, 121.535, 2.0], [16.791487, 120.830925, 1.0], [16.799036, 121.122622, 4.0], [16.821466, 120.405859, 1.0], [16.856811, 120.793674, 1.0], [16.865874, 121.936679, 1.0], [16.866667, 120.783333, 1.0], [16.878563, 122.129079, 1.0], [16.879671, 121.016035, 1.0], [16.883475, 120.97472, 3.0], [16.885565, 122.126684, 1.0], [16.8968, 120.7634, 1.0], [16.902826, 121.956727, 1.0], [16.9146, 120.765421, 1.0], [16.9192, 120.7623, 1.0], [16.969928, 120.748804, 1.0], [16.982354, 120.863486, 1.0], [16.983006, 122.016667, 1.0], [16.983038, 120.855017, 1.0], [16.983333, 122.016667, 4.0], [16.983334, 122.01667, 1.0], [16.985272, 121.931243, 1.0], [16.985834, 121.960378, 1.0], [16.990875, 120.73286, 1.0], [16.991623, 120.735449, 1.0], [16.991752, 120.733215, 1.0], [16.992113, 120.733804, 1.0], [16.9925, 120.734228, 1.0], [16.995849, 120.820084, 1.0], [16.996242, 120.820466, 1.0], [17.000813, 121.825905, 1.0], [17.021916, 120.457568, 1.0], [17.032997, 121.798605, 1.0], [17.03518, 121.718572, 1.0], [17.04702, 120.927707, 1.0], [17.048743, 121.834245, 1.0], [17.048783, 121.833487, 1.0], [17.058685, 121.616074, 1.0], [17.061261, 122.430037, 1.0], [17.077778, 120.491667, 1.0], [17.080789, 120.450563, 1.0], [17.081516, 120.6083, 2.0], [17.0825, 121.943056, 1.0], [17.083333, 120.9, 1.0], [17.084296, 120.900532, 3.0], [17.084393, 120.900526, 1.0], [17.084571, 120.600637, 1.0], [17.086235, 120.974179, 1.0], [17.087511, 120.975462, 1.0], [17.08829, 120.978691, 2.0], [17.08915, 120.977552, 1.0], [17.091122, 120.978527, 1.0], [17.092014, 121.965256, 4.0], [17.098021, 121.736774, 1.0], [17.102177, 120.684266, 1.0], [17.110084, 120.745771, 1.0], [17.117115, 120.449532, 1.0], [17.120258, 120.501681, 1.0], [17.126104, 122.008131, 1.0], [17.130073, 120.699683, 1.0], [17.152669, 120.669032, 1.0], [17.154467, 120.669599, 1.0], [17.156221, 121.491318, 1.0], [17.158856, 120.890182, 1.0], [17.17063, 121.026376, 1.0], [17.178292, 120.713223, 1.0], [17.194535, 120.448809, 1.0], [17.197277, 121.61091, 1.0], [17.203246, 121.63212, 1.0], [17.227866, 120.573958, 1.0], [17.252275, 120.440937, 1.0], [17.274909, 121.809813, 1.0], [17.300071, 120.449896, 1.0], [17.301755, 121.234782, 1.0], [17.3548, 121.1747, 1.0], [17.399743, 120.799866, 1.0], [17.408355, 120.476747, 1.0], [17.411735, 121.43845, 2.0], [17.412622, 121.444182, 5.0], [17.415977, 121.4413, 1.0], [17.427304, 121.435204, 1.0], [17.42802, 120.460246, 1.0], [17.441367, 120.763147, 1.0], [17.443824, 120.825051, 1.0], [17.450867, 121.149987, 2.0], [17.458662, 121.795604, 1.0], [17.461508, 121.794348, 2.0], [17.466863, 121.465383, 1.0], [17.471099, 120.824417, 1.0], [17.491064, 120.761594, 1.0], [17.496438, 121.159995, 1.0], [17.501331, 121.200779, 1.0], [17.504723, 121.102896, 1.0], [17.531613, 121.323522, 1.0], [17.555726, 120.838718, 8.0], [17.559851, 121.697338, 2.0], [17.56491, 120.651829, 1.0], [17.568938, 120.9834, 1.0], [17.572133, 120.387708, 1.0], [17.573341, 121.365767, 1.0], [17.576667, 120.641999, 1.0], [17.577467, 121.368927, 1.0], [17.582784, 121.005421, 1.0], [17.599649, 120.616913, 8.0], [17.6, 121.366667, 1.0], [17.606506, 120.630804, 1.0], [17.609307, 120.905694, 1.0], [17.610807, 121.73237, 1.0], [17.611375, 121.726748, 2.0], [17.611842, 121.72723, 3.0], [17.613878, 121.726719, 3.0], [17.614145, 121.408867, 1.0], [17.614973, 121.406719, 1.0], [17.615, 120.755833, 1.0], [17.615512, 121.406074, 1.0], [17.617008, 121.725162, 1.0], [17.620879, 121.726148, 1.0], [17.627693, 121.717033, 1.0], [17.629363, 120.938496, 1.0], [17.633959, 121.780851, 1.0], [17.647387, 120.709324, 1.0], [17.647509, 120.860108, 1.0], [17.650072, 121.689084, 2.0], [17.654287, 120.71816, 1.0], [17.655964, 121.752737, 1.0], [17.65627, 121.72581, 1.0], [17.667488, 120.949648, 1.0], [17.67258, 120.936674, 1.0], [17.680918, 120.731506, 1.0], [17.68098, 120.42448, 1.0], [17.684253, 120.425601, 1.0], [17.689361, 120.964687, 1.0], [17.698842, 121.504966, 1.0], [17.699765, 120.695704, 1.0], [17.720387, 120.705966, 1.0], [17.749692, 121.478416, 1.0], [17.755108, 121.502111, 1.0], [17.790743, 121.477834, 1.0], [17.79154, 121.477584, 1.0], [17.792192, 120.455709, 1.0], [17.795745, 121.322798, 4.0], [17.801519, 121.664848, 1.0], [17.803075, 120.485657, 1.0], [17.835788, 121.72385, 2.0], [17.839581, 121.255182, 1.0], [17.842246, 121.390126, 1.0], [17.847186, 121.345264, 1.0], [17.856944, 121.4925, 1.0], [17.862691, 121.716797, 1.0], [17.889769, 121.869316, 1.0], [17.88994, 121.870264, 1.0], [17.892728, 121.691519, 1.0], [17.927142, 120.476019, 1.0], [17.92931, 120.470001, 1.0], [17.933332, 120.466667, 1.0], [17.937248, 120.640965, 1.0], [17.952659, 120.52828, 1.0], [17.95476, 121.927803, 1.0], [17.968716, 121.931521, 1.0], [17.97566, 120.483914, 1.0], [17.982719, 120.650597, 1.0], [17.983455, 121.933884, 1.0], [17.996614, 120.501916, 1.0], [18.0182, 120.4876, 1.0], [18.03649, 121.84163, 1.0], [18.05, 120.683333, 2.0], [18.060094, 120.531929, 1.0], [18.06154, 121.645806, 1.0], [18.066689, 121.65, 1.0], [18.067695, 121.631648, 1.0], [18.089075, 120.788069, 1.0], [18.092425, 120.77062, 1.0], [18.093736, 120.76993, 1.0], [18.157995, 120.647306, 1.0], [18.164728, 120.711559, 1.0], [18.165566, 120.717608, 1.0], [18.166667, 120.65, 1.0], [18.195807, 120.592272, 2.0], [18.195952, 120.592738, 2.0], [18.196832, 120.598896, 1.0], [18.197401, 120.590682, 1.0], [18.198333, 121.665, 1.0], [18.199715, 120.632887, 1.0], [18.202179, 121.560516, 1.0], [18.213753, 121.923767, 1.0], [18.216236, 120.605867, 1.0], [18.220096, 121.827532, 1.0], [18.225557, 121.556743, 1.0], [18.225667, 121.559271, 1.0], [18.226253, 121.555824, 1.0], [18.238203, 121.804423, 1.0], [18.246111, 121.791111, 1.0], [18.249002, 121.878783, 1.0], [18.253562, 120.610607, 1.0], [18.256382, 121.034984, 1.0], [18.259177, 121.997309, 2.0], [18.261509, 121.996975, 1.0], [18.266174, 121.851626, 1.0], [18.267035, 121.999308, 1.0], [18.287835, 121.831276, 1.0], [18.296732, 121.575965, 1.0], [18.332319, 120.618432, 1.0], [18.33244, 120.617974, 1.0], [18.332644, 120.617308, 1.0], [18.343511, 120.677042, 1.0], [18.358164, 120.681677, 1.0], [18.358247, 120.681708, 1.0], [18.408081, 121.514921, 1.0], [18.454481, 121.439064, 1.0], [18.464211, 121.34067, 1.0], [18.465387, 120.900653, 1.0], [18.467402, 120.899587, 1.0], [18.511551, 120.644088, 1.0], [18.537136, 120.765284, 2.0], [18.56163, 121.23189, 4.0], [18.561633, 120.787087, 2.0]],\n",
       "                {\n",
       "  &quot;minOpacity&quot;: 0.5,\n",
       "  &quot;maxZoom&quot;: 18,\n",
       "  &quot;radius&quot;: 25,\n",
       "  &quot;blur&quot;: 15,\n",
       "}\n",
       "            );\n",
       "        \n",
       "    \n",
       "            heat_map_8969ac03a8c7009a94f38f18ff64c75b.addTo(map_156a52c627c6ef5f7e8b5cff45645c6a);\n",
       "        \n",
       "    \n",
       "            tile_layer_c31278b3f9b8639819f7ce62551340bb.addTo(map_156a52c627c6ef5f7e8b5cff45645c6a);\n",
       "        \n",
       "    \n",
       "            heat_map_8969ac03a8c7009a94f38f18ff64c75b.addTo(map_156a52c627c6ef5f7e8b5cff45645c6a);\n",
       "        \n",
       "&lt;/script&gt;\n",
       "&lt;/html&gt;\" style=\"position:absolute;width:100%;height:100%;left:0;top:0;border:none !important;\" allowfullscreen webkitallowfullscreen mozallowfullscreen></iframe></div></div>"
      ],
      "text/plain": [
       "<folium.folium.Map at 0x2164146c640>"
      ]
     },
     "execution_count": 26,
     "metadata": {},
     "output_type": "execute_result"
    }
   ],
   "source": [
    "my_map2"
   ]
  },
  {
   "cell_type": "markdown",
   "id": "da0ef8ea-9e3f-465f-a061-5c303fc0d6ea",
   "metadata": {},
   "source": [
    "<h1>Insight No.2</h1>\n",
    "\n",
    "<h4>This heatmap shows that Terrorism is a nationwide concern in the Philippines. Although Mindanao, particularly areas like Zamboanga, Cagayan de Oro, and Davao experiences the most activity, incidents in Luzon and Visayas, including Metro Manila, show that threats are not limited to the south. This calls for a country wide approach to security and prevention.</h4>"
   ]
  },
  {
   "cell_type": "markdown",
   "id": "eb598194-bb0a-4b0e-99b8-cdb8adb675f0",
   "metadata": {},
   "source": [
    "<h1>TARGET ANALYSIS</h1>"
   ]
  },
  {
   "cell_type": "markdown",
   "id": "71541680-40bf-4db8-9a1c-a74cd8c205f1",
   "metadata": {},
   "source": [
    "<h2>Filtering Data</h2>"
   ]
  },
  {
   "cell_type": "code",
   "execution_count": null,
   "id": "d4d0ed75-6b7d-4930-b8c0-244ce2c9be45",
   "metadata": {},
   "outputs": [],
   "source": [
    "filter7 = df[df['targsubtype1_txt'] == 'Police Security Forces/Officers'] #11k"
   ]
  },
  {
   "cell_type": "code",
   "execution_count": null,
   "id": "b04da7ea-c313-4c07-9818-1711f893e2b7",
   "metadata": {},
   "outputs": [],
   "source": [
    "filter8 = filter7[filter7['provstate'] == 'Northern Ireland']"
   ]
  },
  {
   "cell_type": "markdown",
   "id": "30c99633-2ef2-45a8-828c-d0597afa679e",
   "metadata": {},
   "source": [
    "<h2>Data Aggregation</h2>"
   ]
  },
  {
   "cell_type": "code",
   "execution_count": null,
   "id": "ae35d4de-d22f-4028-89a8-3263c2f28455",
   "metadata": {},
   "outputs": [],
   "source": [
    "terror_loc3 = filter8.groupby(['latitude', 'longitude']).size().reset_index(name = 'incident_count')\n",
    "terror_loc3"
   ]
  },
  {
   "cell_type": "markdown",
   "id": "d12c92a8-b2bb-4eda-93dd-007509788cd2",
   "metadata": {},
   "source": [
    "<h3> Converting Pandas Data Frame into Python List</h3>"
   ]
  },
  {
   "cell_type": "code",
   "execution_count": null,
   "id": "adca4dc7-f6ea-4a2f-a1a1-5d2cf4ce5626",
   "metadata": {},
   "outputs": [],
   "source": [
    "#OPTIONAL, for clearer view for the Geospatial Map\n",
    "\n",
    "terror_loc3[\"normalize_data\"] = terror_loc3['incident_count'] - terror_loc3['incident_count'].min() / \\\n",
    "                                terror_loc3['incident_count'].max() - terror_loc3['incident_count']\n",
    "\n",
    "#geospatial folium data should be formatted as a list\n",
    "\n",
    "terror_loc_list3 = terror_loc3[['latitude', 'longitude', 'incident_count']].values.tolist()"
   ]
  },
  {
   "cell_type": "markdown",
   "id": "379d7a2a-ec25-414c-aaf7-e62accecc4bc",
   "metadata": {},
   "source": [
    "<h3> Creating a base map </h3>"
   ]
  },
  {
   "cell_type": "code",
   "execution_count": null,
   "id": "2c48931e-1614-42c4-9993-0f73940d0b03",
   "metadata": {},
   "outputs": [],
   "source": [
    "my_map3 = folium.Map(location = [54.7, -7], zoom_start = 8)"
   ]
  },
  {
   "cell_type": "markdown",
   "id": "6ea53e96-f404-492f-8d22-878b3a836651",
   "metadata": {},
   "source": [
    "<h3> Add Heatmap Layer </h3>"
   ]
  },
  {
   "cell_type": "code",
   "execution_count": null,
   "id": "1b717c26-02a0-4513-a169-8dc72e0c54af",
   "metadata": {},
   "outputs": [],
   "source": [
    "HeatMap(terror_loc_list3).add_to(my_map3)"
   ]
  },
  {
   "cell_type": "code",
   "execution_count": null,
   "id": "ed5d2e84-0390-47f9-8888-5d275594c1ea",
   "metadata": {},
   "outputs": [],
   "source": [
    "my_map3.save('target_analysis.html')\n",
    "print(\"data save to target_analysis.html\")"
   ]
  },
  {
   "cell_type": "markdown",
   "id": "63da8e4e-4e5d-4c38-80d4-eb26f2b778ee",
   "metadata": {},
   "source": [
    "<h2>Calling the map</h2>"
   ]
  },
  {
   "cell_type": "code",
   "execution_count": null,
   "id": "39a1e5c2-d96b-400d-b5ec-7ebe00660dfd",
   "metadata": {},
   "outputs": [],
   "source": [
    "my_map3"
   ]
  },
  {
   "cell_type": "markdown",
   "id": "99e4bc28-f8bf-4bbb-a913-b6c2abb52abe",
   "metadata": {},
   "source": [
    "<h1>Insight No. 3</h1>\n",
    "<h4>From 1970 to 2017, police in Northern Ireland were frequent targets of terrorist attacks, mainly by nationalist groups like the IRA. These attacks aimed to challenge British rule and push for Irish unification, showing how law enforcement became a key symbol in the political conflict.</h4>"
   ]
  },
  {
   "cell_type": "markdown",
   "id": "2f46789a-302b-41ba-b594-c154acf02b5e",
   "metadata": {},
   "source": [
    "<h1>CASUALTY ANALYSIS</h1>"
   ]
  },
  {
   "cell_type": "markdown",
   "id": "d123b6b4-9edc-4562-a806-2d36b4169036",
   "metadata": {},
   "source": [
    "<h2>Filtering Data</h2>"
   ]
  },
  {
   "cell_type": "code",
   "execution_count": null,
   "id": "9d09c0a7-c720-4019-8ad3-bf9af191249a",
   "metadata": {},
   "outputs": [],
   "source": [
    "filter9 = df[df['nkill'] >= 20] #3k"
   ]
  },
  {
   "cell_type": "code",
   "execution_count": null,
   "id": "8395dd2e-c1b5-43e4-8c6f-eb9f8afecb9b",
   "metadata": {},
   "outputs": [],
   "source": [
    "filter10 = filter9[filter9['region_txt'] == 'Sub-Saharan Africa']"
   ]
  },
  {
   "cell_type": "code",
   "execution_count": null,
   "id": "c59d389a-a7bc-48bd-a7f9-db0c30e0c5ae",
   "metadata": {},
   "outputs": [],
   "source": [
    "filter11 = filter10[filter10['attacktype1_txt'] == 'Armed Assault']"
   ]
  },
  {
   "cell_type": "markdown",
   "id": "e3ae9a12-a4f4-4e1a-b4bf-cc9d68662211",
   "metadata": {},
   "source": [
    "<h2>Data Aggregation</h2>"
   ]
  },
  {
   "cell_type": "code",
   "execution_count": null,
   "id": "a607d442-64f6-4fb1-8cc2-5cab534b54e2",
   "metadata": {},
   "outputs": [],
   "source": [
    "terror_loc4 = filter11.groupby(['latitude', 'longitude']).size().reset_index(name = 'incident_count')\n",
    "terror_loc4"
   ]
  },
  {
   "cell_type": "markdown",
   "id": "b51de5da-576f-4b6f-9ddd-11496216b9c0",
   "metadata": {},
   "source": [
    "<h3> Converting Pandas Data Frame into Python List</h3>"
   ]
  },
  {
   "cell_type": "code",
   "execution_count": null,
   "id": "30ebc01c-ca7a-4b8d-aa56-49fcd3039208",
   "metadata": {},
   "outputs": [],
   "source": [
    "#OPTIONAL, for clearer view for the Geospatial Map\n",
    "\n",
    "terror_loc4[\"normalize_data\"] = terror_loc4['incident_count'] - terror_loc4['incident_count'].min() / \\\n",
    "                                terror_loc4['incident_count'].max() - terror_loc4['incident_count']\n",
    "\n",
    "#geospatial folium data should be formatted as a list\n",
    "\n",
    "terror_loc_list4 = terror_loc4[['latitude', 'longitude', 'incident_count']].values.tolist()"
   ]
  },
  {
   "cell_type": "markdown",
   "id": "66078946-dab1-4bc4-9128-f88f3c4629de",
   "metadata": {},
   "source": [
    "<h3> Creating a base map </h3>"
   ]
  },
  {
   "cell_type": "code",
   "execution_count": null,
   "id": "96eb2faa-2b88-4cbc-b6b9-7cd64ad03184",
   "metadata": {},
   "outputs": [],
   "source": [
    "my_map4 = folium.Map(location = [5, 30], zoom_start = 3)"
   ]
  },
  {
   "cell_type": "markdown",
   "id": "d683b9c4-ff08-4f8d-9095-61b2ba6b7d5f",
   "metadata": {},
   "source": [
    "<h3> Add Heatmap Layer </h3>"
   ]
  },
  {
   "cell_type": "code",
   "execution_count": null,
   "id": "6c66bbaf-90e6-485b-b5a0-c9e7b25feec6",
   "metadata": {},
   "outputs": [],
   "source": [
    "HeatMap(terror_loc_list4).add_to(my_map4)"
   ]
  },
  {
   "cell_type": "code",
   "execution_count": null,
   "id": "b13cf301-e2a8-4481-9853-fef82bd2577f",
   "metadata": {},
   "outputs": [],
   "source": [
    "my_map4.save('casualty_analysis.html')\n",
    "print(\"data save to casualty_analysis.html\")"
   ]
  },
  {
   "cell_type": "markdown",
   "id": "93bacb88-4a47-463d-97a9-5e503179c4d5",
   "metadata": {},
   "source": [
    "<h2>Calling the map</h2>"
   ]
  },
  {
   "cell_type": "code",
   "execution_count": null,
   "id": "b5858bbd-6a4f-4285-b7db-8bdd979a89b8",
   "metadata": {},
   "outputs": [],
   "source": [
    "my_map4"
   ]
  },
  {
   "cell_type": "markdown",
   "id": "4e685fc0-f1a3-49b3-a099-9f39dd22be49",
   "metadata": {},
   "source": [
    "<h1>Insight No. 4</h1>\n",
    "<h4>Mass-casualty attacks in Sub-Saharan Africa from 1970 to 2017 reveal how militant groups exploit weak governance. Countries like Nigeria, Somalia, and Sudan experienced deadly assaults by groups such as Boko Haram and Al-Shabaab, often killing 20 or more people in a single attack. These incidents highlight the urgent need for stronger regional security and stability.</h4>"
   ]
  },
  {
   "cell_type": "markdown",
   "id": "106ba2d6-752a-4eaa-9e00-b3fae52f48c6",
   "metadata": {},
   "source": [
    "<h1>ATTACK TYPE ANALYSIS</h1>"
   ]
  },
  {
   "cell_type": "markdown",
   "id": "9c684622-b1d7-4990-8201-bb68dbd9ffc8",
   "metadata": {},
   "source": [
    "<h2>Filtering Data</h2>"
   ]
  },
  {
   "cell_type": "code",
   "execution_count": null,
   "id": "d55f360d-f322-4119-bf00-c0d5cfebdc11",
   "metadata": {},
   "outputs": [],
   "source": [
    "filter12 = df[df['attacktype1_txt'] == 'Assassination'] #19k"
   ]
  },
  {
   "cell_type": "code",
   "execution_count": null,
   "id": "b8ccd901-f4fb-44cd-97d3-7751d59b7b36",
   "metadata": {},
   "outputs": [],
   "source": [
    "filter13 = filter12[filter12['weaptype1_txt'] == 'Melee']"
   ]
  },
  {
   "cell_type": "code",
   "execution_count": null,
   "id": "2c89bf8a-24db-4706-8c07-b3432c302b63",
   "metadata": {},
   "outputs": [],
   "source": [
    "filter14 = filter13[filter13['region_txt'] == 'South Asia']"
   ]
  },
  {
   "cell_type": "markdown",
   "id": "d4e271ec-6b2a-4b76-b2ee-ddd5cb103a2e",
   "metadata": {},
   "source": [
    "<h2>Data Aggregation</h2>"
   ]
  },
  {
   "cell_type": "code",
   "execution_count": null,
   "id": "6e8d4680-eec0-46ba-9da5-6d768a46e9ba",
   "metadata": {},
   "outputs": [],
   "source": [
    "terror_loc5 = filter14.groupby(['latitude', 'longitude']).size().reset_index(name = 'incident_count')\n",
    "terror_loc5"
   ]
  },
  {
   "cell_type": "markdown",
   "id": "f71cb8c1-682f-42f8-a272-21e4d328d161",
   "metadata": {},
   "source": [
    "<h3> Converting Pandas Data Frame into Python List</h3>"
   ]
  },
  {
   "cell_type": "code",
   "execution_count": null,
   "id": "d137ad8f-ac75-4870-8a71-8bbcd85d5aa7",
   "metadata": {},
   "outputs": [],
   "source": [
    "#OPTIONAL, for clearer view for the Geospatial Map\n",
    "\n",
    "terror_loc5[\"normalize_data\"] = terror_loc5['incident_count'] - terror_loc5['incident_count'].min() / \\\n",
    "                                terror_loc5['incident_count'].max() - terror_loc5['incident_count']\n",
    "\n",
    "#geospatial folium data should be formatted as a list\n",
    "\n",
    "terror_loc_list5 = terror_loc5[['latitude', 'longitude', 'incident_count']].values.tolist()"
   ]
  },
  {
   "cell_type": "markdown",
   "id": "92444130-a8d0-4fb0-b2b7-4a89427d666f",
   "metadata": {},
   "source": [
    "<h3> Creating a base map </h3>"
   ]
  },
  {
   "cell_type": "code",
   "execution_count": null,
   "id": "57eab1c4-1896-46ec-9574-0b58aa27912c",
   "metadata": {},
   "outputs": [],
   "source": [
    "my_map5 = folium.Map(location = [20, 80], zoom_start = 4)"
   ]
  },
  {
   "cell_type": "markdown",
   "id": "953ca5a4-2674-4607-bb91-35a8489c5903",
   "metadata": {},
   "source": [
    "<h3> Add Heatmap Layer </h3>"
   ]
  },
  {
   "cell_type": "code",
   "execution_count": null,
   "id": "91b0927a-6638-431e-958b-d44d4bf6b2c6",
   "metadata": {},
   "outputs": [],
   "source": [
    "HeatMap(terror_loc_list5).add_to(my_map5)"
   ]
  },
  {
   "cell_type": "code",
   "execution_count": null,
   "id": "3bcdedaa-3e24-4535-94c1-df178c8725b7",
   "metadata": {},
   "outputs": [],
   "source": [
    "my_map5.save('attack_type_analysis.html')\n",
    "print(\"data save to attack_type_analysis.html\")"
   ]
  },
  {
   "cell_type": "markdown",
   "id": "b85d6200-151c-47fd-a221-30175ee09bca",
   "metadata": {},
   "source": [
    "<h2>Calling the map</h2>"
   ]
  },
  {
   "cell_type": "code",
   "execution_count": null,
   "id": "785cfb1f-714b-490a-af50-2680033c4253",
   "metadata": {},
   "outputs": [],
   "source": [
    "my_map5"
   ]
  },
  {
   "cell_type": "markdown",
   "id": "b64633c8-4eef-498a-938d-d9eebbacfbd6",
   "metadata": {},
   "source": [
    "<h1>Insight No. 5</h1>\n",
    "\n",
    "<h4>Many political assassinations in South Asia used melee weapons like knives or clubs because they are easy to get and allow attackers to get close to their targets. These weapons are often tied to local traditions and are still used today. This shows how culture and access to weapons affect the way attacks are carried out.</h4>"
   ]
  }
 ],
 "metadata": {
  "kernelspec": {
   "display_name": "Python 3 (ipykernel)",
   "language": "python",
   "name": "python3"
  },
  "language_info": {
   "codemirror_mode": {
    "name": "ipython",
    "version": 3
   },
   "file_extension": ".py",
   "mimetype": "text/x-python",
   "name": "python",
   "nbconvert_exporter": "python",
   "pygments_lexer": "ipython3",
   "version": "3.10.7"
  }
 },
 "nbformat": 4,
 "nbformat_minor": 5
}
