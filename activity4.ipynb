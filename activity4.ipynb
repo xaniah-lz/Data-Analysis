{
 "cells": [
  {
   "cell_type": "markdown",
   "id": "4bc1c5f5-556d-4ac1-9d45-9395010649cf",
   "metadata": {},
   "source": [
    "<h1>UK ROAD ACCIDENT DATA ANALYSIS</h1>\n",
    "<h2>INCLUSIVE YEAR 2019 - 2022</h2>"
   ]
  },
  {
   "cell_type": "markdown",
   "id": "1f98f1e5-2a03-4ded-b8dc-bac5ffc660e0",
   "metadata": {},
   "source": [
    "<h2>Analyts : Lorejoy C. Zorrilla</h2>"
   ]
  },
  {
   "cell_type": "markdown",
   "id": "8ffd9c2d-9d40-497f-a87e-d6a1d578c878",
   "metadata": {},
   "source": [
    "<h1>DATA PREPARATION</h1>"
   ]
  },
  {
   "cell_type": "markdown",
   "id": "0d4b175d-1918-4f0e-b9f1-099518b07fe4",
   "metadata": {},
   "source": [
    "<p>Transfer Data set to folder</p>"
   ]
  },
  {
   "cell_type": "markdown",
   "id": "00ee223e-2d78-4568-938c-7b6b737f76b0",
   "metadata": {},
   "source": [
    "<h3>Importing Libraries</h3>"
   ]
  },
  {
   "cell_type": "code",
   "execution_count": 1,
   "id": "43ade9fc-dce0-499f-b09a-d35e0b4cdbbe",
   "metadata": {},
   "outputs": [
    {
     "name": "stdout",
     "output_type": "stream",
     "text": [
      "Defaulting to user installation because normal site-packages is not writeable\n",
      "Requirement already satisfied: folium in c:\\users\\zorri\\appdata\\roaming\\python\\python310\\site-packages (0.19.5)\n",
      "Requirement already satisfied: branca>=0.6.0 in c:\\users\\zorri\\appdata\\roaming\\python\\python310\\site-packages (from folium) (0.8.1)\n",
      "Requirement already satisfied: jinja2>=2.9 in c:\\users\\zorri\\appdata\\roaming\\python\\python310\\site-packages (from folium) (3.1.5)\n",
      "Requirement already satisfied: numpy in c:\\users\\zorri\\appdata\\roaming\\python\\python310\\site-packages (from folium) (2.2.2)\n",
      "Requirement already satisfied: requests in c:\\users\\zorri\\appdata\\roaming\\python\\python310\\site-packages (from folium) (2.32.3)\n",
      "Requirement already satisfied: xyzservices in c:\\users\\zorri\\appdata\\roaming\\python\\python310\\site-packages (from folium) (2025.1.0)\n",
      "Requirement already satisfied: MarkupSafe>=2.0 in c:\\users\\zorri\\appdata\\roaming\\python\\python310\\site-packages (from jinja2>=2.9->folium) (3.0.2)\n",
      "Requirement already satisfied: charset-normalizer<4,>=2 in c:\\users\\zorri\\appdata\\roaming\\python\\python310\\site-packages (from requests->folium) (3.4.1)\n",
      "Requirement already satisfied: idna<4,>=2.5 in c:\\users\\zorri\\appdata\\roaming\\python\\python310\\site-packages (from requests->folium) (3.10)\n",
      "Requirement already satisfied: urllib3<3,>=1.21.1 in c:\\users\\zorri\\appdata\\roaming\\python\\python310\\site-packages (from requests->folium) (2.3.0)\n",
      "Requirement already satisfied: certifi>=2017.4.17 in c:\\users\\zorri\\appdata\\roaming\\python\\python310\\site-packages (from requests->folium) (2024.12.14)\n",
      "Note: you may need to restart the kernel to use updated packages.\n"
     ]
    },
    {
     "name": "stderr",
     "output_type": "stream",
     "text": [
      "\n",
      "[notice] A new release of pip is available: 24.3.1 -> 25.0.1\n",
      "[notice] To update, run: python.exe -m pip install --upgrade pip\n"
     ]
    }
   ],
   "source": [
    "pip install folium"
   ]
  },
  {
   "cell_type": "code",
   "execution_count": 3,
   "id": "28662d1e-f7c6-496d-b377-8f770a645b1d",
   "metadata": {},
   "outputs": [],
   "source": [
    "import numpy as np\n",
    "import pandas as pd\n",
    "import matplotlib.pyplot as plt\n",
    "import seaborn as sns\n",
    "import folium\n",
    "from folium.plugins import HeatMap\n",
    "from scipy.stats import f_oneway"
   ]
  },
  {
   "cell_type": "markdown",
   "id": "0c509f9e-d577-4a53-af62-bb722da7689d",
   "metadata": {},
   "source": [
    "<h1>DATA FRAME</h1>"
   ]
  },
  {
   "cell_type": "code",
   "execution_count": 4,
   "id": "8ee2134c-d04b-4929-b347-04b4c2729c11",
   "metadata": {},
   "outputs": [],
   "source": [
    "accident = pd.read_csv('datasets\\\\accident_data.csv')"
   ]
  },
  {
   "cell_type": "code",
   "execution_count": 5,
   "id": "ef3d4fec-37e9-4699-ba80-bfdcc42150dc",
   "metadata": {},
   "outputs": [
    {
     "data": {
      "text/html": [
       "<div>\n",
       "<style scoped>\n",
       "    .dataframe tbody tr th:only-of-type {\n",
       "        vertical-align: middle;\n",
       "    }\n",
       "\n",
       "    .dataframe tbody tr th {\n",
       "        vertical-align: top;\n",
       "    }\n",
       "\n",
       "    .dataframe thead th {\n",
       "        text-align: right;\n",
       "    }\n",
       "</style>\n",
       "<table border=\"1\" class=\"dataframe\">\n",
       "  <thead>\n",
       "    <tr style=\"text-align: right;\">\n",
       "      <th></th>\n",
       "      <th>Index</th>\n",
       "      <th>Accident_Severity</th>\n",
       "      <th>Accident Date</th>\n",
       "      <th>Latitude</th>\n",
       "      <th>Light_Conditions</th>\n",
       "      <th>District Area</th>\n",
       "      <th>Longitude</th>\n",
       "      <th>Number_of_Casualties</th>\n",
       "      <th>Number_of_Vehicles</th>\n",
       "      <th>Road_Surface_Conditions</th>\n",
       "      <th>Road_Type</th>\n",
       "      <th>Urban_or_Rural_Area</th>\n",
       "      <th>Weather_Conditions</th>\n",
       "      <th>Vehicle_Type</th>\n",
       "    </tr>\n",
       "  </thead>\n",
       "  <tbody>\n",
       "    <tr>\n",
       "      <th>0</th>\n",
       "      <td>200701BS64157</td>\n",
       "      <td>Serious</td>\n",
       "      <td>5/6/2019</td>\n",
       "      <td>51.506187</td>\n",
       "      <td>Darkness - lights lit</td>\n",
       "      <td>Kensington and Chelsea</td>\n",
       "      <td>-0.209082</td>\n",
       "      <td>1</td>\n",
       "      <td>2</td>\n",
       "      <td>Dry</td>\n",
       "      <td>Single carriageway</td>\n",
       "      <td>Urban</td>\n",
       "      <td>Fine no high winds</td>\n",
       "      <td>Car</td>\n",
       "    </tr>\n",
       "    <tr>\n",
       "      <th>1</th>\n",
       "      <td>200701BS65737</td>\n",
       "      <td>Serious</td>\n",
       "      <td>2/7/2019</td>\n",
       "      <td>51.495029</td>\n",
       "      <td>Daylight</td>\n",
       "      <td>Kensington and Chelsea</td>\n",
       "      <td>-0.173647</td>\n",
       "      <td>1</td>\n",
       "      <td>2</td>\n",
       "      <td>Wet or damp</td>\n",
       "      <td>Single carriageway</td>\n",
       "      <td>Urban</td>\n",
       "      <td>Raining no high winds</td>\n",
       "      <td>Car</td>\n",
       "    </tr>\n",
       "    <tr>\n",
       "      <th>2</th>\n",
       "      <td>200701BS66127</td>\n",
       "      <td>Serious</td>\n",
       "      <td>26-08-2019</td>\n",
       "      <td>51.517715</td>\n",
       "      <td>Darkness - lighting unknown</td>\n",
       "      <td>Kensington and Chelsea</td>\n",
       "      <td>-0.210215</td>\n",
       "      <td>1</td>\n",
       "      <td>3</td>\n",
       "      <td>Dry</td>\n",
       "      <td>NaN</td>\n",
       "      <td>Urban</td>\n",
       "      <td>NaN</td>\n",
       "      <td>Taxi/Private hire car</td>\n",
       "    </tr>\n",
       "    <tr>\n",
       "      <th>3</th>\n",
       "      <td>200701BS66128</td>\n",
       "      <td>Serious</td>\n",
       "      <td>16-08-2019</td>\n",
       "      <td>51.495478</td>\n",
       "      <td>Daylight</td>\n",
       "      <td>Kensington and Chelsea</td>\n",
       "      <td>-0.202731</td>\n",
       "      <td>1</td>\n",
       "      <td>4</td>\n",
       "      <td>Dry</td>\n",
       "      <td>Single carriageway</td>\n",
       "      <td>Urban</td>\n",
       "      <td>Fine no high winds</td>\n",
       "      <td>Bus or coach (17 or more pass seats)</td>\n",
       "    </tr>\n",
       "    <tr>\n",
       "      <th>4</th>\n",
       "      <td>200701BS66837</td>\n",
       "      <td>Slight</td>\n",
       "      <td>3/9/2019</td>\n",
       "      <td>51.488576</td>\n",
       "      <td>Darkness - lights lit</td>\n",
       "      <td>Kensington and Chelsea</td>\n",
       "      <td>-0.192487</td>\n",
       "      <td>1</td>\n",
       "      <td>2</td>\n",
       "      <td>Dry</td>\n",
       "      <td>NaN</td>\n",
       "      <td>Urban</td>\n",
       "      <td>NaN</td>\n",
       "      <td>Other vehicle</td>\n",
       "    </tr>\n",
       "    <tr>\n",
       "      <th>...</th>\n",
       "      <td>...</td>\n",
       "      <td>...</td>\n",
       "      <td>...</td>\n",
       "      <td>...</td>\n",
       "      <td>...</td>\n",
       "      <td>...</td>\n",
       "      <td>...</td>\n",
       "      <td>...</td>\n",
       "      <td>...</td>\n",
       "      <td>...</td>\n",
       "      <td>...</td>\n",
       "      <td>...</td>\n",
       "      <td>...</td>\n",
       "      <td>...</td>\n",
       "    </tr>\n",
       "    <tr>\n",
       "      <th>660674</th>\n",
       "      <td>201091NM01760</td>\n",
       "      <td>Slight</td>\n",
       "      <td>18-02-2022</td>\n",
       "      <td>57.374005</td>\n",
       "      <td>Daylight</td>\n",
       "      <td>Highland</td>\n",
       "      <td>-3.467828</td>\n",
       "      <td>2</td>\n",
       "      <td>1</td>\n",
       "      <td>Dry</td>\n",
       "      <td>Single carriageway</td>\n",
       "      <td>Rural</td>\n",
       "      <td>Fine no high winds</td>\n",
       "      <td>Car</td>\n",
       "    </tr>\n",
       "    <tr>\n",
       "      <th>660675</th>\n",
       "      <td>201091NM01881</td>\n",
       "      <td>Slight</td>\n",
       "      <td>21-02-2022</td>\n",
       "      <td>57.232273</td>\n",
       "      <td>Darkness - no lighting</td>\n",
       "      <td>Highland</td>\n",
       "      <td>-3.809281</td>\n",
       "      <td>1</td>\n",
       "      <td>1</td>\n",
       "      <td>Frost or ice</td>\n",
       "      <td>Single carriageway</td>\n",
       "      <td>Rural</td>\n",
       "      <td>Fine no high winds</td>\n",
       "      <td>Car</td>\n",
       "    </tr>\n",
       "    <tr>\n",
       "      <th>660676</th>\n",
       "      <td>201091NM01935</td>\n",
       "      <td>Slight</td>\n",
       "      <td>23-02-2022</td>\n",
       "      <td>57.585044</td>\n",
       "      <td>Daylight</td>\n",
       "      <td>Highland</td>\n",
       "      <td>-3.862727</td>\n",
       "      <td>1</td>\n",
       "      <td>3</td>\n",
       "      <td>Frost or ice</td>\n",
       "      <td>Single carriageway</td>\n",
       "      <td>Rural</td>\n",
       "      <td>Fine no high winds</td>\n",
       "      <td>Car</td>\n",
       "    </tr>\n",
       "    <tr>\n",
       "      <th>660677</th>\n",
       "      <td>201091NM01964</td>\n",
       "      <td>Serious</td>\n",
       "      <td>23-02-2022</td>\n",
       "      <td>57.214898</td>\n",
       "      <td>Darkness - no lighting</td>\n",
       "      <td>Highland</td>\n",
       "      <td>-3.823997</td>\n",
       "      <td>1</td>\n",
       "      <td>2</td>\n",
       "      <td>Wet or damp</td>\n",
       "      <td>Single carriageway</td>\n",
       "      <td>Rural</td>\n",
       "      <td>Fine no high winds</td>\n",
       "      <td>Motorcycle over 500cc</td>\n",
       "    </tr>\n",
       "    <tr>\n",
       "      <th>660678</th>\n",
       "      <td>201091NM02142</td>\n",
       "      <td>Serious</td>\n",
       "      <td>28-02-2022</td>\n",
       "      <td>57.575210</td>\n",
       "      <td>Daylight</td>\n",
       "      <td>Highland</td>\n",
       "      <td>-3.895673</td>\n",
       "      <td>1</td>\n",
       "      <td>1</td>\n",
       "      <td>Wet or damp</td>\n",
       "      <td>Dual carriageway</td>\n",
       "      <td>Rural</td>\n",
       "      <td>Snowing no high winds</td>\n",
       "      <td>Car</td>\n",
       "    </tr>\n",
       "  </tbody>\n",
       "</table>\n",
       "<p>660679 rows × 14 columns</p>\n",
       "</div>"
      ],
      "text/plain": [
       "                Index Accident_Severity Accident Date   Latitude  \\\n",
       "0       200701BS64157           Serious      5/6/2019  51.506187   \n",
       "1       200701BS65737           Serious      2/7/2019  51.495029   \n",
       "2       200701BS66127           Serious    26-08-2019  51.517715   \n",
       "3       200701BS66128           Serious    16-08-2019  51.495478   \n",
       "4       200701BS66837            Slight      3/9/2019  51.488576   \n",
       "...               ...               ...           ...        ...   \n",
       "660674  201091NM01760            Slight    18-02-2022  57.374005   \n",
       "660675  201091NM01881            Slight    21-02-2022  57.232273   \n",
       "660676  201091NM01935            Slight    23-02-2022  57.585044   \n",
       "660677  201091NM01964           Serious    23-02-2022  57.214898   \n",
       "660678  201091NM02142           Serious    28-02-2022  57.575210   \n",
       "\n",
       "                   Light_Conditions           District Area  Longitude  \\\n",
       "0             Darkness - lights lit  Kensington and Chelsea  -0.209082   \n",
       "1                          Daylight  Kensington and Chelsea  -0.173647   \n",
       "2       Darkness - lighting unknown  Kensington and Chelsea  -0.210215   \n",
       "3                          Daylight  Kensington and Chelsea  -0.202731   \n",
       "4             Darkness - lights lit  Kensington and Chelsea  -0.192487   \n",
       "...                             ...                     ...        ...   \n",
       "660674                     Daylight                Highland  -3.467828   \n",
       "660675       Darkness - no lighting                Highland  -3.809281   \n",
       "660676                     Daylight                Highland  -3.862727   \n",
       "660677       Darkness - no lighting                Highland  -3.823997   \n",
       "660678                     Daylight                Highland  -3.895673   \n",
       "\n",
       "        Number_of_Casualties  Number_of_Vehicles Road_Surface_Conditions  \\\n",
       "0                          1                   2                     Dry   \n",
       "1                          1                   2             Wet or damp   \n",
       "2                          1                   3                     Dry   \n",
       "3                          1                   4                     Dry   \n",
       "4                          1                   2                     Dry   \n",
       "...                      ...                 ...                     ...   \n",
       "660674                     2                   1                     Dry   \n",
       "660675                     1                   1            Frost or ice   \n",
       "660676                     1                   3            Frost or ice   \n",
       "660677                     1                   2             Wet or damp   \n",
       "660678                     1                   1             Wet or damp   \n",
       "\n",
       "                 Road_Type Urban_or_Rural_Area     Weather_Conditions  \\\n",
       "0       Single carriageway               Urban     Fine no high winds   \n",
       "1       Single carriageway               Urban  Raining no high winds   \n",
       "2                      NaN               Urban                    NaN   \n",
       "3       Single carriageway               Urban     Fine no high winds   \n",
       "4                      NaN               Urban                    NaN   \n",
       "...                    ...                 ...                    ...   \n",
       "660674  Single carriageway               Rural     Fine no high winds   \n",
       "660675  Single carriageway               Rural     Fine no high winds   \n",
       "660676  Single carriageway               Rural     Fine no high winds   \n",
       "660677  Single carriageway               Rural     Fine no high winds   \n",
       "660678    Dual carriageway               Rural  Snowing no high winds   \n",
       "\n",
       "                                Vehicle_Type  \n",
       "0                                        Car  \n",
       "1                                        Car  \n",
       "2                      Taxi/Private hire car  \n",
       "3       Bus or coach (17 or more pass seats)  \n",
       "4                              Other vehicle  \n",
       "...                                      ...  \n",
       "660674                                   Car  \n",
       "660675                                   Car  \n",
       "660676                                   Car  \n",
       "660677                 Motorcycle over 500cc  \n",
       "660678                                   Car  \n",
       "\n",
       "[660679 rows x 14 columns]"
      ]
     },
     "execution_count": 5,
     "metadata": {},
     "output_type": "execute_result"
    }
   ],
   "source": [
    "accident"
   ]
  },
  {
   "cell_type": "code",
   "execution_count": 5,
   "id": "0252d8ed-a4c7-45c3-b4fa-11c8c8d1e184",
   "metadata": {},
   "outputs": [
    {
     "name": "stdout",
     "output_type": "stream",
     "text": [
      "<class 'pandas.core.frame.DataFrame'>\n",
      "RangeIndex: 660679 entries, 0 to 660678\n",
      "Data columns (total 14 columns):\n",
      " #   Column                   Non-Null Count   Dtype  \n",
      "---  ------                   --------------   -----  \n",
      " 0   Index                    660679 non-null  object \n",
      " 1   Accident_Severity        660679 non-null  object \n",
      " 2   Accident Date            660679 non-null  object \n",
      " 3   Latitude                 660654 non-null  float64\n",
      " 4   Light_Conditions         660679 non-null  object \n",
      " 5   District Area            660679 non-null  object \n",
      " 6   Longitude                660653 non-null  float64\n",
      " 7   Number_of_Casualties     660679 non-null  int64  \n",
      " 8   Number_of_Vehicles       660679 non-null  int64  \n",
      " 9   Road_Surface_Conditions  659953 non-null  object \n",
      " 10  Road_Type                656159 non-null  object \n",
      " 11  Urban_or_Rural_Area      660664 non-null  object \n",
      " 12  Weather_Conditions       646551 non-null  object \n",
      " 13  Vehicle_Type             660679 non-null  object \n",
      "dtypes: float64(2), int64(2), object(10)\n",
      "memory usage: 70.6+ MB\n"
     ]
    }
   ],
   "source": [
    "accident.info()"
   ]
  },
  {
   "cell_type": "code",
   "execution_count": 6,
   "id": "4014452c-d619-4958-ae39-fa46d17fbff5",
   "metadata": {
    "scrolled": true
   },
   "outputs": [
    {
     "data": {
      "text/plain": [
       "Index                          0\n",
       "Accident_Severity              0\n",
       "Accident Date                  0\n",
       "Latitude                      25\n",
       "Light_Conditions               0\n",
       "District Area                  0\n",
       "Longitude                     26\n",
       "Number_of_Casualties           0\n",
       "Number_of_Vehicles             0\n",
       "Road_Surface_Conditions      726\n",
       "Road_Type                   4520\n",
       "Urban_or_Rural_Area           15\n",
       "Weather_Conditions         14128\n",
       "Vehicle_Type                   0\n",
       "dtype: int64"
      ]
     },
     "execution_count": 6,
     "metadata": {},
     "output_type": "execute_result"
    }
   ],
   "source": [
    "accident.isnull().sum()"
   ]
  },
  {
   "cell_type": "code",
   "execution_count": 7,
   "id": "87538a1b-d69b-419a-b114-c40cc5813d25",
   "metadata": {},
   "outputs": [],
   "source": [
    "accident['Latitude'] = accident['Latitude'].fillna(accident['Latitude'].mode()[0])\n",
    "accident['Longitude'] = accident['Longitude'].fillna(accident['Longitude'].mode()[0])\n",
    "accident['Road_Surface_Conditions'] = accident['Road_Surface_Conditions'].fillna('unknown road condition')\n",
    "accident['Road_Type'] = accident['Road_Type'].fillna('unaccounted')\n",
    "accident['Weather_Conditions'] = accident['Weather_Conditions'].fillna('unaccounted')\n",
    "accident['Urban_or_Rural_Area'] = accident['Urban_or_Rural_Area'].fillna(accident['Urban_or_Rural_Area'].mode()[0])"
   ]
  },
  {
   "cell_type": "code",
   "execution_count": 8,
   "id": "3d44c9d2-8fb2-4bde-b982-2d82d37ba473",
   "metadata": {},
   "outputs": [
    {
     "data": {
      "text/plain": [
       "Index                      0\n",
       "Accident_Severity          0\n",
       "Accident Date              0\n",
       "Latitude                   0\n",
       "Light_Conditions           0\n",
       "District Area              0\n",
       "Longitude                  0\n",
       "Number_of_Casualties       0\n",
       "Number_of_Vehicles         0\n",
       "Road_Surface_Conditions    0\n",
       "Road_Type                  0\n",
       "Urban_or_Rural_Area        0\n",
       "Weather_Conditions         0\n",
       "Vehicle_Type               0\n",
       "dtype: int64"
      ]
     },
     "execution_count": 8,
     "metadata": {},
     "output_type": "execute_result"
    }
   ],
   "source": [
    "accident.isnull().sum()"
   ]
  },
  {
   "cell_type": "code",
   "execution_count": null,
   "id": "3a04f6ae-4609-4010-93f4-70feb1a6f8c0",
   "metadata": {},
   "outputs": [],
   "source": []
  },
  {
   "cell_type": "code",
   "execution_count": 9,
   "id": "34264e16-4017-490b-9ac3-9584cb00fb12",
   "metadata": {},
   "outputs": [
    {
     "data": {
      "text/plain": [
       "Index                       object\n",
       "Accident_Severity           object\n",
       "Accident Date               object\n",
       "Latitude                   float64\n",
       "Light_Conditions            object\n",
       "District Area               object\n",
       "Longitude                  float64\n",
       "Number_of_Casualties         int64\n",
       "Number_of_Vehicles           int64\n",
       "Road_Surface_Conditions     object\n",
       "Road_Type                   object\n",
       "Urban_or_Rural_Area         object\n",
       "Weather_Conditions          object\n",
       "Vehicle_Type                object\n",
       "dtype: object"
      ]
     },
     "execution_count": 9,
     "metadata": {},
     "output_type": "execute_result"
    }
   ],
   "source": [
    "accident.dtypes"
   ]
  },
  {
   "cell_type": "markdown",
   "id": "78e8ad6d-1532-4b89-9669-6a4e3a36ddb6",
   "metadata": {},
   "source": [
    "<h1>Converting accident date to actual date types</h1>"
   ]
  },
  {
   "cell_type": "code",
   "execution_count": 6,
   "id": "499bce74-4d7f-48dc-bc0b-067a83c7b2f7",
   "metadata": {},
   "outputs": [
    {
     "data": {
      "text/plain": [
       "0           5/6/2019\n",
       "1           2/7/2019\n",
       "2         26-08-2019\n",
       "3         16-08-2019\n",
       "4           3/9/2019\n",
       "             ...    \n",
       "660674    18-02-2022\n",
       "660675    21-02-2022\n",
       "660676    23-02-2022\n",
       "660677    23-02-2022\n",
       "660678    28-02-2022\n",
       "Name: Accident Date, Length: 660679, dtype: object"
      ]
     },
     "execution_count": 6,
     "metadata": {},
     "output_type": "execute_result"
    }
   ],
   "source": [
    "accident['Accident Date']"
   ]
  },
  {
   "cell_type": "code",
   "execution_count": 7,
   "id": "de219dba-8d9e-4475-bdc6-0ea300279e1c",
   "metadata": {},
   "outputs": [],
   "source": [
    "accident['Accident Date'] = accident['Accident Date'].astype('str')\n",
    "accident.dtypes\n",
    "#remove spaces\n",
    "accident['Accident Date'] = accident['Accident Date'].str.strip()\n",
    "#replace / with -\n",
    "accident['Accident Date'] = accident['Accident Date'].str.replace('/','-')\n"
   ]
  },
  {
   "cell_type": "code",
   "execution_count": 8,
   "id": "b313e5f7-e50d-49a2-a8c6-ad1d94e5c913",
   "metadata": {},
   "outputs": [],
   "source": [
    "accident['Accident Date'] = pd.to_datetime(accident['Accident Date'], dayfirst = True, errors = 'coerce')"
   ]
  },
  {
   "cell_type": "code",
   "execution_count": 9,
   "id": "c2621a83-9151-4a4a-b8e0-02118bea3b65",
   "metadata": {},
   "outputs": [
    {
     "data": {
      "text/plain": [
       "Index                              object\n",
       "Accident_Severity                  object\n",
       "Accident Date              datetime64[ns]\n",
       "Latitude                          float64\n",
       "Light_Conditions                   object\n",
       "District Area                      object\n",
       "Longitude                         float64\n",
       "Number_of_Casualties                int64\n",
       "Number_of_Vehicles                  int64\n",
       "Road_Surface_Conditions            object\n",
       "Road_Type                          object\n",
       "Urban_or_Rural_Area                object\n",
       "Weather_Conditions                 object\n",
       "Vehicle_Type                       object\n",
       "dtype: object"
      ]
     },
     "execution_count": 9,
     "metadata": {},
     "output_type": "execute_result"
    }
   ],
   "source": [
    "accident.dtypes"
   ]
  },
  {
   "cell_type": "code",
   "execution_count": 14,
   "id": "36b74463-3c12-450b-829a-ec01ef3aace9",
   "metadata": {},
   "outputs": [
    {
     "data": {
      "text/plain": [
       "Index                      0\n",
       "Accident_Severity          0\n",
       "Accident Date              0\n",
       "Latitude                   0\n",
       "Light_Conditions           0\n",
       "District Area              0\n",
       "Longitude                  0\n",
       "Number_of_Casualties       0\n",
       "Number_of_Vehicles         0\n",
       "Road_Surface_Conditions    0\n",
       "Road_Type                  0\n",
       "Urban_or_Rural_Area        0\n",
       "Weather_Conditions         0\n",
       "Vehicle_Type               0\n",
       "dtype: int64"
      ]
     },
     "execution_count": 14,
     "metadata": {},
     "output_type": "execute_result"
    }
   ],
   "source": [
    "accident.isnull().sum()"
   ]
  },
  {
   "cell_type": "markdown",
   "id": "912c6908-552e-4d2c-94ef-239310e8e733",
   "metadata": {},
   "source": [
    "<h2>Changing to category</h2>"
   ]
  },
  {
   "cell_type": "code",
   "execution_count": 10,
   "id": "b4177148-e869-4443-a633-a221da299b1e",
   "metadata": {},
   "outputs": [],
   "source": [
    "accident['Accident_Severity']=accident['Accident_Severity'].astype('category')"
   ]
  },
  {
   "cell_type": "code",
   "execution_count": 11,
   "id": "885013a3-d596-476e-8678-e36660d39317",
   "metadata": {},
   "outputs": [],
   "source": [
    "accident['Light_Conditions']=accident['Light_Conditions'].astype('category')"
   ]
  },
  {
   "cell_type": "code",
   "execution_count": 12,
   "id": "69bb2cb6-ee98-4f16-81f4-98865be04693",
   "metadata": {},
   "outputs": [],
   "source": [
    "accident['District Area']=accident['District Area'].astype('category')"
   ]
  },
  {
   "cell_type": "code",
   "execution_count": 13,
   "id": "c98e541e-fb4d-4f66-b1fd-40b4ee2bfd9a",
   "metadata": {},
   "outputs": [],
   "source": [
    "accident['Number_of_Casualties']=accident['Number_of_Casualties'].astype('category')"
   ]
  },
  {
   "cell_type": "code",
   "execution_count": 14,
   "id": "23a86910-aea2-49b3-b68b-945bb186338b",
   "metadata": {},
   "outputs": [],
   "source": [
    "accident['Number_of_Vehicles']=accident['Number_of_Vehicles'].astype('category')"
   ]
  },
  {
   "cell_type": "code",
   "execution_count": 15,
   "id": "a4bf5890-ceec-4d73-a228-aef4d3ba9fe5",
   "metadata": {},
   "outputs": [],
   "source": [
    "accident['Road_Surface_Conditions']=accident['Road_Surface_Conditions'].astype('category')"
   ]
  },
  {
   "cell_type": "code",
   "execution_count": 16,
   "id": "7f4dcdbd-9f47-47a8-9741-3032cba28cd7",
   "metadata": {},
   "outputs": [],
   "source": [
    "accident['Road_Type']=accident['Road_Type'].astype('category')"
   ]
  },
  {
   "cell_type": "code",
   "execution_count": 17,
   "id": "e57477d6-b9e0-4bb7-9838-f01114788c80",
   "metadata": {},
   "outputs": [],
   "source": [
    "accident['Urban_or_Rural_Area']=accident['Urban_or_Rural_Area'].astype('category')"
   ]
  },
  {
   "cell_type": "code",
   "execution_count": 18,
   "id": "e36c8c92-ae2f-4a51-9b73-550c9c639cd1",
   "metadata": {},
   "outputs": [],
   "source": [
    "accident['Weather_Conditions']=accident['Weather_Conditions'].astype('category')"
   ]
  },
  {
   "cell_type": "code",
   "execution_count": 19,
   "id": "b0565a2b-6d6d-4690-a5ff-63e13af2448d",
   "metadata": {},
   "outputs": [],
   "source": [
    "accident['Vehicle_Type']=accident['Vehicle_Type'].astype('category')"
   ]
  },
  {
   "cell_type": "code",
   "execution_count": 20,
   "id": "d62234c5-f0c4-4fae-a8d4-dcaad5df6af9",
   "metadata": {},
   "outputs": [],
   "source": [
    "accident['Latitude']=accident['Latitude'].astype('category')"
   ]
  },
  {
   "cell_type": "code",
   "execution_count": 21,
   "id": "d446a771-6610-44c4-88e4-980d3348ce23",
   "metadata": {},
   "outputs": [],
   "source": [
    "accident['Longitude']=accident['Longitude'].astype('category')"
   ]
  },
  {
   "cell_type": "code",
   "execution_count": 22,
   "id": "683c6327-2986-41b2-b8d2-b86c2bce6dc6",
   "metadata": {},
   "outputs": [
    {
     "data": {
      "text/plain": [
       "Index                              object\n",
       "Accident_Severity                category\n",
       "Accident Date              datetime64[ns]\n",
       "Latitude                         category\n",
       "Light_Conditions                 category\n",
       "District Area                    category\n",
       "Longitude                        category\n",
       "Number_of_Casualties             category\n",
       "Number_of_Vehicles               category\n",
       "Road_Surface_Conditions          category\n",
       "Road_Type                        category\n",
       "Urban_or_Rural_Area              category\n",
       "Weather_Conditions               category\n",
       "Vehicle_Type                     category\n",
       "dtype: object"
      ]
     },
     "execution_count": 22,
     "metadata": {},
     "output_type": "execute_result"
    }
   ],
   "source": [
    "accident.dtypes"
   ]
  },
  {
   "cell_type": "code",
   "execution_count": 23,
   "id": "a6215f92-e1cb-49f4-9f3c-8ed2a19129b4",
   "metadata": {
    "scrolled": true
   },
   "outputs": [
    {
     "data": {
      "text/html": [
       "<div>\n",
       "<style scoped>\n",
       "    .dataframe tbody tr th:only-of-type {\n",
       "        vertical-align: middle;\n",
       "    }\n",
       "\n",
       "    .dataframe tbody tr th {\n",
       "        vertical-align: top;\n",
       "    }\n",
       "\n",
       "    .dataframe thead th {\n",
       "        text-align: right;\n",
       "    }\n",
       "</style>\n",
       "<table border=\"1\" class=\"dataframe\">\n",
       "  <thead>\n",
       "    <tr style=\"text-align: right;\">\n",
       "      <th></th>\n",
       "      <th>Index</th>\n",
       "      <th>Accident_Severity</th>\n",
       "      <th>Accident Date</th>\n",
       "      <th>Latitude</th>\n",
       "      <th>Light_Conditions</th>\n",
       "      <th>District Area</th>\n",
       "      <th>Longitude</th>\n",
       "      <th>Number_of_Casualties</th>\n",
       "      <th>Number_of_Vehicles</th>\n",
       "      <th>Road_Surface_Conditions</th>\n",
       "      <th>Road_Type</th>\n",
       "      <th>Urban_or_Rural_Area</th>\n",
       "      <th>Weather_Conditions</th>\n",
       "      <th>Vehicle_Type</th>\n",
       "    </tr>\n",
       "  </thead>\n",
       "  <tbody>\n",
       "    <tr>\n",
       "      <th>0</th>\n",
       "      <td>200701BS64157</td>\n",
       "      <td>Serious</td>\n",
       "      <td>2019-06-05</td>\n",
       "      <td>51.506187</td>\n",
       "      <td>Darkness - lights lit</td>\n",
       "      <td>Kensington and Chelsea</td>\n",
       "      <td>-0.209082</td>\n",
       "      <td>1</td>\n",
       "      <td>2</td>\n",
       "      <td>Dry</td>\n",
       "      <td>Single carriageway</td>\n",
       "      <td>Urban</td>\n",
       "      <td>Fine no high winds</td>\n",
       "      <td>Car</td>\n",
       "    </tr>\n",
       "    <tr>\n",
       "      <th>1</th>\n",
       "      <td>200701BS65737</td>\n",
       "      <td>Serious</td>\n",
       "      <td>2019-07-02</td>\n",
       "      <td>51.495029</td>\n",
       "      <td>Daylight</td>\n",
       "      <td>Kensington and Chelsea</td>\n",
       "      <td>-0.173647</td>\n",
       "      <td>1</td>\n",
       "      <td>2</td>\n",
       "      <td>Wet or damp</td>\n",
       "      <td>Single carriageway</td>\n",
       "      <td>Urban</td>\n",
       "      <td>Raining no high winds</td>\n",
       "      <td>Car</td>\n",
       "    </tr>\n",
       "    <tr>\n",
       "      <th>2</th>\n",
       "      <td>200701BS66127</td>\n",
       "      <td>Serious</td>\n",
       "      <td>2019-08-26</td>\n",
       "      <td>51.517715</td>\n",
       "      <td>Darkness - lighting unknown</td>\n",
       "      <td>Kensington and Chelsea</td>\n",
       "      <td>-0.210215</td>\n",
       "      <td>1</td>\n",
       "      <td>3</td>\n",
       "      <td>Dry</td>\n",
       "      <td>NaN</td>\n",
       "      <td>Urban</td>\n",
       "      <td>NaN</td>\n",
       "      <td>Taxi/Private hire car</td>\n",
       "    </tr>\n",
       "    <tr>\n",
       "      <th>3</th>\n",
       "      <td>200701BS66128</td>\n",
       "      <td>Serious</td>\n",
       "      <td>2019-08-16</td>\n",
       "      <td>51.495478</td>\n",
       "      <td>Daylight</td>\n",
       "      <td>Kensington and Chelsea</td>\n",
       "      <td>-0.202731</td>\n",
       "      <td>1</td>\n",
       "      <td>4</td>\n",
       "      <td>Dry</td>\n",
       "      <td>Single carriageway</td>\n",
       "      <td>Urban</td>\n",
       "      <td>Fine no high winds</td>\n",
       "      <td>Bus or coach (17 or more pass seats)</td>\n",
       "    </tr>\n",
       "    <tr>\n",
       "      <th>4</th>\n",
       "      <td>200701BS66837</td>\n",
       "      <td>Slight</td>\n",
       "      <td>2019-09-03</td>\n",
       "      <td>51.488576</td>\n",
       "      <td>Darkness - lights lit</td>\n",
       "      <td>Kensington and Chelsea</td>\n",
       "      <td>-0.192487</td>\n",
       "      <td>1</td>\n",
       "      <td>2</td>\n",
       "      <td>Dry</td>\n",
       "      <td>NaN</td>\n",
       "      <td>Urban</td>\n",
       "      <td>NaN</td>\n",
       "      <td>Other vehicle</td>\n",
       "    </tr>\n",
       "    <tr>\n",
       "      <th>...</th>\n",
       "      <td>...</td>\n",
       "      <td>...</td>\n",
       "      <td>...</td>\n",
       "      <td>...</td>\n",
       "      <td>...</td>\n",
       "      <td>...</td>\n",
       "      <td>...</td>\n",
       "      <td>...</td>\n",
       "      <td>...</td>\n",
       "      <td>...</td>\n",
       "      <td>...</td>\n",
       "      <td>...</td>\n",
       "      <td>...</td>\n",
       "      <td>...</td>\n",
       "    </tr>\n",
       "    <tr>\n",
       "      <th>660674</th>\n",
       "      <td>201091NM01760</td>\n",
       "      <td>Slight</td>\n",
       "      <td>2022-02-18</td>\n",
       "      <td>57.374005</td>\n",
       "      <td>Daylight</td>\n",
       "      <td>Highland</td>\n",
       "      <td>-3.467828</td>\n",
       "      <td>2</td>\n",
       "      <td>1</td>\n",
       "      <td>Dry</td>\n",
       "      <td>Single carriageway</td>\n",
       "      <td>Rural</td>\n",
       "      <td>Fine no high winds</td>\n",
       "      <td>Car</td>\n",
       "    </tr>\n",
       "    <tr>\n",
       "      <th>660675</th>\n",
       "      <td>201091NM01881</td>\n",
       "      <td>Slight</td>\n",
       "      <td>2022-02-21</td>\n",
       "      <td>57.232273</td>\n",
       "      <td>Darkness - no lighting</td>\n",
       "      <td>Highland</td>\n",
       "      <td>-3.809281</td>\n",
       "      <td>1</td>\n",
       "      <td>1</td>\n",
       "      <td>Frost or ice</td>\n",
       "      <td>Single carriageway</td>\n",
       "      <td>Rural</td>\n",
       "      <td>Fine no high winds</td>\n",
       "      <td>Car</td>\n",
       "    </tr>\n",
       "    <tr>\n",
       "      <th>660676</th>\n",
       "      <td>201091NM01935</td>\n",
       "      <td>Slight</td>\n",
       "      <td>2022-02-23</td>\n",
       "      <td>57.585044</td>\n",
       "      <td>Daylight</td>\n",
       "      <td>Highland</td>\n",
       "      <td>-3.862727</td>\n",
       "      <td>1</td>\n",
       "      <td>3</td>\n",
       "      <td>Frost or ice</td>\n",
       "      <td>Single carriageway</td>\n",
       "      <td>Rural</td>\n",
       "      <td>Fine no high winds</td>\n",
       "      <td>Car</td>\n",
       "    </tr>\n",
       "    <tr>\n",
       "      <th>660677</th>\n",
       "      <td>201091NM01964</td>\n",
       "      <td>Serious</td>\n",
       "      <td>2022-02-23</td>\n",
       "      <td>57.214898</td>\n",
       "      <td>Darkness - no lighting</td>\n",
       "      <td>Highland</td>\n",
       "      <td>-3.823997</td>\n",
       "      <td>1</td>\n",
       "      <td>2</td>\n",
       "      <td>Wet or damp</td>\n",
       "      <td>Single carriageway</td>\n",
       "      <td>Rural</td>\n",
       "      <td>Fine no high winds</td>\n",
       "      <td>Motorcycle over 500cc</td>\n",
       "    </tr>\n",
       "    <tr>\n",
       "      <th>660678</th>\n",
       "      <td>201091NM02142</td>\n",
       "      <td>Serious</td>\n",
       "      <td>2022-02-28</td>\n",
       "      <td>57.575210</td>\n",
       "      <td>Daylight</td>\n",
       "      <td>Highland</td>\n",
       "      <td>-3.895673</td>\n",
       "      <td>1</td>\n",
       "      <td>1</td>\n",
       "      <td>Wet or damp</td>\n",
       "      <td>Dual carriageway</td>\n",
       "      <td>Rural</td>\n",
       "      <td>Snowing no high winds</td>\n",
       "      <td>Car</td>\n",
       "    </tr>\n",
       "  </tbody>\n",
       "</table>\n",
       "<p>660679 rows × 14 columns</p>\n",
       "</div>"
      ],
      "text/plain": [
       "                Index Accident_Severity Accident Date   Latitude  \\\n",
       "0       200701BS64157           Serious    2019-06-05  51.506187   \n",
       "1       200701BS65737           Serious    2019-07-02  51.495029   \n",
       "2       200701BS66127           Serious    2019-08-26  51.517715   \n",
       "3       200701BS66128           Serious    2019-08-16  51.495478   \n",
       "4       200701BS66837            Slight    2019-09-03  51.488576   \n",
       "...               ...               ...           ...        ...   \n",
       "660674  201091NM01760            Slight    2022-02-18  57.374005   \n",
       "660675  201091NM01881            Slight    2022-02-21  57.232273   \n",
       "660676  201091NM01935            Slight    2022-02-23  57.585044   \n",
       "660677  201091NM01964           Serious    2022-02-23  57.214898   \n",
       "660678  201091NM02142           Serious    2022-02-28  57.575210   \n",
       "\n",
       "                   Light_Conditions           District Area Longitude  \\\n",
       "0             Darkness - lights lit  Kensington and Chelsea -0.209082   \n",
       "1                          Daylight  Kensington and Chelsea -0.173647   \n",
       "2       Darkness - lighting unknown  Kensington and Chelsea -0.210215   \n",
       "3                          Daylight  Kensington and Chelsea -0.202731   \n",
       "4             Darkness - lights lit  Kensington and Chelsea -0.192487   \n",
       "...                             ...                     ...       ...   \n",
       "660674                     Daylight                Highland -3.467828   \n",
       "660675       Darkness - no lighting                Highland -3.809281   \n",
       "660676                     Daylight                Highland -3.862727   \n",
       "660677       Darkness - no lighting                Highland -3.823997   \n",
       "660678                     Daylight                Highland -3.895673   \n",
       "\n",
       "       Number_of_Casualties Number_of_Vehicles Road_Surface_Conditions  \\\n",
       "0                         1                  2                     Dry   \n",
       "1                         1                  2             Wet or damp   \n",
       "2                         1                  3                     Dry   \n",
       "3                         1                  4                     Dry   \n",
       "4                         1                  2                     Dry   \n",
       "...                     ...                ...                     ...   \n",
       "660674                    2                  1                     Dry   \n",
       "660675                    1                  1            Frost or ice   \n",
       "660676                    1                  3            Frost or ice   \n",
       "660677                    1                  2             Wet or damp   \n",
       "660678                    1                  1             Wet or damp   \n",
       "\n",
       "                 Road_Type Urban_or_Rural_Area     Weather_Conditions  \\\n",
       "0       Single carriageway               Urban     Fine no high winds   \n",
       "1       Single carriageway               Urban  Raining no high winds   \n",
       "2                      NaN               Urban                    NaN   \n",
       "3       Single carriageway               Urban     Fine no high winds   \n",
       "4                      NaN               Urban                    NaN   \n",
       "...                    ...                 ...                    ...   \n",
       "660674  Single carriageway               Rural     Fine no high winds   \n",
       "660675  Single carriageway               Rural     Fine no high winds   \n",
       "660676  Single carriageway               Rural     Fine no high winds   \n",
       "660677  Single carriageway               Rural     Fine no high winds   \n",
       "660678    Dual carriageway               Rural  Snowing no high winds   \n",
       "\n",
       "                                Vehicle_Type  \n",
       "0                                        Car  \n",
       "1                                        Car  \n",
       "2                      Taxi/Private hire car  \n",
       "3       Bus or coach (17 or more pass seats)  \n",
       "4                              Other vehicle  \n",
       "...                                      ...  \n",
       "660674                                   Car  \n",
       "660675                                   Car  \n",
       "660676                                   Car  \n",
       "660677                 Motorcycle over 500cc  \n",
       "660678                                   Car  \n",
       "\n",
       "[660679 rows x 14 columns]"
      ]
     },
     "execution_count": 23,
     "metadata": {},
     "output_type": "execute_result"
    }
   ],
   "source": [
    "accident"
   ]
  },
  {
   "cell_type": "code",
   "execution_count": 24,
   "id": "03b5ca58-4f1c-4999-a5ac-c3f8c8d15d2c",
   "metadata": {},
   "outputs": [
    {
     "name": "stdout",
     "output_type": "stream",
     "text": [
      "<class 'pandas.core.frame.DataFrame'>\n",
      "RangeIndex: 660679 entries, 0 to 660678\n",
      "Data columns (total 14 columns):\n",
      " #   Column                   Non-Null Count   Dtype         \n",
      "---  ------                   --------------   -----         \n",
      " 0   Index                    660679 non-null  object        \n",
      " 1   Accident_Severity        660679 non-null  category      \n",
      " 2   Accident Date            660679 non-null  datetime64[ns]\n",
      " 3   Latitude                 660654 non-null  category      \n",
      " 4   Light_Conditions         660679 non-null  category      \n",
      " 5   District Area            660679 non-null  category      \n",
      " 6   Longitude                660653 non-null  category      \n",
      " 7   Number_of_Casualties     660679 non-null  category      \n",
      " 8   Number_of_Vehicles       660679 non-null  category      \n",
      " 9   Road_Surface_Conditions  659953 non-null  category      \n",
      " 10  Road_Type                656159 non-null  category      \n",
      " 11  Urban_or_Rural_Area      660664 non-null  category      \n",
      " 12  Weather_Conditions       646551 non-null  category      \n",
      " 13  Vehicle_Type             660679 non-null  category      \n",
      "dtypes: category(12), datetime64[ns](1), object(1)\n",
      "memory usage: 62.3+ MB\n"
     ]
    }
   ],
   "source": [
    "accident.info()"
   ]
  },
  {
   "cell_type": "code",
   "execution_count": 25,
   "id": "77b76482-1d6d-4f08-bc08-3d82eec8a50b",
   "metadata": {},
   "outputs": [],
   "source": [
    "accident['Year'] = accident['Accident Date'].dt.year\n",
    "accident['Month'] = accident['Accident Date'].dt.month\n",
    "accident['Day'] = accident['Accident Date'].dt.day\n",
    "accident['DayOfWeek'] = accident['Accident Date'].dt.dayofweek"
   ]
  },
  {
   "cell_type": "code",
   "execution_count": 26,
   "id": "f86e70eb-971c-4c1c-839a-89408b3f652d",
   "metadata": {},
   "outputs": [],
   "source": [
    "accident_corr = accident['Number_of_Casualties'].corr(accident['Number_of_Vehicles'])"
   ]
  },
  {
   "cell_type": "code",
   "execution_count": 27,
   "id": "1e228e1f-527d-4e7e-9ae2-e7d24699f172",
   "metadata": {},
   "outputs": [
    {
     "data": {
      "text/plain": [
       "np.float64(0.22888886126927627)"
      ]
     },
     "execution_count": 27,
     "metadata": {},
     "output_type": "execute_result"
    }
   ],
   "source": [
    "accident_corr"
   ]
  },
  {
   "cell_type": "code",
   "execution_count": null,
   "id": "a586f4cf-e14f-49e3-af4e-d9d2c64a48fd",
   "metadata": {},
   "outputs": [],
   "source": [
    "# Calculate and print correlation\n",
    "print(accident['Number_of_Casualties'].corr(accident['Number_of_Vehicles']))\n",
    "\n",
    "# Plot bar graph\n",
    "plt.bar(accident['Number_of_Vehicles'], accident['Number_of_Casualties'], color='teal')\n",
    "\n",
    "plt.title('Number of Casualties vs. Number of Vehicles')\n",
    "plt.xlabel('Number of Vehicles')\n",
    "plt.ylabel('Number of Casualties')\n",
    "plt.show()"
   ]
  },
  {
   "cell_type": "markdown",
   "id": "e0e19375-255f-435c-8c48-dc36af08f9b7",
   "metadata": {},
   "source": [
    "<h1>Insight no.1</h1>\n",
    "<h3>Theres no correlation between the number of casualties and number of vehicles</h3>"
   ]
  },
  {
   "cell_type": "code",
   "execution_count": null,
   "id": "45180845-7790-45c5-9e4a-d6ae8132c5c7",
   "metadata": {},
   "outputs": [],
   "source": [
    "accident[accident['Urban_or_Rural_Area'] == 'Urban']['Number_of_Casualties']"
   ]
  },
  {
   "cell_type": "code",
   "execution_count": null,
   "id": "df3d1637-c193-4959-8589-7ba7028b4a74",
   "metadata": {},
   "outputs": [],
   "source": [
    "f_stats, p_value = f_oneway(accident[accident['Urban_or_Rural_Area'] == 'Urban']['Number_of_Casualties'],\n",
    "                             accident[accident['Urban_or_Rural_Area'] == 'Rural']['Number_of_Casualties']\n",
    "                           )\n",
    "print(p_value)"
   ]
  },
  {
   "cell_type": "code",
   "execution_count": null,
   "id": "520b52a0-0828-4268-83ff-47462ca86d32",
   "metadata": {},
   "outputs": [],
   "source": [
    "casualties_district = accident['Urban_or_Rural_Area'].value_counts().sort_index()\n",
    "casualties_district.plot(kind='bar', figsize=(12, 6), color='teal')\n",
    "\n",
    "plt.title('Casualties on Urban')\n",
    "plt.xlabel('Rural and Urban Area')\n",
    "plt.ylabel('Number of Casualties')\n",
    "plt.show()\n"
   ]
  },
  {
   "cell_type": "markdown",
   "id": "475e0729-c0ff-46e2-b310-ddecdee304a9",
   "metadata": {},
   "source": [
    "<h1>Insight no.2</h1>\n",
    "<h3>There's no correlation between urban or Rural area and Number of casualties</h3>"
   ]
  },
  {
   "cell_type": "code",
   "execution_count": null,
   "id": "b66ad34a-7891-4c71-8a99-d1b50679b2e1",
   "metadata": {},
   "outputs": [],
   "source": [
    "accident['Accident_Severity']"
   ]
  },
  {
   "cell_type": "code",
   "execution_count": null,
   "id": "aac18404-68b6-4c34-89d7-154ccc625207",
   "metadata": {},
   "outputs": [],
   "source": [
    "f_stat, p_value = f_oneway(\n",
    "    accident[accident['Weather_Conditions'] == 'Fine no high winds']['Number_of_Casualties'],\n",
    "    accident[accident['Weather_Conditions'] == 'Snowing no high winds']['Number_of_Casualties'],\n",
    "    accident[accident['Weather_Conditions'] == 'Raining no high winds']['Number_of_Casualties'],\n",
    ")\n",
    "print(p_value)"
   ]
  },
  {
   "cell_type": "code",
   "execution_count": null,
   "id": "cb00ac13-1bc4-4b23-981f-dca29c251487",
   "metadata": {},
   "outputs": [],
   "source": [
    "weather_casualties = accident['Weather_Conditions'].value_counts().sort_index()\n",
    "weather_casualties.plot(kind='bar', figsize=(12, 6), color='teal')\n",
    "\n",
    "plt.title('Casualties based on weather condition')\n",
    "plt.xlabel('weather condition')\n",
    "plt.ylabel('Number of Casualties')\n",
    "plt.show()"
   ]
  },
  {
   "cell_type": "markdown",
   "id": "dae6d8dd-acef-420d-90ec-534a27dd12b3",
   "metadata": {},
   "source": [
    "<h1>Insight no.3</h1>\n",
    "<h3> The number of casualties involved in accidents changes based on weather conditions.</h3>"
   ]
  },
  {
   "cell_type": "code",
   "execution_count": null,
   "id": "3654d8a1-4af1-4a4b-932f-d3304ab32804",
   "metadata": {},
   "outputs": [],
   "source": [
    "most_casualties_district"
   ]
  },
  {
   "cell_type": "code",
   "execution_count": null,
   "id": "7018732e-e852-45a2-8a96-3921b629bff2",
   "metadata": {},
   "outputs": [],
   "source": [
    "casualties_by_district = accident.groupby('District Area')['Number_of_Casualties'].sum().sort_index()\n",
    "\n",
    "casualties_by_district.plot(kind='bar', figsize=(12, 6), color='teal')\n",
    "\n",
    "plt.title('Total Number of Casualties by District Area')\n",
    "plt.xlabel('District Area')\n",
    "plt.ylabel('Total Number of Casualties')\n",
    "plt.show()"
   ]
  },
  {
   "cell_type": "markdown",
   "id": "4fdd6830-63d7-4e2f-b29c-d91da9972b34",
   "metadata": {},
   "source": [
    "<h1>Insight no.4</h1>\n",
    "<h3>The number of casualties in accidents differs by district area.</h3>"
   ]
  },
  {
   "cell_type": "code",
   "execution_count": null,
   "id": "0ff5d96d-c704-45f2-86f3-795e717f0c77",
   "metadata": {},
   "outputs": [],
   "source": [
    "df_2022 = accident[accident['Year'] == 2022]"
   ]
  },
  {
   "cell_type": "code",
   "execution_count": null,
   "id": "2a28a960-1f7f-4886-a3a5-9b2a10eb2261",
   "metadata": {},
   "outputs": [],
   "source": [
    "df_2022"
   ]
  },
  {
   "cell_type": "code",
   "execution_count": null,
   "id": "47bc23c8-315f-4dec-8808-ade730f6dc36",
   "metadata": {},
   "outputs": [],
   "source": [
    "df_2022['Light_Conditions'].value_counts()"
   ]
  },
  {
   "cell_type": "code",
   "execution_count": null,
   "id": "67a3a741-0307-43b9-8ac6-02682ad4f06b",
   "metadata": {},
   "outputs": [],
   "source": [
    "light_conditions_counts = df_2022['Light_Conditions'].value_counts().sort_index()\n",
    "light_conditions_counts.plot(kind='bar', figsize=(12, 6), color='teal')\n",
    "\n",
    "plt.title('Number of Accidents by Light Conditions')\n",
    "plt.xlabel('Light Conditions')\n",
    "plt.ylabel('Number of Accidents')\n",
    "plt.show()"
   ]
  },
  {
   "cell_type": "markdown",
   "id": "4decd744-438e-4b7b-9f5c-cd41f595af64",
   "metadata": {},
   "source": [
    "<h1>Insight no.5</h1>\n",
    "<h3>About 74.6% of the total accident in 2022 happened during Daylight</h3>"
   ]
  },
  {
   "cell_type": "code",
   "execution_count": null,
   "id": "940c7de7-ee21-4e9c-af4d-5041b7482a62",
   "metadata": {},
   "outputs": [],
   "source": [
    "df_2022['Light_Conditions'].value_counts()"
   ]
  },
  {
   "cell_type": "code",
   "execution_count": null,
   "id": "0e49303c-4ac2-4f4a-8ba6-90d1478f80c8",
   "metadata": {},
   "outputs": [],
   "source": [
    "light_conditions_counts = df_2022['Light_Conditions'].value_counts().sort_index()\n",
    "light_conditions_counts.plot(kind='bar', figsize=(12, 6), color='teal')\n",
    "\n",
    "plt.title('Number of Accidents by Light Conditions')\n",
    "plt.xlabel('Light Conditions')\n",
    "plt.ylabel('Number of Accidents')\n",
    "plt.show()"
   ]
  },
  {
   "cell_type": "markdown",
   "id": "23336a5e-20b8-42ac-8f6a-daed6ce9fd93",
   "metadata": {},
   "source": [
    "<h1>Insight no.6</h1>\n",
    "<h3>About 19.07% of the total accident in 2022 happened during Darkness - no lighting</h3>"
   ]
  },
  {
   "cell_type": "code",
   "execution_count": null,
   "id": "e91d4e1a-fb55-45a8-b3e0-711bad238a89",
   "metadata": {},
   "outputs": [],
   "source": [
    "df_2019 = accident[accident['Year'] == 2019]"
   ]
  },
  {
   "cell_type": "code",
   "execution_count": null,
   "id": "eec8b0c4-6f50-4042-b29f-0fca8001a138",
   "metadata": {},
   "outputs": [],
   "source": [
    "df_2019"
   ]
  },
  {
   "cell_type": "code",
   "execution_count": null,
   "id": "853df583-eec0-49c1-9d19-38981eb5853d",
   "metadata": {},
   "outputs": [],
   "source": [
    "df_2019['Light_Conditions'].value_counts()"
   ]
  },
  {
   "cell_type": "code",
   "execution_count": null,
   "id": "ad94035b-9ff8-49eb-8460-494811b2b731",
   "metadata": {},
   "outputs": [],
   "source": [
    "light_conditions_counts = df_2019['Light_Conditions'].value_counts().sort_index()\n",
    "light_conditions_counts.plot(kind='bar', figsize=(12, 6), color='teal')\n",
    "\n",
    "plt.title('Number of Accidents by Light Conditions (2019)')\n",
    "plt.xlabel('Light Conditions')\n",
    "plt.ylabel('Number of Accidents')\n",
    "plt.show()"
   ]
  },
  {
   "cell_type": "markdown",
   "id": "e54ff8d4-9446-4be4-a6db-81f71d663e7b",
   "metadata": {},
   "source": [
    "<h1>Insight no.7</h1>\n",
    "<h3>About 5.95% of the total accident in 2019 happened during Darkness - no lighting</h3>"
   ]
  },
  {
   "cell_type": "code",
   "execution_count": null,
   "id": "05089e63-170b-4002-ad87-4084370633fc",
   "metadata": {},
   "outputs": [],
   "source": [
    "df_2022['Weather_Conditions'].value_counts()"
   ]
  },
  {
   "cell_type": "code",
   "execution_count": null,
   "id": "c65cbccc-9d14-4fed-9726-43d659500833",
   "metadata": {},
   "outputs": [],
   "source": [
    "weather_conditions_counts = df_2022['Weather_Conditions'].value_counts().sort_index()\n",
    "weather_conditions_counts.plot(kind='bar', figsize=(12, 6), color='teal')\n",
    "\n",
    "plt.title('Number of Accidents by Weather Conditions (2022)')\n",
    "plt.xlabel('Weather Conditions')\n",
    "plt.ylabel('Number of Accidents')\n",
    "plt.show()"
   ]
  },
  {
   "cell_type": "markdown",
   "id": "3c139611-14e2-42bd-aa89-37fbdfd8a94c",
   "metadata": {},
   "source": [
    "<h1>Insight no.8</h1>\n",
    "<h3>About 80.30% of the total accident in 2022 happened during Fine no high winds.</h3>"
   ]
  },
  {
   "cell_type": "code",
   "execution_count": null,
   "id": "b299d8cc-48da-4aad-a44e-9db34882abb2",
   "metadata": {},
   "outputs": [],
   "source": [
    "df_2019['Weather_Conditions'].value_counts()"
   ]
  },
  {
   "cell_type": "code",
   "execution_count": null,
   "id": "bebfaf10-0fc4-46c5-a2bb-040573ac966b",
   "metadata": {},
   "outputs": [],
   "source": [
    "weather_conditions_counts = df_2019['Weather_Conditions'].value_counts().sort_index()\n",
    "weather_conditions_counts.plot(kind='bar', figsize=(12, 6), color='teal')\n",
    "\n",
    "plt.title('Number of Accidents by Weather Conditions (2019)')\n",
    "plt.xlabel('Weather Conditions')\n",
    "plt.ylabel('Number of Accidents')\n",
    "plt.show()"
   ]
  },
  {
   "cell_type": "markdown",
   "id": "599b5c6e-506d-44ce-96ea-92666e1bcfb0",
   "metadata": {},
   "source": [
    "<h1>Insight no.9</h1>\n",
    "<h3>About 79% of the total accident in 2022 happened during Fine no high winds.</h3>"
   ]
  },
  {
   "cell_type": "code",
   "execution_count": null,
   "id": "9df9b048-d566-44bf-ab7c-729f53cfa360",
   "metadata": {},
   "outputs": [],
   "source": [
    "accident['Year'].value_counts()"
   ]
  },
  {
   "cell_type": "code",
   "execution_count": null,
   "id": "7797e7c8-83d6-470f-a8fe-09259d56fa2f",
   "metadata": {},
   "outputs": [],
   "source": [
    "df_2019['Accident_Severity'].value_counts()"
   ]
  },
  {
   "cell_type": "code",
   "execution_count": null,
   "id": "1edf604d-0b43-49b4-afc5-3ced3cc7a86a",
   "metadata": {},
   "outputs": [],
   "source": [
    "accident['Accident_Severity'].value_counts()"
   ]
  },
  {
   "cell_type": "code",
   "execution_count": null,
   "id": "6f3f2863-9dab-4cd4-8ad4-ddb6a1115dc8",
   "metadata": {},
   "outputs": [],
   "source": [
    "accident_severity_counts = df_2019['Accident_Severity'].value_counts().sort_index()\n",
    "accident_severity_counts.plot(kind='bar', figsize=(12, 6), color='teal')\n",
    "\n",
    "plt.title('Number of Accidents by Severity (2019)')\n",
    "plt.xlabel('Accident Severity')\n",
    "plt.ylabel('Number of Accidents')\n",
    "plt.show()"
   ]
  },
  {
   "cell_type": "markdown",
   "id": "b49ce117-88dc-4b7b-9109-feedfa877257",
   "metadata": {},
   "source": [
    "<h1>Insight no.10</h1>\n",
    "<h3>About 27.50% of the total accident in 2019 are slight.</h3>"
   ]
  },
  {
   "cell_type": "code",
   "execution_count": null,
   "id": "769a6089-c087-497e-8f79-410d71d56e48",
   "metadata": {},
   "outputs": [],
   "source": [
    "df_2022['Accident_Severity'].value_counts()"
   ]
  },
  {
   "cell_type": "code",
   "execution_count": null,
   "id": "dadf69d9-5eb0-40ef-8944-8b93bfec31bd",
   "metadata": {},
   "outputs": [],
   "source": [
    "accident_severity_counts = df_2022['Accident_Severity'].value_counts().sort_index()\n",
    "accident_severity_counts.plot(kind='bar', figsize=(12, 6), color='teal')\n",
    "\n",
    "plt.title('Number of Accidents by Severity (2022)')\n",
    "plt.xlabel('Accident Severity')\n",
    "plt.ylabel('Number of Accidents')\n",
    "plt.show()"
   ]
  },
  {
   "cell_type": "markdown",
   "id": "54484a27-d4cd-4149-90e8-655b4fecaa04",
   "metadata": {},
   "source": [
    "<h1>Insight no.11</h1>\n",
    "<h3>About 22.01% of the total accident in 2022 are slight.</h3>"
   ]
  },
  {
   "cell_type": "code",
   "execution_count": null,
   "id": "65fb0c56-904d-4786-a196-3ebc71265181",
   "metadata": {},
   "outputs": [],
   "source": [
    "accident['Road_Surface_Conditions'].value_counts()"
   ]
  },
  {
   "cell_type": "code",
   "execution_count": null,
   "id": "e47be104-6bba-443a-a35e-5c32c2c39e84",
   "metadata": {},
   "outputs": [],
   "source": [
    "df_2022['Road_Surface_Conditions'].value_counts()"
   ]
  },
  {
   "cell_type": "code",
   "execution_count": null,
   "id": "9c993b68-fb6c-4b16-a3b0-e69149761eab",
   "metadata": {},
   "outputs": [],
   "source": [
    "road_surface_counts = df_2022['Road_Surface_Conditions'].value_counts().sort_index()\n",
    "road_surface_counts.plot(kind='bar', figsize=(12, 6), color='teal')\n",
    "\n",
    "plt.title('Number of Accidents by Road Surface Conditions (2022)')\n",
    "plt.xlabel('Road Surface Conditions')\n",
    "plt.ylabel('Number of Accidents')\n",
    "plt.show()\n"
   ]
  },
  {
   "cell_type": "markdown",
   "id": "47dbe6a2-374e-43f0-b8af-eca117b26f47",
   "metadata": {},
   "source": [
    "<h1>Insight no.12</h1>\n",
    "<h3>About 22.03% of the total accident in 2022 happened in dry road.</h3>"
   ]
  },
  {
   "cell_type": "code",
   "execution_count": null,
   "id": "677ec61d-3d20-449d-81af-625ca4561c83",
   "metadata": {},
   "outputs": [],
   "source": [
    "df_2019['Road_Surface_Conditions'].value_counts()"
   ]
  },
  {
   "cell_type": "code",
   "execution_count": null,
   "id": "f29d24fd-061a-4edf-8837-77798677d08b",
   "metadata": {},
   "outputs": [],
   "source": [
    "road_surface_counts = df_2019['Road_Surface_Conditions'].value_counts().sort_index()\n",
    "road_surface_counts.plot(kind='bar', figsize=(12, 6), color='teal')\n",
    "\n",
    "plt.title('Number of Accidents by Road Surface Conditions (2019)')\n",
    "plt.xlabel('Road Surface Conditions')\n",
    "plt.ylabel('Number of Accidents')\n",
    "plt.show()"
   ]
  },
  {
   "cell_type": "markdown",
   "id": "f342eda0-37e1-4e11-a384-31005396c02d",
   "metadata": {},
   "source": [
    "<h1>Insight no.13</h1>\n",
    "<h3>About 27.99% of the total accident in 2019 happened in wet or damp road.</h3>"
   ]
  },
  {
   "cell_type": "code",
   "execution_count": null,
   "id": "93455b0d-2bcb-4097-b754-1a41687afb4f",
   "metadata": {},
   "outputs": [],
   "source": [
    "accident['Month'].value_counts()"
   ]
  },
  {
   "cell_type": "code",
   "execution_count": null,
   "id": "da0a0535-1d84-44a7-8920-83cc8643453b",
   "metadata": {},
   "outputs": [],
   "source": [
    "acc_november = accident[accident['Month'] == 11]"
   ]
  },
  {
   "cell_type": "code",
   "execution_count": null,
   "id": "a39f576a-beb9-4f27-8ae2-e901c2b2c073",
   "metadata": {},
   "outputs": [],
   "source": [
    "\n",
    "snow_accidents = acc_november['Road_Surface_Conditions'].value_counts().sort_index()\n",
    "snow_accidents.plot(kind='bar', figsize=(12, 6), color='teal')\n",
    "\n",
    "plt.title('Road Surface Conditions in November Accidents')\n",
    "plt.xlabel('Road Surface Conditions')\n",
    "plt.ylabel('Number of Accidents')\n",
    "plt.show()"
   ]
  },
  {
   "cell_type": "markdown",
   "id": "daaf8c8d-e6a9-4050-8aae-abf7272e4807",
   "metadata": {},
   "source": [
    "<h1>Insight no.14</h1>\n",
    "<h3>About 2.53% of the accident on November happened during Snow.</h3>"
   ]
  },
  {
   "cell_type": "code",
   "execution_count": null,
   "id": "edb15880-4730-472e-a755-c31d115d50b2",
   "metadata": {},
   "outputs": [],
   "source": [
    "df_2022['Urban_or_Rural_Area'].value_counts()"
   ]
  },
  {
   "cell_type": "code",
   "execution_count": null,
   "id": "9b15de68-c8da-4590-abb3-2f82ac646630",
   "metadata": {},
   "outputs": [],
   "source": [
    "accident['Urban_or_Rural_Area'].value_counts()"
   ]
  },
  {
   "cell_type": "code",
   "execution_count": null,
   "id": "357924b0-6398-450d-a052-f5e791eb60ad",
   "metadata": {},
   "outputs": [],
   "source": [
    "urban_rural_counts = df_2022['Urban_or_Rural_Area'].value_counts().sort_index()\n",
    "\n",
    "# Plot the bar graph\n",
    "urban_rural_counts.plot(kind='bar', figsize=(12, 6), color='teal')\n",
    "\n",
    "plt.title('Distribution of Accidents in Urban and Rural Areas (2022)')\n",
    "plt.xlabel('Area Type')\n",
    "plt.ylabel('Number of Accidents')\n",
    "plt.show()"
   ]
  },
  {
   "cell_type": "markdown",
   "id": "915b647e-ad10-4926-bf2b-ebd1cc163a83",
   "metadata": {},
   "source": [
    "<h1>Insight no.15</h1>\n",
    "<h3>About 22.29% of the accident on 2022 happened in Urban Area.</h3>"
   ]
  },
  {
   "cell_type": "code",
   "execution_count": null,
   "id": "c3c1577b-dc8b-49d5-9f87-f83de008b0b4",
   "metadata": {},
   "outputs": [],
   "source": [
    "df_2019['Urban_or_Rural_Area'].value_counts()"
   ]
  },
  {
   "cell_type": "code",
   "execution_count": null,
   "id": "906a202d-fa52-463c-91e1-621c7a592cce",
   "metadata": {},
   "outputs": [],
   "source": [
    "urban_rural_counts = df_2019['Urban_or_Rural_Area'].value_counts().sort_index()\n",
    "urban_rural_counts.plot(kind='bar', figsize=(12, 6), color='teal')\n",
    "\n",
    "plt.title('Number of Accidents in Urban and Rural Areas (2019)')\n",
    "plt.xlabel('Area Type')\n",
    "plt.ylabel('Number of Accidents')\n",
    "plt.show()"
   ]
  },
  {
   "cell_type": "markdown",
   "id": "8939ce7b-7957-4d16-9c64-dcfd116a7a10",
   "metadata": {},
   "source": [
    "<h1>Insight no.16</h1>\n",
    "<h3>About 27.16% of the accident on 2019 happened in Urban Area.</h3>"
   ]
  },
  {
   "cell_type": "code",
   "execution_count": null,
   "id": "1e054939-5bfc-474f-9240-2b0ddd180a62",
   "metadata": {},
   "outputs": [],
   "source": [
    "acc_conditions1 = accident[(accident['Accident_Severity'] == 'Serious') & (accident['Road_Surface_Conditions'] == 'Dry')]"
   ]
  },
  {
   "cell_type": "code",
   "execution_count": null,
   "id": "e3bcfe2a-5335-4e62-8d23-68fd9d84e5cb",
   "metadata": {},
   "outputs": [],
   "source": [
    "acc_conditions1"
   ]
  },
  {
   "cell_type": "code",
   "execution_count": null,
   "id": "0504fd93-a106-47a2-a23f-93ac4cb8dfc3",
   "metadata": {},
   "outputs": [],
   "source": [
    "acc_conditions1 = accident[(accident['Accident_Severity'] == 'Serious') & \n",
    "                           (accident['Road_Surface_Conditions'] == 'Dry')]\n",
    "\n",
    "m = folium.Map(location=[52.4862, -1.8904], zoom_start=11)  \n",
    "\n",
    "if 'Latitude' in acc_conditions1.columns and 'Longitude' in acc_conditions1.columns:\n",
    "    heat_data = acc_conditions1[['Latitude', 'Longitude']].dropna().values.tolist()\n",
    "    \n",
    "    HeatMap(heat_data, radius=12, blur=18, max_zoom=1).add_to(m)\n",
    "else:\n",
    "    print(\"Error: Latitude and Longitude columns are missing in the dataset.\")\n",
    "\n",
    "m.save('serious_accidents_dry_roads_heatmap.html')\n",
    "m"
   ]
  },
  {
   "cell_type": "markdown",
   "id": "c53e0891-05fc-4436-af20-c9fd818fcebc",
   "metadata": {},
   "source": [
    "<h1> Insight no.17</h1>\n",
    "<h3>There are 61,638 accidents happened in Dry Surface with Serious Accident Severity</h3>"
   ]
  },
  {
   "cell_type": "code",
   "execution_count": null,
   "id": "b4be002f-a191-4ab3-8365-b63d75c86f75",
   "metadata": {},
   "outputs": [],
   "source": [
    "years = [2019, 2020, 2021, 2022]\n",
    "top_districts = [accident[accident['Year'] == year]['District Area'].mode()[0] for year in years]\n",
    "\n",
    "district_counts = pd.Series(top_districts).value_counts().sort_index()\n",
    "plt.figure(figsize=(8, 5))\n",
    "bars = plt.bar(district_counts.index, district_counts.values, color='teal')\n",
    "\n",
    "plt.yticks(range(1, len(years) + 1), years)\n",
    "plt.title('Most Accident-Prone Districts (2019-2022)')\n",
    "plt.xlabel('District Area')\n",
    "plt.ylabel('Number of Years as Highest')\n",
    "plt.show()"
   ]
  },
  {
   "cell_type": "markdown",
   "id": "47946eba-71e6-4293-9f42-0611c15fec7d",
   "metadata": {},
   "source": [
    "<h1>Insight no.18</h1>\n",
    "<h3>Birmingham consistently recorded the highest number of accident from 2019 to 2022.</h3>"
   ]
  },
  {
   "cell_type": "code",
   "execution_count": null,
   "id": "7302f21a-d069-475d-995b-c4db2b85225d",
   "metadata": {},
   "outputs": [],
   "source": [
    "monthly_district_accidents = serious_accidents.groupby(['Month', 'District Area']).size().unstack()\n",
    "monthly_district_accidents.plot(kind='bar', figsize=(12, 6), stacked=True, colormap='tab10')\n",
    "\n",
    "plt.title('Monthly Distribution of Serious Accidents by District Area')\n",
    "plt.xlabel('Month')\n",
    "plt.ylabel('Number of Serious Accidents')\n",
    "plt.legend(title='District Area', bbox_to_anchor=(1.05, 1), loc='upper left')\n",
    "plt.show()"
   ]
  },
  {
   "cell_type": "code",
   "execution_count": null,
   "id": "621c046a-a5a6-40c0-9f3c-80d375aa9940",
   "metadata": {},
   "outputs": [],
   "source": [
    "serious_accidents = accident[accident['Accident_Severity'] == 'Serious']\n",
    "serious_district_counts = serious_accidents['District Area'].value_counts().sort_index()\n",
    "\n",
    "serious_district_counts.plot(kind='bar', figsize=(12, 6), color='teal')\n",
    "\n",
    "plt.title('Number of Serious Accidents by District Area')\n",
    "plt.xlabel('District Area')\n",
    "plt.ylabel('Number of Serious Accidents')\n",
    "plt.show()"
   ]
  },
  {
   "cell_type": "code",
   "execution_count": null,
   "id": "7de2f74b-bde3-4a51-b7d6-8bd51cae0d89",
   "metadata": {},
   "outputs": [],
   "source": [
    "serious_district_counts = serious_accidents['District Area'].value_counts().sort_index()\n",
    "serious_district_counts.plot(kind='line', marker='o', linestyle='-', color='b', figsize=(20, 5))\n",
    "\n",
    "plt.title('Number of Serious Accidents by District Area')\n",
    "plt.xlabel('District Area')\n",
    "plt.ylabel('Number of Serious Accidents')\n",
    "plt.grid(True)\n",
    "plt.show()"
   ]
  },
  {
   "cell_type": "code",
   "execution_count": null,
   "id": "85ace05a-74d7-4f41-a1ca-75e525d914a9",
   "metadata": {},
   "outputs": [],
   "source": [
    "most_serious_district"
   ]
  },
  {
   "cell_type": "code",
   "execution_count": null,
   "id": "ba034f4f-92b2-4a2a-800c-541025db96d8",
   "metadata": {},
   "outputs": [],
   "source": [
    "accident['Accident_Severity']"
   ]
  },
  {
   "cell_type": "markdown",
   "id": "68aa135c-1dd1-418b-b4ca-a0078628338b",
   "metadata": {},
   "source": [
    "<h1>Insight no.19</h1>\n",
    "<h3>Birmingham has the highest number of serious accidents</h3>"
   ]
  },
  {
   "cell_type": "code",
   "execution_count": null,
   "id": "88d16858-1d24-4b20-962d-4b330aef8c37",
   "metadata": {},
   "outputs": [],
   "source": [
    "accident.groupby(['Month','Road_Surface_Conditions']).size().unstack()"
   ]
  },
  {
   "cell_type": "code",
   "execution_count": null,
   "id": "c0106176-2803-475e-9b20-5c07afab4b4a",
   "metadata": {},
   "outputs": [],
   "source": [
    "monthly_road_conditions = accident.groupby(['Month', 'Road_Surface_Conditions']).size().unstack()\n",
    "monthly_road_conditions.plot(kind='bar', figsize=(10,5))\n",
    "\n",
    "plt.title('Monthly Distribution of Accidents by Road Surface Conditions')\n",
    "plt.xlabel('Month')\n",
    "plt.ylabel('Number of Accidents')\n",
    "plt.legend(title='Road Surface Conditions', bbox_to_anchor=(1.05, 1), loc='upper left')\n",
    "plt.show()\n"
   ]
  },
  {
   "cell_type": "markdown",
   "id": "987be672-31c6-4b51-a635-a0af1cb28556",
   "metadata": {},
   "source": [
    "<h1>Insight no.20</h1>\n",
    "<h3>From November to January, most of the accident occured in wet or damp road surfaces. In contrast, February to October, the majority of accidents occured in dry surfaces.</h3>"
   ]
  },
  {
   "cell_type": "code",
   "execution_count": null,
   "id": "52aacaf2-8576-44d1-bda4-15771b76b820",
   "metadata": {},
   "outputs": [],
   "source": []
  },
  {
   "cell_type": "code",
   "execution_count": null,
   "id": "f86944b1-1655-43da-b550-a71b88c58854",
   "metadata": {},
   "outputs": [],
   "source": []
  },
  {
   "cell_type": "code",
   "execution_count": null,
   "id": "89571ff2-95dc-4b14-b800-cdcc5ad05b89",
   "metadata": {},
   "outputs": [],
   "source": []
  },
  {
   "cell_type": "code",
   "execution_count": null,
   "id": "7cfd1892-6851-4146-9077-9a8267effffd",
   "metadata": {},
   "outputs": [],
   "source": []
  },
  {
   "cell_type": "code",
   "execution_count": null,
   "id": "89b8b8d8-9572-41ad-accf-7c81af602761",
   "metadata": {},
   "outputs": [],
   "source": []
  },
  {
   "cell_type": "code",
   "execution_count": null,
   "id": "f1c0411b-51ce-480f-8f9c-ff9c5eb0b56e",
   "metadata": {},
   "outputs": [],
   "source": []
  },
  {
   "cell_type": "code",
   "execution_count": null,
   "id": "712efb22-928e-48ff-9d82-91d27637280f",
   "metadata": {},
   "outputs": [],
   "source": []
  },
  {
   "cell_type": "code",
   "execution_count": null,
   "id": "7a896ba5-5bfb-4fb0-a2dc-e26190de0632",
   "metadata": {},
   "outputs": [],
   "source": []
  },
  {
   "cell_type": "code",
   "execution_count": null,
   "id": "bf960d40-d76d-470d-acfe-dcf98570078b",
   "metadata": {},
   "outputs": [],
   "source": []
  },
  {
   "cell_type": "code",
   "execution_count": null,
   "id": "ac1d49c6-11a4-4f98-831f-30ebb4dfc0d1",
   "metadata": {},
   "outputs": [],
   "source": []
  },
  {
   "cell_type": "code",
   "execution_count": null,
   "id": "d8012306-0976-47b4-a0be-7b55f6779631",
   "metadata": {},
   "outputs": [],
   "source": []
  },
  {
   "cell_type": "code",
   "execution_count": null,
   "id": "73afd0f4-8556-47e1-aa78-37b386755783",
   "metadata": {},
   "outputs": [],
   "source": []
  },
  {
   "cell_type": "code",
   "execution_count": null,
   "id": "f60065a9-e90d-46d5-9605-eb12de16bc1f",
   "metadata": {},
   "outputs": [],
   "source": []
  },
  {
   "cell_type": "code",
   "execution_count": null,
   "id": "9bdeb8b0-7d45-4875-995d-bd6272294320",
   "metadata": {},
   "outputs": [],
   "source": []
  },
  {
   "cell_type": "code",
   "execution_count": null,
   "id": "b1831512-dba0-43f9-a0f2-1de3306cb077",
   "metadata": {},
   "outputs": [],
   "source": []
  },
  {
   "cell_type": "code",
   "execution_count": null,
   "id": "5d73a576-9188-497b-9a7c-52703264ee5d",
   "metadata": {},
   "outputs": [],
   "source": []
  },
  {
   "cell_type": "code",
   "execution_count": null,
   "id": "83ffa6f5-cb36-4d58-aa12-4a05df278467",
   "metadata": {},
   "outputs": [],
   "source": []
  },
  {
   "cell_type": "code",
   "execution_count": null,
   "id": "378ac221-41ce-43ae-83ae-c3565c408e45",
   "metadata": {},
   "outputs": [],
   "source": []
  },
  {
   "cell_type": "code",
   "execution_count": null,
   "id": "969ec39f-95aa-482c-8707-3e90d13bffe7",
   "metadata": {},
   "outputs": [],
   "source": []
  },
  {
   "cell_type": "code",
   "execution_count": null,
   "id": "8cb1ef8a-6977-4634-a82e-a20e58452069",
   "metadata": {},
   "outputs": [],
   "source": []
  },
  {
   "cell_type": "code",
   "execution_count": null,
   "id": "3ad19b95-4585-4227-aeac-16446eccded6",
   "metadata": {},
   "outputs": [],
   "source": []
  },
  {
   "cell_type": "code",
   "execution_count": null,
   "id": "b460f584-69e5-44c7-8a40-fa31d39b00f9",
   "metadata": {},
   "outputs": [],
   "source": []
  },
  {
   "cell_type": "code",
   "execution_count": null,
   "id": "93f40436-05eb-483e-b69f-6514810cd5cf",
   "metadata": {},
   "outputs": [],
   "source": []
  },
  {
   "cell_type": "code",
   "execution_count": null,
   "id": "d18a50dc-eb3d-44d8-815e-55c50a1f0ccc",
   "metadata": {},
   "outputs": [],
   "source": []
  },
  {
   "cell_type": "code",
   "execution_count": null,
   "id": "869a67e6-55b6-4a0f-b8de-951700bbbc58",
   "metadata": {},
   "outputs": [],
   "source": []
  },
  {
   "cell_type": "code",
   "execution_count": null,
   "id": "a8d60571-9c71-487d-bbd1-d42164834f2b",
   "metadata": {},
   "outputs": [],
   "source": []
  },
  {
   "cell_type": "code",
   "execution_count": null,
   "id": "0de3af69-3c8f-4722-85c9-715e72659bd3",
   "metadata": {},
   "outputs": [],
   "source": []
  },
  {
   "cell_type": "code",
   "execution_count": null,
   "id": "2ad968c7-845f-45af-8047-778ee812be57",
   "metadata": {},
   "outputs": [],
   "source": []
  },
  {
   "cell_type": "code",
   "execution_count": null,
   "id": "2ca2d982-7e09-452c-85f2-b8c6e7b12a26",
   "metadata": {},
   "outputs": [],
   "source": []
  }
 ],
 "metadata": {
  "kernelspec": {
   "display_name": "Python 3 (ipykernel)",
   "language": "python",
   "name": "python3"
  },
  "language_info": {
   "codemirror_mode": {
    "name": "ipython",
    "version": 3
   },
   "file_extension": ".py",
   "mimetype": "text/x-python",
   "name": "python",
   "nbconvert_exporter": "python",
   "pygments_lexer": "ipython3",
   "version": "3.10.7"
  }
 },
 "nbformat": 4,
 "nbformat_minor": 5
}
